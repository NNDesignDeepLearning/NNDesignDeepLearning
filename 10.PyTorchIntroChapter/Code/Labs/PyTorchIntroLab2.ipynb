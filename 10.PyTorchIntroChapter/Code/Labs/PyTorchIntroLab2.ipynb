{
 "cells": [
  {
   "cell_type": "markdown",
   "metadata": {},
   "source": "[![Open In Colab](https://colab.research.google.com/assets/colab-badge.svg)](https://colab.research.google.com/github/NNDesignDeepLearning/NNDesignDeepLearning/blob/master/10.PyTorchIntroChapter/Code/LabSolutions/PyTorchIntroLab2_Solution.ipynb)"
  },
  {
   "cell_type": "markdown",
   "metadata": {},
   "source": [
    "# PyTorch Introduction Lab 2  -- Explainability\n",
    "\n",
    "This objective of this second PyTorch lab is to experiment with explainability. You will begin by implementing the saliency method and then moving on to the integrated gradient method. For example purposes, you will begin by reloading the convolution network that you trained in the first lab, and then you will test the explainability methods on that network.\n",
    "\n",
    "## Loading the Model\n",
    "\n",
    "We begin by loading some useful modules. "
   ]
  },
  {
   "cell_type": "code",
   "metadata": {
    "ExecuteTime": {
     "end_time": "2024-12-27T23:42:29.941070Z",
     "start_time": "2024-12-27T23:42:28.641678Z"
    }
   },
   "source": [
    "%matplotlib inline \n",
    "import matplotlib.pyplot as plt\n",
    "import torch\n",
    "import torch.nn as nn\n",
    "from torchvision import datasets\n",
    "from torchvision.transforms import ToTensor\n",
    "import torch.nn.functional as F\n",
    "from torch.utils.data import DataLoader\n",
    "import numpy as np"
   ],
   "outputs": [],
   "execution_count": 1
  },
  {
   "metadata": {},
   "cell_type": "markdown",
   "source": "Next we load the test dataset from MNIST."
  },
  {
   "metadata": {
    "ExecuteTime": {
     "end_time": "2024-12-27T23:42:30.161880Z",
     "start_time": "2024-12-27T23:42:30.153635Z"
    }
   },
   "cell_type": "code",
   "source": [
    "test_data = datasets.MNIST(\n",
    "    root=\"data\",\n",
    "    train=False,\n",
    "    download=True,\n",
    "    transform=ToTensor()\n",
    ")"
   ],
   "outputs": [],
   "execution_count": 2
  },
  {
   "metadata": {},
   "cell_type": "markdown",
   "source": "Before loading the model, since we only saved the model's `state_dict`, we need to create an instance of the model. We will use the same definition of `cnn_model` that we used in the previous lab. If you changed the network architecture before you saved the network, you will need to use your definition of `cnn_model`. Put the definition in the next cell."
  },
  {
   "metadata": {
    "ExecuteTime": {
     "end_time": "2024-12-27T23:42:30.222476Z",
     "start_time": "2024-12-27T23:42:30.219599Z"
    }
   },
   "cell_type": "code",
   "source": [
    "# Define the CNN model\n",
    "# TODO\n",
    "class cnn_model(nn.Module):\n",
    "    def __init__(self):\n",
    "        super(cnn_model, self).__init__()\n",
    "        self.conv1 =\n",
    "        self.conv2 =\n",
    "        self.dropout1 =\n",
    "        self.dropout2 =\n",
    "        self.fc1 =\n",
    "        self.fc2 =\n",
    "\n",
    "    def forward(self, x):\n",
    "        # TODO\n",
    "        x =\n",
    "        x =\n",
    "        x =\n",
    "        x =\n",
    "        x =\n",
    "        x =\n",
    "        x =\n",
    "        x =\n",
    "        x =\n",
    "        x =\n",
    "        x =\n",
    "        output = x\n",
    "        return output\n"
   ],
   "outputs": [],
   "execution_count": 3
  },
  {
   "metadata": {},
   "cell_type": "markdown",
   "source": "Now that we have defined the cnn_model class, create an instance of that class, and load the model's state_dict using `model.load_state_dict(torch.load(PATH))`."
  },
  {
   "metadata": {
    "ExecuteTime": {
     "end_time": "2024-12-27T23:42:30.364715Z",
     "start_time": "2024-12-27T23:42:30.289315Z"
    }
   },
   "cell_type": "code",
   "source": [
    "model_path = '../../../10.PyTorchIntroChapter/Model/'\n",
    "# model_path = '../Model/'\n",
    "# TODO\n",
    "model =\n",
    "# TODO\n",
    "model.load_state_dict()"
   ],
   "outputs": [
    {
     "data": {
      "text/plain": [
       "<All keys matched successfully>"
      ]
     },
     "execution_count": 4,
     "metadata": {},
     "output_type": "execute_result"
    }
   ],
   "execution_count": 4
  },
  {
   "cell_type": "markdown",
   "metadata": {},
   "source": [
    "# Implementing Saliency\n",
    "\n",
    "To implement saliency, we need to compute the gradient of the relevant network output with respect to the network input. The following method has three arguments: the network model, the input tensor to the network and the target class. It returns the gradient of the target class output with respect to the network input."
   ]
  },
  {
   "cell_type": "code",
   "metadata": {
    "ExecuteTime": {
     "end_time": "2024-12-27T23:42:30.427913Z",
     "start_time": "2024-12-27T23:42:30.425660Z"
    }
   },
   "source": [
    "def compute_input_gradient(model: nn.Module,\n",
    "                           input_tensor: torch.Tensor,\n",
    "                           target_class: int) -> torch.Tensor:\n",
    "    \"\"\"\n",
    "    Compute gradient of specific class output with respect to input.\n",
    "\n",
    "    Args:\n",
    "        model: PyTorch neural network model\n",
    "        input_tensor: Input tensor (should be of shape [batch_size, channels, height, width])\n",
    "        target_class: Index of target class to compute gradient for\n",
    "\n",
    "    Returns:\n",
    "        Gradient tensor of same shape as input\n",
    "    \"\"\"\n",
    "    # Set model to eval mode\n",
    "    # TODO\n",
    "\n",
    "    # Enable gradient computation\n",
    "    # TODO\n",
    "\n",
    "    # Forward pass\n",
    "    # TODO\n",
    "\n",
    "    # Select target class output\n",
    "    # TODO\n",
    "\n",
    "    # Compute gradient\n",
    "    # TODO\n",
    "    gradient = torch.autograd.grad()\n",
    "\n",
    "    return gradient\n"
   ],
   "outputs": [],
   "execution_count": 5
  },
  {
   "metadata": {},
   "cell_type": "markdown",
   "source": "Put the test data into a DataLoader so that we can feed it into the network. Use a batch size of 1, so that we can consider one image at a time."
  },
  {
   "metadata": {
    "ExecuteTime": {
     "end_time": "2024-12-27T23:42:30.523209Z",
     "start_time": "2024-12-27T23:42:30.521298Z"
    }
   },
   "cell_type": "code",
   "source": [
    "# TODO\n",
    "BATCH_SIZE =\n",
    "test_loader = DataLoader()"
   ],
   "outputs": [],
   "execution_count": 6
  },
  {
   "metadata": {},
   "cell_type": "markdown",
   "source": "Read out the image and target for a selected member of the test loader. Put this image through the model and compute the output class. Then put the model, the image and the output class as arguments to `compute_input_gradient` to compute the gradient. Multiply the gradient times the input to compute the contribution. Then display the input image and the contribution."
  },
  {
   "metadata": {
    "ExecuteTime": {
     "end_time": "2024-12-27T23:42:30.915203Z",
     "start_time": "2024-12-27T23:42:30.679599Z"
    }
   },
   "cell_type": "code",
   "source": [
    "# TODO\n",
    "key = 2000\n",
    "for batch_idx, (data, target) in enumerate(test_loader):\n",
    "    if batch_idx == key:\n",
    "        # TODO\n",
    "        output =\n",
    "        break\n",
    "\n",
    "# TODO\n",
    "tclass =\n",
    "print(tclass)\n",
    "print(target)\n",
    "\n",
    "# TODO\n",
    "gradient = compute_input_gradient()\n",
    "contrib = data*gradient\n",
    "\n",
    "plt.imshow(data[0][0].detach().numpy())\n",
    "plt.show()\n",
    "plt.imshow(contrib[0][0].detach().numpy())\n",
    "plt.show()"
   ],
   "outputs": [
    {
     "name": "stdout",
     "output_type": "stream",
     "text": [
      "tensor(6)\n",
      "tensor([6])\n"
     ]
    },
    {
     "name": "stderr",
     "output_type": "stream",
     "text": [
      "/usr/local/lib/python3.12/dist-packages/torch/nn/functional.py:1374: UserWarning: dropout2d: Received a 2-D input to dropout2d, which is deprecated and will result in an error in a future release. To retain the behavior and silence this warning, please use dropout instead. Note that dropout2d exists to provide channel-wise dropout on inputs with 2 spatial dimensions, a channel dimension, and an optional batch dimension (i.e. 3D or 4D inputs).\n",
      "  warnings.warn(warn_msg)\n"
     ]
    },
    {
     "data": {
      "text/plain": [
       "<Figure size 640x480 with 1 Axes>"
      ],
      "image/png": "[encoded data removed]"
     },
     "metadata": {},
     "output_type": "display_data"
    },
    {
     "data": {
      "text/plain": [
       "<Figure size 640x480 with 1 Axes>"
      ],
      "image/png": "[encoded data removed]"
     },
     "metadata": {},
     "output_type": "display_data"
    }
   ],
   "execution_count": 7
  },
  {
   "metadata": {},
   "cell_type": "markdown",
   "source": ""
  },
  {
   "cell_type": "markdown",
   "metadata": {},
   "source": [
    "# Implementing Integrated Gradient\n",
    "\n",
    "For the integrated gradient method we can use the previous gradient calculation, but we want to compute the gradient at several points along a line between a baseline image and the current input image. Create a method that takes the model, an input image, a baseline image, the number of steps in the average, and the target class and computes the integrated gradient contribution by invoking the previous `compute_input_gradient()` method."
   ]
  },
  {
   "cell_type": "code",
   "metadata": {
    "ExecuteTime": {
     "end_time": "2024-12-27T23:42:30.974262Z",
     "start_time": "2024-12-27T23:42:30.971759Z"
    }
   },
   "source": [
    "def integrated_gradients(model: nn.Module,\n",
    "                           input_tensor: torch.Tensor,\n",
    "                           base_tensor: torch.Tensor,\n",
    "                           n_steps: int,\n",
    "                           target_class: int) -> torch.Tensor:\n",
    "    \"\"\"\n",
    "    Compute integrated gradient contribution for a specific class output\n",
    "\n",
    "    Args:\n",
    "        model: PyTorch neural network model\n",
    "        input_tensor: Input tensor (should be of shape [batch_size, channels, height, width])\n",
    "        base_tensor: Base tensor (should be of shape [batch_size, channels, height, width])\n",
    "        target_class: Index of target class to compute integrated gradient for\n",
    "\n",
    "    Returns:\n",
    "        Contribution tensor of same shape as input\n",
    "    \"\"\"\n",
    "\n",
    "    avgradient = 0\n",
    "    for alpha in np.arange(0,1,1/n_steps):\n",
    "        interp = base_tensor + alpha * (input_tensor - base_tensor)\n",
    "        avgradient += compute_input_gradient(model, interp, target_class=target_class)\n",
    "\n",
    "    avgradient = avgradient/n_steps\n",
    "    ig_contrib = avgradient * (input_tensor - base_tensor)\n",
    "    return ig_contrib"
   ],
   "outputs": [],
   "execution_count": 8
  },
  {
   "cell_type": "markdown",
   "metadata": {},
   "source": "Read out the image and target for a selected member of the test loader. Put this image through the model and compute the output class. Then put the model, the image and the output class as arguments to `integrated_gradients` to compute the integrated gradient contribution. Then display the input image and the contribution."
  },
  {
   "cell_type": "code",
   "metadata": {
    "ExecuteTime": {
     "end_time": "2024-12-27T23:42:31.312823Z",
     "start_time": "2024-12-27T23:42:31.077711Z"
    }
   },
   "source": [
    "key = 2000\n",
    "for batch_idx, (data, target) in enumerate(test_loader):\n",
    "    if batch_idx == key:\n",
    "        # TODO\n",
    "        output =\n",
    "        break\n",
    "# TODO\n",
    "tclass =\n",
    "print(tclass)\n",
    "print(target)\n",
    "\n",
    "# TODO\n",
    "base =\n",
    "# TODO\n",
    "igcontrib = integrated_gradients()\n",
    "\n",
    "plt.imshow(data[0][0].detach().numpy())\n",
    "plt.show()\n",
    "plt.imshow(igcontrib[0][0].detach().numpy())\n",
    "plt.show()"
   ],
   "outputs": [
    {
     "name": "stdout",
     "output_type": "stream",
     "text": [
      "tensor(6)\n",
      "tensor([6])\n"
     ]
    },
    {
     "data": {
      "text/plain": [
       "<Figure size 640x480 with 1 Axes>"
      ],
      "image/png": "[encoded data removed]"
     },
     "metadata": {},
     "output_type": "display_data"
    },
    {
     "data": {
      "text/plain": [
       "<Figure size 640x480 with 1 Axes>"
      ],
      "image/png": "[encoded data removed]"
     },
     "metadata": {},
     "output_type": "display_data"
    }
   ],
   "execution_count": 9
  },
  {
   "cell_type": "markdown",
   "metadata": {},
   "source": [
    "Group the data in the training, validation and testing Datasets into minibatches of size 100, using the `batch()` method."
   ]
  },
  {
   "cell_type": "markdown",
   "metadata": {},
   "source": [
    "# Using Captum\n",
    "\n",
    "PyTorch has many built-in functions for explainability in Captum, which is an open source, extensible library for model interpretability built on PyTorch. You can find documentation [here](https://captum.ai/). We can use captum to get the same integrated gradient results. First we import `IntegratedGradients` from `captum.attr`."
   ]
  },
  {
   "cell_type": "code",
   "metadata": {
    "ExecuteTime": {
     "end_time": "2024-12-27T23:42:33.233974Z",
     "start_time": "2024-12-27T23:42:31.371062Z"
    }
   },
   "source": [
    "!pip3 install captum\n",
    "import captum\n",
    "from captum.attr import IntegratedGradients"
   ],
   "outputs": [
    {
     "name": "stdout",
     "output_type": "stream",
     "text": [
      "Defaulting to user installation because normal site-packages is not writeable\r\n",
      "Requirement already satisfied: captum in /home/amir/.local/lib/python3.12/site-packages (0.7.0)\r\n",
      "Requirement already satisfied: matplotlib in /usr/local/lib/python3.12/dist-packages (from captum) (3.9.1)\r\n",
      "Requirement already satisfied: numpy in /usr/local/lib/python3.12/dist-packages (from captum) (1.26.4)\r\n",
      "Requirement already satisfied: torch>=1.6 in /usr/local/lib/python3.12/dist-packages (from captum) (2.3.1)\r\n",
      "Requirement already satisfied: tqdm in /usr/local/lib/python3.12/dist-packages (from captum) (4.66.4)\r\n",
      "Requirement already satisfied: filelock in /usr/local/lib/python3.12/dist-packages (from torch>=1.6->captum) (3.15.4)\r\n",
      "Requirement already satisfied: typing-extensions>=4.8.0 in /usr/lib/python3/dist-packages (from torch>=1.6->captum) (4.10.0)\r\n",
      "Requirement already satisfied: sympy in /usr/local/lib/python3.12/dist-packages (from torch>=1.6->captum) (1.13.1)\r\n",
      "Requirement already satisfied: networkx in /usr/local/lib/python3.12/dist-packages (from torch>=1.6->captum) (3.3)\r\n",
      "Requirement already satisfied: jinja2 in /usr/lib/python3/dist-packages (from torch>=1.6->captum) (3.1.2)\r\n",
      "Requirement already satisfied: fsspec in /usr/local/lib/python3.12/dist-packages (from torch>=1.6->captum) (2024.5.0)\r\n",
      "Requirement already satisfied: nvidia-cuda-nvrtc-cu12==12.1.105 in /usr/local/lib/python3.12/dist-packages (from torch>=1.6->captum) (12.1.105)\r\n",
      "Requirement already satisfied: nvidia-cuda-runtime-cu12==12.1.105 in /usr/local/lib/python3.12/dist-packages (from torch>=1.6->captum) (12.1.105)\r\n",
      "Requirement already satisfied: nvidia-cuda-cupti-cu12==12.1.105 in /usr/local/lib/python3.12/dist-packages (from torch>=1.6->captum) (12.1.105)\r\n",
      "Requirement already satisfied: nvidia-cudnn-cu12==8.9.2.26 in /usr/local/lib/python3.12/dist-packages (from torch>=1.6->captum) (8.9.2.26)\r\n",
      "Requirement already satisfied: nvidia-cublas-cu12==12.1.3.1 in /usr/local/lib/python3.12/dist-packages (from torch>=1.6->captum) (12.1.3.1)\r\n",
      "Requirement already satisfied: nvidia-cufft-cu12==11.0.2.54 in /usr/local/lib/python3.12/dist-packages (from torch>=1.6->captum) (11.0.2.54)\r\n",
      "Requirement already satisfied: nvidia-curand-cu12==10.3.2.106 in /usr/local/lib/python3.12/dist-packages (from torch>=1.6->captum) (10.3.2.106)\r\n",
      "Requirement already satisfied: nvidia-cusolver-cu12==11.4.5.107 in /usr/local/lib/python3.12/dist-packages (from torch>=1.6->captum) (11.4.5.107)\r\n",
      "Requirement already satisfied: nvidia-cusparse-cu12==12.1.0.106 in /usr/local/lib/python3.12/dist-packages (from torch>=1.6->captum) (12.1.0.106)\r\n",
      "Requirement already satisfied: nvidia-nccl-cu12==2.20.5 in /usr/local/lib/python3.12/dist-packages (from torch>=1.6->captum) (2.20.5)\r\n",
      "Requirement already satisfied: nvidia-nvtx-cu12==12.1.105 in /usr/local/lib/python3.12/dist-packages (from torch>=1.6->captum) (12.1.105)\r\n",
      "Requirement already satisfied: nvidia-nvjitlink-cu12 in /usr/local/lib/python3.12/dist-packages (from nvidia-cusolver-cu12==11.4.5.107->torch>=1.6->captum) (12.3.101)\r\n",
      "Requirement already satisfied: contourpy>=1.0.1 in /usr/local/lib/python3.12/dist-packages (from matplotlib->captum) (1.2.1)\r\n",
      "Requirement already satisfied: cycler>=0.10 in /usr/local/lib/python3.12/dist-packages (from matplotlib->captum) (0.12.1)\r\n",
      "Requirement already satisfied: fonttools>=4.22.0 in /usr/local/lib/python3.12/dist-packages (from matplotlib->captum) (4.53.1)\r\n",
      "Requirement already satisfied: kiwisolver>=1.3.1 in /usr/local/lib/python3.12/dist-packages (from matplotlib->captum) (1.4.5)\r\n",
      "Requirement already satisfied: packaging>=20.0 in /usr/local/lib/python3.12/dist-packages (from matplotlib->captum) (24.1)\r\n",
      "Requirement already satisfied: pillow>=8 in /usr/lib/python3/dist-packages (from matplotlib->captum) (10.2.0)\r\n",
      "Requirement already satisfied: pyparsing>=2.3.1 in /usr/lib/python3/dist-packages (from matplotlib->captum) (3.1.1)\r\n",
      "Requirement already satisfied: python-dateutil>=2.7 in /usr/lib/python3/dist-packages (from matplotlib->captum) (2.8.2)\r\n",
      "Requirement already satisfied: mpmath<1.4,>=1.1.0 in /usr/local/lib/python3.12/dist-packages (from sympy->torch>=1.6->captum) (1.3.0)\r\n"
     ]
    },
    {
     "name": "stderr",
     "output_type": "stream",
     "text": [
      "/usr/local/lib/python3.12/dist-packages/tqdm/auto.py:21: TqdmWarning: IProgress not found. Please update jupyter and ipywidgets. See https://ipywidgets.readthedocs.io/en/stable/user_install.html\n",
      "  from .autonotebook import tqdm as notebook_tqdm\n"
     ]
    }
   ],
   "execution_count": 10
  },
  {
   "cell_type": "markdown",
   "metadata": {},
   "source": "Next, perform the same operation as above, where you read out the image and target for a selected member of the test loader. Put this image through the model and compute the output class. Then put the model, the image and the output class as arguments to `integrated_gradients` to compute the integrated gradient contribution. Then display the input image and the contribution."
  },
  {
   "metadata": {
    "ExecuteTime": {
     "end_time": "2024-12-27T23:42:33.583166Z",
     "start_time": "2024-12-27T23:42:33.311644Z"
    }
   },
   "cell_type": "code",
   "source": [
    "# Initialize the attribution algorithm with the model\n",
    "# TODO\n",
    "integrated_gradients_captum = IntegratedGradients()\n",
    "\n",
    "key = 2000\n",
    "for batch_idx, (data, target) in enumerate(test_loader):\n",
    "    if batch_idx == key:\n",
    "        # TODO\n",
    "        output =\n",
    "        break\n",
    "# TODO\n",
    "tclass =\n",
    "print(tclass)\n",
    "print(target)\n",
    "\n",
    "# TODO\n",
    "base =\n",
    "igcontrib = integrated_gradients_captum.attribute()\n",
    "plt.imshow(data[0][0].detach().numpy())\n",
    "plt.show()\n",
    "plt.imshow(igcontrib[0][0].detach().numpy())\n",
    "plt.show()\n"
   ],
   "outputs": [
    {
     "name": "stdout",
     "output_type": "stream",
     "text": [
      "tensor(6)\n",
      "tensor([6])\n"
     ]
    },
    {
     "name": "stderr",
     "output_type": "stream",
     "text": [
      "/usr/local/lib/python3.12/dist-packages/torch/nn/functional.py:1374: UserWarning: dropout2d: Received a 2-D input to dropout2d, which is deprecated and will result in an error in a future release. To retain the behavior and silence this warning, please use dropout instead. Note that dropout2d exists to provide channel-wise dropout on inputs with 2 spatial dimensions, a channel dimension, and an optional batch dimension (i.e. 3D or 4D inputs).\n",
      "  warnings.warn(warn_msg)\n"
     ]
    },
    {
     "data": {
      "text/plain": [
       "<Figure size 640x480 with 1 Axes>"
      ],
      "image/png": "[encoded data removed]"
     },
     "metadata": {},
     "output_type": "display_data"
    },
    {
     "data": {
      "text/plain": [
       "<Figure size 640x480 with 1 Axes>"
      ],
      "image/png": "[encoded data removed]"
     },
     "metadata": {},
     "output_type": "display_data"
    }
   ],
   "execution_count": 11
  },
  {
   "cell_type": "markdown",
   "metadata": {},
   "source": [
    "## Explore Further\n",
    "\n",
    "With access to the Captum library you can try different explainability methods with a minimal amount of additional code. A list of available methods can be found [here](https://captum.ai/api/index.html).\n",
    "\n",
    "Here are some things to consider.\n",
    "\n",
    "1. Try the occlusion method and compare with your results from saliency and integrated gradient.\n",
    "1. Use the LRP method and compare.\n",
    "1. After completing the TensorFlow lab 3, use captum to implement the integrated gradient method, and test it on some of the cat and dog images to find out what parts of the images are important to distinuishing cats from dogs."
   ]
  }
 ],
 "metadata": {
  "kernelspec": {
   "display_name": "Python 3",
   "language": "python",
   "name": "python3"
  },
  "language_info": {
   "codemirror_mode": {
    "name": "ipython",
    "version": 3
   },
   "file_extension": ".py",
   "mimetype": "text/x-python",
   "name": "python",
   "nbconvert_exporter": "python",
   "pygments_lexer": "ipython3",
   "version": "3.6.9"
  }
 },
 "nbformat": 4,
 "nbformat_minor": 4
}
