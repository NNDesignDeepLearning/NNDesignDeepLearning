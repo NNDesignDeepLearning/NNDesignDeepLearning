{
 "cells": [
  {
   "cell_type": "markdown",
   "metadata": {},
   "source": "[![Open In Colab](https://colab.research.google.com/assets/colab-badge.svg)](https://colab.research.google.com/github/NNDesignDeepLearning/NNDesignDeepLearning/blob/master/10.PyTorchIntroChapter/Code/LabSolutions/PyTorchIntroLab1_Solution.ipynb)"
  },
  {
   "cell_type": "markdown",
   "metadata": {},
   "source": [
    "# PyTorch Introduction Lab 1 -- Getting Started\n",
    "\n",
    "This objective of this PyTorchFlow lab is to help you become familiar with the basics of using PyTorch to load data, create convolution networks, train the networks and display the results. If you haven't already done so, run the cells in the `PyTorchFlowIntroChapter.ipynb` Jupyter Notebook to prepare for this lab.\n",
    "\n",
    "Some of the cells in this notebook are prefilled with working code. In addition, there will be cells with missing code (labeled `# TODO`), which you will need to complete. If you need additional cells, you can use the `Insert` menu at the top of the page.\n",
    "\n",
    "## Loading Modules\n",
    "\n",
    "We begin by loading some useful modules. "
   ]
  },
  {
   "cell_type": "code",
   "metadata": {
    "ExecuteTime": {
     "end_time": "2024-12-27T23:38:41.322718Z",
     "start_time": "2024-12-27T23:38:40.003872Z"
    }
   },
   "source": [
    "%matplotlib inline \n",
    "import matplotlib.pyplot as plt\n",
    "import numpy as np\n",
    "import torch\n",
    "from torch import nn\n",
    "from torch.utils.data import Dataset\n",
    "from torch.utils.data import DataLoader\n",
    "import torch.nn.functional as F\n",
    "from torchvision import datasets\n",
    "from torchvision.transforms import ToTensor\n",
    "import os"
   ],
   "outputs": [],
   "execution_count": 1
  },
  {
   "cell_type": "markdown",
   "metadata": {},
   "source": [
    "# Loading Data\n",
    "\n",
    "For this lab we will use a famous data set -- MNIST. This is a large database of handwritten digits. It contains 60,000 training images and 10,000 testing images. Each image consists of arrays of 28x28 pixels. The original website for the data, which describes the dataset in detail, and records accuracies using various machine learning strategies, can be found [here](http://yann.lecun.com/exdb/mnist/). The data set can be accessed easily using `torchvision.datasets`, as illustrated in the next cell."
   ]
  },
  {
   "cell_type": "code",
   "metadata": {
    "ExecuteTime": {
     "end_time": "2024-12-27T23:38:42.839971Z",
     "start_time": "2024-12-27T23:38:41.455680Z"
    }
   },
   "source": [
    "training_data = datasets.MNIST(\n",
    "    root=\"data\",\n",
    "    train=True,\n",
    "    download=True,\n",
    "    transform=ToTensor()\n",
    ")\n",
    "\n",
    "test_data = datasets.MNIST(\n",
    "    root=\"data\",\n",
    "    train=False,\n",
    "    download=True,\n",
    "    transform=ToTensor()\n",
    ")"
   ],
   "outputs": [
    {
     "name": "stdout",
     "output_type": "stream",
     "text": [
      "Downloading http://yann.lecun.com/exdb/mnist/train-images-idx3-ubyte.gz\n",
      "Failed to download (trying next):\n",
      "HTTP Error 403: Forbidden\n",
      "\n",
      "Downloading https://ossci-datasets.s3.amazonaws.com/mnist/train-images-idx3-ubyte.gz\n",
      "Downloading https://ossci-datasets.s3.amazonaws.com/mnist/train-images-idx3-ubyte.gz to data/MNIST/raw/train-images-idx3-ubyte.gz\n"
     ]
    },
    {
     "name": "stderr",
     "output_type": "stream",
     "text": [
      "100%|██████████| 9912422/9912422 [00:00<00:00, 88703366.18it/s]"
     ]
    },
    {
     "name": "stdout",
     "output_type": "stream",
     "text": [
      "Extracting data/MNIST/raw/train-images-idx3-ubyte.gz to data/MNIST/raw\n"
     ]
    },
    {
     "name": "stderr",
     "output_type": "stream",
     "text": [
      "\n"
     ]
    },
    {
     "name": "stdout",
     "output_type": "stream",
     "text": [
      "\n",
      "Downloading http://yann.lecun.com/exdb/mnist/train-labels-idx1-ubyte.gz\n",
      "Failed to download (trying next):\n",
      "HTTP Error 403: Forbidden\n",
      "\n",
      "Downloading https://ossci-datasets.s3.amazonaws.com/mnist/train-labels-idx1-ubyte.gz\n",
      "Downloading https://ossci-datasets.s3.amazonaws.com/mnist/train-labels-idx1-ubyte.gz to data/MNIST/raw/train-labels-idx1-ubyte.gz\n"
     ]
    },
    {
     "name": "stderr",
     "output_type": "stream",
     "text": [
      "100%|██████████| 28881/28881 [00:00<00:00, 22911990.51it/s]"
     ]
    },
    {
     "name": "stdout",
     "output_type": "stream",
     "text": [
      "Extracting data/MNIST/raw/train-labels-idx1-ubyte.gz to data/MNIST/raw\n",
      "\n",
      "Downloading http://yann.lecun.com/exdb/mnist/t10k-images-idx3-ubyte.gz\n",
      "Failed to download (trying next):\n",
      "HTTP Error 403: Forbidden\n",
      "\n",
      "Downloading https://ossci-datasets.s3.amazonaws.com/mnist/t10k-images-idx3-ubyte.gz\n"
     ]
    },
    {
     "name": "stderr",
     "output_type": "stream",
     "text": [
      "\n"
     ]
    },
    {
     "name": "stdout",
     "output_type": "stream",
     "text": [
      "Downloading https://ossci-datasets.s3.amazonaws.com/mnist/t10k-images-idx3-ubyte.gz to data/MNIST/raw/t10k-images-idx3-ubyte.gz\n"
     ]
    },
    {
     "name": "stderr",
     "output_type": "stream",
     "text": [
      "100%|██████████| 1648877/1648877 [00:00<00:00, 27057160.51it/s]"
     ]
    },
    {
     "name": "stdout",
     "output_type": "stream",
     "text": [
      "Extracting data/MNIST/raw/t10k-images-idx3-ubyte.gz to data/MNIST/raw\n",
      "\n",
      "Downloading http://yann.lecun.com/exdb/mnist/t10k-labels-idx1-ubyte.gz\n"
     ]
    },
    {
     "name": "stderr",
     "output_type": "stream",
     "text": [
      "\n"
     ]
    },
    {
     "name": "stdout",
     "output_type": "stream",
     "text": [
      "Failed to download (trying next):\n",
      "HTTP Error 403: Forbidden\n",
      "\n",
      "Downloading https://ossci-datasets.s3.amazonaws.com/mnist/t10k-labels-idx1-ubyte.gz\n",
      "Downloading https://ossci-datasets.s3.amazonaws.com/mnist/t10k-labels-idx1-ubyte.gz to data/MNIST/raw/t10k-labels-idx1-ubyte.gz\n"
     ]
    },
    {
     "name": "stderr",
     "output_type": "stream",
     "text": [
      "100%|██████████| 4542/4542 [00:00<00:00, 14688148.63it/s]"
     ]
    },
    {
     "name": "stdout",
     "output_type": "stream",
     "text": [
      "Extracting data/MNIST/raw/t10k-labels-idx1-ubyte.gz to data/MNIST/raw\n",
      "\n"
     ]
    },
    {
     "name": "stderr",
     "output_type": "stream",
     "text": [
      "\n"
     ]
    }
   ],
   "execution_count": 2
  },
  {
   "metadata": {},
   "cell_type": "markdown",
   "source": "In the next cell, print out the number of examples in the training and test sets, the shape of the first feature and the first label."
  },
  {
   "metadata": {
    "ExecuteTime": {
     "end_time": "2024-12-27T23:38:42.979492Z",
     "start_time": "2024-12-27T23:38:42.976422Z"
    }
   },
   "cell_type": "code",
   "source": [
    "# Length of Training Data\n",
    "print('The number of training examples is ' + str(len(training_data)))\n",
    "# Length of Testing Data\n",
    "print('The number of testing examples is ' + str(len(test_data)))\n",
    "# The shape of the first feature\n",
    "print('The shape of the first feature is ')\n",
    "print(training_data[0][0].shape)\n",
    "# The first label\n",
    "print('The first label is ' + str(training_data[0][1]))"
   ],
   "outputs": [
    {
     "name": "stdout",
     "output_type": "stream",
     "text": [
      "The number of training examples is 60000\n",
      "The number of testing examples is 10000\n",
      "The shape of the first feature is \n",
      "torch.Size([1, 28, 28])\n",
      "The first label is 5\n"
     ]
    }
   ],
   "execution_count": 3
  },
  {
   "cell_type": "markdown",
   "metadata": {},
   "source": "Now plot the first feature, to see if it matches the label."
  },
  {
   "cell_type": "code",
   "metadata": {
    "ExecuteTime": {
     "end_time": "2024-12-27T23:38:43.099745Z",
     "start_time": "2024-12-27T23:38:43.039773Z"
    }
   },
   "source": "plt.imshow(training_data[0][0][0], cmap='gray')",
   "outputs": [
    {
     "data": {
      "text/plain": [
       "<matplotlib.image.AxesImage at 0x72a9a38903b0>"
      ]
     },
     "execution_count": 4,
     "metadata": {},
     "output_type": "execute_result"
    },
    {
     "data": {
      "text/plain": [
       "<Figure size 640x480 with 1 Axes>"
      ],
      "image/png": "[encoded data removed]"
     },
     "metadata": {},
     "output_type": "display_data"
    }
   ],
   "execution_count": 4
  },
  {
   "cell_type": "markdown",
   "metadata": {},
   "source": "Put the training and testing data into DataLoaders. Use a batch size of 100 for both sets, and shuffle the training data, but not the test data."
  },
  {
   "cell_type": "code",
   "metadata": {
    "ExecuteTime": {
     "end_time": "2024-12-27T23:38:43.178263Z",
     "start_time": "2024-12-27T23:38:43.176044Z"
    }
   },
   "source": [
    "BATCH_SIZE = 100\n",
    "train_loader = DataLoader(training_data, shuffle=True, batch_size=BATCH_SIZE)\n",
    "test_loader = DataLoader(test_data, shuffle=False, batch_size=BATCH_SIZE)"
   ],
   "outputs": [],
   "execution_count": 5
  },
  {
   "cell_type": "markdown",
   "metadata": {},
   "source": [
    "# Constructing the Model\n",
    "\n",
    "Now that the data is loaded, the next step is to construct the model. Create a method that uses the module subclass method to construct a network with two convolution layers and two fully connected layers and returns the constructed model. The function `nn.Conv2d()` is used to create the convolution layers. The important arguments are\n",
    "\n",
    "1. `in_channels` -- number of input feature maps\n",
    "2. `out_channels` -- number of output feature maps\n",
    "3. `kernel_size`\n",
    "4. `stride`\n",
    "5. `padding`\n",
    "\n",
    "The parameters `kernel_size`, `stride`, and `padding` can either be:\n",
    "* a single int – in which case the same value is used for the height and width dimension\n",
    "* a tuple of two ints – in which case, the first int is used for the height dimension, and the second int for the width dimension\n",
    "\n",
    "The network should have the following components:\n",
    "1. Convolution with 32 feature maps, 3x3 kernel, stride of 1 and no padding.\n",
    "2. ReLU activation.\n",
    "3. Convolution with 64 feature maps, 3x3 kernel, stride of 1 and no padding.\n",
    "4. ReLU activation.\n",
    "5. Max pooling layer using `F.max_pool2d(x, 2)`.\n",
    "6. Dropout with activation probability of 0.25.\n",
    "7. Convert to vector with `torch.flatten(x,1)`\n",
    "8. Fully connected layer with 128 neurons, using `nn.Linear`.\n",
    "9. ReLU activation.\n",
    "10. Dropout with activation probability of 0.5.\n",
    "11. Fully connected layer with 10 neurons, using `nn.Linear`."
   ]
  },
  {
   "cell_type": "code",
   "metadata": {
    "ExecuteTime": {
     "end_time": "2024-12-27T23:38:43.239999Z",
     "start_time": "2024-12-27T23:38:43.237544Z"
    }
   },
   "source": [
    "# Define the CNN model\n",
    "class cnn_model(nn.Module):\n",
    "    def __init__(self):\n",
    "        super(cnn_model, self).__init__()\n",
    "        self.conv1 = nn.Conv2d(1, 32, 3, 1)\n",
    "        self.conv2 = nn.Conv2d(32, 64, 3, 1)\n",
    "        self.dropout1 = nn.Dropout2d(0.25)\n",
    "        self.dropout2 = nn.Dropout2d(0.5)\n",
    "        self.fc1 = nn.Linear(9216, 128)\n",
    "        self.fc2 = nn.Linear(128, 10)\n",
    "\n",
    "    def forward(self, x):\n",
    "        x = self.conv1(x)\n",
    "        x = F.relu(x)\n",
    "        x = self.conv2(x)\n",
    "        x = F.relu(x)\n",
    "        x = F.max_pool2d(x, 2)\n",
    "        x = self.dropout1(x)\n",
    "        x = torch.flatten(x, 1)\n",
    "        x = self.fc1(x)\n",
    "        x = F.relu(x)\n",
    "        x = self.dropout2(x)\n",
    "        x = self.fc2(x)\n",
    "        #output = F.log_softmax(x, dim=1)\n",
    "        output = x\n",
    "        return output"
   ],
   "outputs": [],
   "execution_count": 6
  },
  {
   "cell_type": "markdown",
   "metadata": {},
   "source": [
    "Use the method you just created to construct a model."
   ]
  },
  {
   "cell_type": "code",
   "metadata": {
    "ExecuteTime": {
     "end_time": "2024-12-27T23:38:43.401185Z",
     "start_time": "2024-12-27T23:38:43.393802Z"
    }
   },
   "source": "model = cnn_model()",
   "outputs": [],
   "execution_count": 7
  },
  {
   "cell_type": "markdown",
   "metadata": {},
   "source": "After constructing the model, print a summary."
  },
  {
   "cell_type": "code",
   "metadata": {
    "ExecuteTime": {
     "end_time": "2024-12-27T23:38:43.456615Z",
     "start_time": "2024-12-27T23:38:43.453956Z"
    }
   },
   "source": "print(model)",
   "outputs": [
    {
     "name": "stdout",
     "output_type": "stream",
     "text": [
      "cnn_model(\n",
      "  (conv1): Conv2d(1, 32, kernel_size=(3, 3), stride=(1, 1))\n",
      "  (conv2): Conv2d(32, 64, kernel_size=(3, 3), stride=(1, 1))\n",
      "  (dropout1): Dropout2d(p=0.25, inplace=False)\n",
      "  (dropout2): Dropout2d(p=0.5, inplace=False)\n",
      "  (fc1): Linear(in_features=9216, out_features=128, bias=True)\n",
      "  (fc2): Linear(in_features=128, out_features=10, bias=True)\n",
      ")\n"
     ]
    }
   ],
   "execution_count": 8
  },
  {
   "cell_type": "markdown",
   "metadata": {},
   "source": [
    "# Training the Network\n",
    "\n",
    "The first step in training the network is to select the optimizer. Use `Adam` as the training function."
   ]
  },
  {
   "cell_type": "code",
   "metadata": {
    "ExecuteTime": {
     "end_time": "2024-12-27T23:38:43.514235Z",
     "start_time": "2024-12-27T23:38:43.512098Z"
    }
   },
   "source": "optimizer = torch.optim.Adam(model.parameters())",
   "outputs": [],
   "execution_count": 9
  },
  {
   "cell_type": "markdown",
   "metadata": {},
   "source": "Assign the loss function as `nn.CrossEntropyLoss()`."
  },
  {
   "metadata": {
    "ExecuteTime": {
     "end_time": "2024-12-27T23:38:43.572017Z",
     "start_time": "2024-12-27T23:38:43.570185Z"
    }
   },
   "cell_type": "code",
   "source": "loss_fn = nn.CrossEntropyLoss()",
   "outputs": [],
   "execution_count": 10
  },
  {
   "metadata": {},
   "cell_type": "markdown",
   "source": "Write a training loop. First, use a GPU if one is available. Train for 10 epochs, using the train_loader created above. Every 100 iterations, print out the training loss for the current minibatch, and save the loss for later plotting."
  },
  {
   "cell_type": "code",
   "metadata": {
    "ExecuteTime": {
     "end_time": "2024-12-27T23:39:13.815150Z",
     "start_time": "2024-12-27T23:38:43.666190Z"
    }
   },
   "source": [
    "# Training loop\n",
    "device = 'cuda' if torch.cuda.is_available() else 'cpu'\n",
    "model.to(device)\n",
    "\n",
    "total_loss =  []\n",
    "ind =  []\n",
    "for epoch in range(10):\n",
    "    for batch_idx, (data, target) in enumerate(train_loader):\n",
    "        optimizer.zero_grad()\n",
    "        data = data.to(device)\n",
    "        target = target.to(device)\n",
    "        output = model(data)\n",
    "        loss = loss_fn(output, target)\n",
    "        loss.backward()\n",
    "        optimizer.step()\n",
    "        if batch_idx % 100 == 0:\n",
    "            total_loss.append(loss.item())\n",
    "            ind.append(batch_idx + epoch*len(train_loader)/BATCH_SIZE)\n",
    "            print('Train Epoch: {} [{}/{} ({:.0f}%)]\\tLoss: {:.6f}'.format(\n",
    "                epoch, batch_idx * len(data), len(train_loader.dataset),\n",
    "                100. * batch_idx / len(train_loader), loss.item()))\n"
   ],
   "outputs": [
    {
     "name": "stderr",
     "output_type": "stream",
     "text": [
      "/usr/local/lib/python3.12/dist-packages/torch/nn/functional.py:1374: UserWarning: dropout2d: Received a 2-D input to dropout2d, which is deprecated and will result in an error in a future release. To retain the behavior and silence this warning, please use dropout instead. Note that dropout2d exists to provide channel-wise dropout on inputs with 2 spatial dimensions, a channel dimension, and an optional batch dimension (i.e. 3D or 4D inputs).\n",
      "  warnings.warn(warn_msg)\n"
     ]
    },
    {
     "name": "stdout",
     "output_type": "stream",
     "text": [
      "Train Epoch: 0 [0/60000 (0%)]\tLoss: 2.307949\n",
      "Train Epoch: 0 [10000/60000 (17%)]\tLoss: 0.363031\n",
      "Train Epoch: 0 [20000/60000 (33%)]\tLoss: 0.251211\n",
      "Train Epoch: 0 [30000/60000 (50%)]\tLoss: 0.207219\n",
      "Train Epoch: 0 [40000/60000 (67%)]\tLoss: 0.151421\n",
      "Train Epoch: 0 [50000/60000 (83%)]\tLoss: 0.111025\n",
      "Train Epoch: 1 [0/60000 (0%)]\tLoss: 0.100322\n",
      "Train Epoch: 1 [10000/60000 (17%)]\tLoss: 0.148060\n",
      "Train Epoch: 1 [20000/60000 (33%)]\tLoss: 0.079151\n",
      "Train Epoch: 1 [30000/60000 (50%)]\tLoss: 0.062324\n",
      "Train Epoch: 1 [40000/60000 (67%)]\tLoss: 0.060404\n",
      "Train Epoch: 1 [50000/60000 (83%)]\tLoss: 0.054486\n",
      "Train Epoch: 2 [0/60000 (0%)]\tLoss: 0.066939\n",
      "Train Epoch: 2 [10000/60000 (17%)]\tLoss: 0.116727\n",
      "Train Epoch: 2 [20000/60000 (33%)]\tLoss: 0.083928\n",
      "Train Epoch: 2 [30000/60000 (50%)]\tLoss: 0.107067\n",
      "Train Epoch: 2 [40000/60000 (67%)]\tLoss: 0.022297\n",
      "Train Epoch: 2 [50000/60000 (83%)]\tLoss: 0.050168\n",
      "Train Epoch: 3 [0/60000 (0%)]\tLoss: 0.075155\n",
      "Train Epoch: 3 [10000/60000 (17%)]\tLoss: 0.064194\n",
      "Train Epoch: 3 [20000/60000 (33%)]\tLoss: 0.034163\n",
      "Train Epoch: 3 [30000/60000 (50%)]\tLoss: 0.049328\n",
      "Train Epoch: 3 [40000/60000 (67%)]\tLoss: 0.034727\n",
      "Train Epoch: 3 [50000/60000 (83%)]\tLoss: 0.061765\n",
      "Train Epoch: 4 [0/60000 (0%)]\tLoss: 0.039736\n",
      "Train Epoch: 4 [10000/60000 (17%)]\tLoss: 0.116835\n",
      "Train Epoch: 4 [20000/60000 (33%)]\tLoss: 0.136210\n",
      "Train Epoch: 4 [30000/60000 (50%)]\tLoss: 0.044966\n",
      "Train Epoch: 4 [40000/60000 (67%)]\tLoss: 0.025585\n",
      "Train Epoch: 4 [50000/60000 (83%)]\tLoss: 0.025018\n",
      "Train Epoch: 5 [0/60000 (0%)]\tLoss: 0.030263\n",
      "Train Epoch: 5 [10000/60000 (17%)]\tLoss: 0.046802\n",
      "Train Epoch: 5 [20000/60000 (33%)]\tLoss: 0.018241\n",
      "Train Epoch: 5 [30000/60000 (50%)]\tLoss: 0.015599\n",
      "Train Epoch: 5 [40000/60000 (67%)]\tLoss: 0.071275\n",
      "Train Epoch: 5 [50000/60000 (83%)]\tLoss: 0.044838\n",
      "Train Epoch: 6 [0/60000 (0%)]\tLoss: 0.056999\n",
      "Train Epoch: 6 [10000/60000 (17%)]\tLoss: 0.025504\n",
      "Train Epoch: 6 [20000/60000 (33%)]\tLoss: 0.018206\n",
      "Train Epoch: 6 [30000/60000 (50%)]\tLoss: 0.048284\n",
      "Train Epoch: 6 [40000/60000 (67%)]\tLoss: 0.052715\n",
      "Train Epoch: 6 [50000/60000 (83%)]\tLoss: 0.033111\n",
      "Train Epoch: 7 [0/60000 (0%)]\tLoss: 0.050661\n",
      "Train Epoch: 7 [10000/60000 (17%)]\tLoss: 0.049119\n",
      "Train Epoch: 7 [20000/60000 (33%)]\tLoss: 0.014512\n",
      "Train Epoch: 7 [30000/60000 (50%)]\tLoss: 0.020753\n",
      "Train Epoch: 7 [40000/60000 (67%)]\tLoss: 0.009050\n",
      "Train Epoch: 7 [50000/60000 (83%)]\tLoss: 0.024867\n",
      "Train Epoch: 8 [0/60000 (0%)]\tLoss: 0.063939\n",
      "Train Epoch: 8 [10000/60000 (17%)]\tLoss: 0.049744\n",
      "Train Epoch: 8 [20000/60000 (33%)]\tLoss: 0.040571\n",
      "Train Epoch: 8 [30000/60000 (50%)]\tLoss: 0.015378\n",
      "Train Epoch: 8 [40000/60000 (67%)]\tLoss: 0.018592\n",
      "Train Epoch: 8 [50000/60000 (83%)]\tLoss: 0.010994\n",
      "Train Epoch: 9 [0/60000 (0%)]\tLoss: 0.023102\n",
      "Train Epoch: 9 [10000/60000 (17%)]\tLoss: 0.049615\n",
      "Train Epoch: 9 [20000/60000 (33%)]\tLoss: 0.016986\n",
      "Train Epoch: 9 [30000/60000 (50%)]\tLoss: 0.044514\n",
      "Train Epoch: 9 [40000/60000 (67%)]\tLoss: 0.014309\n",
      "Train Epoch: 9 [50000/60000 (83%)]\tLoss: 0.020961\n"
     ]
    }
   ],
   "execution_count": 11
  },
  {
   "cell_type": "markdown",
   "metadata": {},
   "source": "Plot the loss that you saved in the training loop."
  },
  {
   "cell_type": "code",
   "metadata": {
    "ExecuteTime": {
     "end_time": "2024-12-27T23:39:13.974702Z",
     "start_time": "2024-12-27T23:39:13.919924Z"
    }
   },
   "source": [
    "plt.plot(total_loss)\n",
    "plt.title('Training Loss')\n",
    "plt.xlabel('Iterations')\n",
    "plt.show()"
   ],
   "outputs": [
    {
     "data": {
      "text/plain": [
       "<Figure size 640x480 with 1 Axes>"
      ],
      "image/png": "[encoded data removed]"
     },
     "metadata": {},
     "output_type": "display_data"
    }
   ],
   "execution_count": 12
  },
  {
   "cell_type": "markdown",
   "metadata": {},
   "source": [
    "# Evaluate the Trained Model\n",
    "\n",
    "In a loop of minibatches, using the test_loader, compute the overall accuracy of the network on the test set."
   ]
  },
  {
   "cell_type": "code",
   "metadata": {
    "ExecuteTime": {
     "end_time": "2024-12-27T23:39:14.532173Z",
     "start_time": "2024-12-27T23:39:14.041597Z"
    }
   },
   "source": [
    "# Testing loop\n",
    "correct = 0\n",
    "with torch.no_grad():\n",
    "    for data, target in test_loader:\n",
    "        output = model(data.to(device))\n",
    "        pred = output.argmax(dim=1, keepdim=True).cpu()\n",
    "        correct += pred.eq(target.view_as(pred)).sum().item()\n",
    "\n",
    "print('\\nTest set: Accuracy: {}/{} ({:.0f}%)\\n'.format(\n",
    "    correct, len(test_loader.dataset),\n",
    "    100. * correct / len(test_loader.dataset)))"
   ],
   "outputs": [
    {
     "name": "stdout",
     "output_type": "stream",
     "text": [
      "\n",
      "Test set: Accuracy: 9807/10000 (98%)\n",
      "\n"
     ]
    }
   ],
   "execution_count": 13
  },
  {
   "metadata": {},
   "cell_type": "markdown",
   "source": "To get some insight into what the network has learned, plot the kernels of the 32 feature maps in the first layer of the network. You can get the weights of that layer uisng `model1.conv1.weight.data.cpu().numpy()`."
  },
  {
   "metadata": {
    "ExecuteTime": {
     "end_time": "2024-12-27T23:39:14.917094Z",
     "start_time": "2024-12-27T23:39:14.691804Z"
    }
   },
   "cell_type": "code",
   "source": [
    "# Access the first convolutional layer\n",
    "first_conv_layer = model.conv1\n",
    "\n",
    "# Get the weights of the layer\n",
    "weights = first_conv_layer.weight.data.cpu().numpy()\n",
    "\n",
    "# Visualize the kernels\n",
    "fig, axes = plt.subplots(nrows=8, ncols=4)\n",
    "for i in range(32):\n",
    "    ax = axes[i // 4, i % 4]\n",
    "    ax.imshow(weights[i, 0], cmap='gray')\n",
    "    ax.axis('off')\n",
    "\n",
    "plt.tight_layout()\n",
    "plt.show()"
   ],
   "outputs": [
    {
     "data": {
      "text/plain": [
       "<Figure size 640x480 with 32 Axes>"
      ],
      "image/png": "[encoded data removed]"
     },
     "metadata": {},
     "output_type": "display_data"
    }
   ],
   "execution_count": 14
  },
  {
   "metadata": {},
   "cell_type": "markdown",
   "source": [
    "Do these kernels give you any insight into how the network is identifying the different numerals?\n",
    "\n",
    "Another way to understand the operation of the network is to look at the output of the feature maps for a specific input. In the next code block, select a single image from the test loader and apply it to the network. Then plot the outputs of the 32 feature maps in the first layer. You can access the outputs of the feature maps using `model1.conv1(image).cpu()`."
   ]
  },
  {
   "metadata": {
    "ExecuteTime": {
     "end_time": "2024-12-27T23:39:15.353346Z",
     "start_time": "2024-12-27T23:39:15.043784Z"
    }
   },
   "cell_type": "code",
   "source": [
    "# Get the output of the first convolutional layer\n",
    "first_batch = next(iter(test_loader))\n",
    "image = first_batch[0][0].to(device)\n",
    "output = model.conv1(image).cpu()\n",
    "\n",
    "# Visualize feature maps\n",
    "for i in range(output.shape[0]):\n",
    "    plt.subplot(8, 4, i+1)  # Adjust grid size as needed\n",
    "    plt.imshow(output[i].detach().numpy(), cmap='gray')\n",
    "    plt.axis('off')\n",
    "\n",
    "plt.show()"
   ],
   "outputs": [
    {
     "data": {
      "text/plain": [
       "<Figure size 640x480 with 32 Axes>"
      ],
      "image/png": "[encoded data removed]"
     },
     "metadata": {},
     "output_type": "display_data"
    }
   ],
   "execution_count": 15
  },
  {
   "metadata": {},
   "cell_type": "markdown",
   "source": [
    "After the model is trained to your satisfaction, save the model so that it can be used in the second lab. It is possible to save the entire model, but it is recommended to save just the model’s learned parameters, which are stored in `model.state_dict()`. This can be done with `torch.save(model.state_dict(), PATH)`.\n",
    "\n",
    "To load the model later, you need to first create an instance of the model, for example, by using `model = cnn_model()`. Then you can load the parameters using `model.load_state_dict(torch.load(PATH, weights_only=True))`.\n",
    "\n",
    "In the next cell, save the model. We will load the model back in the second PyTorch lab."
   ]
  },
  {
   "metadata": {
    "ExecuteTime": {
     "end_time": "2024-12-27T23:39:15.579253Z",
     "start_time": "2024-12-27T23:39:15.572141Z"
    }
   },
   "cell_type": "code",
   "source": [
    "path = os.getcwd()\n",
    "os.makedirs('../Model' , exist_ok=True)\n",
    "#data_path = '/media/martin/Storage/github/DeepLearning/10.PyTorchIntroChapter/Code/data/'\n",
    "model_path = '../Model/'\n",
    "torch.save(model.state_dict(), model_path + 'cnn_model_state.pt')"
   ],
   "outputs": [],
   "execution_count": 16
  },
  {
   "cell_type": "markdown",
   "metadata": {},
   "source": [
    "## Explore Further\n",
    "\n",
    "Experiment with different network architectures. Try to find the architecture that gives you the best accuracy. Investigate the following.\n",
    "\n",
    "1. Increase the size of the convolution kernels, and display the kernels. Do the shapes of the kernels become more intuitive?\n",
    "1. Increase the number of feature maps in the convolution layers. Does the testing accuracy increase?\n",
    "1. What if you add another convolution layer? Do you get better results increasing the number of neurons in each layer, or the number of layers (assuming the overal number of weights stays the same)?\n",
    "1. Try using batch normalization and removing the dropout. How does the test accuracy change?\n",
    "1. How small can you make the network and still achieve 98% test accuracy.\n",
    "1. Train with and without the GPU. How much speedup, if any, does the GPU give you?"
   ]
  }
 ],
 "metadata": {
  "kernelspec": {
   "display_name": "Python 3",
   "language": "python",
   "name": "python3"
  },
  "language_info": {
   "codemirror_mode": {
    "name": "ipython",
    "version": 3
   },
   "file_extension": ".py",
   "mimetype": "text/x-python",
   "name": "python",
   "nbconvert_exporter": "python",
   "pygments_lexer": "ipython3",
   "version": "3.6.9"
  }
 },
 "nbformat": 4,
 "nbformat_minor": 4
}
