{
 "cells": [
  {
   "metadata": {},
   "cell_type": "markdown",
   "source": "[![Open In Colab](https://colab.research.google.com/assets/colab-badge.svg)](https://colab.research.google.com/github/NNDesignDeepLearning/NNDesignDeepLearning/blob/master/10.PyTorchIntroChapter/Code/ChapterNotebook/PyTorchIntroChapter.ipynb)",
   "id": "5ba8b2d5e091dd2c"
  },
  {
   "metadata": {},
   "cell_type": "markdown",
   "source": [
    "# Objective\n",
    "\n",
    "This chapter provides an introduction to the **PyTorch** framework for deep learning. At the moment, **TensorFlow** and **PyTorch** are the two most popular frameworks. Over time these two frameworks have become more similar, as they borrow the best features from each other. As in Chapter 6, we will show how you can quickly get started to perform all aspects of the typical deep learning workflow: load and preprocess data, build a neural network, train the network and evaluate the results.\n",
    "\n",
    "\n",
    "# Theory and Examples\n",
    "\n",
    "\n",
    "The history of PyTorch begins around 2002 with Torch, an open-source machine learning library,scientific computing framework, and scripting language based on Lua. It was originally developed at the Idiap Research Institute at EPFL in Lausanne, Switzerland. The main developers were Ronan Collobert, Samy Bengio and Johnny Mariétho. Torch evolved over multiple revisions through version 7 in 2017.\n",
    "\n",
    "The front-end for Torch was then converted by Soumith Chintala, Adam Paszke, Sam Gross and Gregory Chanan at Facebook (now Meta) from Lua to Python, at which time is was renamed PyTorch. It is written in Python, C++ and CUDA. PyTorch 2.0 was released on 15 March 2023 and, at the time of this writing, is currently governed by the PyTorch Foundation, a subsidiary of the Linux Foundation."
   ],
   "id": "4fd269d877d47c50"
  },
  {
   "metadata": {
    "ExecuteTime": {
     "end_time": "2024-10-10T21:11:44.458968Z",
     "start_time": "2024-10-10T21:11:43.110025Z"
    }
   },
   "cell_type": "code",
   "source": [
    "import numpy as np\n",
    "import torch\n"
   ],
   "id": "36ca0d1968cca8b6",
   "outputs": [],
   "execution_count": 1
  },
  {
   "metadata": {
    "ExecuteTime": {
     "end_time": "2024-10-10T21:11:49.010076Z",
     "start_time": "2024-10-10T21:11:49.003294Z"
    }
   },
   "cell_type": "code",
   "source": [
    "p = np.array([[0, 0], [0, 1], [1, 0], [1, 1]])\n",
    "t = np.array([0, 1, 1, 0])\n",
    "p_torch = torch.from_numpy(p)\n",
    "t_torch = torch.from_numpy(t)\n",
    "print(p_torch)\n"
   ],
   "id": "92b15931d963b9da",
   "outputs": [
    {
     "name": "stdout",
     "output_type": "stream",
     "text": [
      "tensor([[0, 0],\n",
      "        [0, 1],\n",
      "        [1, 0],\n",
      "        [1, 1]])\n"
     ]
    }
   ],
   "execution_count": 2
  },
  {
   "metadata": {
    "ExecuteTime": {
     "end_time": "2024-10-10T21:26:00.373217Z",
     "start_time": "2024-10-10T21:26:00.364648Z"
    }
   },
   "cell_type": "code",
   "source": [
    "print('Layout:')\n",
    "print(p_torch.layout)\n",
    "print('Stride:')\n",
    "print(p_torch.stride())\n",
    "print('Shape:')\n",
    "print(p_torch.shape)\n",
    "print('Dtype:')\n",
    "print(p_torch.dtype)\n"
   ],
   "id": "91cc9606f64a88bf",
   "outputs": [
    {
     "name": "stdout",
     "output_type": "stream",
     "text": [
      "Layout:\n",
      "torch.strided\n",
      "Stride:\n",
      "(2, 1)\n",
      "Shape:\n",
      "torch.Size([4, 2])\n",
      "Dtype:\n",
      "torch.int64\n"
     ]
    }
   ],
   "execution_count": 4
  },
  {
   "metadata": {
    "ExecuteTime": {
     "end_time": "2024-10-10T22:20:11.136999Z",
     "start_time": "2024-10-10T22:20:11.110836Z"
    }
   },
   "cell_type": "code",
   "source": [
    "p_torch = torch.randn(3, 5, 2)\n",
    "print('Layout:')\n",
    "print(p_torch.layout)\n",
    "print('Stride:')\n",
    "print(p_torch.stride())\n",
    "print('Shape:')\n",
    "print(p_torch.shape)\n",
    "print('Dtype:')\n",
    "print(p_torch.dtype)"
   ],
   "id": "fd1cad7243a8ba15",
   "outputs": [
    {
     "name": "stdout",
     "output_type": "stream",
     "text": [
      "Layout:\n",
      "torch.strided\n",
      "Stride:\n",
      "(10, 2, 1)\n",
      "Shape:\n",
      "torch.Size([3, 5, 2])\n",
      "Dtype:\n",
      "torch.float32\n"
     ]
    }
   ],
   "execution_count": 5
  },
  {
   "metadata": {},
   "cell_type": "code",
   "outputs": [],
   "execution_count": null,
   "source": [
    "from torch import nn\n",
    "\n",
    "class NeuralNetwork(nn.Module):\n",
    "    def __init__(self):\n",
    "        super().__init__()\n",
    "        self.flatten = nn.Flatten()\n",
    "        self.linear_relu_stack = nn.Sequential(\n",
    "            nn.Linear(28*28, 512),\n",
    "            nn.ReLU(),\n",
    "            nn.Linear(512, 512),\n",
    "            nn.ReLU(),\n",
    "            nn.Linear(512, 10),\n",
    "        )\n",
    "\n",
    "    def forward(self, x):\n",
    "        x = self.flatten(x)\n",
    "        logits = self.linear_relu_stack(x)\n",
    "        return logits"
   ],
   "id": "70db32428e1714bf"
  },
  {
   "metadata": {},
   "cell_type": "code",
   "outputs": [],
   "execution_count": null,
   "source": "",
   "id": "50e56a0d02be6df7"
  }
 ],
 "metadata": {
  "kernelspec": {
   "display_name": "Python 3",
   "language": "python",
   "name": "python3"
  },
  "language_info": {
   "codemirror_mode": {
    "name": "ipython",
    "version": 2
   },
   "file_extension": ".py",
   "mimetype": "text/x-python",
   "name": "python",
   "nbconvert_exporter": "python",
   "pygments_lexer": "ipython2",
   "version": "2.7.6"
  }
 },
 "nbformat": 4,
 "nbformat_minor": 5
}
