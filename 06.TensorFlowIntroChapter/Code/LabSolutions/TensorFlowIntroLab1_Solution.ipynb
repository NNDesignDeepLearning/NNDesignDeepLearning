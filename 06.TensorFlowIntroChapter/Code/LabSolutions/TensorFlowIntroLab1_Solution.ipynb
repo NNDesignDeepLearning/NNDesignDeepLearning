{
 "cells": [
  {
   "cell_type": "markdown",
   "metadata": {},
   "source": [
    "[![Open In Colab](https://colab.research.google.com/assets/colab-badge.svg)](https://colab.research.google.com/github/NNDesignDeepLearning/NNDesignDeepLearning/blob/master/06.TensorFlowIntroChapter/Code/LabSolutions/TensorFlowIntroLab1_Solution.ipynb)"
   ]
  },
  {
   "cell_type": "markdown",
   "metadata": {},
   "source": [
    "# TensorFlow Introduction Lab 1 -- Getting Started\n",
    "\n",
    "This objective of this TensorFlow lab is to help you become familiar with the basics of using TensorFlow to load data, create multilayer networks, train the networks and display the results. If you haven't already done so, run the cells in the `TensorFlowIntroChapter.ipynb` Jupyter Notebook to prepare for this lab.\n",
    "\n",
    "Some of the cells in this notebook are prefilled with working code. In addition, there will be cells with missing code (labeled `# TODO`), which you will need to complete. If you need additional cells, you can use the `Insert` menu at the top of the page.\n",
    "\n",
    "## Loading Modules\n",
    "\n",
    "We begin by loading some useful modules. "
   ]
  },
  {
   "cell_type": "code",
   "metadata": {
    "ExecuteTime": {
     "end_time": "2024-12-28T20:20:51.470473Z",
     "start_time": "2024-12-28T20:20:48.980414Z"
    }
   },
   "source": [
    "%matplotlib inline \n",
    "import matplotlib.pyplot as plt\n",
    "import numpy as np\n",
    "from tensorflow.keras.utils import to_categorical\n",
    "from tensorflow.keras import models\n",
    "from tensorflow.keras import layers\n",
    "from tensorflow.data import Dataset\n",
    "from tensorflow.keras import datasets"
   ],
   "outputs": [
    {
     "name": "stderr",
     "output_type": "stream",
     "text": [
      "2024-12-28 14:20:49.597748: I tensorflow/core/util/port.cc:111] oneDNN custom operations are on. You may see slightly different numerical results due to floating-point round-off errors from different computation orders. To turn them off, set the environment variable `TF_ENABLE_ONEDNN_OPTS=0`.\n",
      "2024-12-28 14:20:49.640722: E tensorflow/compiler/xla/stream_executor/cuda/cuda_dnn.cc:9342] Unable to register cuDNN factory: Attempting to register factory for plugin cuDNN when one has already been registered\n",
      "2024-12-28 14:20:49.640755: E tensorflow/compiler/xla/stream_executor/cuda/cuda_fft.cc:609] Unable to register cuFFT factory: Attempting to register factory for plugin cuFFT when one has already been registered\n",
      "2024-12-28 14:20:49.640783: E tensorflow/compiler/xla/stream_executor/cuda/cuda_blas.cc:1518] Unable to register cuBLAS factory: Attempting to register factory for plugin cuBLAS when one has already been registered\n",
      "2024-12-28 14:20:49.648651: I tensorflow/core/platform/cpu_feature_guard.cc:182] This TensorFlow binary is optimized to use available CPU instructions in performance-critical operations.\n",
      "To enable the following instructions: AVX2 AVX512F AVX512_VNNI FMA, in other operations, rebuild TensorFlow with the appropriate compiler flags.\n",
      "2024-12-28 14:20:50.550484: W tensorflow/compiler/tf2tensorrt/utils/py_utils.cc:38] TF-TRT Warning: Could not find TensorRT\n"
     ]
    }
   ],
   "execution_count": 1
  },
  {
   "cell_type": "markdown",
   "metadata": {},
   "source": [
    "# Loading Data\n",
    "\n",
    "For this lab we will use a famous data set -- MNIST. This is a large database of handwritten digits. It contains 60,000 training images and 10,000 testing images. Each image consists of arrays of 28x28 pixels. The original website for the data, which describes the dataset in detail, and records accuracies using various machine learning strategies, can be found [here](http://yann.lecun.com/exdb/mnist/). The data set can be accessed easily using `tensorflow.keras.datasets`, as illustrated in the next cell."
   ]
  },
  {
   "cell_type": "code",
   "metadata": {
    "ExecuteTime": {
     "end_time": "2024-12-27T23:54:22.753517Z",
     "start_time": "2024-12-27T23:54:22.623850Z"
    }
   },
   "source": [
    "(p_train, t_train), (p_test, t_test) = datasets.mnist.load_data()"
   ],
   "outputs": [],
   "execution_count": 2
  },
  {
   "cell_type": "markdown",
   "metadata": {},
   "source": [
    "In the next cell, check the sizes of the arrays."
   ]
  },
  {
   "cell_type": "code",
   "metadata": {
    "ExecuteTime": {
     "end_time": "2024-12-27T23:54:22.916578Z",
     "start_time": "2024-12-27T23:54:22.914781Z"
    }
   },
   "source": [
    "print(p_train.shape)\n",
    "print(t_train.shape)\n",
    "print(p_test.shape)\n",
    "print(t_test.shape)"
   ],
   "outputs": [
    {
     "name": "stdout",
     "output_type": "stream",
     "text": [
      "(60000, 28, 28)\n",
      "(60000,)\n",
      "(10000, 28, 28)\n",
      "(10000,)\n"
     ]
    }
   ],
   "execution_count": 3
  },
  {
   "cell_type": "markdown",
   "metadata": {},
   "source": [
    "Let's take a look at one of the input images in the training set."
   ]
  },
  {
   "cell_type": "code",
   "metadata": {
    "ExecuteTime": {
     "end_time": "2024-12-27T23:54:23.081814Z",
     "start_time": "2024-12-27T23:54:23.020303Z"
    }
   },
   "source": [
    "plt.imshow(p_train[0], cmap='gray')"
   ],
   "outputs": [
    {
     "data": {
      "text/plain": [
       "<matplotlib.image.AxesImage at 0x7e08505ddc40>"
      ]
     },
     "execution_count": 4,
     "metadata": {},
     "output_type": "execute_result"
    },
    {
     "data": {
      "text/plain": [
       "<Figure size 640x480 with 1 Axes>"
      ],
      "image/png": "[encoded data removed]"
     },
     "metadata": {},
     "output_type": "display_data"
    }
   ],
   "execution_count": 4
  },
  {
   "cell_type": "markdown",
   "metadata": {},
   "source": [
    "What digit is this supposed to be? Check the corresponding target value in the next cell."
   ]
  },
  {
   "cell_type": "code",
   "metadata": {
    "ExecuteTime": {
     "end_time": "2024-12-27T23:54:23.140148Z",
     "start_time": "2024-12-27T23:54:23.138107Z"
    }
   },
   "source": [
    "print(t_train[0])"
   ],
   "outputs": [
    {
     "name": "stdout",
     "output_type": "stream",
     "text": [
      "5\n"
     ]
    }
   ],
   "execution_count": 5
  },
  {
   "cell_type": "markdown",
   "metadata": {},
   "source": [
    "The targets are represented as integers 0 through 9. We need to perform a one-hot encoding of the targets, so that they can be used for network training. Use the `to_categorical` method to do the conversion on training and testing targets."
   ]
  },
  {
   "cell_type": "code",
   "metadata": {
    "ExecuteTime": {
     "end_time": "2024-12-27T23:54:23.237060Z",
     "start_time": "2024-12-27T23:54:23.233918Z"
    }
   },
   "source": [
    "t_train = to_categorical(t_train)\n",
    "t_test = to_categorical(t_test)"
   ],
   "outputs": [],
   "execution_count": 6
  },
  {
   "cell_type": "markdown",
   "metadata": {},
   "source": [
    "Check the conversion."
   ]
  },
  {
   "cell_type": "code",
   "metadata": {
    "ExecuteTime": {
     "end_time": "2024-12-27T23:54:23.299470Z",
     "start_time": "2024-12-27T23:54:23.297718Z"
    }
   },
   "source": [
    "print(t_train[0])"
   ],
   "outputs": [
    {
     "name": "stdout",
     "output_type": "stream",
     "text": [
      "[0. 0. 0. 0. 0. 1. 0. 0. 0. 0.]\n"
     ]
    }
   ],
   "execution_count": 7
  },
  {
   "cell_type": "markdown",
   "metadata": {},
   "source": [
    "It is also useful to normalize the inputs. In this case, the maximum pixel values in the images is 255, so a simple normalization is to divide all inputs by 255.0, so that inputs will range from 0 to 1. Perform that normalization on the training and testing inputs in the next cell."
   ]
  },
  {
   "cell_type": "code",
   "metadata": {
    "ExecuteTime": {
     "end_time": "2024-12-27T23:54:23.523442Z",
     "start_time": "2024-12-27T23:54:23.458043Z"
    }
   },
   "source": [
    "p_train = p_train/255.\n",
    "p_test = p_test/255."
   ],
   "outputs": [],
   "execution_count": 8
  },
  {
   "cell_type": "markdown",
   "metadata": {},
   "source": [
    "Put the training and testing data into two TensorFlow Datasets using `Dataset.from_tensor_slices()`."
   ]
  },
  {
   "cell_type": "code",
   "metadata": {
    "ExecuteTime": {
     "end_time": "2024-12-27T23:54:24.114528Z",
     "start_time": "2024-12-27T23:54:23.575976Z"
    }
   },
   "source": [
    "train_dataset = Dataset.from_tensor_slices((p_train, t_train))\n",
    "test_dataset = Dataset.from_tensor_slices((p_test, t_test))"
   ],
   "outputs": [
    {
     "name": "stderr",
     "output_type": "stream",
     "text": [
      "WARNING: All log messages before absl::InitializeLog() is called are written to STDERR\n",
      "I0000 00:00:1735343663.640158 1762327 cuda_executor.cc:1015] successful NUMA node read from SysFS had negative value (-1), but there must be at least one NUMA node, so returning NUMA node zero. See more at https://github.com/torvalds/linux/blob/v6.0/Documentation/ABI/testing/sysfs-bus-pci#L344-L355\n",
      "I0000 00:00:1735343663.660115 1762327 cuda_executor.cc:1015] successful NUMA node read from SysFS had negative value (-1), but there must be at least one NUMA node, so returning NUMA node zero. See more at https://github.com/torvalds/linux/blob/v6.0/Documentation/ABI/testing/sysfs-bus-pci#L344-L355\n",
      "I0000 00:00:1735343663.660243 1762327 cuda_executor.cc:1015] successful NUMA node read from SysFS had negative value (-1), but there must be at least one NUMA node, so returning NUMA node zero. See more at https://github.com/torvalds/linux/blob/v6.0/Documentation/ABI/testing/sysfs-bus-pci#L344-L355\n",
      "I0000 00:00:1735343663.661094 1762327 cuda_executor.cc:1015] successful NUMA node read from SysFS had negative value (-1), but there must be at least one NUMA node, so returning NUMA node zero. See more at https://github.com/torvalds/linux/blob/v6.0/Documentation/ABI/testing/sysfs-bus-pci#L344-L355\n",
      "I0000 00:00:1735343663.661198 1762327 cuda_executor.cc:1015] successful NUMA node read from SysFS had negative value (-1), but there must be at least one NUMA node, so returning NUMA node zero. See more at https://github.com/torvalds/linux/blob/v6.0/Documentation/ABI/testing/sysfs-bus-pci#L344-L355\n",
      "I0000 00:00:1735343663.661260 1762327 cuda_executor.cc:1015] successful NUMA node read from SysFS had negative value (-1), but there must be at least one NUMA node, so returning NUMA node zero. See more at https://github.com/torvalds/linux/blob/v6.0/Documentation/ABI/testing/sysfs-bus-pci#L344-L355\n",
      "I0000 00:00:1735343663.715090 1762327 cuda_executor.cc:1015] successful NUMA node read from SysFS had negative value (-1), but there must be at least one NUMA node, so returning NUMA node zero. See more at https://github.com/torvalds/linux/blob/v6.0/Documentation/ABI/testing/sysfs-bus-pci#L344-L355\n",
      "I0000 00:00:1735343663.715192 1762327 cuda_executor.cc:1015] successful NUMA node read from SysFS had negative value (-1), but there must be at least one NUMA node, so returning NUMA node zero. See more at https://github.com/torvalds/linux/blob/v6.0/Documentation/ABI/testing/sysfs-bus-pci#L344-L355\n",
      "I0000 00:00:1735343663.715259 1762327 cuda_executor.cc:1015] successful NUMA node read from SysFS had negative value (-1), but there must be at least one NUMA node, so returning NUMA node zero. See more at https://github.com/torvalds/linux/blob/v6.0/Documentation/ABI/testing/sysfs-bus-pci#L344-L355\n",
      "2024-12-27 18:54:23.715321: I tensorflow/core/common_runtime/gpu/gpu_device.cc:2021] Created device /job:localhost/replica:0/task:0/device:GPU:0 with 14411 MB memory:  -> device: 0, name: NVIDIA RTX A5000 Laptop GPU, pci bus id: 0000:01:00.0, compute capability: 8.6\n"
     ]
    }
   ],
   "execution_count": 9
  },
  {
   "cell_type": "markdown",
   "metadata": {},
   "source": [
    "Group the data in the training and testing datasets into minibatches of size 100, using the `batch()` method."
   ]
  },
  {
   "cell_type": "code",
   "metadata": {
    "ExecuteTime": {
     "end_time": "2024-12-27T23:54:24.185691Z",
     "start_time": "2024-12-27T23:54:24.178332Z"
    }
   },
   "source": [
    "train_dataset = train_dataset.batch(100)\n",
    "test_dataset = test_dataset.batch(100)"
   ],
   "outputs": [],
   "execution_count": 10
  },
  {
   "cell_type": "markdown",
   "metadata": {},
   "source": [
    "# Constructing the Model\n",
    "\n",
    "Now that the data is loaded, the next step is to construct the model. Create a method that uses the sequential class to construct a multilayer network with three layers and returns the constructed model. To begin, use 10 neurons in each layer. For the first two `Dense` layers, use the relu activation function, and use the softmax activation function in the third `Dense` layer. Note that because the training inputs are 28x28 arrays, we need to convert them to vectors before going into the first `Dense` layer. This can be done with `layers.Flatten()`. Make this the first component of the network."
   ]
  },
  {
   "cell_type": "code",
   "metadata": {
    "ExecuteTime": {
     "end_time": "2024-12-27T23:54:24.245437Z",
     "start_time": "2024-12-27T23:54:24.243648Z"
    }
   },
   "source": [
    "def make_model():\n",
    "    model = models.Sequential()\n",
    "    model.add(layers.Flatten(input_shape=(28, 28)))\n",
    "    model.add(layers.Dense(10, activation='relu'))\n",
    "    model.add(layers.Dense(10, activation='relu'))\n",
    "    model.add(layers.Dense(10, activation='softmax'))\n",
    "    return model"
   ],
   "outputs": [],
   "execution_count": 11
  },
  {
   "cell_type": "markdown",
   "metadata": {},
   "source": [
    "Use the method you just created to construct a model."
   ]
  },
  {
   "cell_type": "code",
   "metadata": {
    "ExecuteTime": {
     "end_time": "2024-12-27T23:54:24.361685Z",
     "start_time": "2024-12-27T23:54:24.329340Z"
    }
   },
   "source": [
    "model1 = make_model()"
   ],
   "outputs": [
    {
     "name": "stderr",
     "output_type": "stream",
     "text": [
      "/usr/local/lib/python3.12/dist-packages/keras/src/layers/reshaping/flatten.py:37: UserWarning: Do not pass an `input_shape`/`input_dim` argument to a layer. When using Sequential models, prefer using an `Input(shape)` object as the first layer in the model instead.\n",
      "  super().__init__(**kwargs)\n"
     ]
    }
   ],
   "execution_count": 12
  },
  {
   "cell_type": "markdown",
   "metadata": {},
   "source": [
    "After constructing the model, you can display a summary with the `summary()` method."
   ]
  },
  {
   "cell_type": "code",
   "metadata": {
    "ExecuteTime": {
     "end_time": "2024-12-27T23:54:24.431192Z",
     "start_time": "2024-12-27T23:54:24.424219Z"
    }
   },
   "source": [
    "model1.summary()"
   ],
   "outputs": [
    {
     "data": {
      "text/plain": [
       "\u001B[1mModel: \"sequential\"\u001B[0m\n"
      ],
      "text/html": [
       "<pre style=\"white-space:pre;overflow-x:auto;line-height:normal;font-family:Menlo,'DejaVu Sans Mono',consolas,'Courier New',monospace\"><span style=\"font-weight: bold\">Model: \"sequential\"</span>\n",
       "</pre>\n"
      ]
     },
     "metadata": {},
     "output_type": "display_data"
    },
    {
     "data": {
      "text/plain": [
       "┏━━━━━━━━━━━━━━━━━━━━━━━━━━━━━━━━━┳━━━━━━━━━━━━━━━━━━━━━━━━┳━━━━━━━━━━━━━━━┓\n",
       "┃\u001B[1m \u001B[0m\u001B[1mLayer (type)                   \u001B[0m\u001B[1m \u001B[0m┃\u001B[1m \u001B[0m\u001B[1mOutput Shape          \u001B[0m\u001B[1m \u001B[0m┃\u001B[1m \u001B[0m\u001B[1m      Param #\u001B[0m\u001B[1m \u001B[0m┃\n",
       "┡━━━━━━━━━━━━━━━━━━━━━━━━━━━━━━━━━╇━━━━━━━━━━━━━━━━━━━━━━━━╇━━━━━━━━━━━━━━━┩\n",
       "│ flatten (\u001B[38;5;33mFlatten\u001B[0m)               │ (\u001B[38;5;45mNone\u001B[0m, \u001B[38;5;34m784\u001B[0m)            │             \u001B[38;5;34m0\u001B[0m │\n",
       "├─────────────────────────────────┼────────────────────────┼───────────────┤\n",
       "│ dense (\u001B[38;5;33mDense\u001B[0m)                   │ (\u001B[38;5;45mNone\u001B[0m, \u001B[38;5;34m10\u001B[0m)             │         \u001B[38;5;34m7,850\u001B[0m │\n",
       "├─────────────────────────────────┼────────────────────────┼───────────────┤\n",
       "│ dense_1 (\u001B[38;5;33mDense\u001B[0m)                 │ (\u001B[38;5;45mNone\u001B[0m, \u001B[38;5;34m10\u001B[0m)             │           \u001B[38;5;34m110\u001B[0m │\n",
       "├─────────────────────────────────┼────────────────────────┼───────────────┤\n",
       "│ dense_2 (\u001B[38;5;33mDense\u001B[0m)                 │ (\u001B[38;5;45mNone\u001B[0m, \u001B[38;5;34m10\u001B[0m)             │           \u001B[38;5;34m110\u001B[0m │\n",
       "└─────────────────────────────────┴────────────────────────┴───────────────┘\n"
      ],
      "text/html": [
       "<pre style=\"white-space:pre;overflow-x:auto;line-height:normal;font-family:Menlo,'DejaVu Sans Mono',consolas,'Courier New',monospace\">┏━━━━━━━━━━━━━━━━━━━━━━━━━━━━━━━━━┳━━━━━━━━━━━━━━━━━━━━━━━━┳━━━━━━━━━━━━━━━┓\n",
       "┃<span style=\"font-weight: bold\"> Layer (type)                    </span>┃<span style=\"font-weight: bold\"> Output Shape           </span>┃<span style=\"font-weight: bold\">       Param # </span>┃\n",
       "┡━━━━━━━━━━━━━━━━━━━━━━━━━━━━━━━━━╇━━━━━━━━━━━━━━━━━━━━━━━━╇━━━━━━━━━━━━━━━┩\n",
       "│ flatten (<span style=\"color: #0087ff; text-decoration-color: #0087ff\">Flatten</span>)               │ (<span style=\"color: #00d7ff; text-decoration-color: #00d7ff\">None</span>, <span style=\"color: #00af00; text-decoration-color: #00af00\">784</span>)            │             <span style=\"color: #00af00; text-decoration-color: #00af00\">0</span> │\n",
       "├─────────────────────────────────┼────────────────────────┼───────────────┤\n",
       "│ dense (<span style=\"color: #0087ff; text-decoration-color: #0087ff\">Dense</span>)                   │ (<span style=\"color: #00d7ff; text-decoration-color: #00d7ff\">None</span>, <span style=\"color: #00af00; text-decoration-color: #00af00\">10</span>)             │         <span style=\"color: #00af00; text-decoration-color: #00af00\">7,850</span> │\n",
       "├─────────────────────────────────┼────────────────────────┼───────────────┤\n",
       "│ dense_1 (<span style=\"color: #0087ff; text-decoration-color: #0087ff\">Dense</span>)                 │ (<span style=\"color: #00d7ff; text-decoration-color: #00d7ff\">None</span>, <span style=\"color: #00af00; text-decoration-color: #00af00\">10</span>)             │           <span style=\"color: #00af00; text-decoration-color: #00af00\">110</span> │\n",
       "├─────────────────────────────────┼────────────────────────┼───────────────┤\n",
       "│ dense_2 (<span style=\"color: #0087ff; text-decoration-color: #0087ff\">Dense</span>)                 │ (<span style=\"color: #00d7ff; text-decoration-color: #00d7ff\">None</span>, <span style=\"color: #00af00; text-decoration-color: #00af00\">10</span>)             │           <span style=\"color: #00af00; text-decoration-color: #00af00\">110</span> │\n",
       "└─────────────────────────────────┴────────────────────────┴───────────────┘\n",
       "</pre>\n"
      ]
     },
     "metadata": {},
     "output_type": "display_data"
    },
    {
     "data": {
      "text/plain": [
       "\u001B[1m Total params: \u001B[0m\u001B[38;5;34m8,070\u001B[0m (31.52 KB)\n"
      ],
      "text/html": [
       "<pre style=\"white-space:pre;overflow-x:auto;line-height:normal;font-family:Menlo,'DejaVu Sans Mono',consolas,'Courier New',monospace\"><span style=\"font-weight: bold\"> Total params: </span><span style=\"color: #00af00; text-decoration-color: #00af00\">8,070</span> (31.52 KB)\n",
       "</pre>\n"
      ]
     },
     "metadata": {},
     "output_type": "display_data"
    },
    {
     "data": {
      "text/plain": [
       "\u001B[1m Trainable params: \u001B[0m\u001B[38;5;34m8,070\u001B[0m (31.52 KB)\n"
      ],
      "text/html": [
       "<pre style=\"white-space:pre;overflow-x:auto;line-height:normal;font-family:Menlo,'DejaVu Sans Mono',consolas,'Courier New',monospace\"><span style=\"font-weight: bold\"> Trainable params: </span><span style=\"color: #00af00; text-decoration-color: #00af00\">8,070</span> (31.52 KB)\n",
       "</pre>\n"
      ]
     },
     "metadata": {},
     "output_type": "display_data"
    },
    {
     "data": {
      "text/plain": [
       "\u001B[1m Non-trainable params: \u001B[0m\u001B[38;5;34m0\u001B[0m (0.00 B)\n"
      ],
      "text/html": [
       "<pre style=\"white-space:pre;overflow-x:auto;line-height:normal;font-family:Menlo,'DejaVu Sans Mono',consolas,'Courier New',monospace\"><span style=\"font-weight: bold\"> Non-trainable params: </span><span style=\"color: #00af00; text-decoration-color: #00af00\">0</span> (0.00 B)\n",
       "</pre>\n"
      ]
     },
     "metadata": {},
     "output_type": "display_data"
    }
   ],
   "execution_count": 13
  },
  {
   "cell_type": "markdown",
   "metadata": {},
   "source": [
    "# Training the Network\n",
    "\n",
    "The first step in training the network is to compile the network. This assigns the training function and the performance (loss) function. Use `adam` as the training function and `categorical_crossentropy` as the loss function. When compiling, you can also specify that certain metrics be saved during training. Metrics are often measures of performance that are not explicitly optimized. Add `metrics=['accuracy']` to the compile step to save accuracy during training.\n",
    "\n",
    "Compile the model."
   ]
  },
  {
   "cell_type": "code",
   "metadata": {
    "ExecuteTime": {
     "end_time": "2024-12-27T23:54:24.545933Z",
     "start_time": "2024-12-27T23:54:24.539867Z"
    }
   },
   "source": [
    "model1.compile(optimizer='adam',loss='categorical_crossentropy', metrics=['accuracy'])"
   ],
   "outputs": [],
   "execution_count": 14
  },
  {
   "cell_type": "markdown",
   "metadata": {},
   "source": [
    "Now use `model.fit` to train the network.  Pass the training Dataset and assign epochs to 100."
   ]
  },
  {
   "cell_type": "code",
   "metadata": {
    "ExecuteTime": {
     "end_time": "2024-12-27T23:55:04.069386Z",
     "start_time": "2024-12-27T23:54:24.632237Z"
    }
   },
   "source": [
    "history = model1.fit(train_dataset, epochs=100)"
   ],
   "outputs": [
    {
     "name": "stdout",
     "output_type": "stream",
     "text": [
      "Epoch 1/100\n"
     ]
    },
    {
     "name": "stderr",
     "output_type": "stream",
     "text": [
      "WARNING: All log messages before absl::InitializeLog() is called are written to STDERR\n",
      "I0000 00:00:1735343665.125066 1762412 service.cc:146] XLA service 0x7e06f4009dc0 initialized for platform CUDA (this does not guarantee that XLA will be used). Devices:\n",
      "I0000 00:00:1735343665.125088 1762412 service.cc:154]   StreamExecutor device (0): NVIDIA RTX A5000 Laptop GPU, Compute Capability 8.6\n",
      "2024-12-27 18:54:25.138705: I tensorflow/compiler/mlir/tensorflow/utils/dump_mlir_util.cc:268] disabling MLIR crash reproducer, set env var `MLIR_CRASH_REPRODUCER_DIRECTORY` to enable.\n",
      "2024-12-27 18:54:25.199256: I external/local_xla/xla/stream_executor/cuda/cuda_dnn.cc:531] Loaded cuDNN version 8902\n"
     ]
    },
    {
     "name": "stdout",
     "output_type": "stream",
     "text": [
      "\u001B[1m233/600\u001B[0m \u001B[32m━━━━━━━\u001B[0m\u001B[37m━━━━━━━━━━━━━\u001B[0m \u001B[1m0s\u001B[0m 649us/step - accuracy: 0.3991 - loss: 1.7165"
     ]
    },
    {
     "name": "stderr",
     "output_type": "stream",
     "text": [
      "I0000 00:00:1735343665.600964 1762412 device_compiler.h:188] Compiled cluster using XLA!  This line is logged at most once for the lifetime of the process.\n"
     ]
    },
    {
     "name": "stdout",
     "output_type": "stream",
     "text": [
      "\u001B[1m600/600\u001B[0m \u001B[32m━━━━━━━━━━━━━━━━━━━━\u001B[0m\u001B[37m\u001B[0m \u001B[1m1s\u001B[0m 648us/step - accuracy: 0.5821 - loss: 1.2633\n",
      "Epoch 2/100\n",
      "\u001B[1m600/600\u001B[0m \u001B[32m━━━━━━━━━━━━━━━━━━━━\u001B[0m\u001B[37m\u001B[0m \u001B[1m0s\u001B[0m 638us/step - accuracy: 0.8879 - loss: 0.3910\n",
      "Epoch 3/100\n",
      "\u001B[1m600/600\u001B[0m \u001B[32m━━━━━━━━━━━━━━━━━━━━\u001B[0m\u001B[37m\u001B[0m \u001B[1m0s\u001B[0m 638us/step - accuracy: 0.9120 - loss: 0.3090\n",
      "Epoch 4/100\n",
      "\u001B[1m600/600\u001B[0m \u001B[32m━━━━━━━━━━━━━━━━━━━━\u001B[0m\u001B[37m\u001B[0m \u001B[1m0s\u001B[0m 632us/step - accuracy: 0.9205 - loss: 0.2784\n",
      "Epoch 5/100\n",
      "\u001B[1m600/600\u001B[0m \u001B[32m━━━━━━━━━━━━━━━━━━━━\u001B[0m\u001B[37m\u001B[0m \u001B[1m0s\u001B[0m 640us/step - accuracy: 0.9250 - loss: 0.2618\n",
      "Epoch 6/100\n",
      "\u001B[1m600/600\u001B[0m \u001B[32m━━━━━━━━━━━━━━━━━━━━\u001B[0m\u001B[37m\u001B[0m \u001B[1m0s\u001B[0m 641us/step - accuracy: 0.9280 - loss: 0.2504\n",
      "Epoch 7/100\n",
      "\u001B[1m600/600\u001B[0m \u001B[32m━━━━━━━━━━━━━━━━━━━━\u001B[0m\u001B[37m\u001B[0m \u001B[1m0s\u001B[0m 631us/step - accuracy: 0.9299 - loss: 0.2411\n",
      "Epoch 8/100\n",
      "\u001B[1m600/600\u001B[0m \u001B[32m━━━━━━━━━━━━━━━━━━━━\u001B[0m\u001B[37m\u001B[0m \u001B[1m0s\u001B[0m 637us/step - accuracy: 0.9329 - loss: 0.2330\n",
      "Epoch 9/100\n",
      "\u001B[1m600/600\u001B[0m \u001B[32m━━━━━━━━━━━━━━━━━━━━\u001B[0m\u001B[37m\u001B[0m \u001B[1m0s\u001B[0m 631us/step - accuracy: 0.9348 - loss: 0.2265\n",
      "Epoch 10/100\n",
      "\u001B[1m600/600\u001B[0m \u001B[32m━━━━━━━━━━━━━━━━━━━━\u001B[0m\u001B[37m\u001B[0m \u001B[1m0s\u001B[0m 637us/step - accuracy: 0.9364 - loss: 0.2209\n",
      "Epoch 11/100\n",
      "\u001B[1m600/600\u001B[0m \u001B[32m━━━━━━━━━━━━━━━━━━━━\u001B[0m\u001B[37m\u001B[0m \u001B[1m0s\u001B[0m 640us/step - accuracy: 0.9381 - loss: 0.2165\n",
      "Epoch 12/100\n",
      "\u001B[1m600/600\u001B[0m \u001B[32m━━━━━━━━━━━━━━━━━━━━\u001B[0m\u001B[37m\u001B[0m \u001B[1m0s\u001B[0m 633us/step - accuracy: 0.9391 - loss: 0.2124\n",
      "Epoch 13/100\n",
      "\u001B[1m600/600\u001B[0m \u001B[32m━━━━━━━━━━━━━━━━━━━━\u001B[0m\u001B[37m\u001B[0m \u001B[1m0s\u001B[0m 630us/step - accuracy: 0.9402 - loss: 0.2090\n",
      "Epoch 14/100\n",
      "\u001B[1m600/600\u001B[0m \u001B[32m━━━━━━━━━━━━━━━━━━━━\u001B[0m\u001B[37m\u001B[0m \u001B[1m0s\u001B[0m 639us/step - accuracy: 0.9409 - loss: 0.2060\n",
      "Epoch 15/100\n",
      "\u001B[1m600/600\u001B[0m \u001B[32m━━━━━━━━━━━━━━━━━━━━\u001B[0m\u001B[37m\u001B[0m \u001B[1m0s\u001B[0m 633us/step - accuracy: 0.9412 - loss: 0.2034\n",
      "Epoch 16/100\n",
      "\u001B[1m600/600\u001B[0m \u001B[32m━━━━━━━━━━━━━━━━━━━━\u001B[0m\u001B[37m\u001B[0m \u001B[1m0s\u001B[0m 629us/step - accuracy: 0.9415 - loss: 0.2009\n",
      "Epoch 17/100\n",
      "\u001B[1m600/600\u001B[0m \u001B[32m━━━━━━━━━━━━━━━━━━━━\u001B[0m\u001B[37m\u001B[0m \u001B[1m0s\u001B[0m 633us/step - accuracy: 0.9419 - loss: 0.1987\n",
      "Epoch 18/100\n",
      "\u001B[1m600/600\u001B[0m \u001B[32m━━━━━━━━━━━━━━━━━━━━\u001B[0m\u001B[37m\u001B[0m \u001B[1m0s\u001B[0m 642us/step - accuracy: 0.9423 - loss: 0.1967\n",
      "Epoch 19/100\n",
      "\u001B[1m600/600\u001B[0m \u001B[32m━━━━━━━━━━━━━━━━━━━━\u001B[0m\u001B[37m\u001B[0m \u001B[1m0s\u001B[0m 645us/step - accuracy: 0.9430 - loss: 0.1946\n",
      "Epoch 20/100\n",
      "\u001B[1m600/600\u001B[0m \u001B[32m━━━━━━━━━━━━━━━━━━━━\u001B[0m\u001B[37m\u001B[0m \u001B[1m0s\u001B[0m 644us/step - accuracy: 0.9434 - loss: 0.1926\n",
      "Epoch 21/100\n",
      "\u001B[1m600/600\u001B[0m \u001B[32m━━━━━━━━━━━━━━━━━━━━\u001B[0m\u001B[37m\u001B[0m \u001B[1m0s\u001B[0m 632us/step - accuracy: 0.9442 - loss: 0.1909\n",
      "Epoch 22/100\n",
      "\u001B[1m600/600\u001B[0m \u001B[32m━━━━━━━━━━━━━━━━━━━━\u001B[0m\u001B[37m\u001B[0m \u001B[1m0s\u001B[0m 639us/step - accuracy: 0.9449 - loss: 0.1892\n",
      "Epoch 23/100\n",
      "\u001B[1m600/600\u001B[0m \u001B[32m━━━━━━━━━━━━━━━━━━━━\u001B[0m\u001B[37m\u001B[0m \u001B[1m0s\u001B[0m 641us/step - accuracy: 0.9457 - loss: 0.1876\n",
      "Epoch 24/100\n",
      "\u001B[1m600/600\u001B[0m \u001B[32m━━━━━━━━━━━━━━━━━━━━\u001B[0m\u001B[37m\u001B[0m \u001B[1m0s\u001B[0m 631us/step - accuracy: 0.9462 - loss: 0.1861\n",
      "Epoch 25/100\n",
      "\u001B[1m600/600\u001B[0m \u001B[32m━━━━━━━━━━━━━━━━━━━━\u001B[0m\u001B[37m\u001B[0m \u001B[1m0s\u001B[0m 627us/step - accuracy: 0.9470 - loss: 0.1844\n",
      "Epoch 26/100\n",
      "\u001B[1m600/600\u001B[0m \u001B[32m━━━━━━━━━━━━━━━━━━━━\u001B[0m\u001B[37m\u001B[0m \u001B[1m0s\u001B[0m 636us/step - accuracy: 0.9474 - loss: 0.1830\n",
      "Epoch 27/100\n",
      "\u001B[1m600/600\u001B[0m \u001B[32m━━━━━━━━━━━━━━━━━━━━\u001B[0m\u001B[37m\u001B[0m \u001B[1m0s\u001B[0m 644us/step - accuracy: 0.9478 - loss: 0.1817\n",
      "Epoch 28/100\n",
      "\u001B[1m600/600\u001B[0m \u001B[32m━━━━━━━━━━━━━━━━━━━━\u001B[0m\u001B[37m\u001B[0m \u001B[1m0s\u001B[0m 633us/step - accuracy: 0.9485 - loss: 0.1803\n",
      "Epoch 29/100\n",
      "\u001B[1m600/600\u001B[0m \u001B[32m━━━━━━━━━━━━━━━━━━━━\u001B[0m\u001B[37m\u001B[0m \u001B[1m0s\u001B[0m 633us/step - accuracy: 0.9493 - loss: 0.1791\n",
      "Epoch 30/100\n",
      "\u001B[1m600/600\u001B[0m \u001B[32m━━━━━━━━━━━━━━━━━━━━\u001B[0m\u001B[37m\u001B[0m \u001B[1m0s\u001B[0m 638us/step - accuracy: 0.9493 - loss: 0.1781\n",
      "Epoch 31/100\n",
      "\u001B[1m600/600\u001B[0m \u001B[32m━━━━━━━━━━━━━━━━━━━━\u001B[0m\u001B[37m\u001B[0m \u001B[1m0s\u001B[0m 630us/step - accuracy: 0.9496 - loss: 0.1768\n",
      "Epoch 32/100\n",
      "\u001B[1m600/600\u001B[0m \u001B[32m━━━━━━━━━━━━━━━━━━━━\u001B[0m\u001B[37m\u001B[0m \u001B[1m0s\u001B[0m 640us/step - accuracy: 0.9497 - loss: 0.1759\n",
      "Epoch 33/100\n",
      "\u001B[1m600/600\u001B[0m \u001B[32m━━━━━━━━━━━━━━━━━━━━\u001B[0m\u001B[37m\u001B[0m \u001B[1m0s\u001B[0m 629us/step - accuracy: 0.9502 - loss: 0.1749\n",
      "Epoch 34/100\n",
      "\u001B[1m600/600\u001B[0m \u001B[32m━━━━━━━━━━━━━━━━━━━━\u001B[0m\u001B[37m\u001B[0m \u001B[1m0s\u001B[0m 627us/step - accuracy: 0.9503 - loss: 0.1737\n",
      "Epoch 35/100\n",
      "\u001B[1m600/600\u001B[0m \u001B[32m━━━━━━━━━━━━━━━━━━━━\u001B[0m\u001B[37m\u001B[0m \u001B[1m0s\u001B[0m 642us/step - accuracy: 0.9506 - loss: 0.1728\n",
      "Epoch 36/100\n",
      "\u001B[1m600/600\u001B[0m \u001B[32m━━━━━━━━━━━━━━━━━━━━\u001B[0m\u001B[37m\u001B[0m \u001B[1m0s\u001B[0m 635us/step - accuracy: 0.9508 - loss: 0.1718\n",
      "Epoch 37/100\n",
      "\u001B[1m600/600\u001B[0m \u001B[32m━━━━━━━━━━━━━━━━━━━━\u001B[0m\u001B[37m\u001B[0m \u001B[1m0s\u001B[0m 634us/step - accuracy: 0.9506 - loss: 0.1710\n",
      "Epoch 38/100\n",
      "\u001B[1m600/600\u001B[0m \u001B[32m━━━━━━━━━━━━━━━━━━━━\u001B[0m\u001B[37m\u001B[0m \u001B[1m0s\u001B[0m 631us/step - accuracy: 0.9511 - loss: 0.1701\n",
      "Epoch 39/100\n",
      "\u001B[1m600/600\u001B[0m \u001B[32m━━━━━━━━━━━━━━━━━━━━\u001B[0m\u001B[37m\u001B[0m \u001B[1m0s\u001B[0m 630us/step - accuracy: 0.9509 - loss: 0.1695\n",
      "Epoch 40/100\n",
      "\u001B[1m600/600\u001B[0m \u001B[32m━━━━━━━━━━━━━━━━━━━━\u001B[0m\u001B[37m\u001B[0m \u001B[1m0s\u001B[0m 638us/step - accuracy: 0.9512 - loss: 0.1687\n",
      "Epoch 41/100\n",
      "\u001B[1m600/600\u001B[0m \u001B[32m━━━━━━━━━━━━━━━━━━━━\u001B[0m\u001B[37m\u001B[0m \u001B[1m0s\u001B[0m 637us/step - accuracy: 0.9511 - loss: 0.1680\n",
      "Epoch 42/100\n",
      "\u001B[1m600/600\u001B[0m \u001B[32m━━━━━━━━━━━━━━━━━━━━\u001B[0m\u001B[37m\u001B[0m \u001B[1m0s\u001B[0m 632us/step - accuracy: 0.9516 - loss: 0.1673\n",
      "Epoch 43/100\n",
      "\u001B[1m600/600\u001B[0m \u001B[32m━━━━━━━━━━━━━━━━━━━━\u001B[0m\u001B[37m\u001B[0m \u001B[1m0s\u001B[0m 649us/step - accuracy: 0.9518 - loss: 0.1667\n",
      "Epoch 44/100\n",
      "\u001B[1m600/600\u001B[0m \u001B[32m━━━━━━━━━━━━━━━━━━━━\u001B[0m\u001B[37m\u001B[0m \u001B[1m0s\u001B[0m 638us/step - accuracy: 0.9517 - loss: 0.1660\n",
      "Epoch 45/100\n",
      "\u001B[1m600/600\u001B[0m \u001B[32m━━━━━━━━━━━━━━━━━━━━\u001B[0m\u001B[37m\u001B[0m \u001B[1m0s\u001B[0m 633us/step - accuracy: 0.9520 - loss: 0.1653\n",
      "Epoch 46/100\n",
      "\u001B[1m600/600\u001B[0m \u001B[32m━━━━━━━━━━━━━━━━━━━━\u001B[0m\u001B[37m\u001B[0m \u001B[1m0s\u001B[0m 639us/step - accuracy: 0.9526 - loss: 0.1647\n",
      "Epoch 47/100\n",
      "\u001B[1m600/600\u001B[0m \u001B[32m━━━━━━━━━━━━━━━━━━━━\u001B[0m\u001B[37m\u001B[0m \u001B[1m0s\u001B[0m 644us/step - accuracy: 0.9528 - loss: 0.1641\n",
      "Epoch 48/100\n",
      "\u001B[1m600/600\u001B[0m \u001B[32m━━━━━━━━━━━━━━━━━━━━\u001B[0m\u001B[37m\u001B[0m \u001B[1m0s\u001B[0m 627us/step - accuracy: 0.9530 - loss: 0.1634\n",
      "Epoch 49/100\n",
      "\u001B[1m600/600\u001B[0m \u001B[32m━━━━━━━━━━━━━━━━━━━━\u001B[0m\u001B[37m\u001B[0m \u001B[1m0s\u001B[0m 639us/step - accuracy: 0.9532 - loss: 0.1629\n",
      "Epoch 50/100\n",
      "\u001B[1m600/600\u001B[0m \u001B[32m━━━━━━━━━━━━━━━━━━━━\u001B[0m\u001B[37m\u001B[0m \u001B[1m0s\u001B[0m 644us/step - accuracy: 0.9534 - loss: 0.1623\n",
      "Epoch 51/100\n",
      "\u001B[1m600/600\u001B[0m \u001B[32m━━━━━━━━━━━━━━━━━━━━\u001B[0m\u001B[37m\u001B[0m \u001B[1m0s\u001B[0m 645us/step - accuracy: 0.9535 - loss: 0.1617\n",
      "Epoch 52/100\n",
      "\u001B[1m600/600\u001B[0m \u001B[32m━━━━━━━━━━━━━━━━━━━━\u001B[0m\u001B[37m\u001B[0m \u001B[1m0s\u001B[0m 636us/step - accuracy: 0.9538 - loss: 0.1612\n",
      "Epoch 53/100\n",
      "\u001B[1m600/600\u001B[0m \u001B[32m━━━━━━━━━━━━━━━━━━━━\u001B[0m\u001B[37m\u001B[0m \u001B[1m0s\u001B[0m 628us/step - accuracy: 0.9538 - loss: 0.1605\n",
      "Epoch 54/100\n",
      "\u001B[1m600/600\u001B[0m \u001B[32m━━━━━━━━━━━━━━━━━━━━\u001B[0m\u001B[37m\u001B[0m \u001B[1m0s\u001B[0m 645us/step - accuracy: 0.9538 - loss: 0.1601\n",
      "Epoch 55/100\n",
      "\u001B[1m600/600\u001B[0m \u001B[32m━━━━━━━━━━━━━━━━━━━━\u001B[0m\u001B[37m\u001B[0m \u001B[1m0s\u001B[0m 643us/step - accuracy: 0.9540 - loss: 0.1597\n",
      "Epoch 56/100\n",
      "\u001B[1m600/600\u001B[0m \u001B[32m━━━━━━━━━━━━━━━━━━━━\u001B[0m\u001B[37m\u001B[0m \u001B[1m0s\u001B[0m 639us/step - accuracy: 0.9545 - loss: 0.1590\n",
      "Epoch 57/100\n",
      "\u001B[1m600/600\u001B[0m \u001B[32m━━━━━━━━━━━━━━━━━━━━\u001B[0m\u001B[37m\u001B[0m \u001B[1m0s\u001B[0m 643us/step - accuracy: 0.9544 - loss: 0.1584\n",
      "Epoch 58/100\n",
      "\u001B[1m600/600\u001B[0m \u001B[32m━━━━━━━━━━━━━━━━━━━━\u001B[0m\u001B[37m\u001B[0m \u001B[1m0s\u001B[0m 640us/step - accuracy: 0.9550 - loss: 0.1579\n",
      "Epoch 59/100\n",
      "\u001B[1m600/600\u001B[0m \u001B[32m━━━━━━━━━━━━━━━━━━━━\u001B[0m\u001B[37m\u001B[0m \u001B[1m0s\u001B[0m 631us/step - accuracy: 0.9548 - loss: 0.1574\n",
      "Epoch 60/100\n",
      "\u001B[1m600/600\u001B[0m \u001B[32m━━━━━━━━━━━━━━━━━━━━\u001B[0m\u001B[37m\u001B[0m \u001B[1m0s\u001B[0m 640us/step - accuracy: 0.9548 - loss: 0.1569\n",
      "Epoch 61/100\n",
      "\u001B[1m600/600\u001B[0m \u001B[32m━━━━━━━━━━━━━━━━━━━━\u001B[0m\u001B[37m\u001B[0m \u001B[1m0s\u001B[0m 640us/step - accuracy: 0.9550 - loss: 0.1564\n",
      "Epoch 62/100\n",
      "\u001B[1m600/600\u001B[0m \u001B[32m━━━━━━━━━━━━━━━━━━━━\u001B[0m\u001B[37m\u001B[0m \u001B[1m0s\u001B[0m 633us/step - accuracy: 0.9553 - loss: 0.1559\n",
      "Epoch 63/100\n",
      "\u001B[1m600/600\u001B[0m \u001B[32m━━━━━━━━━━━━━━━━━━━━\u001B[0m\u001B[37m\u001B[0m \u001B[1m0s\u001B[0m 639us/step - accuracy: 0.9554 - loss: 0.1554\n",
      "Epoch 64/100\n",
      "\u001B[1m600/600\u001B[0m \u001B[32m━━━━━━━━━━━━━━━━━━━━\u001B[0m\u001B[37m\u001B[0m \u001B[1m0s\u001B[0m 639us/step - accuracy: 0.9554 - loss: 0.1552\n",
      "Epoch 65/100\n",
      "\u001B[1m600/600\u001B[0m \u001B[32m━━━━━━━━━━━━━━━━━━━━\u001B[0m\u001B[37m\u001B[0m \u001B[1m0s\u001B[0m 645us/step - accuracy: 0.9558 - loss: 0.1545\n",
      "Epoch 66/100\n",
      "\u001B[1m600/600\u001B[0m \u001B[32m━━━━━━━━━━━━━━━━━━━━\u001B[0m\u001B[37m\u001B[0m \u001B[1m0s\u001B[0m 633us/step - accuracy: 0.9559 - loss: 0.1542\n",
      "Epoch 67/100\n",
      "\u001B[1m600/600\u001B[0m \u001B[32m━━━━━━━━━━━━━━━━━━━━\u001B[0m\u001B[37m\u001B[0m \u001B[1m0s\u001B[0m 630us/step - accuracy: 0.9562 - loss: 0.1537\n",
      "Epoch 68/100\n",
      "\u001B[1m600/600\u001B[0m \u001B[32m━━━━━━━━━━━━━━━━━━━━\u001B[0m\u001B[37m\u001B[0m \u001B[1m0s\u001B[0m 638us/step - accuracy: 0.9563 - loss: 0.1532\n",
      "Epoch 69/100\n",
      "\u001B[1m600/600\u001B[0m \u001B[32m━━━━━━━━━━━━━━━━━━━━\u001B[0m\u001B[37m\u001B[0m \u001B[1m0s\u001B[0m 640us/step - accuracy: 0.9567 - loss: 0.1527\n",
      "Epoch 70/100\n",
      "\u001B[1m600/600\u001B[0m \u001B[32m━━━━━━━━━━━━━━━━━━━━\u001B[0m\u001B[37m\u001B[0m \u001B[1m0s\u001B[0m 654us/step - accuracy: 0.9567 - loss: 0.1524\n",
      "Epoch 71/100\n",
      "\u001B[1m600/600\u001B[0m \u001B[32m━━━━━━━━━━━━━━━━━━━━\u001B[0m\u001B[37m\u001B[0m \u001B[1m0s\u001B[0m 638us/step - accuracy: 0.9571 - loss: 0.1517\n",
      "Epoch 72/100\n",
      "\u001B[1m600/600\u001B[0m \u001B[32m━━━━━━━━━━━━━━━━━━━━\u001B[0m\u001B[37m\u001B[0m \u001B[1m0s\u001B[0m 638us/step - accuracy: 0.9574 - loss: 0.1513\n",
      "Epoch 73/100\n",
      "\u001B[1m600/600\u001B[0m \u001B[32m━━━━━━━━━━━━━━━━━━━━\u001B[0m\u001B[37m\u001B[0m \u001B[1m0s\u001B[0m 629us/step - accuracy: 0.9575 - loss: 0.1509\n",
      "Epoch 74/100\n",
      "\u001B[1m600/600\u001B[0m \u001B[32m━━━━━━━━━━━━━━━━━━━━\u001B[0m\u001B[37m\u001B[0m \u001B[1m0s\u001B[0m 636us/step - accuracy: 0.9576 - loss: 0.1505\n",
      "Epoch 75/100\n",
      "\u001B[1m600/600\u001B[0m \u001B[32m━━━━━━━━━━━━━━━━━━━━\u001B[0m\u001B[37m\u001B[0m \u001B[1m0s\u001B[0m 646us/step - accuracy: 0.9580 - loss: 0.1501\n",
      "Epoch 76/100\n",
      "\u001B[1m600/600\u001B[0m \u001B[32m━━━━━━━━━━━━━━━━━━━━\u001B[0m\u001B[37m\u001B[0m \u001B[1m0s\u001B[0m 635us/step - accuracy: 0.9579 - loss: 0.1497\n",
      "Epoch 77/100\n",
      "\u001B[1m600/600\u001B[0m \u001B[32m━━━━━━━━━━━━━━━━━━━━\u001B[0m\u001B[37m\u001B[0m \u001B[1m0s\u001B[0m 634us/step - accuracy: 0.9582 - loss: 0.1493\n",
      "Epoch 78/100\n",
      "\u001B[1m600/600\u001B[0m \u001B[32m━━━━━━━━━━━━━━━━━━━━\u001B[0m\u001B[37m\u001B[0m \u001B[1m0s\u001B[0m 641us/step - accuracy: 0.9584 - loss: 0.1489\n",
      "Epoch 79/100\n",
      "\u001B[1m600/600\u001B[0m \u001B[32m━━━━━━━━━━━━━━━━━━━━\u001B[0m\u001B[37m\u001B[0m \u001B[1m0s\u001B[0m 648us/step - accuracy: 0.9581 - loss: 0.1485\n",
      "Epoch 80/100\n",
      "\u001B[1m600/600\u001B[0m \u001B[32m━━━━━━━━━━━━━━━━━━━━\u001B[0m\u001B[37m\u001B[0m \u001B[1m0s\u001B[0m 634us/step - accuracy: 0.9588 - loss: 0.1481\n",
      "Epoch 81/100\n",
      "\u001B[1m600/600\u001B[0m \u001B[32m━━━━━━━━━━━━━━━━━━━━\u001B[0m\u001B[37m\u001B[0m \u001B[1m0s\u001B[0m 634us/step - accuracy: 0.9588 - loss: 0.1476\n",
      "Epoch 82/100\n",
      "\u001B[1m600/600\u001B[0m \u001B[32m━━━━━━━━━━━━━━━━━━━━\u001B[0m\u001B[37m\u001B[0m \u001B[1m0s\u001B[0m 632us/step - accuracy: 0.9588 - loss: 0.1472\n",
      "Epoch 83/100\n",
      "\u001B[1m600/600\u001B[0m \u001B[32m━━━━━━━━━━━━━━━━━━━━\u001B[0m\u001B[37m\u001B[0m \u001B[1m0s\u001B[0m 629us/step - accuracy: 0.9589 - loss: 0.1468\n",
      "Epoch 84/100\n",
      "\u001B[1m600/600\u001B[0m \u001B[32m━━━━━━━━━━━━━━━━━━━━\u001B[0m\u001B[37m\u001B[0m \u001B[1m0s\u001B[0m 641us/step - accuracy: 0.9590 - loss: 0.1466\n",
      "Epoch 85/100\n",
      "\u001B[1m600/600\u001B[0m \u001B[32m━━━━━━━━━━━━━━━━━━━━\u001B[0m\u001B[37m\u001B[0m \u001B[1m0s\u001B[0m 647us/step - accuracy: 0.9591 - loss: 0.1462\n",
      "Epoch 86/100\n",
      "\u001B[1m600/600\u001B[0m \u001B[32m━━━━━━━━━━━━━━━━━━━━\u001B[0m\u001B[37m\u001B[0m \u001B[1m0s\u001B[0m 627us/step - accuracy: 0.9593 - loss: 0.1457\n",
      "Epoch 87/100\n",
      "\u001B[1m600/600\u001B[0m \u001B[32m━━━━━━━━━━━━━━━━━━━━\u001B[0m\u001B[37m\u001B[0m \u001B[1m0s\u001B[0m 628us/step - accuracy: 0.9596 - loss: 0.1453\n",
      "Epoch 88/100\n",
      "\u001B[1m600/600\u001B[0m \u001B[32m━━━━━━━━━━━━━━━━━━━━\u001B[0m\u001B[37m\u001B[0m \u001B[1m0s\u001B[0m 629us/step - accuracy: 0.9595 - loss: 0.1449\n",
      "Epoch 89/100\n",
      "\u001B[1m600/600\u001B[0m \u001B[32m━━━━━━━━━━━━━━━━━━━━\u001B[0m\u001B[37m\u001B[0m \u001B[1m0s\u001B[0m 645us/step - accuracy: 0.9595 - loss: 0.1447\n",
      "Epoch 90/100\n",
      "\u001B[1m600/600\u001B[0m \u001B[32m━━━━━━━━━━━━━━━━━━━━\u001B[0m\u001B[37m\u001B[0m \u001B[1m0s\u001B[0m 641us/step - accuracy: 0.9594 - loss: 0.1444\n",
      "Epoch 91/100\n",
      "\u001B[1m600/600\u001B[0m \u001B[32m━━━━━━━━━━━━━━━━━━━━\u001B[0m\u001B[37m\u001B[0m \u001B[1m0s\u001B[0m 643us/step - accuracy: 0.9595 - loss: 0.1440\n",
      "Epoch 92/100\n",
      "\u001B[1m600/600\u001B[0m \u001B[32m━━━━━━━━━━━━━━━━━━━━\u001B[0m\u001B[37m\u001B[0m \u001B[1m0s\u001B[0m 636us/step - accuracy: 0.9598 - loss: 0.1438\n",
      "Epoch 93/100\n",
      "\u001B[1m600/600\u001B[0m \u001B[32m━━━━━━━━━━━━━━━━━━━━\u001B[0m\u001B[37m\u001B[0m \u001B[1m0s\u001B[0m 630us/step - accuracy: 0.9596 - loss: 0.1435\n",
      "Epoch 94/100\n",
      "\u001B[1m600/600\u001B[0m \u001B[32m━━━━━━━━━━━━━━━━━━━━\u001B[0m\u001B[37m\u001B[0m \u001B[1m0s\u001B[0m 644us/step - accuracy: 0.9600 - loss: 0.1431\n",
      "Epoch 95/100\n",
      "\u001B[1m600/600\u001B[0m \u001B[32m━━━━━━━━━━━━━━━━━━━━\u001B[0m\u001B[37m\u001B[0m \u001B[1m0s\u001B[0m 637us/step - accuracy: 0.9601 - loss: 0.1428\n",
      "Epoch 96/100\n",
      "\u001B[1m600/600\u001B[0m \u001B[32m━━━━━━━━━━━━━━━━━━━━\u001B[0m\u001B[37m\u001B[0m \u001B[1m0s\u001B[0m 639us/step - accuracy: 0.9601 - loss: 0.1426\n",
      "Epoch 97/100\n",
      "\u001B[1m600/600\u001B[0m \u001B[32m━━━━━━━━━━━━━━━━━━━━\u001B[0m\u001B[37m\u001B[0m \u001B[1m0s\u001B[0m 642us/step - accuracy: 0.9599 - loss: 0.1423\n",
      "Epoch 98/100\n",
      "\u001B[1m600/600\u001B[0m \u001B[32m━━━━━━━━━━━━━━━━━━━━\u001B[0m\u001B[37m\u001B[0m \u001B[1m0s\u001B[0m 635us/step - accuracy: 0.9606 - loss: 0.1420\n",
      "Epoch 99/100\n",
      "\u001B[1m600/600\u001B[0m \u001B[32m━━━━━━━━━━━━━━━━━━━━\u001B[0m\u001B[37m\u001B[0m \u001B[1m0s\u001B[0m 635us/step - accuracy: 0.9603 - loss: 0.1418\n",
      "Epoch 100/100\n",
      "\u001B[1m600/600\u001B[0m \u001B[32m━━━━━━━━━━━━━━━━━━━━\u001B[0m\u001B[37m\u001B[0m \u001B[1m0s\u001B[0m 635us/step - accuracy: 0.9604 - loss: 0.1414\n"
     ]
    }
   ],
   "execution_count": 15
  },
  {
   "cell_type": "markdown",
   "metadata": {},
   "source": [
    "Plot the training accuracy vs. epochs. The accuracy is stored in the `history.history` dictionary with key `'accuracy'`."
   ]
  },
  {
   "cell_type": "code",
   "metadata": {
    "ExecuteTime": {
     "end_time": "2024-12-27T23:55:26.468029Z",
     "start_time": "2024-12-27T23:55:26.408056Z"
    }
   },
   "source": [
    "history_dict = history.history\n",
    "acc = history_dict['accuracy']\n",
    "epochs = history.epoch\n",
    "plt.plot(epochs, acc)\n",
    "plt.title('Training Accuracy')\n",
    "plt.xlabel('Epochs')\n",
    "plt.show()"
   ],
   "outputs": [
    {
     "data": {
      "text/plain": [
       "<Figure size 640x480 with 1 Axes>"
      ],
      "image/png": "[encoded data removed]"
     },
     "metadata": {},
     "output_type": "display_data"
    }
   ],
   "execution_count": 16
  },
  {
   "cell_type": "markdown",
   "metadata": {},
   "source": [
    "# Evaluate the Trained Model\n",
    "\n",
    "We can use the evaluate method on the testing data to see how well the model will generalize."
   ]
  },
  {
   "cell_type": "code",
   "metadata": {
    "ExecuteTime": {
     "end_time": "2024-12-27T23:55:26.867651Z",
     "start_time": "2024-12-27T23:55:26.574318Z"
    }
   },
   "source": [
    "score = model1.evaluate(test_dataset, verbose=0)\n",
    "print(\"Test loss:\", score[0])\n",
    "print(\"Test accuracy:\", score[1])"
   ],
   "outputs": [
    {
     "name": "stdout",
     "output_type": "stream",
     "text": [
      "Test loss: 0.24712806940078735\n",
      "Test accuracy: 0.9323999881744385\n"
     ]
    }
   ],
   "execution_count": 17
  },
  {
   "cell_type": "markdown",
   "metadata": {},
   "source": [
    "# Using Callbacks\n",
    "\n",
    "When using the fit method, it is possible to assign **callbacks**, which perform certain opertions during the training process. You can find more about callbacks [here](https://keras.io/api/callbacks/) and [here](https://www.tensorflow.org/api_docs/python/tf/keras/callbacks). \n",
    "\n",
    "You will remember from the Python Lab 1 that we built a learning rate method that updated the learning rate during the training process. We can do the same thing in TensorFlow using the `LearningRateScheduler` callback. \n",
    "\n",
    "First, let's define the same learning rate schedule class that we used in the Python Lab 1."
   ]
  },
  {
   "cell_type": "code",
   "metadata": {
    "ExecuteTime": {
     "end_time": "2024-12-27T23:55:26.936718Z",
     "start_time": "2024-12-27T23:55:26.933806Z"
    }
   },
   "source": [
    "class lr_inc_dec:\n",
    "    def __init__(self, lr_0=0.001, lr_0_steps=5, lr_max = 0.005, lr_max_steps = 5, lr_min=0.0005, lr_decay=0.9):\n",
    "        self.lr_0         = lr_0\n",
    "        self.lr_max       = lr_max\n",
    "        self.lr_0_steps   = lr_0_steps\n",
    "        self.lr_max_steps = lr_max_steps\n",
    "        self.lr_min       = lr_min\n",
    "        self.lr_decay     = lr_decay\n",
    "        \n",
    "    def __call__(self, epoch):\n",
    "        if epoch < self.lr_0_steps:\n",
    "            self.lr = self.lr_0 + (self.lr_max - self.lr_0)*epoch/self.lr_0_steps\n",
    "        elif epoch < self.lr_0_steps + self.lr_max_steps:\n",
    "            self.lr = self.lr_max\n",
    "        else:\n",
    "            self.lr = self.lr_min + (self.lr_max - self.lr_min)*self.lr_decay**(epoch - self.lr_0_steps - self.lr_max_steps)\n",
    " \n",
    "        return self.lr"
   ],
   "outputs": [],
   "execution_count": 18
  },
  {
   "cell_type": "code",
   "metadata": {
    "ExecuteTime": {
     "end_time": "2024-12-27T23:55:26.995925Z",
     "start_time": "2024-12-27T23:55:26.994144Z"
    }
   },
   "source": [
    "lr_scheduler = lr_inc_dec(lr_0=0.0005, lr_0_steps=10, lr_max = 0.002, lr_max_steps = 5, lr_min=0.001, lr_decay=0.95)"
   ],
   "outputs": [],
   "execution_count": 19
  },
  {
   "cell_type": "markdown",
   "metadata": {},
   "source": [
    "Now import the `LearningRateScheduler` from `tensorflow.keras.callbacks`."
   ]
  },
  {
   "cell_type": "code",
   "metadata": {
    "ExecuteTime": {
     "end_time": "2024-12-27T23:55:27.056798Z",
     "start_time": "2024-12-27T23:55:27.054174Z"
    }
   },
   "source": [
    "from tensorflow.keras.callbacks import LearningRateScheduler"
   ],
   "outputs": [],
   "execution_count": 20
  },
  {
   "cell_type": "markdown",
   "metadata": {},
   "source": [
    "To access the scheduler during training, we add the following argument to the fit method: `callbacks=[]`, where inside the braces is a list of callbacks. In this case, there is only one callback, which should be `LearningRateScheduler(lr_scheduler, verbose=1)`. Here we have passed the scheduler we defined into the `LearningRateScheduler`. By using `verbose=1`, we can monitor the progress of the learning rate during training.\n",
    "\n",
    "Make a new model."
   ]
  },
  {
   "cell_type": "code",
   "metadata": {
    "ExecuteTime": {
     "end_time": "2024-12-27T23:55:27.169260Z",
     "start_time": "2024-12-27T23:55:27.154317Z"
    }
   },
   "source": [
    "model2 = make_model()"
   ],
   "outputs": [],
   "execution_count": 21
  },
  {
   "cell_type": "markdown",
   "metadata": {},
   "source": [
    "Compile the model, with the adam optimizer, categorical_crossentropy loss and accuracy metric."
   ]
  },
  {
   "cell_type": "code",
   "metadata": {
    "ExecuteTime": {
     "end_time": "2024-12-27T23:55:27.240401Z",
     "start_time": "2024-12-27T23:55:27.236490Z"
    }
   },
   "source": [
    "model2.compile(optimizer='adam',loss='categorical_crossentropy', metrics=['accuracy'])"
   ],
   "outputs": [],
   "execution_count": 22
  },
  {
   "cell_type": "markdown",
   "metadata": {},
   "source": [
    "Train the model with the `fit` method for 100 epochs, and use the `LearningRateScheduler` callback."
   ]
  },
  {
   "cell_type": "code",
   "metadata": {
    "scrolled": true,
    "ExecuteTime": {
     "end_time": "2024-12-27T23:56:06.553820Z",
     "start_time": "2024-12-27T23:55:27.400015Z"
    }
   },
   "source": [
    "history = model2.fit(train_dataset, epochs=100, callbacks=[LearningRateScheduler(lr_scheduler, verbose=1)])"
   ],
   "outputs": [
    {
     "name": "stdout",
     "output_type": "stream",
     "text": [
      "\n",
      "Epoch 1: LearningRateScheduler setting learning rate to 0.0005.\n",
      "Epoch 1/100\n",
      "\u001B[1m600/600\u001B[0m \u001B[32m━━━━━━━━━━━━━━━━━━━━\u001B[0m\u001B[37m\u001B[0m \u001B[1m1s\u001B[0m 644us/step - accuracy: 0.4092 - loss: 1.7453 - learning_rate: 5.0000e-04\n",
      "\n",
      "Epoch 2: LearningRateScheduler setting learning rate to 0.00065.\n",
      "Epoch 2/100\n",
      "\u001B[1m600/600\u001B[0m \u001B[32m━━━━━━━━━━━━━━━━━━━━\u001B[0m\u001B[37m\u001B[0m \u001B[1m0s\u001B[0m 643us/step - accuracy: 0.8629 - loss: 0.5172 - learning_rate: 6.5000e-04\n",
      "\n",
      "Epoch 3: LearningRateScheduler setting learning rate to 0.0008.\n",
      "Epoch 3/100\n",
      "\u001B[1m600/600\u001B[0m \u001B[32m━━━━━━━━━━━━━━━━━━━━\u001B[0m\u001B[37m\u001B[0m \u001B[1m0s\u001B[0m 641us/step - accuracy: 0.8995 - loss: 0.3647 - learning_rate: 8.0000e-04\n",
      "\n",
      "Epoch 4: LearningRateScheduler setting learning rate to 0.0009500000000000001.\n",
      "Epoch 4/100\n",
      "\u001B[1m600/600\u001B[0m \u001B[32m━━━━━━━━━━━━━━━━━━━━\u001B[0m\u001B[37m\u001B[0m \u001B[1m0s\u001B[0m 645us/step - accuracy: 0.9113 - loss: 0.3194 - learning_rate: 9.5000e-04\n",
      "\n",
      "Epoch 5: LearningRateScheduler setting learning rate to 0.0011.\n",
      "Epoch 5/100\n",
      "\u001B[1m600/600\u001B[0m \u001B[32m━━━━━━━━━━━━━━━━━━━━\u001B[0m\u001B[37m\u001B[0m \u001B[1m0s\u001B[0m 633us/step - accuracy: 0.9193 - loss: 0.2949 - learning_rate: 0.0011\n",
      "\n",
      "Epoch 6: LearningRateScheduler setting learning rate to 0.00125.\n",
      "Epoch 6/100\n",
      "\u001B[1m600/600\u001B[0m \u001B[32m━━━━━━━━━━━━━━━━━━━━\u001B[0m\u001B[37m\u001B[0m \u001B[1m0s\u001B[0m 633us/step - accuracy: 0.9229 - loss: 0.2778 - learning_rate: 0.0012\n",
      "\n",
      "Epoch 7: LearningRateScheduler setting learning rate to 0.0014000000000000002.\n",
      "Epoch 7/100\n",
      "\u001B[1m600/600\u001B[0m \u001B[32m━━━━━━━━━━━━━━━━━━━━\u001B[0m\u001B[37m\u001B[0m \u001B[1m0s\u001B[0m 629us/step - accuracy: 0.9257 - loss: 0.2641 - learning_rate: 0.0014\n",
      "\n",
      "Epoch 8: LearningRateScheduler setting learning rate to 0.0015500000000000002.\n",
      "Epoch 8/100\n",
      "\u001B[1m600/600\u001B[0m \u001B[32m━━━━━━━━━━━━━━━━━━━━\u001B[0m\u001B[37m\u001B[0m \u001B[1m0s\u001B[0m 639us/step - accuracy: 0.9295 - loss: 0.2533 - learning_rate: 0.0016\n",
      "\n",
      "Epoch 9: LearningRateScheduler setting learning rate to 0.0017000000000000001.\n",
      "Epoch 9/100\n",
      "\u001B[1m600/600\u001B[0m \u001B[32m━━━━━━━━━━━━━━━━━━━━\u001B[0m\u001B[37m\u001B[0m \u001B[1m0s\u001B[0m 641us/step - accuracy: 0.9315 - loss: 0.2444 - learning_rate: 0.0017\n",
      "\n",
      "Epoch 10: LearningRateScheduler setting learning rate to 0.00185.\n",
      "Epoch 10/100\n",
      "\u001B[1m600/600\u001B[0m \u001B[32m━━━━━━━━━━━━━━━━━━━━\u001B[0m\u001B[37m\u001B[0m \u001B[1m0s\u001B[0m 629us/step - accuracy: 0.9332 - loss: 0.2365 - learning_rate: 0.0019\n",
      "\n",
      "Epoch 11: LearningRateScheduler setting learning rate to 0.002.\n",
      "Epoch 11/100\n",
      "\u001B[1m600/600\u001B[0m \u001B[32m━━━━━━━━━━━━━━━━━━━━\u001B[0m\u001B[37m\u001B[0m \u001B[1m0s\u001B[0m 643us/step - accuracy: 0.9350 - loss: 0.2302 - learning_rate: 0.0020\n",
      "\n",
      "Epoch 12: LearningRateScheduler setting learning rate to 0.002.\n",
      "Epoch 12/100\n",
      "\u001B[1m600/600\u001B[0m \u001B[32m━━━━━━━━━━━━━━━━━━━━\u001B[0m\u001B[37m\u001B[0m \u001B[1m0s\u001B[0m 621us/step - accuracy: 0.9375 - loss: 0.2232 - learning_rate: 0.0020\n",
      "\n",
      "Epoch 13: LearningRateScheduler setting learning rate to 0.002.\n",
      "Epoch 13/100\n",
      "\u001B[1m600/600\u001B[0m \u001B[32m━━━━━━━━━━━━━━━━━━━━\u001B[0m\u001B[37m\u001B[0m \u001B[1m0s\u001B[0m 623us/step - accuracy: 0.9388 - loss: 0.2172 - learning_rate: 0.0020\n",
      "\n",
      "Epoch 14: LearningRateScheduler setting learning rate to 0.002.\n",
      "Epoch 14/100\n",
      "\u001B[1m600/600\u001B[0m \u001B[32m━━━━━━━━━━━━━━━━━━━━\u001B[0m\u001B[37m\u001B[0m \u001B[1m0s\u001B[0m 635us/step - accuracy: 0.9396 - loss: 0.2117 - learning_rate: 0.0020\n",
      "\n",
      "Epoch 15: LearningRateScheduler setting learning rate to 0.002.\n",
      "Epoch 15/100\n",
      "\u001B[1m600/600\u001B[0m \u001B[32m━━━━━━━━━━━━━━━━━━━━\u001B[0m\u001B[37m\u001B[0m \u001B[1m0s\u001B[0m 638us/step - accuracy: 0.9408 - loss: 0.2073 - learning_rate: 0.0020\n",
      "\n",
      "Epoch 16: LearningRateScheduler setting learning rate to 0.002.\n",
      "Epoch 16/100\n",
      "\u001B[1m600/600\u001B[0m \u001B[32m━━━━━━━━━━━━━━━━━━━━\u001B[0m\u001B[37m\u001B[0m \u001B[1m0s\u001B[0m 636us/step - accuracy: 0.9415 - loss: 0.2035 - learning_rate: 0.0020\n",
      "\n",
      "Epoch 17: LearningRateScheduler setting learning rate to 0.00195.\n",
      "Epoch 17/100\n",
      "\u001B[1m600/600\u001B[0m \u001B[32m━━━━━━━━━━━━━━━━━━━━\u001B[0m\u001B[37m\u001B[0m \u001B[1m0s\u001B[0m 641us/step - accuracy: 0.9425 - loss: 0.1999 - learning_rate: 0.0019\n",
      "\n",
      "Epoch 18: LearningRateScheduler setting learning rate to 0.0019025000000000001.\n",
      "Epoch 18/100\n",
      "\u001B[1m600/600\u001B[0m \u001B[32m━━━━━━━━━━━━━━━━━━━━\u001B[0m\u001B[37m\u001B[0m \u001B[1m0s\u001B[0m 640us/step - accuracy: 0.9442 - loss: 0.1967 - learning_rate: 0.0019\n",
      "\n",
      "Epoch 19: LearningRateScheduler setting learning rate to 0.001857375.\n",
      "Epoch 19/100\n",
      "\u001B[1m600/600\u001B[0m \u001B[32m━━━━━━━━━━━━━━━━━━━━\u001B[0m\u001B[37m\u001B[0m \u001B[1m0s\u001B[0m 639us/step - accuracy: 0.9451 - loss: 0.1938 - learning_rate: 0.0019\n",
      "\n",
      "Epoch 20: LearningRateScheduler setting learning rate to 0.0018145062499999999.\n",
      "Epoch 20/100\n",
      "\u001B[1m600/600\u001B[0m \u001B[32m━━━━━━━━━━━━━━━━━━━━\u001B[0m\u001B[37m\u001B[0m \u001B[1m0s\u001B[0m 639us/step - accuracy: 0.9460 - loss: 0.1912 - learning_rate: 0.0018\n",
      "\n",
      "Epoch 21: LearningRateScheduler setting learning rate to 0.0017737809375.\n",
      "Epoch 21/100\n",
      "\u001B[1m600/600\u001B[0m \u001B[32m━━━━━━━━━━━━━━━━━━━━\u001B[0m\u001B[37m\u001B[0m \u001B[1m0s\u001B[0m 645us/step - accuracy: 0.9466 - loss: 0.1889 - learning_rate: 0.0018\n",
      "\n",
      "Epoch 22: LearningRateScheduler setting learning rate to 0.0017350918906249998.\n",
      "Epoch 22/100\n",
      "\u001B[1m600/600\u001B[0m \u001B[32m━━━━━━━━━━━━━━━━━━━━\u001B[0m\u001B[37m\u001B[0m \u001B[1m0s\u001B[0m 631us/step - accuracy: 0.9476 - loss: 0.1864 - learning_rate: 0.0017\n",
      "\n",
      "Epoch 23: LearningRateScheduler setting learning rate to 0.0016983372960937496.\n",
      "Epoch 23/100\n",
      "\u001B[1m600/600\u001B[0m \u001B[32m━━━━━━━━━━━━━━━━━━━━\u001B[0m\u001B[37m\u001B[0m \u001B[1m0s\u001B[0m 633us/step - accuracy: 0.9483 - loss: 0.1842 - learning_rate: 0.0017\n",
      "\n",
      "Epoch 24: LearningRateScheduler setting learning rate to 0.0016634204312890623.\n",
      "Epoch 24/100\n",
      "\u001B[1m600/600\u001B[0m \u001B[32m━━━━━━━━━━━━━━━━━━━━\u001B[0m\u001B[37m\u001B[0m \u001B[1m0s\u001B[0m 635us/step - accuracy: 0.9489 - loss: 0.1821 - learning_rate: 0.0017\n",
      "\n",
      "Epoch 25: LearningRateScheduler setting learning rate to 0.0016302494097246091.\n",
      "Epoch 25/100\n",
      "\u001B[1m600/600\u001B[0m \u001B[32m━━━━━━━━━━━━━━━━━━━━\u001B[0m\u001B[37m\u001B[0m \u001B[1m0s\u001B[0m 633us/step - accuracy: 0.9489 - loss: 0.1802 - learning_rate: 0.0016\n",
      "\n",
      "Epoch 26: LearningRateScheduler setting learning rate to 0.0015987369392383788.\n",
      "Epoch 26/100\n",
      "\u001B[1m600/600\u001B[0m \u001B[32m━━━━━━━━━━━━━━━━━━━━\u001B[0m\u001B[37m\u001B[0m \u001B[1m0s\u001B[0m 626us/step - accuracy: 0.9494 - loss: 0.1786 - learning_rate: 0.0016\n",
      "\n",
      "Epoch 27: LearningRateScheduler setting learning rate to 0.0015688000922764597.\n",
      "Epoch 27/100\n",
      "\u001B[1m600/600\u001B[0m \u001B[32m━━━━━━━━━━━━━━━━━━━━\u001B[0m\u001B[37m\u001B[0m \u001B[1m0s\u001B[0m 634us/step - accuracy: 0.9498 - loss: 0.1770 - learning_rate: 0.0016\n",
      "\n",
      "Epoch 28: LearningRateScheduler setting learning rate to 0.0015403600876626366.\n",
      "Epoch 28/100\n",
      "\u001B[1m600/600\u001B[0m \u001B[32m━━━━━━━━━━━━━━━━━━━━\u001B[0m\u001B[37m\u001B[0m \u001B[1m0s\u001B[0m 636us/step - accuracy: 0.9502 - loss: 0.1755 - learning_rate: 0.0015\n",
      "\n",
      "Epoch 29: LearningRateScheduler setting learning rate to 0.0015133420832795048.\n",
      "Epoch 29/100\n",
      "\u001B[1m600/600\u001B[0m \u001B[32m━━━━━━━━━━━━━━━━━━━━\u001B[0m\u001B[37m\u001B[0m \u001B[1m0s\u001B[0m 637us/step - accuracy: 0.9505 - loss: 0.1738 - learning_rate: 0.0015\n",
      "\n",
      "Epoch 30: LearningRateScheduler setting learning rate to 0.0014876749791155296.\n",
      "Epoch 30/100\n",
      "\u001B[1m600/600\u001B[0m \u001B[32m━━━━━━━━━━━━━━━━━━━━\u001B[0m\u001B[37m\u001B[0m \u001B[1m0s\u001B[0m 636us/step - accuracy: 0.9511 - loss: 0.1726 - learning_rate: 0.0015\n",
      "\n",
      "Epoch 31: LearningRateScheduler setting learning rate to 0.001463291230159753.\n",
      "Epoch 31/100\n",
      "\u001B[1m600/600\u001B[0m \u001B[32m━━━━━━━━━━━━━━━━━━━━\u001B[0m\u001B[37m\u001B[0m \u001B[1m0s\u001B[0m 646us/step - accuracy: 0.9513 - loss: 0.1713 - learning_rate: 0.0015\n",
      "\n",
      "Epoch 32: LearningRateScheduler setting learning rate to 0.0014401266686517654.\n",
      "Epoch 32/100\n",
      "\u001B[1m600/600\u001B[0m \u001B[32m━━━━━━━━━━━━━━━━━━━━\u001B[0m\u001B[37m\u001B[0m \u001B[1m0s\u001B[0m 634us/step - accuracy: 0.9514 - loss: 0.1700 - learning_rate: 0.0014\n",
      "\n",
      "Epoch 33: LearningRateScheduler setting learning rate to 0.0014181203352191772.\n",
      "Epoch 33/100\n",
      "\u001B[1m600/600\u001B[0m \u001B[32m━━━━━━━━━━━━━━━━━━━━\u001B[0m\u001B[37m\u001B[0m \u001B[1m0s\u001B[0m 642us/step - accuracy: 0.9519 - loss: 0.1686 - learning_rate: 0.0014\n",
      "\n",
      "Epoch 34: LearningRateScheduler setting learning rate to 0.0013972143184582183.\n",
      "Epoch 34/100\n",
      "\u001B[1m600/600\u001B[0m \u001B[32m━━━━━━━━━━━━━━━━━━━━\u001B[0m\u001B[37m\u001B[0m \u001B[1m0s\u001B[0m 644us/step - accuracy: 0.9524 - loss: 0.1675 - learning_rate: 0.0014\n",
      "\n",
      "Epoch 35: LearningRateScheduler setting learning rate to 0.0013773536025353072.\n",
      "Epoch 35/100\n",
      "\u001B[1m600/600\u001B[0m \u001B[32m━━━━━━━━━━━━━━━━━━━━\u001B[0m\u001B[37m\u001B[0m \u001B[1m0s\u001B[0m 639us/step - accuracy: 0.9524 - loss: 0.1665 - learning_rate: 0.0014\n",
      "\n",
      "Epoch 36: LearningRateScheduler setting learning rate to 0.001358485922408542.\n",
      "Epoch 36/100\n",
      "\u001B[1m600/600\u001B[0m \u001B[32m━━━━━━━━━━━━━━━━━━━━\u001B[0m\u001B[37m\u001B[0m \u001B[1m0s\u001B[0m 637us/step - accuracy: 0.9529 - loss: 0.1655 - learning_rate: 0.0014\n",
      "\n",
      "Epoch 37: LearningRateScheduler setting learning rate to 0.0013405616262881148.\n",
      "Epoch 37/100\n",
      "\u001B[1m600/600\u001B[0m \u001B[32m━━━━━━━━━━━━━━━━━━━━\u001B[0m\u001B[37m\u001B[0m \u001B[1m0s\u001B[0m 631us/step - accuracy: 0.9533 - loss: 0.1646 - learning_rate: 0.0013\n",
      "\n",
      "Epoch 38: LearningRateScheduler setting learning rate to 0.001323533544973709.\n",
      "Epoch 38/100\n",
      "\u001B[1m600/600\u001B[0m \u001B[32m━━━━━━━━━━━━━━━━━━━━\u001B[0m\u001B[37m\u001B[0m \u001B[1m0s\u001B[0m 647us/step - accuracy: 0.9535 - loss: 0.1635 - learning_rate: 0.0013\n",
      "\n",
      "Epoch 39: LearningRateScheduler setting learning rate to 0.0013073568677250235.\n",
      "Epoch 39/100\n",
      "\u001B[1m600/600\u001B[0m \u001B[32m━━━━━━━━━━━━━━━━━━━━\u001B[0m\u001B[37m\u001B[0m \u001B[1m0s\u001B[0m 638us/step - accuracy: 0.9536 - loss: 0.1626 - learning_rate: 0.0013\n",
      "\n",
      "Epoch 40: LearningRateScheduler setting learning rate to 0.0012919890243387724.\n",
      "Epoch 40/100\n",
      "\u001B[1m600/600\u001B[0m \u001B[32m━━━━━━━━━━━━━━━━━━━━\u001B[0m\u001B[37m\u001B[0m \u001B[1m0s\u001B[0m 636us/step - accuracy: 0.9540 - loss: 0.1617 - learning_rate: 0.0013\n",
      "\n",
      "Epoch 41: LearningRateScheduler setting learning rate to 0.0012773895731218337.\n",
      "Epoch 41/100\n",
      "\u001B[1m600/600\u001B[0m \u001B[32m━━━━━━━━━━━━━━━━━━━━\u001B[0m\u001B[37m\u001B[0m \u001B[1m0s\u001B[0m 634us/step - accuracy: 0.9540 - loss: 0.1608 - learning_rate: 0.0013\n",
      "\n",
      "Epoch 42: LearningRateScheduler setting learning rate to 0.001263520094465742.\n",
      "Epoch 42/100\n",
      "\u001B[1m600/600\u001B[0m \u001B[32m━━━━━━━━━━━━━━━━━━━━\u001B[0m\u001B[37m\u001B[0m \u001B[1m0s\u001B[0m 633us/step - accuracy: 0.9541 - loss: 0.1600 - learning_rate: 0.0013\n",
      "\n",
      "Epoch 43: LearningRateScheduler setting learning rate to 0.001250344089742455.\n",
      "Epoch 43/100\n",
      "\u001B[1m600/600\u001B[0m \u001B[32m━━━━━━━━━━━━━━━━━━━━\u001B[0m\u001B[37m\u001B[0m \u001B[1m0s\u001B[0m 631us/step - accuracy: 0.9543 - loss: 0.1592 - learning_rate: 0.0013\n",
      "\n",
      "Epoch 44: LearningRateScheduler setting learning rate to 0.0012378268852553322.\n",
      "Epoch 44/100\n",
      "\u001B[1m600/600\u001B[0m \u001B[32m━━━━━━━━━━━━━━━━━━━━\u001B[0m\u001B[37m\u001B[0m \u001B[1m0s\u001B[0m 640us/step - accuracy: 0.9546 - loss: 0.1583 - learning_rate: 0.0012\n",
      "\n",
      "Epoch 45: LearningRateScheduler setting learning rate to 0.0012259355409925655.\n",
      "Epoch 45/100\n",
      "\u001B[1m600/600\u001B[0m \u001B[32m━━━━━━━━━━━━━━━━━━━━\u001B[0m\u001B[37m\u001B[0m \u001B[1m0s\u001B[0m 637us/step - accuracy: 0.9546 - loss: 0.1577 - learning_rate: 0.0012\n",
      "\n",
      "Epoch 46: LearningRateScheduler setting learning rate to 0.0012146387639429372.\n",
      "Epoch 46/100\n",
      "\u001B[1m600/600\u001B[0m \u001B[32m━━━━━━━━━━━━━━━━━━━━\u001B[0m\u001B[37m\u001B[0m \u001B[1m0s\u001B[0m 640us/step - accuracy: 0.9547 - loss: 0.1568 - learning_rate: 0.0012\n",
      "\n",
      "Epoch 47: LearningRateScheduler setting learning rate to 0.0012039068257457904.\n",
      "Epoch 47/100\n",
      "\u001B[1m600/600\u001B[0m \u001B[32m━━━━━━━━━━━━━━━━━━━━\u001B[0m\u001B[37m\u001B[0m \u001B[1m0s\u001B[0m 637us/step - accuracy: 0.9549 - loss: 0.1562 - learning_rate: 0.0012\n",
      "\n",
      "Epoch 48: LearningRateScheduler setting learning rate to 0.001193711484458501.\n",
      "Epoch 48/100\n",
      "\u001B[1m600/600\u001B[0m \u001B[32m━━━━━━━━━━━━━━━━━━━━\u001B[0m\u001B[37m\u001B[0m \u001B[1m0s\u001B[0m 636us/step - accuracy: 0.9553 - loss: 0.1554 - learning_rate: 0.0012\n",
      "\n",
      "Epoch 49: LearningRateScheduler setting learning rate to 0.001184025910235576.\n",
      "Epoch 49/100\n",
      "\u001B[1m600/600\u001B[0m \u001B[32m━━━━━━━━━━━━━━━━━━━━\u001B[0m\u001B[37m\u001B[0m \u001B[1m0s\u001B[0m 635us/step - accuracy: 0.9557 - loss: 0.1549 - learning_rate: 0.0012\n",
      "\n",
      "Epoch 50: LearningRateScheduler setting learning rate to 0.0011748246147237971.\n",
      "Epoch 50/100\n",
      "\u001B[1m600/600\u001B[0m \u001B[32m━━━━━━━━━━━━━━━━━━━━\u001B[0m\u001B[37m\u001B[0m \u001B[1m0s\u001B[0m 632us/step - accuracy: 0.9560 - loss: 0.1542 - learning_rate: 0.0012\n",
      "\n",
      "Epoch 51: LearningRateScheduler setting learning rate to 0.0011660833839876072.\n",
      "Epoch 51/100\n",
      "\u001B[1m600/600\u001B[0m \u001B[32m━━━━━━━━━━━━━━━━━━━━\u001B[0m\u001B[37m\u001B[0m \u001B[1m0s\u001B[0m 632us/step - accuracy: 0.9563 - loss: 0.1535 - learning_rate: 0.0012\n",
      "\n",
      "Epoch 52: LearningRateScheduler setting learning rate to 0.0011577792147882268.\n",
      "Epoch 52/100\n",
      "\u001B[1m600/600\u001B[0m \u001B[32m━━━━━━━━━━━━━━━━━━━━\u001B[0m\u001B[37m\u001B[0m \u001B[1m0s\u001B[0m 627us/step - accuracy: 0.9565 - loss: 0.1529 - learning_rate: 0.0012\n",
      "\n",
      "Epoch 53: LearningRateScheduler setting learning rate to 0.0011498902540488154.\n",
      "Epoch 53/100\n",
      "\u001B[1m600/600\u001B[0m \u001B[32m━━━━━━━━━━━━━━━━━━━━\u001B[0m\u001B[37m\u001B[0m \u001B[1m0s\u001B[0m 643us/step - accuracy: 0.9569 - loss: 0.1524 - learning_rate: 0.0011\n",
      "\n",
      "Epoch 54: LearningRateScheduler setting learning rate to 0.0011423957413463747.\n",
      "Epoch 54/100\n",
      "\u001B[1m600/600\u001B[0m \u001B[32m━━━━━━━━━━━━━━━━━━━━\u001B[0m\u001B[37m\u001B[0m \u001B[1m0s\u001B[0m 629us/step - accuracy: 0.9570 - loss: 0.1518 - learning_rate: 0.0011\n",
      "\n",
      "Epoch 55: LearningRateScheduler setting learning rate to 0.001135275954279056.\n",
      "Epoch 55/100\n",
      "\u001B[1m600/600\u001B[0m \u001B[32m━━━━━━━━━━━━━━━━━━━━\u001B[0m\u001B[37m\u001B[0m \u001B[1m0s\u001B[0m 651us/step - accuracy: 0.9570 - loss: 0.1513 - learning_rate: 0.0011\n",
      "\n",
      "Epoch 56: LearningRateScheduler setting learning rate to 0.0011285121565651032.\n",
      "Epoch 56/100\n",
      "\u001B[1m600/600\u001B[0m \u001B[32m━━━━━━━━━━━━━━━━━━━━\u001B[0m\u001B[37m\u001B[0m \u001B[1m0s\u001B[0m 634us/step - accuracy: 0.9572 - loss: 0.1508 - learning_rate: 0.0011\n",
      "\n",
      "Epoch 57: LearningRateScheduler setting learning rate to 0.001122086548736848.\n",
      "Epoch 57/100\n",
      "\u001B[1m600/600\u001B[0m \u001B[32m━━━━━━━━━━━━━━━━━━━━\u001B[0m\u001B[37m\u001B[0m \u001B[1m0s\u001B[0m 635us/step - accuracy: 0.9573 - loss: 0.1503 - learning_rate: 0.0011\n",
      "\n",
      "Epoch 58: LearningRateScheduler setting learning rate to 0.0011159822213000056.\n",
      "Epoch 58/100\n",
      "\u001B[1m600/600\u001B[0m \u001B[32m━━━━━━━━━━━━━━━━━━━━\u001B[0m\u001B[37m\u001B[0m \u001B[1m0s\u001B[0m 647us/step - accuracy: 0.9578 - loss: 0.1498 - learning_rate: 0.0011\n",
      "\n",
      "Epoch 59: LearningRateScheduler setting learning rate to 0.0011101831102350054.\n",
      "Epoch 59/100\n",
      "\u001B[1m600/600\u001B[0m \u001B[32m━━━━━━━━━━━━━━━━━━━━\u001B[0m\u001B[37m\u001B[0m \u001B[1m0s\u001B[0m 635us/step - accuracy: 0.9576 - loss: 0.1492 - learning_rate: 0.0011\n",
      "\n",
      "Epoch 60: LearningRateScheduler setting learning rate to 0.0011046739547232551.\n",
      "Epoch 60/100\n",
      "\u001B[1m600/600\u001B[0m \u001B[32m━━━━━━━━━━━━━━━━━━━━\u001B[0m\u001B[37m\u001B[0m \u001B[1m0s\u001B[0m 642us/step - accuracy: 0.9576 - loss: 0.1488 - learning_rate: 0.0011\n",
      "\n",
      "Epoch 61: LearningRateScheduler setting learning rate to 0.0010994402569870923.\n",
      "Epoch 61/100\n",
      "\u001B[1m600/600\u001B[0m \u001B[32m━━━━━━━━━━━━━━━━━━━━\u001B[0m\u001B[37m\u001B[0m \u001B[1m0s\u001B[0m 624us/step - accuracy: 0.9579 - loss: 0.1483 - learning_rate: 0.0011\n",
      "\n",
      "Epoch 62: LearningRateScheduler setting learning rate to 0.0010944682441377377.\n",
      "Epoch 62/100\n",
      "\u001B[1m600/600\u001B[0m \u001B[32m━━━━━━━━━━━━━━━━━━━━\u001B[0m\u001B[37m\u001B[0m \u001B[1m0s\u001B[0m 630us/step - accuracy: 0.9585 - loss: 0.1478 - learning_rate: 0.0011\n",
      "\n",
      "Epoch 63: LearningRateScheduler setting learning rate to 0.0010897448319308507.\n",
      "Epoch 63/100\n",
      "\u001B[1m600/600\u001B[0m \u001B[32m━━━━━━━━━━━━━━━━━━━━\u001B[0m\u001B[37m\u001B[0m \u001B[1m0s\u001B[0m 626us/step - accuracy: 0.9585 - loss: 0.1474 - learning_rate: 0.0011\n",
      "\n",
      "Epoch 64: LearningRateScheduler setting learning rate to 0.0010852575903343082.\n",
      "Epoch 64/100\n",
      "\u001B[1m600/600\u001B[0m \u001B[32m━━━━━━━━━━━━━━━━━━━━\u001B[0m\u001B[37m\u001B[0m \u001B[1m0s\u001B[0m 636us/step - accuracy: 0.9586 - loss: 0.1470 - learning_rate: 0.0011\n",
      "\n",
      "Epoch 65: LearningRateScheduler setting learning rate to 0.0010809947108175928.\n",
      "Epoch 65/100\n",
      "\u001B[1m600/600\u001B[0m \u001B[32m━━━━━━━━━━━━━━━━━━━━\u001B[0m\u001B[37m\u001B[0m \u001B[1m0s\u001B[0m 641us/step - accuracy: 0.9589 - loss: 0.1466 - learning_rate: 0.0011\n",
      "\n",
      "Epoch 66: LearningRateScheduler setting learning rate to 0.0010769449752767132.\n",
      "Epoch 66/100\n",
      "\u001B[1m600/600\u001B[0m \u001B[32m━━━━━━━━━━━━━━━━━━━━\u001B[0m\u001B[37m\u001B[0m \u001B[1m0s\u001B[0m 647us/step - accuracy: 0.9589 - loss: 0.1462 - learning_rate: 0.0011\n",
      "\n",
      "Epoch 67: LearningRateScheduler setting learning rate to 0.0010730977265128775.\n",
      "Epoch 67/100\n",
      "\u001B[1m600/600\u001B[0m \u001B[32m━━━━━━━━━━━━━━━━━━━━\u001B[0m\u001B[37m\u001B[0m \u001B[1m0s\u001B[0m 630us/step - accuracy: 0.9590 - loss: 0.1458 - learning_rate: 0.0011\n",
      "\n",
      "Epoch 68: LearningRateScheduler setting learning rate to 0.0010694428401872337.\n",
      "Epoch 68/100\n",
      "\u001B[1m600/600\u001B[0m \u001B[32m━━━━━━━━━━━━━━━━━━━━\u001B[0m\u001B[37m\u001B[0m \u001B[1m0s\u001B[0m 641us/step - accuracy: 0.9593 - loss: 0.1454 - learning_rate: 0.0011\n",
      "\n",
      "Epoch 69: LearningRateScheduler setting learning rate to 0.001065970698177872.\n",
      "Epoch 69/100\n",
      "\u001B[1m600/600\u001B[0m \u001B[32m━━━━━━━━━━━━━━━━━━━━\u001B[0m\u001B[37m\u001B[0m \u001B[1m0s\u001B[0m 635us/step - accuracy: 0.9596 - loss: 0.1451 - learning_rate: 0.0011\n",
      "\n",
      "Epoch 70: LearningRateScheduler setting learning rate to 0.0010626721632689784.\n",
      "Epoch 70/100\n",
      "\u001B[1m600/600\u001B[0m \u001B[32m━━━━━━━━━━━━━━━━━━━━\u001B[0m\u001B[37m\u001B[0m \u001B[1m0s\u001B[0m 637us/step - accuracy: 0.9598 - loss: 0.1447 - learning_rate: 0.0011\n",
      "\n",
      "Epoch 71: LearningRateScheduler setting learning rate to 0.0010595385551055295.\n",
      "Epoch 71/100\n",
      "\u001B[1m600/600\u001B[0m \u001B[32m━━━━━━━━━━━━━━━━━━━━\u001B[0m\u001B[37m\u001B[0m \u001B[1m0s\u001B[0m 656us/step - accuracy: 0.9598 - loss: 0.1443 - learning_rate: 0.0011\n",
      "\n",
      "Epoch 72: LearningRateScheduler setting learning rate to 0.001056561627350253.\n",
      "Epoch 72/100\n",
      "\u001B[1m600/600\u001B[0m \u001B[32m━━━━━━━━━━━━━━━━━━━━\u001B[0m\u001B[37m\u001B[0m \u001B[1m0s\u001B[0m 631us/step - accuracy: 0.9600 - loss: 0.1440 - learning_rate: 0.0011\n",
      "\n",
      "Epoch 73: LearningRateScheduler setting learning rate to 0.0010537335459827404.\n",
      "Epoch 73/100\n",
      "\u001B[1m600/600\u001B[0m \u001B[32m━━━━━━━━━━━━━━━━━━━━\u001B[0m\u001B[37m\u001B[0m \u001B[1m0s\u001B[0m 632us/step - accuracy: 0.9602 - loss: 0.1437 - learning_rate: 0.0011\n",
      "\n",
      "Epoch 74: LearningRateScheduler setting learning rate to 0.0010510468686836033.\n",
      "Epoch 74/100\n",
      "\u001B[1m600/600\u001B[0m \u001B[32m━━━━━━━━━━━━━━━━━━━━\u001B[0m\u001B[37m\u001B[0m \u001B[1m0s\u001B[0m 644us/step - accuracy: 0.9600 - loss: 0.1433 - learning_rate: 0.0011\n",
      "\n",
      "Epoch 75: LearningRateScheduler setting learning rate to 0.001048494525249423.\n",
      "Epoch 75/100\n",
      "\u001B[1m600/600\u001B[0m \u001B[32m━━━━━━━━━━━━━━━━━━━━\u001B[0m\u001B[37m\u001B[0m \u001B[1m0s\u001B[0m 639us/step - accuracy: 0.9602 - loss: 0.1430 - learning_rate: 0.0010\n",
      "\n",
      "Epoch 76: LearningRateScheduler setting learning rate to 0.001046069798986952.\n",
      "Epoch 76/100\n",
      "\u001B[1m600/600\u001B[0m \u001B[32m━━━━━━━━━━━━━━━━━━━━\u001B[0m\u001B[37m\u001B[0m \u001B[1m0s\u001B[0m 635us/step - accuracy: 0.9603 - loss: 0.1426 - learning_rate: 0.0010\n",
      "\n",
      "Epoch 77: LearningRateScheduler setting learning rate to 0.0010437663090376043.\n",
      "Epoch 77/100\n",
      "\u001B[1m600/600\u001B[0m \u001B[32m━━━━━━━━━━━━━━━━━━━━\u001B[0m\u001B[37m\u001B[0m \u001B[1m0s\u001B[0m 628us/step - accuracy: 0.9604 - loss: 0.1423 - learning_rate: 0.0010\n",
      "\n",
      "Epoch 78: LearningRateScheduler setting learning rate to 0.0010415779935857242.\n",
      "Epoch 78/100\n",
      "\u001B[1m600/600\u001B[0m \u001B[32m━━━━━━━━━━━━━━━━━━━━\u001B[0m\u001B[37m\u001B[0m \u001B[1m0s\u001B[0m 641us/step - accuracy: 0.9606 - loss: 0.1421 - learning_rate: 0.0010\n",
      "\n",
      "Epoch 79: LearningRateScheduler setting learning rate to 0.001039499093906438.\n",
      "Epoch 79/100\n",
      "\u001B[1m600/600\u001B[0m \u001B[32m━━━━━━━━━━━━━━━━━━━━\u001B[0m\u001B[37m\u001B[0m \u001B[1m0s\u001B[0m 632us/step - accuracy: 0.9605 - loss: 0.1417 - learning_rate: 0.0010\n",
      "\n",
      "Epoch 80: LearningRateScheduler setting learning rate to 0.0010375241392111161.\n",
      "Epoch 80/100\n",
      "\u001B[1m600/600\u001B[0m \u001B[32m━━━━━━━━━━━━━━━━━━━━\u001B[0m\u001B[37m\u001B[0m \u001B[1m0s\u001B[0m 634us/step - accuracy: 0.9607 - loss: 0.1413 - learning_rate: 0.0010\n",
      "\n",
      "Epoch 81: LearningRateScheduler setting learning rate to 0.0010356479322505602.\n",
      "Epoch 81/100\n",
      "\u001B[1m600/600\u001B[0m \u001B[32m━━━━━━━━━━━━━━━━━━━━\u001B[0m\u001B[37m\u001B[0m \u001B[1m0s\u001B[0m 643us/step - accuracy: 0.9606 - loss: 0.1411 - learning_rate: 0.0010\n",
      "\n",
      "Epoch 82: LearningRateScheduler setting learning rate to 0.0010338655356380323.\n",
      "Epoch 82/100\n",
      "\u001B[1m600/600\u001B[0m \u001B[32m━━━━━━━━━━━━━━━━━━━━\u001B[0m\u001B[37m\u001B[0m \u001B[1m0s\u001B[0m 633us/step - accuracy: 0.9607 - loss: 0.1408 - learning_rate: 0.0010\n",
      "\n",
      "Epoch 83: LearningRateScheduler setting learning rate to 0.0010321722588561306.\n",
      "Epoch 83/100\n",
      "\u001B[1m600/600\u001B[0m \u001B[32m━━━━━━━━━━━━━━━━━━━━\u001B[0m\u001B[37m\u001B[0m \u001B[1m0s\u001B[0m 631us/step - accuracy: 0.9609 - loss: 0.1405 - learning_rate: 0.0010\n",
      "\n",
      "Epoch 84: LearningRateScheduler setting learning rate to 0.001030563645913324.\n",
      "Epoch 84/100\n",
      "\u001B[1m600/600\u001B[0m \u001B[32m━━━━━━━━━━━━━━━━━━━━\u001B[0m\u001B[37m\u001B[0m \u001B[1m0s\u001B[0m 618us/step - accuracy: 0.9609 - loss: 0.1403 - learning_rate: 0.0010\n",
      "\n",
      "Epoch 85: LearningRateScheduler setting learning rate to 0.001029035463617658.\n",
      "Epoch 85/100\n",
      "\u001B[1m600/600\u001B[0m \u001B[32m━━━━━━━━━━━━━━━━━━━━\u001B[0m\u001B[37m\u001B[0m \u001B[1m0s\u001B[0m 631us/step - accuracy: 0.9612 - loss: 0.1399 - learning_rate: 0.0010\n",
      "\n",
      "Epoch 86: LearningRateScheduler setting learning rate to 0.001027583690436775.\n",
      "Epoch 86/100\n",
      "\u001B[1m600/600\u001B[0m \u001B[32m━━━━━━━━━━━━━━━━━━━━\u001B[0m\u001B[37m\u001B[0m \u001B[1m0s\u001B[0m 624us/step - accuracy: 0.9613 - loss: 0.1398 - learning_rate: 0.0010\n",
      "\n",
      "Epoch 87: LearningRateScheduler setting learning rate to 0.0010262045059149362.\n",
      "Epoch 87/100\n",
      "\u001B[1m600/600\u001B[0m \u001B[32m━━━━━━━━━━━━━━━━━━━━\u001B[0m\u001B[37m\u001B[0m \u001B[1m0s\u001B[0m 619us/step - accuracy: 0.9612 - loss: 0.1394 - learning_rate: 0.0010\n",
      "\n",
      "Epoch 88: LearningRateScheduler setting learning rate to 0.0010248942806191895.\n",
      "Epoch 88/100\n",
      "\u001B[1m600/600\u001B[0m \u001B[32m━━━━━━━━━━━━━━━━━━━━\u001B[0m\u001B[37m\u001B[0m \u001B[1m0s\u001B[0m 630us/step - accuracy: 0.9615 - loss: 0.1392 - learning_rate: 0.0010\n",
      "\n",
      "Epoch 89: LearningRateScheduler setting learning rate to 0.0010236495665882298.\n",
      "Epoch 89/100\n",
      "\u001B[1m600/600\u001B[0m \u001B[32m━━━━━━━━━━━━━━━━━━━━\u001B[0m\u001B[37m\u001B[0m \u001B[1m0s\u001B[0m 638us/step - accuracy: 0.9617 - loss: 0.1390 - learning_rate: 0.0010\n",
      "\n",
      "Epoch 90: LearningRateScheduler setting learning rate to 0.0010224670882588184.\n",
      "Epoch 90/100\n",
      "\u001B[1m600/600\u001B[0m \u001B[32m━━━━━━━━━━━━━━━━━━━━\u001B[0m\u001B[37m\u001B[0m \u001B[1m0s\u001B[0m 635us/step - accuracy: 0.9615 - loss: 0.1387 - learning_rate: 0.0010\n",
      "\n",
      "Epoch 91: LearningRateScheduler setting learning rate to 0.0010213437338458776.\n",
      "Epoch 91/100\n",
      "\u001B[1m600/600\u001B[0m \u001B[32m━━━━━━━━━━━━━━━━━━━━\u001B[0m\u001B[37m\u001B[0m \u001B[1m0s\u001B[0m 629us/step - accuracy: 0.9618 - loss: 0.1384 - learning_rate: 0.0010\n",
      "\n",
      "Epoch 92: LearningRateScheduler setting learning rate to 0.0010202765471535836.\n",
      "Epoch 92/100\n",
      "\u001B[1m600/600\u001B[0m \u001B[32m━━━━━━━━━━━━━━━━━━━━\u001B[0m\u001B[37m\u001B[0m \u001B[1m0s\u001B[0m 630us/step - accuracy: 0.9615 - loss: 0.1382 - learning_rate: 0.0010\n",
      "\n",
      "Epoch 93: LearningRateScheduler setting learning rate to 0.0010192627197959045.\n",
      "Epoch 93/100\n",
      "\u001B[1m600/600\u001B[0m \u001B[32m━━━━━━━━━━━━━━━━━━━━\u001B[0m\u001B[37m\u001B[0m \u001B[1m0s\u001B[0m 644us/step - accuracy: 0.9618 - loss: 0.1380 - learning_rate: 0.0010\n",
      "\n",
      "Epoch 94: LearningRateScheduler setting learning rate to 0.0010182995838061092.\n",
      "Epoch 94/100\n",
      "\u001B[1m600/600\u001B[0m \u001B[32m━━━━━━━━━━━━━━━━━━━━\u001B[0m\u001B[37m\u001B[0m \u001B[1m0s\u001B[0m 634us/step - accuracy: 0.9619 - loss: 0.1378 - learning_rate: 0.0010\n",
      "\n",
      "Epoch 95: LearningRateScheduler setting learning rate to 0.0010173846046158037.\n",
      "Epoch 95/100\n",
      "\u001B[1m600/600\u001B[0m \u001B[32m━━━━━━━━━━━━━━━━━━━━\u001B[0m\u001B[37m\u001B[0m \u001B[1m0s\u001B[0m 645us/step - accuracy: 0.9616 - loss: 0.1375 - learning_rate: 0.0010\n",
      "\n",
      "Epoch 96: LearningRateScheduler setting learning rate to 0.0010165153743850136.\n",
      "Epoch 96/100\n",
      "\u001B[1m600/600\u001B[0m \u001B[32m━━━━━━━━━━━━━━━━━━━━\u001B[0m\u001B[37m\u001B[0m \u001B[1m0s\u001B[0m 642us/step - accuracy: 0.9618 - loss: 0.1373 - learning_rate: 0.0010\n",
      "\n",
      "Epoch 97: LearningRateScheduler setting learning rate to 0.001015689605665763.\n",
      "Epoch 97/100\n",
      "\u001B[1m600/600\u001B[0m \u001B[32m━━━━━━━━━━━━━━━━━━━━\u001B[0m\u001B[37m\u001B[0m \u001B[1m0s\u001B[0m 653us/step - accuracy: 0.9617 - loss: 0.1372 - learning_rate: 0.0010\n",
      "\n",
      "Epoch 98: LearningRateScheduler setting learning rate to 0.0010149051253824748.\n",
      "Epoch 98/100\n",
      "\u001B[1m600/600\u001B[0m \u001B[32m━━━━━━━━━━━━━━━━━━━━\u001B[0m\u001B[37m\u001B[0m \u001B[1m0s\u001B[0m 644us/step - accuracy: 0.9617 - loss: 0.1368 - learning_rate: 0.0010\n",
      "\n",
      "Epoch 99: LearningRateScheduler setting learning rate to 0.001014159869113351.\n",
      "Epoch 99/100\n",
      "\u001B[1m600/600\u001B[0m \u001B[32m━━━━━━━━━━━━━━━━━━━━\u001B[0m\u001B[37m\u001B[0m \u001B[1m0s\u001B[0m 632us/step - accuracy: 0.9620 - loss: 0.1367 - learning_rate: 0.0010\n",
      "\n",
      "Epoch 100: LearningRateScheduler setting learning rate to 0.0010134518756576836.\n",
      "Epoch 100/100\n",
      "\u001B[1m600/600\u001B[0m \u001B[32m━━━━━━━━━━━━━━━━━━━━\u001B[0m\u001B[37m\u001B[0m \u001B[1m0s\u001B[0m 628us/step - accuracy: 0.9619 - loss: 0.1365 - learning_rate: 0.0010\n"
     ]
    }
   ],
   "execution_count": 23
  },
  {
   "cell_type": "markdown",
   "metadata": {},
   "source": [
    "Evaluate the new model on the test set."
   ]
  },
  {
   "cell_type": "code",
   "metadata": {
    "scrolled": true,
    "ExecuteTime": {
     "end_time": "2024-12-27T23:56:33.790646Z",
     "start_time": "2024-12-27T23:56:33.548005Z"
    }
   },
   "source": [
    "score2 = model2.evaluate(test_dataset, verbose=0)\n",
    "print(\"Test loss:\", score2[0])\n",
    "print(\"Test accuracy:\", score2[1])"
   ],
   "outputs": [
    {
     "name": "stdout",
     "output_type": "stream",
     "text": [
      "Test loss: 0.24067164957523346\n",
      "Test accuracy: 0.9380999803543091\n"
     ]
    }
   ],
   "execution_count": 24
  },
  {
   "cell_type": "markdown",
   "metadata": {},
   "source": [
    "# Experimenting With Architectures\n",
    "\n",
    "Try different network architectures to see if you can improve the performance. To make this easier, modify the `make_model()` function so that you can vary the number of layers and the number of neurons in each layer. Pass a list into the function that has the number of neurons in each hidden layer. The last (`softmax`) layer always has 10 neurons."
   ]
  },
  {
   "cell_type": "code",
   "metadata": {
    "ExecuteTime": {
     "end_time": "2024-12-27T23:56:33.900272Z",
     "start_time": "2024-12-27T23:56:33.897768Z"
    }
   },
   "source": [
    "def make_model(num_neurons):\n",
    "    model = models.Sequential()\n",
    "    model.add(layers.Flatten(input_shape=(28, 28)))\n",
    "    for n in num_neurons:\n",
    "        model.add(layers.Dense(n, activation='relu'))\n",
    "    model.add(layers.Dense(10, activation='softmax'))\n",
    "    return model"
   ],
   "outputs": [],
   "execution_count": 25
  },
  {
   "cell_type": "markdown",
   "metadata": {},
   "source": [
    "Make a network with five hidden layers of 10 neurons, compile it with the `adam` optimizer, `categorical_crossentropy` loss and `accuracy` metric. Then train it with the default learning rate (no callbacks) for 100 epochs."
   ]
  },
  {
   "cell_type": "code",
   "metadata": {
    "ExecuteTime": {
     "end_time": "2024-12-27T23:57:19.613792Z",
     "start_time": "2024-12-27T23:56:33.997938Z"
    }
   },
   "source": [
    "model3 = make_model([10]*5)\n",
    "model3.compile(optimizer='adam',loss='categorical_crossentropy', metrics=['accuracy'])\n",
    "history = model3.fit(train_dataset, epochs=100)"
   ],
   "outputs": [
    {
     "name": "stdout",
     "output_type": "stream",
     "text": [
      "Epoch 1/100\n",
      "\u001B[1m600/600\u001B[0m \u001B[32m━━━━━━━━━━━━━━━━━━━━\u001B[0m\u001B[37m\u001B[0m \u001B[1m2s\u001B[0m 755us/step - accuracy: 0.4068 - loss: 1.6524\n",
      "Epoch 2/100\n",
      "\u001B[1m600/600\u001B[0m \u001B[32m━━━━━━━━━━━━━━━━━━━━\u001B[0m\u001B[37m\u001B[0m \u001B[1m0s\u001B[0m 736us/step - accuracy: 0.7990 - loss: 0.6491\n",
      "Epoch 3/100\n",
      "\u001B[1m600/600\u001B[0m \u001B[32m━━━━━━━━━━━━━━━━━━━━\u001B[0m\u001B[37m\u001B[0m \u001B[1m0s\u001B[0m 746us/step - accuracy: 0.8601 - loss: 0.4922\n",
      "Epoch 4/100\n",
      "\u001B[1m600/600\u001B[0m \u001B[32m━━━━━━━━━━━━━━━━━━━━\u001B[0m\u001B[37m\u001B[0m \u001B[1m0s\u001B[0m 739us/step - accuracy: 0.8828 - loss: 0.4100\n",
      "Epoch 5/100\n",
      "\u001B[1m600/600\u001B[0m \u001B[32m━━━━━━━━━━━━━━━━━━━━\u001B[0m\u001B[37m\u001B[0m \u001B[1m0s\u001B[0m 743us/step - accuracy: 0.8949 - loss: 0.3637\n",
      "Epoch 6/100\n",
      "\u001B[1m600/600\u001B[0m \u001B[32m━━━━━━━━━━━━━━━━━━━━\u001B[0m\u001B[37m\u001B[0m \u001B[1m0s\u001B[0m 744us/step - accuracy: 0.9046 - loss: 0.3332\n",
      "Epoch 7/100\n",
      "\u001B[1m600/600\u001B[0m \u001B[32m━━━━━━━━━━━━━━━━━━━━\u001B[0m\u001B[37m\u001B[0m \u001B[1m0s\u001B[0m 741us/step - accuracy: 0.9109 - loss: 0.3111\n",
      "Epoch 8/100\n",
      "\u001B[1m600/600\u001B[0m \u001B[32m━━━━━━━━━━━━━━━━━━━━\u001B[0m\u001B[37m\u001B[0m \u001B[1m0s\u001B[0m 740us/step - accuracy: 0.9155 - loss: 0.2931\n",
      "Epoch 9/100\n",
      "\u001B[1m600/600\u001B[0m \u001B[32m━━━━━━━━━━━━━━━━━━━━\u001B[0m\u001B[37m\u001B[0m \u001B[1m0s\u001B[0m 745us/step - accuracy: 0.9196 - loss: 0.2787\n",
      "Epoch 10/100\n",
      "\u001B[1m600/600\u001B[0m \u001B[32m━━━━━━━━━━━━━━━━━━━━\u001B[0m\u001B[37m\u001B[0m \u001B[1m0s\u001B[0m 737us/step - accuracy: 0.9227 - loss: 0.2667\n",
      "Epoch 11/100\n",
      "\u001B[1m600/600\u001B[0m \u001B[32m━━━━━━━━━━━━━━━━━━━━\u001B[0m\u001B[37m\u001B[0m \u001B[1m0s\u001B[0m 732us/step - accuracy: 0.9258 - loss: 0.2556\n",
      "Epoch 12/100\n",
      "\u001B[1m600/600\u001B[0m \u001B[32m━━━━━━━━━━━━━━━━━━━━\u001B[0m\u001B[37m\u001B[0m \u001B[1m0s\u001B[0m 739us/step - accuracy: 0.9291 - loss: 0.2470\n",
      "Epoch 13/100\n",
      "\u001B[1m600/600\u001B[0m \u001B[32m━━━━━━━━━━━━━━━━━━━━\u001B[0m\u001B[37m\u001B[0m \u001B[1m0s\u001B[0m 735us/step - accuracy: 0.9318 - loss: 0.2379\n",
      "Epoch 14/100\n",
      "\u001B[1m600/600\u001B[0m \u001B[32m━━━━━━━━━━━━━━━━━━━━\u001B[0m\u001B[37m\u001B[0m \u001B[1m0s\u001B[0m 741us/step - accuracy: 0.9345 - loss: 0.2292\n",
      "Epoch 15/100\n",
      "\u001B[1m600/600\u001B[0m \u001B[32m━━━━━━━━━━━━━━━━━━━━\u001B[0m\u001B[37m\u001B[0m \u001B[1m0s\u001B[0m 732us/step - accuracy: 0.9365 - loss: 0.2217\n",
      "Epoch 16/100\n",
      "\u001B[1m600/600\u001B[0m \u001B[32m━━━━━━━━━━━━━━━━━━━━\u001B[0m\u001B[37m\u001B[0m \u001B[1m0s\u001B[0m 730us/step - accuracy: 0.9382 - loss: 0.2156\n",
      "Epoch 17/100\n",
      "\u001B[1m600/600\u001B[0m \u001B[32m━━━━━━━━━━━━━━━━━━━━\u001B[0m\u001B[37m\u001B[0m \u001B[1m0s\u001B[0m 723us/step - accuracy: 0.9397 - loss: 0.2105\n",
      "Epoch 18/100\n",
      "\u001B[1m600/600\u001B[0m \u001B[32m━━━━━━━━━━━━━━━━━━━━\u001B[0m\u001B[37m\u001B[0m \u001B[1m0s\u001B[0m 729us/step - accuracy: 0.9416 - loss: 0.2062\n",
      "Epoch 19/100\n",
      "\u001B[1m600/600\u001B[0m \u001B[32m━━━━━━━━━━━━━━━━━━━━\u001B[0m\u001B[37m\u001B[0m \u001B[1m0s\u001B[0m 721us/step - accuracy: 0.9418 - loss: 0.2028\n",
      "Epoch 20/100\n",
      "\u001B[1m600/600\u001B[0m \u001B[32m━━━━━━━━━━━━━━━━━━━━\u001B[0m\u001B[37m\u001B[0m \u001B[1m0s\u001B[0m 731us/step - accuracy: 0.9428 - loss: 0.1988\n",
      "Epoch 21/100\n",
      "\u001B[1m600/600\u001B[0m \u001B[32m━━━━━━━━━━━━━━━━━━━━\u001B[0m\u001B[37m\u001B[0m \u001B[1m0s\u001B[0m 749us/step - accuracy: 0.9438 - loss: 0.1956\n",
      "Epoch 22/100\n",
      "\u001B[1m600/600\u001B[0m \u001B[32m━━━━━━━━━━━━━━━━━━━━\u001B[0m\u001B[37m\u001B[0m \u001B[1m0s\u001B[0m 728us/step - accuracy: 0.9444 - loss: 0.1937\n",
      "Epoch 23/100\n",
      "\u001B[1m600/600\u001B[0m \u001B[32m━━━━━━━━━━━━━━━━━━━━\u001B[0m\u001B[37m\u001B[0m \u001B[1m0s\u001B[0m 724us/step - accuracy: 0.9459 - loss: 0.1917\n",
      "Epoch 24/100\n",
      "\u001B[1m600/600\u001B[0m \u001B[32m━━━━━━━━━━━━━━━━━━━━\u001B[0m\u001B[37m\u001B[0m \u001B[1m0s\u001B[0m 726us/step - accuracy: 0.9463 - loss: 0.1889\n",
      "Epoch 25/100\n",
      "\u001B[1m600/600\u001B[0m \u001B[32m━━━━━━━━━━━━━━━━━━━━\u001B[0m\u001B[37m\u001B[0m \u001B[1m0s\u001B[0m 728us/step - accuracy: 0.9464 - loss: 0.1869\n",
      "Epoch 26/100\n",
      "\u001B[1m600/600\u001B[0m \u001B[32m━━━━━━━━━━━━━━━━━━━━\u001B[0m\u001B[37m\u001B[0m \u001B[1m0s\u001B[0m 736us/step - accuracy: 0.9475 - loss: 0.1849\n",
      "Epoch 27/100\n",
      "\u001B[1m600/600\u001B[0m \u001B[32m━━━━━━━━━━━━━━━━━━━━\u001B[0m\u001B[37m\u001B[0m \u001B[1m0s\u001B[0m 737us/step - accuracy: 0.9482 - loss: 0.1828\n",
      "Epoch 28/100\n",
      "\u001B[1m600/600\u001B[0m \u001B[32m━━━━━━━━━━━━━━━━━━━━\u001B[0m\u001B[37m\u001B[0m \u001B[1m0s\u001B[0m 741us/step - accuracy: 0.9487 - loss: 0.1810\n",
      "Epoch 29/100\n",
      "\u001B[1m600/600\u001B[0m \u001B[32m━━━━━━━━━━━━━━━━━━━━\u001B[0m\u001B[37m\u001B[0m \u001B[1m0s\u001B[0m 750us/step - accuracy: 0.9498 - loss: 0.1790\n",
      "Epoch 30/100\n",
      "\u001B[1m600/600\u001B[0m \u001B[32m━━━━━━━━━━━━━━━━━━━━\u001B[0m\u001B[37m\u001B[0m \u001B[1m0s\u001B[0m 734us/step - accuracy: 0.9498 - loss: 0.1777\n",
      "Epoch 31/100\n",
      "\u001B[1m600/600\u001B[0m \u001B[32m━━━━━━━━━━━━━━━━━━━━\u001B[0m\u001B[37m\u001B[0m \u001B[1m0s\u001B[0m 753us/step - accuracy: 0.9508 - loss: 0.1760\n",
      "Epoch 32/100\n",
      "\u001B[1m600/600\u001B[0m \u001B[32m━━━━━━━━━━━━━━━━━━━━\u001B[0m\u001B[37m\u001B[0m \u001B[1m0s\u001B[0m 732us/step - accuracy: 0.9508 - loss: 0.1744\n",
      "Epoch 33/100\n",
      "\u001B[1m600/600\u001B[0m \u001B[32m━━━━━━━━━━━━━━━━━━━━\u001B[0m\u001B[37m\u001B[0m \u001B[1m0s\u001B[0m 728us/step - accuracy: 0.9516 - loss: 0.1731\n",
      "Epoch 34/100\n",
      "\u001B[1m600/600\u001B[0m \u001B[32m━━━━━━━━━━━━━━━━━━━━\u001B[0m\u001B[37m\u001B[0m \u001B[1m0s\u001B[0m 733us/step - accuracy: 0.9518 - loss: 0.1720\n",
      "Epoch 35/100\n",
      "\u001B[1m600/600\u001B[0m \u001B[32m━━━━━━━━━━━━━━━━━━━━\u001B[0m\u001B[37m\u001B[0m \u001B[1m0s\u001B[0m 746us/step - accuracy: 0.9521 - loss: 0.1707\n",
      "Epoch 36/100\n",
      "\u001B[1m600/600\u001B[0m \u001B[32m━━━━━━━━━━━━━━━━━━━━\u001B[0m\u001B[37m\u001B[0m \u001B[1m0s\u001B[0m 743us/step - accuracy: 0.9522 - loss: 0.1705\n",
      "Epoch 37/100\n",
      "\u001B[1m600/600\u001B[0m \u001B[32m━━━━━━━━━━━━━━━━━━━━\u001B[0m\u001B[37m\u001B[0m \u001B[1m0s\u001B[0m 736us/step - accuracy: 0.9530 - loss: 0.1683\n",
      "Epoch 38/100\n",
      "\u001B[1m600/600\u001B[0m \u001B[32m━━━━━━━━━━━━━━━━━━━━\u001B[0m\u001B[37m\u001B[0m \u001B[1m0s\u001B[0m 734us/step - accuracy: 0.9527 - loss: 0.1678\n",
      "Epoch 39/100\n",
      "\u001B[1m600/600\u001B[0m \u001B[32m━━━━━━━━━━━━━━━━━━━━\u001B[0m\u001B[37m\u001B[0m \u001B[1m0s\u001B[0m 754us/step - accuracy: 0.9535 - loss: 0.1665\n",
      "Epoch 40/100\n",
      "\u001B[1m600/600\u001B[0m \u001B[32m━━━━━━━━━━━━━━━━━━━━\u001B[0m\u001B[37m\u001B[0m \u001B[1m0s\u001B[0m 746us/step - accuracy: 0.9538 - loss: 0.1657\n",
      "Epoch 41/100\n",
      "\u001B[1m600/600\u001B[0m \u001B[32m━━━━━━━━━━━━━━━━━━━━\u001B[0m\u001B[37m\u001B[0m \u001B[1m0s\u001B[0m 736us/step - accuracy: 0.9537 - loss: 0.1654\n",
      "Epoch 42/100\n",
      "\u001B[1m600/600\u001B[0m \u001B[32m━━━━━━━━━━━━━━━━━━━━\u001B[0m\u001B[37m\u001B[0m \u001B[1m0s\u001B[0m 741us/step - accuracy: 0.9549 - loss: 0.1639\n",
      "Epoch 43/100\n",
      "\u001B[1m600/600\u001B[0m \u001B[32m━━━━━━━━━━━━━━━━━━━━\u001B[0m\u001B[37m\u001B[0m \u001B[1m0s\u001B[0m 743us/step - accuracy: 0.9552 - loss: 0.1627\n",
      "Epoch 44/100\n",
      "\u001B[1m600/600\u001B[0m \u001B[32m━━━━━━━━━━━━━━━━━━━━\u001B[0m\u001B[37m\u001B[0m \u001B[1m0s\u001B[0m 758us/step - accuracy: 0.9552 - loss: 0.1621\n",
      "Epoch 45/100\n",
      "\u001B[1m600/600\u001B[0m \u001B[32m━━━━━━━━━━━━━━━━━━━━\u001B[0m\u001B[37m\u001B[0m \u001B[1m0s\u001B[0m 733us/step - accuracy: 0.9551 - loss: 0.1614\n",
      "Epoch 46/100\n",
      "\u001B[1m600/600\u001B[0m \u001B[32m━━━━━━━━━━━━━━━━━━━━\u001B[0m\u001B[37m\u001B[0m \u001B[1m0s\u001B[0m 741us/step - accuracy: 0.9554 - loss: 0.1607\n",
      "Epoch 47/100\n",
      "\u001B[1m600/600\u001B[0m \u001B[32m━━━━━━━━━━━━━━━━━━━━\u001B[0m\u001B[37m\u001B[0m \u001B[1m0s\u001B[0m 731us/step - accuracy: 0.9553 - loss: 0.1601\n",
      "Epoch 48/100\n",
      "\u001B[1m600/600\u001B[0m \u001B[32m━━━━━━━━━━━━━━━━━━━━\u001B[0m\u001B[37m\u001B[0m \u001B[1m0s\u001B[0m 734us/step - accuracy: 0.9557 - loss: 0.1596\n",
      "Epoch 49/100\n",
      "\u001B[1m600/600\u001B[0m \u001B[32m━━━━━━━━━━━━━━━━━━━━\u001B[0m\u001B[37m\u001B[0m \u001B[1m0s\u001B[0m 732us/step - accuracy: 0.9563 - loss: 0.1583\n",
      "Epoch 50/100\n",
      "\u001B[1m600/600\u001B[0m \u001B[32m━━━━━━━━━━━━━━━━━━━━\u001B[0m\u001B[37m\u001B[0m \u001B[1m0s\u001B[0m 737us/step - accuracy: 0.9564 - loss: 0.1579\n",
      "Epoch 51/100\n",
      "\u001B[1m600/600\u001B[0m \u001B[32m━━━━━━━━━━━━━━━━━━━━\u001B[0m\u001B[37m\u001B[0m \u001B[1m0s\u001B[0m 743us/step - accuracy: 0.9568 - loss: 0.1574\n",
      "Epoch 52/100\n",
      "\u001B[1m600/600\u001B[0m \u001B[32m━━━━━━━━━━━━━━━━━━━━\u001B[0m\u001B[37m\u001B[0m \u001B[1m0s\u001B[0m 733us/step - accuracy: 0.9567 - loss: 0.1562\n",
      "Epoch 53/100\n",
      "\u001B[1m600/600\u001B[0m \u001B[32m━━━━━━━━━━━━━━━━━━━━\u001B[0m\u001B[37m\u001B[0m \u001B[1m0s\u001B[0m 727us/step - accuracy: 0.9571 - loss: 0.1558\n",
      "Epoch 54/100\n",
      "\u001B[1m600/600\u001B[0m \u001B[32m━━━━━━━━━━━━━━━━━━━━\u001B[0m\u001B[37m\u001B[0m \u001B[1m0s\u001B[0m 731us/step - accuracy: 0.9573 - loss: 0.1554\n",
      "Epoch 55/100\n",
      "\u001B[1m600/600\u001B[0m \u001B[32m━━━━━━━━━━━━━━━━━━━━\u001B[0m\u001B[37m\u001B[0m \u001B[1m0s\u001B[0m 745us/step - accuracy: 0.9570 - loss: 0.1547\n",
      "Epoch 56/100\n",
      "\u001B[1m600/600\u001B[0m \u001B[32m━━━━━━━━━━━━━━━━━━━━\u001B[0m\u001B[37m\u001B[0m \u001B[1m0s\u001B[0m 743us/step - accuracy: 0.9575 - loss: 0.1540\n",
      "Epoch 57/100\n",
      "\u001B[1m600/600\u001B[0m \u001B[32m━━━━━━━━━━━━━━━━━━━━\u001B[0m\u001B[37m\u001B[0m \u001B[1m0s\u001B[0m 732us/step - accuracy: 0.9571 - loss: 0.1537\n",
      "Epoch 58/100\n",
      "\u001B[1m600/600\u001B[0m \u001B[32m━━━━━━━━━━━━━━━━━━━━\u001B[0m\u001B[37m\u001B[0m \u001B[1m0s\u001B[0m 730us/step - accuracy: 0.9570 - loss: 0.1532\n",
      "Epoch 59/100\n",
      "\u001B[1m600/600\u001B[0m \u001B[32m━━━━━━━━━━━━━━━━━━━━\u001B[0m\u001B[37m\u001B[0m \u001B[1m0s\u001B[0m 750us/step - accuracy: 0.9572 - loss: 0.1530\n",
      "Epoch 60/100\n",
      "\u001B[1m600/600\u001B[0m \u001B[32m━━━━━━━━━━━━━━━━━━━━\u001B[0m\u001B[37m\u001B[0m \u001B[1m0s\u001B[0m 749us/step - accuracy: 0.9576 - loss: 0.1520\n",
      "Epoch 61/100\n",
      "\u001B[1m600/600\u001B[0m \u001B[32m━━━━━━━━━━━━━━━━━━━━\u001B[0m\u001B[37m\u001B[0m \u001B[1m0s\u001B[0m 741us/step - accuracy: 0.9578 - loss: 0.1513\n",
      "Epoch 62/100\n",
      "\u001B[1m600/600\u001B[0m \u001B[32m━━━━━━━━━━━━━━━━━━━━\u001B[0m\u001B[37m\u001B[0m \u001B[1m0s\u001B[0m 732us/step - accuracy: 0.9586 - loss: 0.1505\n",
      "Epoch 63/100\n",
      "\u001B[1m600/600\u001B[0m \u001B[32m━━━━━━━━━━━━━━━━━━━━\u001B[0m\u001B[37m\u001B[0m \u001B[1m0s\u001B[0m 736us/step - accuracy: 0.9585 - loss: 0.1504\n",
      "Epoch 64/100\n",
      "\u001B[1m600/600\u001B[0m \u001B[32m━━━━━━━━━━━━━━━━━━━━\u001B[0m\u001B[37m\u001B[0m \u001B[1m0s\u001B[0m 757us/step - accuracy: 0.9583 - loss: 0.1494\n",
      "Epoch 65/100\n",
      "\u001B[1m600/600\u001B[0m \u001B[32m━━━━━━━━━━━━━━━━━━━━\u001B[0m\u001B[37m\u001B[0m \u001B[1m0s\u001B[0m 732us/step - accuracy: 0.9590 - loss: 0.1489\n",
      "Epoch 66/100\n",
      "\u001B[1m600/600\u001B[0m \u001B[32m━━━━━━━━━━━━━━━━━━━━\u001B[0m\u001B[37m\u001B[0m \u001B[1m0s\u001B[0m 744us/step - accuracy: 0.9588 - loss: 0.1483\n",
      "Epoch 67/100\n",
      "\u001B[1m600/600\u001B[0m \u001B[32m━━━━━━━━━━━━━━━━━━━━\u001B[0m\u001B[37m\u001B[0m \u001B[1m0s\u001B[0m 734us/step - accuracy: 0.9596 - loss: 0.1476\n",
      "Epoch 68/100\n",
      "\u001B[1m600/600\u001B[0m \u001B[32m━━━━━━━━━━━━━━━━━━━━\u001B[0m\u001B[37m\u001B[0m \u001B[1m0s\u001B[0m 744us/step - accuracy: 0.9599 - loss: 0.1467\n",
      "Epoch 69/100\n",
      "\u001B[1m600/600\u001B[0m \u001B[32m━━━━━━━━━━━━━━━━━━━━\u001B[0m\u001B[37m\u001B[0m \u001B[1m0s\u001B[0m 742us/step - accuracy: 0.9600 - loss: 0.1463\n",
      "Epoch 70/100\n",
      "\u001B[1m600/600\u001B[0m \u001B[32m━━━━━━━━━━━━━━━━━━━━\u001B[0m\u001B[37m\u001B[0m \u001B[1m0s\u001B[0m 742us/step - accuracy: 0.9598 - loss: 0.1457\n",
      "Epoch 71/100\n",
      "\u001B[1m600/600\u001B[0m \u001B[32m━━━━━━━━━━━━━━━━━━━━\u001B[0m\u001B[37m\u001B[0m \u001B[1m0s\u001B[0m 742us/step - accuracy: 0.9596 - loss: 0.1450\n",
      "Epoch 72/100\n",
      "\u001B[1m600/600\u001B[0m \u001B[32m━━━━━━━━━━━━━━━━━━━━\u001B[0m\u001B[37m\u001B[0m \u001B[1m0s\u001B[0m 734us/step - accuracy: 0.9588 - loss: 0.1456\n",
      "Epoch 73/100\n",
      "\u001B[1m600/600\u001B[0m \u001B[32m━━━━━━━━━━━━━━━━━━━━\u001B[0m\u001B[37m\u001B[0m \u001B[1m0s\u001B[0m 730us/step - accuracy: 0.9597 - loss: 0.1445\n",
      "Epoch 74/100\n",
      "\u001B[1m600/600\u001B[0m \u001B[32m━━━━━━━━━━━━━━━━━━━━\u001B[0m\u001B[37m\u001B[0m \u001B[1m0s\u001B[0m 735us/step - accuracy: 0.9596 - loss: 0.1438\n",
      "Epoch 75/100\n",
      "\u001B[1m600/600\u001B[0m \u001B[32m━━━━━━━━━━━━━━━━━━━━\u001B[0m\u001B[37m\u001B[0m \u001B[1m0s\u001B[0m 736us/step - accuracy: 0.9599 - loss: 0.1436\n",
      "Epoch 76/100\n",
      "\u001B[1m600/600\u001B[0m \u001B[32m━━━━━━━━━━━━━━━━━━━━\u001B[0m\u001B[37m\u001B[0m \u001B[1m0s\u001B[0m 728us/step - accuracy: 0.9603 - loss: 0.1427\n",
      "Epoch 77/100\n",
      "\u001B[1m600/600\u001B[0m \u001B[32m━━━━━━━━━━━━━━━━━━━━\u001B[0m\u001B[37m\u001B[0m \u001B[1m0s\u001B[0m 739us/step - accuracy: 0.9601 - loss: 0.1434\n",
      "Epoch 78/100\n",
      "\u001B[1m600/600\u001B[0m \u001B[32m━━━━━━━━━━━━━━━━━━━━\u001B[0m\u001B[37m\u001B[0m \u001B[1m0s\u001B[0m 733us/step - accuracy: 0.9603 - loss: 0.1422\n",
      "Epoch 79/100\n",
      "\u001B[1m600/600\u001B[0m \u001B[32m━━━━━━━━━━━━━━━━━━━━\u001B[0m\u001B[37m\u001B[0m \u001B[1m0s\u001B[0m 737us/step - accuracy: 0.9599 - loss: 0.1420\n",
      "Epoch 80/100\n",
      "\u001B[1m600/600\u001B[0m \u001B[32m━━━━━━━━━━━━━━━━━━━━\u001B[0m\u001B[37m\u001B[0m \u001B[1m0s\u001B[0m 739us/step - accuracy: 0.9606 - loss: 0.1422\n",
      "Epoch 81/100\n",
      "\u001B[1m600/600\u001B[0m \u001B[32m━━━━━━━━━━━━━━━━━━━━\u001B[0m\u001B[37m\u001B[0m \u001B[1m0s\u001B[0m 741us/step - accuracy: 0.9603 - loss: 0.1411\n",
      "Epoch 82/100\n",
      "\u001B[1m600/600\u001B[0m \u001B[32m━━━━━━━━━━━━━━━━━━━━\u001B[0m\u001B[37m\u001B[0m \u001B[1m0s\u001B[0m 742us/step - accuracy: 0.9602 - loss: 0.1412\n",
      "Epoch 83/100\n",
      "\u001B[1m600/600\u001B[0m \u001B[32m━━━━━━━━━━━━━━━━━━━━\u001B[0m\u001B[37m\u001B[0m \u001B[1m0s\u001B[0m 741us/step - accuracy: 0.9604 - loss: 0.1404\n",
      "Epoch 84/100\n",
      "\u001B[1m600/600\u001B[0m \u001B[32m━━━━━━━━━━━━━━━━━━━━\u001B[0m\u001B[37m\u001B[0m \u001B[1m0s\u001B[0m 742us/step - accuracy: 0.9606 - loss: 0.1406\n",
      "Epoch 85/100\n",
      "\u001B[1m600/600\u001B[0m \u001B[32m━━━━━━━━━━━━━━━━━━━━\u001B[0m\u001B[37m\u001B[0m \u001B[1m0s\u001B[0m 731us/step - accuracy: 0.9615 - loss: 0.1390\n",
      "Epoch 86/100\n",
      "\u001B[1m600/600\u001B[0m \u001B[32m━━━━━━━━━━━━━━━━━━━━\u001B[0m\u001B[37m\u001B[0m \u001B[1m0s\u001B[0m 730us/step - accuracy: 0.9613 - loss: 0.1393\n",
      "Epoch 87/100\n",
      "\u001B[1m600/600\u001B[0m \u001B[32m━━━━━━━━━━━━━━━━━━━━\u001B[0m\u001B[37m\u001B[0m \u001B[1m0s\u001B[0m 730us/step - accuracy: 0.9612 - loss: 0.1391\n",
      "Epoch 88/100\n",
      "\u001B[1m600/600\u001B[0m \u001B[32m━━━━━━━━━━━━━━━━━━━━\u001B[0m\u001B[37m\u001B[0m \u001B[1m0s\u001B[0m 737us/step - accuracy: 0.9612 - loss: 0.1384\n",
      "Epoch 89/100\n",
      "\u001B[1m600/600\u001B[0m \u001B[32m━━━━━━━━━━━━━━━━━━━━\u001B[0m\u001B[37m\u001B[0m \u001B[1m0s\u001B[0m 742us/step - accuracy: 0.9610 - loss: 0.1387\n",
      "Epoch 90/100\n",
      "\u001B[1m600/600\u001B[0m \u001B[32m━━━━━━━━━━━━━━━━━━━━\u001B[0m\u001B[37m\u001B[0m \u001B[1m0s\u001B[0m 743us/step - accuracy: 0.9614 - loss: 0.1385\n",
      "Epoch 91/100\n",
      "\u001B[1m600/600\u001B[0m \u001B[32m━━━━━━━━━━━━━━━━━━━━\u001B[0m\u001B[37m\u001B[0m \u001B[1m0s\u001B[0m 738us/step - accuracy: 0.9611 - loss: 0.1379\n",
      "Epoch 92/100\n",
      "\u001B[1m600/600\u001B[0m \u001B[32m━━━━━━━━━━━━━━━━━━━━\u001B[0m\u001B[37m\u001B[0m \u001B[1m0s\u001B[0m 744us/step - accuracy: 0.9614 - loss: 0.1375\n",
      "Epoch 93/100\n",
      "\u001B[1m600/600\u001B[0m \u001B[32m━━━━━━━━━━━━━━━━━━━━\u001B[0m\u001B[37m\u001B[0m \u001B[1m0s\u001B[0m 743us/step - accuracy: 0.9614 - loss: 0.1371\n",
      "Epoch 94/100\n",
      "\u001B[1m600/600\u001B[0m \u001B[32m━━━━━━━━━━━━━━━━━━━━\u001B[0m\u001B[37m\u001B[0m \u001B[1m0s\u001B[0m 734us/step - accuracy: 0.9619 - loss: 0.1371\n",
      "Epoch 95/100\n",
      "\u001B[1m600/600\u001B[0m \u001B[32m━━━━━━━━━━━━━━━━━━━━\u001B[0m\u001B[37m\u001B[0m \u001B[1m0s\u001B[0m 748us/step - accuracy: 0.9622 - loss: 0.1361\n",
      "Epoch 96/100\n",
      "\u001B[1m600/600\u001B[0m \u001B[32m━━━━━━━━━━━━━━━━━━━━\u001B[0m\u001B[37m\u001B[0m \u001B[1m0s\u001B[0m 741us/step - accuracy: 0.9621 - loss: 0.1359\n",
      "Epoch 97/100\n",
      "\u001B[1m600/600\u001B[0m \u001B[32m━━━━━━━━━━━━━━━━━━━━\u001B[0m\u001B[37m\u001B[0m \u001B[1m0s\u001B[0m 741us/step - accuracy: 0.9623 - loss: 0.1356\n",
      "Epoch 98/100\n",
      "\u001B[1m600/600\u001B[0m \u001B[32m━━━━━━━━━━━━━━━━━━━━\u001B[0m\u001B[37m\u001B[0m \u001B[1m0s\u001B[0m 728us/step - accuracy: 0.9623 - loss: 0.1357\n",
      "Epoch 99/100\n",
      "\u001B[1m600/600\u001B[0m \u001B[32m━━━━━━━━━━━━━━━━━━━━\u001B[0m\u001B[37m\u001B[0m \u001B[1m0s\u001B[0m 739us/step - accuracy: 0.9626 - loss: 0.1353\n",
      "Epoch 100/100\n",
      "\u001B[1m600/600\u001B[0m \u001B[32m━━━━━━━━━━━━━━━━━━━━\u001B[0m\u001B[37m\u001B[0m \u001B[1m0s\u001B[0m 724us/step - accuracy: 0.9620 - loss: 0.1346\n"
     ]
    }
   ],
   "execution_count": 26
  },
  {
   "cell_type": "markdown",
   "metadata": {},
   "source": [
    "Plot the training accuracy vs epochs."
   ]
  },
  {
   "cell_type": "code",
   "metadata": {
    "ExecuteTime": {
     "end_time": "2024-12-27T23:57:46.056534Z",
     "start_time": "2024-12-27T23:57:45.892098Z"
    }
   },
   "source": [
    "history_dict = history.history\n",
    "acc = history_dict['accuracy']\n",
    "epochs = history.epoch\n",
    "plt.plot(epochs, acc)\n",
    "plt.title('Training Accuracy')\n",
    "plt.xlabel('Epochs')\n",
    "plt.show()"
   ],
   "outputs": [
    {
     "data": {
      "text/plain": [
       "<Figure size 640x480 with 1 Axes>"
      ],
      "image/png": "[encoded data removed]"
     },
     "metadata": {},
     "output_type": "display_data"
    }
   ],
   "execution_count": 27
  },
  {
   "cell_type": "markdown",
   "metadata": {},
   "source": [
    "Based on your plot, do you think the accuracy will increase, if you  train the network longer?"
   ]
  },
  {
   "cell_type": "markdown",
   "metadata": {},
   "source": [
    "Now evaluate the model on the test set. "
   ]
  },
  {
   "cell_type": "code",
   "metadata": {
    "ExecuteTime": {
     "end_time": "2024-12-27T23:57:46.458038Z",
     "start_time": "2024-12-27T23:57:46.163704Z"
    }
   },
   "source": [
    "score3 = model3.evaluate(test_dataset, verbose=0)\n",
    "print(\"Test loss:\", score3[0])\n",
    "print(\"Test accuracy:\", score3[1])"
   ],
   "outputs": [
    {
     "name": "stdout",
     "output_type": "stream",
     "text": [
      "Test loss: 0.28688380122184753\n",
      "Test accuracy: 0.9343000054359436\n"
     ]
    }
   ],
   "execution_count": 28
  },
  {
   "cell_type": "markdown",
   "metadata": {},
   "source": [
    "How does the test accuracy compare to the training accuracy? Is the network overfitting, or can you improve the accuracy by adding neurons or layers to the network?"
   ]
  },
  {
   "cell_type": "markdown",
   "metadata": {},
   "source": [
    "## Explore Further\n",
    "\n",
    "Experiment with different network architectures. Try to find the architecture that gives you the best accuracy. Investigate the following.\n",
    "\n",
    "1. Increase the number of neurons in each layer. How do training and testing accuracy change?\n",
    "1. Increase the number of layers. Does the training (testing) accuracy continue to decrease? How high can you make the testing accuracy? Do you get better results increasing the number of neurons in each layer, or the number of layers (assuming the overal number of weights stays the same)?\n",
    "1. Train a network twice without changing the architecture. (Be sure to remake the network each time.) Do you acheive the same accuracy? If not, explain why the accuracy is different.\n",
    "1. Experiment with different optimizers and different learning rates.\n",
    "1. Experiment with different batch sizes.\n",
    "1. Increase the number of epochs, and plot the training accuracy. Use the plot to determine whether or not you should  increase the number of epochs further."
   ]
  }
 ],
 "metadata": {
  "kernelspec": {
   "display_name": "Python 3",
   "language": "python",
   "name": "python3"
  },
  "language_info": {
   "codemirror_mode": {
    "name": "ipython",
    "version": 3
   },
   "file_extension": ".py",
   "mimetype": "text/x-python",
   "name": "python",
   "nbconvert_exporter": "python",
   "pygments_lexer": "ipython3",
   "version": "3.6.9"
  }
 },
 "nbformat": 4,
 "nbformat_minor": 4
}
