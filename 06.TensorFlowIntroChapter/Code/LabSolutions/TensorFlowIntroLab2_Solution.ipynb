{
 "cells": [
  {
   "cell_type": "markdown",
   "metadata": {},
   "source": [
    "[![Open In Colab](https://colab.research.google.com/assets/colab-badge.svg)](https://colab.research.google.com/github/NNDesignDeepLearning/NNDesignDeepLearning/blob/master/06.TensorFlowIntroChapter/Code/LabSolutions/TensorFlowIntroLab2_Solution.ipynb)"
   ]
  },
  {
   "cell_type": "markdown",
   "metadata": {},
   "source": [
    "# TensorFlow Introduction Lab 2  -- Preventing Overfitting\n",
    "\n",
    "This objective of this second TensorFlow lab is to test methods to help prevent the neural network models from overfitting. This is based on topics covered in Chapter 4 -- Supplemental Training Procedures, which you may want to review before running this lab. In particular, you will test the effects of using batch normalization and early stopping. In addition, you will use **data augmentation**. This is a way of increasing the size of the dataset by adding images that are realistic modifications of the original images. The larger a dataset is, the less likely the network will overfit.\n",
    "\n",
    "When working on this lab, you may find it useful to consult websites related to [tf.data.Dataset](https://www.tensorflow.org/api_docs/python/tf/data/Dataset), which describes all of the methods that can be used with TensorFlow Datasets, and [TensorFlow Input Pipelines](https://www.tensorflow.org/guide/data).\n",
    "\n",
    "In this lab we will use a dataset that is contained in the [TensorFlow Datasets](https://www.tensorflow.org/datasets). The datasets here can be loaded directly into the `tf.data.Datasets` format.\n",
    "\n",
    "Another model from keras that we use in this lab is [preprocssing](https://www.tensorflow.org/api_docs/python/tf/keras/layers/experimental/preprocessing). We will use methods from this library for normalizing and augmenting data.\n",
    "\n",
    "## Loading Modules\n",
    "\n",
    "We begin by loading some useful modules. "
   ]
  },
  {
   "cell_type": "code",
   "metadata": {
    "ExecuteTime": {
     "end_time": "2024-12-28T00:08:01.172913Z",
     "start_time": "2024-12-28T00:07:59.063930Z"
    }
   },
   "source": [
    "%matplotlib inline\n",
    "!pip3 install tensorflow-datasets\n",
    "import matplotlib.pyplot as plt\n",
    "import numpy as np\n",
    "import pandas as pd\n",
    "from tensorflow.keras.utils import to_categorical\n",
    "from tensorflow.keras import models\n",
    "from tensorflow.keras import layers\n",
    "from tensorflow.data import Dataset\n",
    "from tensorflow.keras import datasets\n",
    "import tensorflow_datasets as tfds\n",
    "from tensorflow.keras.layers import Normalization, Rescaling,RandomZoom,RandomTranslation,RandomRotation\n",
    "\n",
    "from tensorflow.keras.losses import SparseCategoricalCrossentropy\n",
    "import tensorflow as tf"
   ],
   "outputs": [
    {
     "name": "stdout",
     "output_type": "stream",
     "text": [
      "Defaulting to user installation because normal site-packages is not writeable\r\n",
      "Requirement already satisfied: tensorflow-datasets in /home/amir/.local/lib/python3.12/site-packages (4.9.7)\r\n",
      "Requirement already satisfied: absl-py in /usr/local/lib/python3.12/dist-packages (from tensorflow-datasets) (2.1.0)\r\n",
      "Requirement already satisfied: click in /usr/lib/python3/dist-packages (from tensorflow-datasets) (8.1.6)\r\n",
      "Requirement already satisfied: dm-tree in /home/amir/.local/lib/python3.12/site-packages (from tensorflow-datasets) (0.1.8)\r\n",
      "Requirement already satisfied: immutabledict in /home/amir/.local/lib/python3.12/site-packages (from tensorflow-datasets) (4.2.1)\r\n",
      "Requirement already satisfied: numpy in /usr/local/lib/python3.12/dist-packages (from tensorflow-datasets) (1.26.4)\r\n",
      "Requirement already satisfied: promise in /home/amir/.local/lib/python3.12/site-packages (from tensorflow-datasets) (2.3)\r\n",
      "Requirement already satisfied: protobuf>=3.20 in /usr/local/lib/python3.12/dist-packages (from tensorflow-datasets) (4.25.4)\r\n",
      "Requirement already satisfied: psutil in /usr/local/lib/python3.12/dist-packages (from tensorflow-datasets) (6.0.0)\r\n",
      "Requirement already satisfied: pyarrow in /usr/local/lib/python3.12/dist-packages (from tensorflow-datasets) (17.0.0)\r\n",
      "Requirement already satisfied: requests>=2.19.0 in /usr/local/lib/python3.12/dist-packages (from tensorflow-datasets) (2.32.3)\r\n",
      "Requirement already satisfied: simple-parsing in /home/amir/.local/lib/python3.12/site-packages (from tensorflow-datasets) (0.1.6)\r\n",
      "Requirement already satisfied: tensorflow-metadata in /home/amir/.local/lib/python3.12/site-packages (from tensorflow-datasets) (1.16.1)\r\n",
      "Requirement already satisfied: termcolor in /usr/local/lib/python3.12/dist-packages (from tensorflow-datasets) (2.4.0)\r\n",
      "Requirement already satisfied: toml in /home/amir/.local/lib/python3.12/site-packages (from tensorflow-datasets) (0.10.2)\r\n",
      "Requirement already satisfied: tqdm in /usr/local/lib/python3.12/dist-packages (from tensorflow-datasets) (4.66.4)\r\n",
      "Requirement already satisfied: wrapt in /usr/local/lib/python3.12/dist-packages (from tensorflow-datasets) (1.16.0)\r\n",
      "Requirement already satisfied: array-record>=0.5.0 in /home/amir/.local/lib/python3.12/site-packages (from tensorflow-datasets) (0.6.0)\r\n",
      "Requirement already satisfied: etils>=1.9.1 in /home/amir/.local/lib/python3.12/site-packages (from etils[edc,enp,epath,epy,etree]>=1.9.1; python_version >= \"3.11\"->tensorflow-datasets) (1.11.0)\r\n",
      "Requirement already satisfied: fsspec in /usr/local/lib/python3.12/dist-packages (from etils[edc,enp,epath,epy,etree]>=1.9.1; python_version >= \"3.11\"->tensorflow-datasets) (2024.5.0)\r\n",
      "Requirement already satisfied: importlib_resources in /home/amir/.local/lib/python3.12/site-packages (from etils[edc,enp,epath,epy,etree]>=1.9.1; python_version >= \"3.11\"->tensorflow-datasets) (6.4.5)\r\n",
      "Requirement already satisfied: typing_extensions in /usr/lib/python3/dist-packages (from etils[edc,enp,epath,epy,etree]>=1.9.1; python_version >= \"3.11\"->tensorflow-datasets) (4.10.0)\r\n",
      "Requirement already satisfied: zipp in /home/amir/.local/lib/python3.12/site-packages (from etils[edc,enp,epath,epy,etree]>=1.9.1; python_version >= \"3.11\"->tensorflow-datasets) (3.21.0)\r\n",
      "Requirement already satisfied: charset-normalizer<4,>=2 in /usr/local/lib/python3.12/dist-packages (from requests>=2.19.0->tensorflow-datasets) (3.3.2)\r\n",
      "Requirement already satisfied: idna<4,>=2.5 in /usr/lib/python3/dist-packages (from requests>=2.19.0->tensorflow-datasets) (3.6)\r\n",
      "Requirement already satisfied: urllib3<3,>=1.21.1 in /usr/lib/python3/dist-packages (from requests>=2.19.0->tensorflow-datasets) (2.0.7)\r\n",
      "Requirement already satisfied: certifi>=2017.4.17 in /usr/lib/python3/dist-packages (from requests>=2.19.0->tensorflow-datasets) (2023.11.17)\r\n",
      "Requirement already satisfied: six in /usr/lib/python3/dist-packages (from promise->tensorflow-datasets) (1.16.0)\r\n",
      "Requirement already satisfied: docstring-parser<1.0,>=0.15 in /home/amir/.local/lib/python3.12/site-packages (from simple-parsing->tensorflow-datasets) (0.16)\r\n",
      "Requirement already satisfied: googleapis-common-protos<2,>=1.56.4 in /home/amir/.local/lib/python3.12/site-packages (from tensorflow-metadata->tensorflow-datasets) (1.66.0)\r\n"
     ]
    }
   ],
   "execution_count": 18
  },
  {
   "cell_type": "markdown",
   "metadata": {},
   "source": [
    "# Loading Data\n",
    "\n",
    "For this lab we will use a variation of the MNIST datset we used in Lab 1. This dataset, referred to as KMNIST, also consists of handwritten charaters, but they are Kanji characters. You can find a description [here](http://codh.rois.ac.jp/kmnist/index.html.en). The data can be loaded directly into a TensorFlow Dataset using the `tfds.load()` method.\n",
    "\n",
    "When loading the data it can be split into several subsets (see [Splits&Slicing](https://www.tensorflow.org/datasets/splits)). Add the following argument to the `tfds.load()` method: `split=['train[:85%]', 'train[85%:]', 'test']`. This will return a list of three different Datasets. The first, which will have 85% of the traning set, will be used for training. The second, which will use 15% of the training set, will be used for validation. The third Dataset will contain the test set. The validation set will be passed to the fit method as `validation_data`. The performance on this set will be displayed during training, and saved in `history`, but it will not be used for weight updates. By monitoring the validation set during training, we can identify when the network is overfitting."
   ]
  },
  {
   "cell_type": "code",
   "metadata": {
    "ExecuteTime": {
     "end_time": "2024-12-28T00:04:59.636592Z",
     "start_time": "2024-12-28T00:04:30.688413Z"
    }
   },
   "source": [
    "ds, ds_info = tfds.load('kmnist', split=['train[:85%]', 'train[85%:]', 'test'], as_supervised=True, with_info=True)\n",
    "dstrain = ds[0]\n",
    "dsval = ds[1]\n",
    "dstest = ds[2]"
   ],
   "outputs": [
    {
     "name": "stderr",
     "output_type": "stream",
     "text": [
      "2024-12-27 19:04:30.798229: W external/local_tsl/tsl/platform/cloud/google_auth_provider.cc:184] All attempts to get a Google authentication bearer token failed, returning an empty token. Retrieving token from files failed with \"NOT_FOUND: Could not locate the credentials file.\". Retrieving token from GCE failed with \"FAILED_PRECONDITION: Error executing an HTTP request: libcurl code 6 meaning 'Couldn't resolve host name', error details: Could not resolve host: metadata.google.internal\".\n",
      "/usr/local/lib/python3.12/dist-packages/tqdm/auto.py:21: TqdmWarning: IProgress not found. Please update jupyter and ipywidgets. See https://ipywidgets.readthedocs.io/en/stable/user_install.html\n",
      "  from .autonotebook import tqdm as notebook_tqdm\n"
     ]
    },
    {
     "name": "stdout",
     "output_type": "stream",
     "text": [
      "\u001B[1mDownloading and preparing dataset 20.26 MiB (download: 20.26 MiB, generated: 31.76 MiB, total: 52.02 MiB) to /home/amir/tensorflow_datasets/kmnist/3.0.1...\u001B[0m\n"
     ]
    },
    {
     "name": "stderr",
     "output_type": "stream",
     "text": [
      "Dl Completed...: 0 url [00:00, ? url/s]\n",
      "Dl Size...: 0 MiB [00:00, ? MiB/s]\u001B[A\n",
      "\n",
      "Dl Completed...:   0%|          | 0/1 [00:00<?, ? url/s]\n",
      "Dl Size...: 0 MiB [00:00, ? MiB/s]\u001B[A\n",
      "\n",
      "Dl Completed...:   0%|          | 0/2 [00:00<?, ? url/s]\n",
      "Dl Size...: 0 MiB [00:00, ? MiB/s]\u001B[A\n",
      "\n",
      "Dl Completed...:   0%|          | 0/3 [00:00<?, ? url/s]\n",
      "Dl Size...: 0 MiB [00:00, ? MiB/s]\u001B[A\n",
      "\n",
      "Dl Completed...:   0%|          | 0/4 [00:00<?, ? url/s]\n",
      "Dl Size...: 0 MiB [00:00, ? MiB/s]\u001B[A\n",
      "\n",
      "Dl Completed...:   0%|          | 0/4 [00:00<?, ? url/s]\n",
      "Dl Size...: 0 MiB [00:00, ? MiB/s]\u001B[A\n",
      "\n",
      "Dl Completed...:   0%|          | 0/4 [00:00<?, ? url/s]\n",
      "Dl Size...:   0%|          | 0/17 [00:00<?, ? MiB/s]\u001B[A\n",
      "\n",
      "Dl Completed...:   0%|          | 0/4 [00:00<?, ? url/s]\n",
      "Dl Size...:   0%|          | 0/19 [00:00<?, ? MiB/s]\u001B[A\n",
      "\n",
      "Dl Completed...:   0%|          | 0/4 [00:00<?, ? url/s]\n",
      "Dl Size...:   0%|          | 0/19 [00:00<?, ? MiB/s]\u001B[A\n",
      "\n",
      "Dl Completed...:  25%|██▌       | 1/4 [00:00<00:01,  1.94 url/s]\n",
      "Dl Size...:   0%|          | 0/19 [00:00<?, ? MiB/s]\u001B[A\n",
      "\n",
      "Dl Completed...:  25%|██▌       | 1/4 [00:00<00:01,  1.93 url/s]\n",
      "Dl Size...:   0%|          | 0/19 [00:00<?, ? MiB/s]\u001B[A\n",
      "\n",
      "Dl Completed...:  25%|██▌       | 1/4 [00:00<00:01,  1.92 url/s]]\u001B[A\u001B[A\n",
      "Dl Size...:   0%|          | 0/19 [00:00<?, ? MiB/s]\u001B[A\n",
      "\n",
      "Dl Completed...:  50%|█████     | 2/4 [00:00<00:00,  3.00 url/s]3 file/s]\u001B[A\u001B[A\n",
      "Dl Size...:   0%|          | 0/19 [00:00<?, ? MiB/s]\u001B[A\n",
      "\n",
      "Dl Completed...:  50%|█████     | 2/4 [00:00<00:00,  2.98 url/s]0 file/s]\u001B[A\u001B[A\n",
      "Dl Size...:   0%|          | 0/19 [00:00<?, ? MiB/s]\u001B[A\n",
      "\n",
      "Dl Completed...:  50%|█████     | 2/4 [00:00<00:00,  2.98 url/s]9 file/s]\u001B[A\u001B[A\n",
      "Dl Size...:   0%|          | 0/19 [00:00<?, ? MiB/s]\u001B[A\n",
      "\n",
      "Extraction completed...: 100%|██████████| 2/2 [00:00<00:00,  2.98 file/s]\u001B[A\u001B[A\n",
      "Dl Completed...:  50%|█████     | 2/4 [00:01<00:01,  1.20 url/s]\n",
      "Dl Size...:   5%|▌         | 1/19 [00:01<00:29,  1.66s/ MiB]\u001B[A\n",
      "\n",
      "Dl Completed...:  50%|█████     | 2/4 [00:02<00:02,  1.16s/ url]0 file/s]\u001B[A\u001B[A\n",
      "Dl Size...:  11%|█         | 2/19 [00:02<00:28,  1.66s/ MiB]\u001B[A\n",
      "\n",
      "Extraction completed...: 100%|██████████| 2/2 [00:02<00:00,  1.16s/ file]\u001B[A\u001B[A\n",
      "Dl Completed...:  50%|█████     | 2/4 [00:02<00:02,  1.48s/ url]\n",
      "Dl Size...:  16%|█▌        | 3/19 [00:02<00:14,  1.09 MiB/s]\u001B[A\n",
      "\n",
      "Dl Completed...:  50%|█████     | 2/4 [00:03<00:03,  1.89s/ url]8s/ file]\u001B[A\u001B[A\n",
      "Dl Size...:  21%|██        | 4/19 [00:03<00:13,  1.09 MiB/s]\u001B[A\n",
      "\n",
      "Extraction completed...: 100%|██████████| 2/2 [00:03<00:00,  1.89s/ file]\u001B[A\u001B[A\n",
      "Dl Completed...:  50%|█████     | 2/4 [00:04<00:04,  2.30s/ url]\n",
      "Dl Size...:  26%|██▋       | 5/19 [00:04<00:12,  1.15 MiB/s]\u001B[A\n",
      "\n",
      "Dl Completed...:  50%|█████     | 2/4 [00:05<00:05,  2.79s/ url]0s/ file]\u001B[A\u001B[A\n",
      "Dl Size...:  32%|███▏      | 6/19 [00:05<00:11,  1.15 MiB/s]\u001B[A\n",
      "\n",
      "Extraction completed...: 100%|██████████| 2/2 [00:05<00:00,  2.79s/ file]\u001B[A\u001B[A\n",
      "Dl Completed...:  50%|█████     | 2/4 [00:06<00:06,  3.28s/ url]\n",
      "Dl Size...:  37%|███▋      | 7/19 [00:06<00:10,  1.09 MiB/s]\u001B[A\n",
      "\n",
      "Dl Completed...:  50%|█████     | 2/4 [00:07<00:07,  3.74s/ url]8s/ file]\u001B[A\u001B[A\n",
      "Dl Size...:  42%|████▏     | 8/19 [00:07<00:10,  1.09 MiB/s]\u001B[A\n",
      "\n",
      "Extraction completed...: 100%|██████████| 2/2 [00:07<00:00,  3.74s/ file]\u001B[A\u001B[A\n",
      "Dl Completed...:  50%|█████     | 2/4 [00:08<00:08,  4.12s/ url]\n",
      "Dl Size...:  47%|████▋     | 9/19 [00:08<00:08,  1.13 MiB/s]\u001B[A\n",
      "\n",
      "Dl Completed...:  50%|█████     | 2/4 [00:08<00:08,  4.18s/ url]2s/ file]\u001B[A\u001B[A\n",
      "Dl Size...:  53%|█████▎    | 10/19 [00:08<00:07,  1.13 MiB/s]\u001B[A\n",
      "\n",
      "Extraction completed...: 100%|██████████| 2/2 [00:08<00:00,  4.18s/ file]\u001B[A\u001B[A\n",
      "Dl Completed...:  50%|█████     | 2/4 [00:09<00:09,  4.67s/ url]\n",
      "Dl Size...:  58%|█████▊    | 11/19 [00:09<00:06,  1.30 MiB/s]\u001B[A\n",
      "\n",
      "Dl Completed...:  50%|█████     | 2/4 [00:10<00:10,  5.08s/ url]7s/ file]\u001B[A\u001B[A\n",
      "Dl Size...:  63%|██████▎   | 12/19 [00:10<00:05,  1.30 MiB/s]\u001B[A\n",
      "\n",
      "Extraction completed...: 100%|██████████| 2/2 [00:10<00:00,  5.08s/ file]\u001B[A\u001B[A\n",
      "Dl Completed...:  50%|█████     | 2/4 [00:10<00:10,  5.49s/ url]\n",
      "Dl Size...:  68%|██████▊   | 13/19 [00:10<00:04,  1.27 MiB/s]\u001B[A\n",
      "\n",
      "Dl Completed...:  50%|█████     | 2/4 [00:11<00:11,  5.86s/ url]9s/ file]\u001B[A\u001B[A\n",
      "Dl Size...:  74%|███████▎  | 14/19 [00:11<00:03,  1.27 MiB/s]\u001B[A\n",
      "\n",
      "Dl Completed...:  50%|█████     | 2/4 [00:11<00:11,  5.90s/ url]6s/ file]\u001B[A\u001B[A\n",
      "Dl Size...:  79%|███████▉  | 15/19 [00:11<00:03,  1.27 MiB/s]\u001B[A\n",
      "\n",
      "Extraction completed...: 100%|██████████| 2/2 [00:11<00:00,  5.90s/ file]\u001B[A\u001B[A\n",
      "Dl Completed...:  50%|█████     | 2/4 [00:12<00:12,  6.31s/ url]\n",
      "Dl Size...:  84%|████████▍ | 16/19 [00:12<00:02,  1.46 MiB/s]\u001B[A\n",
      "\n",
      "Dl Completed...:  50%|█████     | 2/4 [00:13<00:13,  6.63s/ url]1s/ file]\u001B[A\u001B[A\n",
      "Dl Size...:  89%|████████▉ | 17/19 [00:13<00:01,  1.46 MiB/s]\u001B[A\n",
      "\n",
      "Dl Completed...:  75%|███████▌  | 3/4 [00:13<00:04,  4.46s/ url]3s/ file]\u001B[A\u001B[A\n",
      "Dl Size...:  89%|████████▉ | 17/19 [00:13<00:01,  1.46 MiB/s]\u001B[A\n",
      "\n",
      "Dl Completed...:  75%|███████▌  | 3/4 [00:13<00:04,  4.46s/ url]9s/ file]\u001B[A\u001B[A\n",
      "Dl Size...:  89%|████████▉ | 17/19 [00:13<00:01,  1.46 MiB/s]\u001B[A\n",
      "\n",
      "Extraction completed...:  67%|██████▋   | 2/3 [00:13<00:06,  6.71s/ file]\u001B[A\u001B[A\n",
      "\n",
      "Dl Completed...:  75%|███████▌  | 3/4 [00:13<00:04,  4.46s/ url]7s/ file]\u001B[A\u001B[A\n",
      "Dl Size...:  89%|████████▉ | 17/19 [00:13<00:01,  1.46 MiB/s]\u001B[A\n",
      "\n",
      "Extraction completed...: 100%|██████████| 3/3 [00:13<00:00,  4.47s/ file]\u001B[A\u001B[A\n",
      "Dl Completed...:  75%|███████▌  | 3/4 [00:13<00:04,  4.46s/ url]\n",
      "Dl Size...:  95%|█████████▍| 18/19 [00:13<00:00,  1.53 MiB/s]\u001B[A\n",
      "\n",
      "Dl Completed...:  75%|███████▌  | 3/4 [00:14<00:04,  4.46s/ url]7s/ file]\u001B[A\u001B[A\n",
      "Dl Size...: 100%|██████████| 19/19 [00:14<00:00,  1.53 MiB/s]\u001B[A\n",
      "\n",
      "Dl Completed...: 100%|██████████| 4/4 [00:14<00:00,  3.35s/ url]7s/ file]\u001B[A\u001B[A\n",
      "Dl Size...: 100%|██████████| 19/19 [00:14<00:00,  1.53 MiB/s]\u001B[A\n",
      "\n",
      "Dl Completed...: 100%|██████████| 4/4 [00:14<00:00,  3.35s/ url]7s/ file]\u001B[A\u001B[A\n",
      "Dl Size...: 100%|██████████| 19/19 [00:14<00:00,  1.53 MiB/s]\u001B[A\n",
      "\n",
      "Extraction completed...:  75%|███████▌  | 3/4 [00:14<00:04,  4.47s/ file]\u001B[A\u001B[A\n",
      "\n",
      "Dl Completed...: 100%|██████████| 4/4 [00:14<00:00,  3.35s/ url]0s/ file]\u001B[A\u001B[A\n",
      "Dl Size...: 100%|██████████| 19/19 [00:14<00:00,  1.53 MiB/s]\u001B[A\n",
      "\n",
      "Extraction completed...: 100%|██████████| 4/4 [00:14<00:00,  3.64s/ file]\u001B[A\u001B[A\n",
      "Dl Size...: 100%|██████████| 19/19 [00:14<00:00,  1.30 MiB/s]\n",
      "Dl Completed...: 100%|██████████| 4/4 [00:14<00:00,  3.64s/ url]\n",
      "Generating splits...:   0%|          | 0/2 [00:00<?, ? splits/s]\n",
      "Generating train examples...:   0%|          | 0/60000 [00:00<?, ? examples/s]\u001B[AWARNING: All log messages before absl::InitializeLog() is called are written to STDERR\n",
      "I0000 00:00:1735344285.935984 1768459 cuda_executor.cc:1015] successful NUMA node read from SysFS had negative value (-1), but there must be at least one NUMA node, so returning NUMA node zero. See more at https://github.com/torvalds/linux/blob/v6.0/Documentation/ABI/testing/sysfs-bus-pci#L344-L355\n",
      "I0000 00:00:1735344285.955878 1768459 cuda_executor.cc:1015] successful NUMA node read from SysFS had negative value (-1), but there must be at least one NUMA node, so returning NUMA node zero. See more at https://github.com/torvalds/linux/blob/v6.0/Documentation/ABI/testing/sysfs-bus-pci#L344-L355\n",
      "I0000 00:00:1735344285.955997 1768459 cuda_executor.cc:1015] successful NUMA node read from SysFS had negative value (-1), but there must be at least one NUMA node, so returning NUMA node zero. See more at https://github.com/torvalds/linux/blob/v6.0/Documentation/ABI/testing/sysfs-bus-pci#L344-L355\n",
      "I0000 00:00:1735344285.956784 1768459 cuda_executor.cc:1015] successful NUMA node read from SysFS had negative value (-1), but there must be at least one NUMA node, so returning NUMA node zero. See more at https://github.com/torvalds/linux/blob/v6.0/Documentation/ABI/testing/sysfs-bus-pci#L344-L355\n",
      "I0000 00:00:1735344285.956893 1768459 cuda_executor.cc:1015] successful NUMA node read from SysFS had negative value (-1), but there must be at least one NUMA node, so returning NUMA node zero. See more at https://github.com/torvalds/linux/blob/v6.0/Documentation/ABI/testing/sysfs-bus-pci#L344-L355\n",
      "I0000 00:00:1735344285.956955 1768459 cuda_executor.cc:1015] successful NUMA node read from SysFS had negative value (-1), but there must be at least one NUMA node, so returning NUMA node zero. See more at https://github.com/torvalds/linux/blob/v6.0/Documentation/ABI/testing/sysfs-bus-pci#L344-L355\n",
      "I0000 00:00:1735344286.014390 1768459 cuda_executor.cc:1015] successful NUMA node read from SysFS had negative value (-1), but there must be at least one NUMA node, so returning NUMA node zero. See more at https://github.com/torvalds/linux/blob/v6.0/Documentation/ABI/testing/sysfs-bus-pci#L344-L355\n",
      "I0000 00:00:1735344286.014495 1768459 cuda_executor.cc:1015] successful NUMA node read from SysFS had negative value (-1), but there must be at least one NUMA node, so returning NUMA node zero. See more at https://github.com/torvalds/linux/blob/v6.0/Documentation/ABI/testing/sysfs-bus-pci#L344-L355\n",
      "I0000 00:00:1735344286.014566 1768459 cuda_executor.cc:1015] successful NUMA node read from SysFS had negative value (-1), but there must be at least one NUMA node, so returning NUMA node zero. See more at https://github.com/torvalds/linux/blob/v6.0/Documentation/ABI/testing/sysfs-bus-pci#L344-L355\n",
      "2024-12-27 19:04:46.014700: I tensorflow/core/common_runtime/gpu/gpu_device.cc:2021] Created device /job:localhost/replica:0/task:0/device:GPU:0 with 14411 MB memory:  -> device: 0, name: NVIDIA RTX A5000 Laptop GPU, pci bus id: 0000:01:00.0, compute capability: 8.6\n",
      "\n",
      "Generating train examples...:   7%|▋         | 3940/60000 [00:01<00:14, 3939.44 examples/s]\u001B[A\n",
      "Generating train examples...:  15%|█▌        | 9270/60000 [00:02<00:10, 4757.24 examples/s]\u001B[A\n",
      "Generating train examples...:  24%|██▍       | 14562/60000 [00:03<00:09, 5001.30 examples/s]\u001B[A\n",
      "Generating train examples...:  33%|███▎      | 19926/60000 [00:04<00:07, 5144.28 examples/s]\u001B[A\n",
      "Generating train examples...:  42%|████▏     | 25355/60000 [00:05<00:06, 5246.68 examples/s]\u001B[A\n",
      "Generating train examples...:  51%|█████▏    | 30778/60000 [00:06<00:05, 5306.43 examples/s]\u001B[A\n",
      "Generating train examples...:  60%|██████    | 36085/60000 [00:07<00:04, 5286.90 examples/s]\u001B[A\n",
      "Generating train examples...:  69%|██████▉   | 41421/60000 [00:08<00:03, 5302.22 examples/s]\u001B[A\n",
      "Generating train examples...:  78%|███████▊  | 46770/60000 [00:09<00:02, 5316.80 examples/s]\u001B[A\n",
      "Generating train examples...:  87%|████████▋ | 52151/60000 [00:10<00:01, 5336.53 examples/s]\u001B[A\n",
      "Generating train examples...:  96%|█████████▌| 57488/60000 [00:11<00:00, 5331.36 examples/s]\u001B[A\n",
      "                                                                                            \u001B[A\n",
      "Shuffling /home/amir/tensorflow_datasets/kmnist/incomplete.UXZ395_3.0.1/kmnist-train.tfrecord*...:   0%|          | 0/60000 [00:00<?, ? examples/s]\u001B[A\n",
      "Generating splits...:  50%|█████     | 1/2 [00:11<00:11, 11.59s/ splits]                                                                           \u001B[A\n",
      "Generating test examples...:   0%|          | 0/10000 [00:00<?, ? examples/s]\u001B[A\n",
      "Generating test examples...:  45%|████▍     | 4496/10000 [00:01<00:01, 4495.88 examples/s]\u001B[A\n",
      "Generating test examples...:  96%|█████████▌| 9612/10000 [00:02<00:00, 4860.08 examples/s]\u001B[A\n",
      "                                                                                          \u001B[A\n",
      "Shuffling /home/amir/tensorflow_datasets/kmnist/incomplete.UXZ395_3.0.1/kmnist-test.tfrecord*...:   0%|          | 0/10000 [00:00<?, ? examples/s]\u001B[A\n",
      "                                                                                                                                                  \u001B[A"
     ]
    },
    {
     "name": "stdout",
     "output_type": "stream",
     "text": [
      "\u001B[1mDataset kmnist downloaded and prepared to /home/amir/tensorflow_datasets/kmnist/3.0.1. Subsequent calls will reuse this data.\u001B[0m\n"
     ]
    },
    {
     "name": "stderr",
     "output_type": "stream",
     "text": [
      "\r"
     ]
    }
   ],
   "execution_count": 7
  },
  {
   "cell_type": "markdown",
   "metadata": {},
   "source": [
    "You can see a sample of the dataset with the following command. "
   ]
  },
  {
   "cell_type": "code",
   "metadata": {
    "ExecuteTime": {
     "end_time": "2024-12-28T00:05:00.355436Z",
     "start_time": "2024-12-28T00:05:00.089791Z"
    }
   },
   "source": [
    "tfds.visualization.show_examples(dstrain, ds_info)"
   ],
   "outputs": [
    {
     "name": "stderr",
     "output_type": "stream",
     "text": [
      "2024-12-27 19:05:00.133278: W tensorflow/core/kernels/data/cache_dataset_ops.cc:913] The calling iterator did not fully read the dataset being cached. In order to avoid unexpected truncation of the dataset, the partially cached contents of the dataset  will be discarded. This can happen if you have an input pipeline similar to `dataset.cache().take(k).repeat()`. You should use `dataset.take(k).cache().repeat()` instead.\n",
      "2024-12-27 19:05:00.143622: I tensorflow/core/framework/local_rendezvous.cc:404] Local rendezvous is aborting with status: OUT_OF_RANGE: End of sequence\n"
     ]
    },
    {
     "data": {
      "text/plain": [
       "<Figure size 900x900 with 9 Axes>"
      ],
      "image/png": "[encoded data removed]"
     },
     "metadata": {},
     "output_type": "display_data"
    },
    {
     "data": {
      "text/plain": [
       "<Figure size 900x900 with 9 Axes>"
      ],
      "image/png": "[encoded data removed]"
     },
     "execution_count": 8,
     "metadata": {},
     "output_type": "execute_result"
    }
   ],
   "execution_count": 8
  },
  {
   "cell_type": "markdown",
   "metadata": {},
   "source": [
    "# Normalization\n",
    "\n",
    "As in the first lab, it is helpful to normalize the input images before training. Since the data is in a Dataset, we can create a normalization function and then use the `map()` method to apply it to the Dataset. \n",
    "\n",
    "First, create a normalization model, using `models.Sequential()` and `preprocessing.Rescaling()`. (See [preprocssing](https://www.tensorflow.org/api_docs/python/tf/keras/layers/experimental/preprocessing) for documentation.) As in the first lab, you want to divide the input by 255. "
   ]
  },
  {
   "cell_type": "code",
   "metadata": {
    "ExecuteTime": {
     "end_time": "2024-12-28T00:05:17.977174Z",
     "start_time": "2024-12-28T00:05:17.973997Z"
    }
   },
   "source": [
    "# \"preprocessing\" will be replaced by \"layers\" in later versions of TF\n",
    "norm = models.Sequential([\n",
    "    Rescaling(scale=1.0 / 255)\n",
    "])"
   ],
   "outputs": [],
   "execution_count": 10
  },
  {
   "cell_type": "markdown",
   "metadata": {},
   "source": [
    "Next, use the  `map()` method and a `lambda` function to apply the normalization model to the training, validation and test Datasets. In the `lambda` function there will be two arguments, the network input and the target output. Only the network input is passed through the normalization model."
   ]
  },
  {
   "cell_type": "code",
   "metadata": {
    "ExecuteTime": {
     "end_time": "2024-12-28T00:05:19.898150Z",
     "start_time": "2024-12-28T00:05:19.865967Z"
    }
   },
   "source": [
    "dstrain = dstrain.map(lambda x, y: (norm(x), y))\n",
    "dsval = dsval.map(lambda x, y: (norm(x), y))\n",
    "dstest = dstest.map(lambda x, y: (norm(x), y))"
   ],
   "outputs": [],
   "execution_count": 11
  },
  {
   "cell_type": "markdown",
   "metadata": {},
   "source": [
    "Group the data in the training, validation and testing Datasets into minibatches of size 100, using the `batch()` method."
   ]
  },
  {
   "cell_type": "code",
   "metadata": {
    "ExecuteTime": {
     "end_time": "2024-12-28T00:05:21.496217Z",
     "start_time": "2024-12-28T00:05:21.481859Z"
    }
   },
   "source": [
    "dstrain  = dstrain.batch(100)\n",
    "dsval = dsval.batch(100)\n",
    "dstest = dstest.batch(100)"
   ],
   "outputs": [],
   "execution_count": 12
  },
  {
   "cell_type": "markdown",
   "metadata": {},
   "source": [
    "# Create and Train the Network\n",
    "\n",
    "Let's begin by using the make_network method from the first lab."
   ]
  },
  {
   "cell_type": "code",
   "metadata": {
    "ExecuteTime": {
     "end_time": "2024-12-28T00:05:25.218207Z",
     "start_time": "2024-12-28T00:05:25.216014Z"
    }
   },
   "source": [
    "def make_model(neurons):\n",
    "    model = models.Sequential()\n",
    "    model.add(layers.Flatten(input_shape=(28, 28)))\n",
    "    for n in neurons:\n",
    "        model.add(layers.Dense(n, activation='relu'))\n",
    "    model.add(layers.Dense(10, activation='softmax'))\n",
    "    return model"
   ],
   "outputs": [],
   "execution_count": 14
  },
  {
   "cell_type": "markdown",
   "metadata": {},
   "source": [
    "Make a network with five hidden layers of 10 neurons, compile it with the `adam` optimizer, `SparseCategoricalCrossentropy()` loss and `accuracy` metric. Then train it with the default learning rate (no callbacks) for 100 epochs. (We are using `SparseCategoricalCrossentropy()` so we do not need to convert the targets to  one-hot codes.) Add the argument `validation_data=dsval` to the `model.fit()` command, so that validation loss and accuracy will be computed."
   ]
  },
  {
   "cell_type": "code",
   "metadata": {
    "ExecuteTime": {
     "end_time": "2024-12-28T00:06:12.232369Z",
     "start_time": "2024-12-28T00:05:27.709770Z"
    }
   },
   "source": [
    "model = make_model([10]*5)\n",
    "model.compile(optimizer='adam',loss=SparseCategoricalCrossentropy(), metrics=['accuracy'])\n",
    "history = model.fit(dstrain, epochs=100, validation_data=dsval)"
   ],
   "outputs": [
    {
     "name": "stdout",
     "output_type": "stream",
     "text": [
      "Epoch 1/100\n"
     ]
    },
    {
     "name": "stderr",
     "output_type": "stream",
     "text": [
      "/usr/local/lib/python3.12/dist-packages/keras/src/layers/reshaping/flatten.py:37: UserWarning: Do not pass an `input_shape`/`input_dim` argument to a layer. When using Sequential models, prefer using an `Input(shape)` object as the first layer in the model instead.\n",
      "  super().__init__(**kwargs)\n",
      "WARNING: All log messages before absl::InitializeLog() is called are written to STDERR\n",
      "I0000 00:00:1735344328.418042 1770795 service.cc:146] XLA service 0x7783d00155c0 initialized for platform CUDA (this does not guarantee that XLA will be used). Devices:\n",
      "I0000 00:00:1735344328.418080 1770795 service.cc:154]   StreamExecutor device (0): NVIDIA RTX A5000 Laptop GPU, Compute Capability 8.6\n",
      "2024-12-27 19:05:28.438044: I tensorflow/compiler/mlir/tensorflow/utils/dump_mlir_util.cc:268] disabling MLIR crash reproducer, set env var `MLIR_CRASH_REPRODUCER_DIRECTORY` to enable.\n",
      "2024-12-27 19:05:28.536700: I external/local_xla/xla/stream_executor/cuda/cuda_dnn.cc:531] Loaded cuDNN version 8902\n"
     ]
    },
    {
     "name": "stdout",
     "output_type": "stream",
     "text": [
      "\u001B[1m163/510\u001B[0m \u001B[32m━━━━━━\u001B[0m\u001B[37m━━━━━━━━━━━━━━\u001B[0m \u001B[1m0s\u001B[0m 933us/step - accuracy: 0.1672 - loss: 2.1873"
     ]
    },
    {
     "name": "stderr",
     "output_type": "stream",
     "text": [
      "I0000 00:00:1735344328.984510 1770795 device_compiler.h:188] Compiled cluster using XLA!  This line is logged at most once for the lifetime of the process.\n"
     ]
    },
    {
     "name": "stdout",
     "output_type": "stream",
     "text": [
      "\u001B[1m510/510\u001B[0m \u001B[32m━━━━━━━━━━━━━━━━━━━━\u001B[0m\u001B[37m\u001B[0m \u001B[1m2s\u001B[0m 2ms/step - accuracy: 0.3061 - loss: 1.8660 - val_accuracy: 0.6634 - val_loss: 0.9805\n",
      "Epoch 2/100\n",
      "\u001B[1m510/510\u001B[0m \u001B[32m━━━━━━━━━━━━━━━━━━━━\u001B[0m\u001B[37m\u001B[0m \u001B[1m0s\u001B[0m 806us/step - accuracy: 0.7034 - loss: 0.9115 - val_accuracy: 0.7581 - val_loss: 0.7829\n",
      "Epoch 3/100\n",
      "\u001B[1m510/510\u001B[0m \u001B[32m━━━━━━━━━━━━━━━━━━━━\u001B[0m\u001B[37m\u001B[0m \u001B[1m0s\u001B[0m 803us/step - accuracy: 0.7672 - loss: 0.7454 - val_accuracy: 0.7859 - val_loss: 0.6983\n",
      "Epoch 4/100\n",
      "\u001B[1m510/510\u001B[0m \u001B[32m━━━━━━━━━━━━━━━━━━━━\u001B[0m\u001B[37m\u001B[0m \u001B[1m0s\u001B[0m 807us/step - accuracy: 0.7953 - loss: 0.6624 - val_accuracy: 0.8034 - val_loss: 0.6496\n",
      "Epoch 5/100\n",
      "\u001B[1m510/510\u001B[0m \u001B[32m━━━━━━━━━━━━━━━━━━━━\u001B[0m\u001B[37m\u001B[0m \u001B[1m0s\u001B[0m 804us/step - accuracy: 0.8115 - loss: 0.6127 - val_accuracy: 0.8129 - val_loss: 0.6249\n",
      "Epoch 6/100\n",
      "\u001B[1m510/510\u001B[0m \u001B[32m━━━━━━━━━━━━━━━━━━━━\u001B[0m\u001B[37m\u001B[0m \u001B[1m0s\u001B[0m 803us/step - accuracy: 0.8218 - loss: 0.5792 - val_accuracy: 0.8203 - val_loss: 0.6059\n",
      "Epoch 7/100\n",
      "\u001B[1m510/510\u001B[0m \u001B[32m━━━━━━━━━━━━━━━━━━━━\u001B[0m\u001B[37m\u001B[0m \u001B[1m0s\u001B[0m 807us/step - accuracy: 0.8311 - loss: 0.5542 - val_accuracy: 0.8253 - val_loss: 0.5911\n",
      "Epoch 8/100\n",
      "\u001B[1m510/510\u001B[0m \u001B[32m━━━━━━━━━━━━━━━━━━━━\u001B[0m\u001B[37m\u001B[0m \u001B[1m0s\u001B[0m 807us/step - accuracy: 0.8374 - loss: 0.5355 - val_accuracy: 0.8296 - val_loss: 0.5806\n",
      "Epoch 9/100\n",
      "\u001B[1m510/510\u001B[0m \u001B[32m━━━━━━━━━━━━━━━━━━━━\u001B[0m\u001B[37m\u001B[0m \u001B[1m0s\u001B[0m 804us/step - accuracy: 0.8417 - loss: 0.5201 - val_accuracy: 0.8312 - val_loss: 0.5712\n",
      "Epoch 10/100\n",
      "\u001B[1m510/510\u001B[0m \u001B[32m━━━━━━━━━━━━━━━━━━━━\u001B[0m\u001B[37m\u001B[0m \u001B[1m0s\u001B[0m 810us/step - accuracy: 0.8455 - loss: 0.5074 - val_accuracy: 0.8331 - val_loss: 0.5606\n",
      "Epoch 11/100\n",
      "\u001B[1m510/510\u001B[0m \u001B[32m━━━━━━━━━━━━━━━━━━━━\u001B[0m\u001B[37m\u001B[0m \u001B[1m0s\u001B[0m 807us/step - accuracy: 0.8483 - loss: 0.4958 - val_accuracy: 0.8348 - val_loss: 0.5521\n",
      "Epoch 12/100\n",
      "\u001B[1m510/510\u001B[0m \u001B[32m━━━━━━━━━━━━━━━━━━━━\u001B[0m\u001B[37m\u001B[0m \u001B[1m0s\u001B[0m 810us/step - accuracy: 0.8525 - loss: 0.4845 - val_accuracy: 0.8393 - val_loss: 0.5447\n",
      "Epoch 13/100\n",
      "\u001B[1m510/510\u001B[0m \u001B[32m━━━━━━━━━━━━━━━━━━━━\u001B[0m\u001B[37m\u001B[0m \u001B[1m0s\u001B[0m 805us/step - accuracy: 0.8557 - loss: 0.4737 - val_accuracy: 0.8420 - val_loss: 0.5339\n",
      "Epoch 14/100\n",
      "\u001B[1m510/510\u001B[0m \u001B[32m━━━━━━━━━━━━━━━━━━━━\u001B[0m\u001B[37m\u001B[0m \u001B[1m0s\u001B[0m 811us/step - accuracy: 0.8590 - loss: 0.4631 - val_accuracy: 0.8449 - val_loss: 0.5267\n",
      "Epoch 15/100\n",
      "\u001B[1m510/510\u001B[0m \u001B[32m━━━━━━━━━━━━━━━━━━━━\u001B[0m\u001B[37m\u001B[0m \u001B[1m0s\u001B[0m 808us/step - accuracy: 0.8626 - loss: 0.4540 - val_accuracy: 0.8471 - val_loss: 0.5199\n",
      "Epoch 16/100\n",
      "\u001B[1m510/510\u001B[0m \u001B[32m━━━━━━━━━━━━━━━━━━━━\u001B[0m\u001B[37m\u001B[0m \u001B[1m0s\u001B[0m 803us/step - accuracy: 0.8633 - loss: 0.4467 - val_accuracy: 0.8487 - val_loss: 0.5154\n",
      "Epoch 17/100\n",
      "\u001B[1m510/510\u001B[0m \u001B[32m━━━━━━━━━━━━━━━━━━━━\u001B[0m\u001B[37m\u001B[0m \u001B[1m0s\u001B[0m 810us/step - accuracy: 0.8669 - loss: 0.4400 - val_accuracy: 0.8506 - val_loss: 0.5106\n",
      "Epoch 18/100\n",
      "\u001B[1m510/510\u001B[0m \u001B[32m━━━━━━━━━━━━━━━━━━━━\u001B[0m\u001B[37m\u001B[0m \u001B[1m0s\u001B[0m 807us/step - accuracy: 0.8687 - loss: 0.4337 - val_accuracy: 0.8526 - val_loss: 0.5082\n",
      "Epoch 19/100\n",
      "\u001B[1m510/510\u001B[0m \u001B[32m━━━━━━━━━━━━━━━━━━━━\u001B[0m\u001B[37m\u001B[0m \u001B[1m0s\u001B[0m 809us/step - accuracy: 0.8708 - loss: 0.4281 - val_accuracy: 0.8539 - val_loss: 0.5052\n",
      "Epoch 20/100\n",
      "\u001B[1m510/510\u001B[0m \u001B[32m━━━━━━━━━━━━━━━━━━━━\u001B[0m\u001B[37m\u001B[0m \u001B[1m0s\u001B[0m 814us/step - accuracy: 0.8717 - loss: 0.4235 - val_accuracy: 0.8532 - val_loss: 0.5028\n",
      "Epoch 21/100\n",
      "\u001B[1m510/510\u001B[0m \u001B[32m━━━━━━━━━━━━━━━━━━━━\u001B[0m\u001B[37m\u001B[0m \u001B[1m0s\u001B[0m 812us/step - accuracy: 0.8726 - loss: 0.4191 - val_accuracy: 0.8542 - val_loss: 0.5016\n",
      "Epoch 22/100\n",
      "\u001B[1m510/510\u001B[0m \u001B[32m━━━━━━━━━━━━━━━━━━━━\u001B[0m\u001B[37m\u001B[0m \u001B[1m0s\u001B[0m 815us/step - accuracy: 0.8746 - loss: 0.4145 - val_accuracy: 0.8536 - val_loss: 0.4988\n",
      "Epoch 23/100\n",
      "\u001B[1m510/510\u001B[0m \u001B[32m━━━━━━━━━━━━━━━━━━━━\u001B[0m\u001B[37m\u001B[0m \u001B[1m0s\u001B[0m 810us/step - accuracy: 0.8757 - loss: 0.4110 - val_accuracy: 0.8542 - val_loss: 0.4982\n",
      "Epoch 24/100\n",
      "\u001B[1m510/510\u001B[0m \u001B[32m━━━━━━━━━━━━━━━━━━━━\u001B[0m\u001B[37m\u001B[0m \u001B[1m0s\u001B[0m 813us/step - accuracy: 0.8769 - loss: 0.4076 - val_accuracy: 0.8539 - val_loss: 0.4969\n",
      "Epoch 25/100\n",
      "\u001B[1m510/510\u001B[0m \u001B[32m━━━━━━━━━━━━━━━━━━━━\u001B[0m\u001B[37m\u001B[0m \u001B[1m0s\u001B[0m 812us/step - accuracy: 0.8782 - loss: 0.4041 - val_accuracy: 0.8530 - val_loss: 0.4959\n",
      "Epoch 26/100\n",
      "\u001B[1m510/510\u001B[0m \u001B[32m━━━━━━━━━━━━━━━━━━━━\u001B[0m\u001B[37m\u001B[0m \u001B[1m0s\u001B[0m 818us/step - accuracy: 0.8786 - loss: 0.4012 - val_accuracy: 0.8544 - val_loss: 0.4947\n",
      "Epoch 27/100\n",
      "\u001B[1m510/510\u001B[0m \u001B[32m━━━━━━━━━━━━━━━━━━━━\u001B[0m\u001B[37m\u001B[0m \u001B[1m0s\u001B[0m 815us/step - accuracy: 0.8793 - loss: 0.3986 - val_accuracy: 0.8540 - val_loss: 0.4938\n",
      "Epoch 28/100\n",
      "\u001B[1m510/510\u001B[0m \u001B[32m━━━━━━━━━━━━━━━━━━━━\u001B[0m\u001B[37m\u001B[0m \u001B[1m0s\u001B[0m 813us/step - accuracy: 0.8805 - loss: 0.3958 - val_accuracy: 0.8543 - val_loss: 0.4941\n",
      "Epoch 29/100\n",
      "\u001B[1m510/510\u001B[0m \u001B[32m━━━━━━━━━━━━━━━━━━━━\u001B[0m\u001B[37m\u001B[0m \u001B[1m0s\u001B[0m 813us/step - accuracy: 0.8816 - loss: 0.3937 - val_accuracy: 0.8537 - val_loss: 0.4945\n",
      "Epoch 30/100\n",
      "\u001B[1m510/510\u001B[0m \u001B[32m━━━━━━━━━━━━━━━━━━━━\u001B[0m\u001B[37m\u001B[0m \u001B[1m0s\u001B[0m 815us/step - accuracy: 0.8825 - loss: 0.3915 - val_accuracy: 0.8541 - val_loss: 0.4956\n",
      "Epoch 31/100\n",
      "\u001B[1m510/510\u001B[0m \u001B[32m━━━━━━━━━━━━━━━━━━━━\u001B[0m\u001B[37m\u001B[0m \u001B[1m0s\u001B[0m 815us/step - accuracy: 0.8837 - loss: 0.3894 - val_accuracy: 0.8534 - val_loss: 0.4964\n",
      "Epoch 32/100\n",
      "\u001B[1m510/510\u001B[0m \u001B[32m━━━━━━━━━━━━━━━━━━━━\u001B[0m\u001B[37m\u001B[0m \u001B[1m0s\u001B[0m 815us/step - accuracy: 0.8840 - loss: 0.3872 - val_accuracy: 0.8537 - val_loss: 0.4963\n",
      "Epoch 33/100\n",
      "\u001B[1m510/510\u001B[0m \u001B[32m━━━━━━━━━━━━━━━━━━━━\u001B[0m\u001B[37m\u001B[0m \u001B[1m0s\u001B[0m 812us/step - accuracy: 0.8846 - loss: 0.3852 - val_accuracy: 0.8540 - val_loss: 0.4974\n",
      "Epoch 34/100\n",
      "\u001B[1m510/510\u001B[0m \u001B[32m━━━━━━━━━━━━━━━━━━━━\u001B[0m\u001B[37m\u001B[0m \u001B[1m0s\u001B[0m 817us/step - accuracy: 0.8853 - loss: 0.3836 - val_accuracy: 0.8527 - val_loss: 0.4983\n",
      "Epoch 35/100\n",
      "\u001B[1m510/510\u001B[0m \u001B[32m━━━━━━━━━━━━━━━━━━━━\u001B[0m\u001B[37m\u001B[0m \u001B[1m0s\u001B[0m 813us/step - accuracy: 0.8860 - loss: 0.3820 - val_accuracy: 0.8524 - val_loss: 0.4995\n",
      "Epoch 36/100\n",
      "\u001B[1m510/510\u001B[0m \u001B[32m━━━━━━━━━━━━━━━━━━━━\u001B[0m\u001B[37m\u001B[0m \u001B[1m0s\u001B[0m 816us/step - accuracy: 0.8859 - loss: 0.3807 - val_accuracy: 0.8520 - val_loss: 0.5003\n",
      "Epoch 37/100\n",
      "\u001B[1m510/510\u001B[0m \u001B[32m━━━━━━━━━━━━━━━━━━━━\u001B[0m\u001B[37m\u001B[0m \u001B[1m0s\u001B[0m 810us/step - accuracy: 0.8865 - loss: 0.3788 - val_accuracy: 0.8526 - val_loss: 0.5005\n",
      "Epoch 38/100\n",
      "\u001B[1m510/510\u001B[0m \u001B[32m━━━━━━━━━━━━━━━━━━━━\u001B[0m\u001B[37m\u001B[0m \u001B[1m0s\u001B[0m 819us/step - accuracy: 0.8866 - loss: 0.3780 - val_accuracy: 0.8510 - val_loss: 0.5015\n",
      "Epoch 39/100\n",
      "\u001B[1m510/510\u001B[0m \u001B[32m━━━━━━━━━━━━━━━━━━━━\u001B[0m\u001B[37m\u001B[0m \u001B[1m0s\u001B[0m 817us/step - accuracy: 0.8877 - loss: 0.3762 - val_accuracy: 0.8526 - val_loss: 0.5021\n",
      "Epoch 40/100\n",
      "\u001B[1m510/510\u001B[0m \u001B[32m━━━━━━━━━━━━━━━━━━━━\u001B[0m\u001B[37m\u001B[0m \u001B[1m0s\u001B[0m 815us/step - accuracy: 0.8879 - loss: 0.3749 - val_accuracy: 0.8522 - val_loss: 0.5032\n",
      "Epoch 41/100\n",
      "\u001B[1m510/510\u001B[0m \u001B[32m━━━━━━━━━━━━━━━━━━━━\u001B[0m\u001B[37m\u001B[0m \u001B[1m0s\u001B[0m 816us/step - accuracy: 0.8883 - loss: 0.3735 - val_accuracy: 0.8527 - val_loss: 0.5038\n",
      "Epoch 42/100\n",
      "\u001B[1m510/510\u001B[0m \u001B[32m━━━━━━━━━━━━━━━━━━━━\u001B[0m\u001B[37m\u001B[0m \u001B[1m0s\u001B[0m 815us/step - accuracy: 0.8891 - loss: 0.3723 - val_accuracy: 0.8521 - val_loss: 0.5049\n",
      "Epoch 43/100\n",
      "\u001B[1m510/510\u001B[0m \u001B[32m━━━━━━━━━━━━━━━━━━━━\u001B[0m\u001B[37m\u001B[0m \u001B[1m0s\u001B[0m 822us/step - accuracy: 0.8887 - loss: 0.3713 - val_accuracy: 0.8526 - val_loss: 0.5069\n",
      "Epoch 44/100\n",
      "\u001B[1m510/510\u001B[0m \u001B[32m━━━━━━━━━━━━━━━━━━━━\u001B[0m\u001B[37m\u001B[0m \u001B[1m0s\u001B[0m 817us/step - accuracy: 0.8894 - loss: 0.3703 - val_accuracy: 0.8526 - val_loss: 0.5077\n",
      "Epoch 45/100\n",
      "\u001B[1m510/510\u001B[0m \u001B[32m━━━━━━━━━━━━━━━━━━━━\u001B[0m\u001B[37m\u001B[0m \u001B[1m0s\u001B[0m 820us/step - accuracy: 0.8898 - loss: 0.3693 - val_accuracy: 0.8521 - val_loss: 0.5084\n",
      "Epoch 46/100\n",
      "\u001B[1m510/510\u001B[0m \u001B[32m━━━━━━━━━━━━━━━━━━━━\u001B[0m\u001B[37m\u001B[0m \u001B[1m0s\u001B[0m 819us/step - accuracy: 0.8904 - loss: 0.3679 - val_accuracy: 0.8510 - val_loss: 0.5087\n",
      "Epoch 47/100\n",
      "\u001B[1m510/510\u001B[0m \u001B[32m━━━━━━━━━━━━━━━━━━━━\u001B[0m\u001B[37m\u001B[0m \u001B[1m0s\u001B[0m 821us/step - accuracy: 0.8911 - loss: 0.3664 - val_accuracy: 0.8517 - val_loss: 0.5095\n",
      "Epoch 48/100\n",
      "\u001B[1m510/510\u001B[0m \u001B[32m━━━━━━━━━━━━━━━━━━━━\u001B[0m\u001B[37m\u001B[0m \u001B[1m0s\u001B[0m 817us/step - accuracy: 0.8909 - loss: 0.3657 - val_accuracy: 0.8526 - val_loss: 0.5088\n",
      "Epoch 49/100\n",
      "\u001B[1m510/510\u001B[0m \u001B[32m━━━━━━━━━━━━━━━━━━━━\u001B[0m\u001B[37m\u001B[0m \u001B[1m0s\u001B[0m 818us/step - accuracy: 0.8912 - loss: 0.3646 - val_accuracy: 0.8518 - val_loss: 0.5097\n",
      "Epoch 50/100\n",
      "\u001B[1m510/510\u001B[0m \u001B[32m━━━━━━━━━━━━━━━━━━━━\u001B[0m\u001B[37m\u001B[0m \u001B[1m0s\u001B[0m 822us/step - accuracy: 0.8919 - loss: 0.3632 - val_accuracy: 0.8522 - val_loss: 0.5099\n",
      "Epoch 51/100\n",
      "\u001B[1m510/510\u001B[0m \u001B[32m━━━━━━━━━━━━━━━━━━━━\u001B[0m\u001B[37m\u001B[0m \u001B[1m0s\u001B[0m 820us/step - accuracy: 0.8918 - loss: 0.3628 - val_accuracy: 0.8528 - val_loss: 0.5108\n",
      "Epoch 52/100\n",
      "\u001B[1m510/510\u001B[0m \u001B[32m━━━━━━━━━━━━━━━━━━━━\u001B[0m\u001B[37m\u001B[0m \u001B[1m0s\u001B[0m 821us/step - accuracy: 0.8926 - loss: 0.3618 - val_accuracy: 0.8524 - val_loss: 0.5107\n",
      "Epoch 53/100\n",
      "\u001B[1m510/510\u001B[0m \u001B[32m━━━━━━━━━━━━━━━━━━━━\u001B[0m\u001B[37m\u001B[0m \u001B[1m0s\u001B[0m 822us/step - accuracy: 0.8921 - loss: 0.3609 - val_accuracy: 0.8520 - val_loss: 0.5117\n",
      "Epoch 54/100\n",
      "\u001B[1m510/510\u001B[0m \u001B[32m━━━━━━━━━━━━━━━━━━━━\u001B[0m\u001B[37m\u001B[0m \u001B[1m0s\u001B[0m 816us/step - accuracy: 0.8926 - loss: 0.3601 - val_accuracy: 0.8520 - val_loss: 0.5116\n",
      "Epoch 55/100\n",
      "\u001B[1m510/510\u001B[0m \u001B[32m━━━━━━━━━━━━━━━━━━━━\u001B[0m\u001B[37m\u001B[0m \u001B[1m0s\u001B[0m 819us/step - accuracy: 0.8928 - loss: 0.3591 - val_accuracy: 0.8524 - val_loss: 0.5127\n",
      "Epoch 56/100\n",
      "\u001B[1m510/510\u001B[0m \u001B[32m━━━━━━━━━━━━━━━━━━━━\u001B[0m\u001B[37m\u001B[0m \u001B[1m0s\u001B[0m 820us/step - accuracy: 0.8929 - loss: 0.3584 - val_accuracy: 0.8513 - val_loss: 0.5129\n",
      "Epoch 57/100\n",
      "\u001B[1m510/510\u001B[0m \u001B[32m━━━━━━━━━━━━━━━━━━━━\u001B[0m\u001B[37m\u001B[0m \u001B[1m0s\u001B[0m 817us/step - accuracy: 0.8929 - loss: 0.3578 - val_accuracy: 0.8511 - val_loss: 0.5140\n",
      "Epoch 58/100\n",
      "\u001B[1m510/510\u001B[0m \u001B[32m━━━━━━━━━━━━━━━━━━━━\u001B[0m\u001B[37m\u001B[0m \u001B[1m0s\u001B[0m 819us/step - accuracy: 0.8934 - loss: 0.3572 - val_accuracy: 0.8511 - val_loss: 0.5150\n",
      "Epoch 59/100\n",
      "\u001B[1m510/510\u001B[0m \u001B[32m━━━━━━━━━━━━━━━━━━━━\u001B[0m\u001B[37m\u001B[0m \u001B[1m0s\u001B[0m 819us/step - accuracy: 0.8933 - loss: 0.3570 - val_accuracy: 0.8513 - val_loss: 0.5152\n",
      "Epoch 60/100\n",
      "\u001B[1m510/510\u001B[0m \u001B[32m━━━━━━━━━━━━━━━━━━━━\u001B[0m\u001B[37m\u001B[0m \u001B[1m0s\u001B[0m 817us/step - accuracy: 0.8932 - loss: 0.3562 - val_accuracy: 0.8517 - val_loss: 0.5162\n",
      "Epoch 61/100\n",
      "\u001B[1m510/510\u001B[0m \u001B[32m━━━━━━━━━━━━━━━━━━━━\u001B[0m\u001B[37m\u001B[0m \u001B[1m0s\u001B[0m 816us/step - accuracy: 0.8933 - loss: 0.3552 - val_accuracy: 0.8507 - val_loss: 0.5169\n",
      "Epoch 62/100\n",
      "\u001B[1m510/510\u001B[0m \u001B[32m━━━━━━━━━━━━━━━━━━━━\u001B[0m\u001B[37m\u001B[0m \u001B[1m0s\u001B[0m 818us/step - accuracy: 0.8934 - loss: 0.3547 - val_accuracy: 0.8510 - val_loss: 0.5167\n",
      "Epoch 63/100\n",
      "\u001B[1m510/510\u001B[0m \u001B[32m━━━━━━━━━━━━━━━━━━━━\u001B[0m\u001B[37m\u001B[0m \u001B[1m0s\u001B[0m 816us/step - accuracy: 0.8944 - loss: 0.3540 - val_accuracy: 0.8508 - val_loss: 0.5172\n",
      "Epoch 64/100\n",
      "\u001B[1m510/510\u001B[0m \u001B[32m━━━━━━━━━━━━━━━━━━━━\u001B[0m\u001B[37m\u001B[0m \u001B[1m0s\u001B[0m 818us/step - accuracy: 0.8940 - loss: 0.3533 - val_accuracy: 0.8516 - val_loss: 0.5191\n",
      "Epoch 65/100\n",
      "\u001B[1m510/510\u001B[0m \u001B[32m━━━━━━━━━━━━━━━━━━━━\u001B[0m\u001B[37m\u001B[0m \u001B[1m0s\u001B[0m 813us/step - accuracy: 0.8936 - loss: 0.3528 - val_accuracy: 0.8513 - val_loss: 0.5196\n",
      "Epoch 66/100\n",
      "\u001B[1m510/510\u001B[0m \u001B[32m━━━━━━━━━━━━━━━━━━━━\u001B[0m\u001B[37m\u001B[0m \u001B[1m0s\u001B[0m 818us/step - accuracy: 0.8943 - loss: 0.3519 - val_accuracy: 0.8521 - val_loss: 0.5200\n",
      "Epoch 67/100\n",
      "\u001B[1m510/510\u001B[0m \u001B[32m━━━━━━━━━━━━━━━━━━━━\u001B[0m\u001B[37m\u001B[0m \u001B[1m0s\u001B[0m 817us/step - accuracy: 0.8942 - loss: 0.3515 - val_accuracy: 0.8514 - val_loss: 0.5208\n",
      "Epoch 68/100\n",
      "\u001B[1m510/510\u001B[0m \u001B[32m━━━━━━━━━━━━━━━━━━━━\u001B[0m\u001B[37m\u001B[0m \u001B[1m0s\u001B[0m 820us/step - accuracy: 0.8950 - loss: 0.3509 - val_accuracy: 0.8511 - val_loss: 0.5213\n",
      "Epoch 69/100\n",
      "\u001B[1m510/510\u001B[0m \u001B[32m━━━━━━━━━━━━━━━━━━━━\u001B[0m\u001B[37m\u001B[0m \u001B[1m0s\u001B[0m 820us/step - accuracy: 0.8948 - loss: 0.3503 - val_accuracy: 0.8512 - val_loss: 0.5215\n",
      "Epoch 70/100\n",
      "\u001B[1m510/510\u001B[0m \u001B[32m━━━━━━━━━━━━━━━━━━━━\u001B[0m\u001B[37m\u001B[0m \u001B[1m0s\u001B[0m 816us/step - accuracy: 0.8946 - loss: 0.3495 - val_accuracy: 0.8522 - val_loss: 0.5222\n",
      "Epoch 71/100\n",
      "\u001B[1m510/510\u001B[0m \u001B[32m━━━━━━━━━━━━━━━━━━━━\u001B[0m\u001B[37m\u001B[0m \u001B[1m0s\u001B[0m 815us/step - accuracy: 0.8945 - loss: 0.3491 - val_accuracy: 0.8513 - val_loss: 0.5232\n",
      "Epoch 72/100\n",
      "\u001B[1m510/510\u001B[0m \u001B[32m━━━━━━━━━━━━━━━━━━━━\u001B[0m\u001B[37m\u001B[0m \u001B[1m0s\u001B[0m 814us/step - accuracy: 0.8953 - loss: 0.3487 - val_accuracy: 0.8508 - val_loss: 0.5241\n",
      "Epoch 73/100\n",
      "\u001B[1m510/510\u001B[0m \u001B[32m━━━━━━━━━━━━━━━━━━━━\u001B[0m\u001B[37m\u001B[0m \u001B[1m0s\u001B[0m 817us/step - accuracy: 0.8954 - loss: 0.3480 - val_accuracy: 0.8514 - val_loss: 0.5243\n",
      "Epoch 74/100\n",
      "\u001B[1m510/510\u001B[0m \u001B[32m━━━━━━━━━━━━━━━━━━━━\u001B[0m\u001B[37m\u001B[0m \u001B[1m0s\u001B[0m 817us/step - accuracy: 0.8955 - loss: 0.3473 - val_accuracy: 0.8504 - val_loss: 0.5247\n",
      "Epoch 75/100\n",
      "\u001B[1m510/510\u001B[0m \u001B[32m━━━━━━━━━━━━━━━━━━━━\u001B[0m\u001B[37m\u001B[0m \u001B[1m0s\u001B[0m 817us/step - accuracy: 0.8957 - loss: 0.3470 - val_accuracy: 0.8507 - val_loss: 0.5249\n",
      "Epoch 76/100\n",
      "\u001B[1m510/510\u001B[0m \u001B[32m━━━━━━━━━━━━━━━━━━━━\u001B[0m\u001B[37m\u001B[0m \u001B[1m0s\u001B[0m 816us/step - accuracy: 0.8957 - loss: 0.3459 - val_accuracy: 0.8508 - val_loss: 0.5267\n",
      "Epoch 77/100\n",
      "\u001B[1m510/510\u001B[0m \u001B[32m━━━━━━━━━━━━━━━━━━━━\u001B[0m\u001B[37m\u001B[0m \u001B[1m0s\u001B[0m 813us/step - accuracy: 0.8953 - loss: 0.3458 - val_accuracy: 0.8506 - val_loss: 0.5273\n",
      "Epoch 78/100\n",
      "\u001B[1m510/510\u001B[0m \u001B[32m━━━━━━━━━━━━━━━━━━━━\u001B[0m\u001B[37m\u001B[0m \u001B[1m0s\u001B[0m 816us/step - accuracy: 0.8965 - loss: 0.3452 - val_accuracy: 0.8498 - val_loss: 0.5272\n",
      "Epoch 79/100\n",
      "\u001B[1m510/510\u001B[0m \u001B[32m━━━━━━━━━━━━━━━━━━━━\u001B[0m\u001B[37m\u001B[0m \u001B[1m0s\u001B[0m 811us/step - accuracy: 0.8961 - loss: 0.3449 - val_accuracy: 0.8503 - val_loss: 0.5288\n",
      "Epoch 80/100\n",
      "\u001B[1m510/510\u001B[0m \u001B[32m━━━━━━━━━━━━━━━━━━━━\u001B[0m\u001B[37m\u001B[0m \u001B[1m0s\u001B[0m 816us/step - accuracy: 0.8965 - loss: 0.3441 - val_accuracy: 0.8509 - val_loss: 0.5285\n",
      "Epoch 81/100\n",
      "\u001B[1m510/510\u001B[0m \u001B[32m━━━━━━━━━━━━━━━━━━━━\u001B[0m\u001B[37m\u001B[0m \u001B[1m0s\u001B[0m 814us/step - accuracy: 0.8969 - loss: 0.3437 - val_accuracy: 0.8503 - val_loss: 0.5287\n",
      "Epoch 82/100\n",
      "\u001B[1m510/510\u001B[0m \u001B[32m━━━━━━━━━━━━━━━━━━━━\u001B[0m\u001B[37m\u001B[0m \u001B[1m0s\u001B[0m 810us/step - accuracy: 0.8970 - loss: 0.3432 - val_accuracy: 0.8502 - val_loss: 0.5300\n",
      "Epoch 83/100\n",
      "\u001B[1m510/510\u001B[0m \u001B[32m━━━━━━━━━━━━━━━━━━━━\u001B[0m\u001B[37m\u001B[0m \u001B[1m0s\u001B[0m 822us/step - accuracy: 0.8973 - loss: 0.3426 - val_accuracy: 0.8497 - val_loss: 0.5311\n",
      "Epoch 84/100\n",
      "\u001B[1m510/510\u001B[0m \u001B[32m━━━━━━━━━━━━━━━━━━━━\u001B[0m\u001B[37m\u001B[0m \u001B[1m0s\u001B[0m 812us/step - accuracy: 0.8971 - loss: 0.3424 - val_accuracy: 0.8501 - val_loss: 0.5305\n",
      "Epoch 85/100\n",
      "\u001B[1m510/510\u001B[0m \u001B[32m━━━━━━━━━━━━━━━━━━━━\u001B[0m\u001B[37m\u001B[0m \u001B[1m0s\u001B[0m 817us/step - accuracy: 0.8964 - loss: 0.3420 - val_accuracy: 0.8507 - val_loss: 0.5314\n",
      "Epoch 86/100\n",
      "\u001B[1m510/510\u001B[0m \u001B[32m━━━━━━━━━━━━━━━━━━━━\u001B[0m\u001B[37m\u001B[0m \u001B[1m0s\u001B[0m 812us/step - accuracy: 0.8972 - loss: 0.3413 - val_accuracy: 0.8509 - val_loss: 0.5320\n",
      "Epoch 87/100\n",
      "\u001B[1m510/510\u001B[0m \u001B[32m━━━━━━━━━━━━━━━━━━━━\u001B[0m\u001B[37m\u001B[0m \u001B[1m0s\u001B[0m 813us/step - accuracy: 0.8968 - loss: 0.3411 - val_accuracy: 0.8499 - val_loss: 0.5324\n",
      "Epoch 88/100\n",
      "\u001B[1m510/510\u001B[0m \u001B[32m━━━━━━━━━━━━━━━━━━━━\u001B[0m\u001B[37m\u001B[0m \u001B[1m0s\u001B[0m 816us/step - accuracy: 0.8969 - loss: 0.3404 - val_accuracy: 0.8501 - val_loss: 0.5333\n",
      "Epoch 89/100\n",
      "\u001B[1m510/510\u001B[0m \u001B[32m━━━━━━━━━━━━━━━━━━━━\u001B[0m\u001B[37m\u001B[0m \u001B[1m0s\u001B[0m 814us/step - accuracy: 0.8970 - loss: 0.3401 - val_accuracy: 0.8493 - val_loss: 0.5331\n",
      "Epoch 90/100\n",
      "\u001B[1m510/510\u001B[0m \u001B[32m━━━━━━━━━━━━━━━━━━━━\u001B[0m\u001B[37m\u001B[0m \u001B[1m0s\u001B[0m 814us/step - accuracy: 0.8970 - loss: 0.3394 - val_accuracy: 0.8493 - val_loss: 0.5347\n",
      "Epoch 91/100\n",
      "\u001B[1m510/510\u001B[0m \u001B[32m━━━━━━━━━━━━━━━━━━━━\u001B[0m\u001B[37m\u001B[0m \u001B[1m0s\u001B[0m 810us/step - accuracy: 0.8980 - loss: 0.3389 - val_accuracy: 0.8497 - val_loss: 0.5342\n",
      "Epoch 92/100\n",
      "\u001B[1m510/510\u001B[0m \u001B[32m━━━━━━━━━━━━━━━━━━━━\u001B[0m\u001B[37m\u001B[0m \u001B[1m0s\u001B[0m 811us/step - accuracy: 0.8975 - loss: 0.3388 - val_accuracy: 0.8503 - val_loss: 0.5355\n",
      "Epoch 93/100\n",
      "\u001B[1m510/510\u001B[0m \u001B[32m━━━━━━━━━━━━━━━━━━━━\u001B[0m\u001B[37m\u001B[0m \u001B[1m0s\u001B[0m 813us/step - accuracy: 0.8976 - loss: 0.3383 - val_accuracy: 0.8492 - val_loss: 0.5359\n",
      "Epoch 94/100\n",
      "\u001B[1m510/510\u001B[0m \u001B[32m━━━━━━━━━━━━━━━━━━━━\u001B[0m\u001B[37m\u001B[0m \u001B[1m0s\u001B[0m 813us/step - accuracy: 0.8979 - loss: 0.3381 - val_accuracy: 0.8487 - val_loss: 0.5368\n",
      "Epoch 95/100\n",
      "\u001B[1m510/510\u001B[0m \u001B[32m━━━━━━━━━━━━━━━━━━━━\u001B[0m\u001B[37m\u001B[0m \u001B[1m0s\u001B[0m 816us/step - accuracy: 0.8985 - loss: 0.3376 - val_accuracy: 0.8492 - val_loss: 0.5364\n",
      "Epoch 96/100\n",
      "\u001B[1m510/510\u001B[0m \u001B[32m━━━━━━━━━━━━━━━━━━━━\u001B[0m\u001B[37m\u001B[0m \u001B[1m0s\u001B[0m 811us/step - accuracy: 0.8987 - loss: 0.3368 - val_accuracy: 0.8498 - val_loss: 0.5378\n",
      "Epoch 97/100\n",
      "\u001B[1m510/510\u001B[0m \u001B[32m━━━━━━━━━━━━━━━━━━━━\u001B[0m\u001B[37m\u001B[0m \u001B[1m0s\u001B[0m 815us/step - accuracy: 0.8985 - loss: 0.3365 - val_accuracy: 0.8493 - val_loss: 0.5388\n",
      "Epoch 98/100\n",
      "\u001B[1m510/510\u001B[0m \u001B[32m━━━━━━━━━━━━━━━━━━━━\u001B[0m\u001B[37m\u001B[0m \u001B[1m0s\u001B[0m 813us/step - accuracy: 0.8983 - loss: 0.3363 - val_accuracy: 0.8497 - val_loss: 0.5377\n",
      "Epoch 99/100\n",
      "\u001B[1m510/510\u001B[0m \u001B[32m━━━━━━━━━━━━━━━━━━━━\u001B[0m\u001B[37m\u001B[0m \u001B[1m0s\u001B[0m 814us/step - accuracy: 0.8990 - loss: 0.3355 - val_accuracy: 0.8493 - val_loss: 0.5391\n",
      "Epoch 100/100\n",
      "\u001B[1m510/510\u001B[0m \u001B[32m━━━━━━━━━━━━━━━━━━━━\u001B[0m\u001B[37m\u001B[0m \u001B[1m0s\u001B[0m 811us/step - accuracy: 0.8986 - loss: 0.3352 - val_accuracy: 0.8490 - val_loss: 0.5398\n"
     ]
    }
   ],
   "execution_count": 15
  },
  {
   "cell_type": "markdown",
   "metadata": {},
   "source": [
    "Plot the training and validation loss and accuracy, as in the first lab. The key for validation loss is `val_loss`, and the key for validation accuracy is `val_accuracy`."
   ]
  },
  {
   "cell_type": "code",
   "metadata": {
    "ExecuteTime": {
     "end_time": "2024-12-28T00:06:50.177837Z",
     "start_time": "2024-12-28T00:06:50.123681Z"
    }
   },
   "source": [
    "history_dict = history.history\n",
    "train_acc = history_dict['accuracy']\n",
    "val_acc = history_dict['val_accuracy']\n",
    "epochs = history.epoch\n",
    "plt.plot(epochs, train_acc, 'b', epochs, val_acc, 'r')\n",
    "plt.title('Training and Validation Accuracy')\n",
    "plt.xlabel('Epochs')\n",
    "plt.show()"
   ],
   "outputs": [
    {
     "data": {
      "text/plain": [
       "<Figure size 640x480 with 1 Axes>"
      ],
      "image/png": "[encoded data removed]"
     },
     "metadata": {},
     "output_type": "display_data"
    }
   ],
   "execution_count": 16
  },
  {
   "cell_type": "markdown",
   "metadata": {},
   "source": [
    "Do you see any indication of overfitting? What characteristic of the plots would indicate overfitting?"
   ]
  },
  {
   "cell_type": "markdown",
   "metadata": {},
   "source": [
    "Evaluate the trained model on the test set."
   ]
  },
  {
   "cell_type": "code",
   "metadata": {
    "ExecuteTime": {
     "end_time": "2024-12-28T00:06:52.628449Z",
     "start_time": "2024-12-28T00:06:52.507952Z"
    }
   },
   "source": [
    "score = model.evaluate(dstest, verbose=0)\n",
    "print(\"Test loss:\", score[0])\n",
    "print(\"Test accuracy:\", score[1])"
   ],
   "outputs": [
    {
     "name": "stdout",
     "output_type": "stream",
     "text": [
      "Test loss: 0.9913426041603088\n",
      "Test accuracy: 0.7378000020980835\n"
     ]
    }
   ],
   "execution_count": 17
  },
  {
   "cell_type": "markdown",
   "metadata": {},
   "source": [
    "Can you improve the accuracy? Experiment with different network architectures, and see how high you can get the accuracy. Keep checking training and validation accuracy to be sure that you are not overfitting."
   ]
  },
  {
   "cell_type": "markdown",
   "metadata": {},
   "source": [
    "## Augmentation\n",
    "\n",
    "One way to improve accuracy, while preventing overfitting, is to augment the dataset. This is a way of increasing the size of the dataset by adding images that are realistic modifications of the original images. There are several different ways to do this. You are going to perform the following steps.\n",
    "1. Create an augmentation model using the `Sequential` class and methods from `preprocessing`. Use the following methods:\n",
    "    1. `RandomZoom` (height_factor=(-0.05, -0.15), width_factor=(-0.05, -0.15))\n",
    "    1. `RandomTranslation` (height_factor=0.02, width_factor=0.02)\n",
    "    1. `RandomRotation(0.1)` (rotate randomly by 10% of 360 degrees)\n",
    "1. Apply the augmentation model by using the `map()` method and a `lambda` function on the training Dataset.\n",
    "1. Create a new model with your chosen architecture.\n",
    "1. Pass the new augmented training Dataset to the `fit` method for training the network."
   ]
  },
  {
   "cell_type": "markdown",
   "metadata": {},
   "source": [
    "First, create the augmentation model, `trainAug`."
   ]
  },
  {
   "cell_type": "code",
   "metadata": {
    "ExecuteTime": {
     "end_time": "2024-12-28T00:08:07.168227Z",
     "start_time": "2024-12-28T00:08:07.153634Z"
    }
   },
   "source": [
    "# \"preprocessing\" will be replaced by \"layers\" in later versions of TF\n",
    "trainAug = models.Sequential([\n",
    "\tRandomZoom(\n",
    "\t\theight_factor=(-0.02, -0.05),\n",
    "\t\twidth_factor=(-0.02, -0.05)),\n",
    "\tRandomTranslation(\n",
    "\t\theight_factor=0.02,\n",
    "\t\twidth_factor=0.02),\n",
    "\tRandomRotation(0.05)\n",
    "])"
   ],
   "outputs": [],
   "execution_count": 19
  },
  {
   "cell_type": "markdown",
   "metadata": {},
   "source": [
    "You can test this augmentation model by trying it on a sample images with the following code. You will see 9 images with different random variations."
   ]
  },
  {
   "cell_type": "code",
   "metadata": {
    "ExecuteTime": {
     "end_time": "2024-12-28T00:08:09.894445Z",
     "start_time": "2024-12-28T00:08:09.567891Z"
    }
   },
   "source": [
    "image, label = next(iter(ds[0]))\n",
    "# Add the image to a batch\n",
    "image = tf.expand_dims(image, 0)\n",
    "plt.figure(figsize=(10, 10))\n",
    "for i in range(9):\n",
    "  augmented_image = trainAug(image)\n",
    "  ax = plt.subplot(3, 3, i + 1)\n",
    "  plt.imshow(augmented_image[0])\n",
    "  plt.axis(\"off\")"
   ],
   "outputs": [
    {
     "data": {
      "text/plain": [
       "<Figure size 1000x1000 with 9 Axes>"
      ],
      "image/png": "[encoded data removed]"
     },
     "metadata": {},
     "output_type": "display_data"
    }
   ],
   "execution_count": 20
  },
  {
   "cell_type": "markdown",
   "metadata": {},
   "source": [
    "Next, use the  `map()` method and a `lambda` function to apply the augmentation model to the training Dataset. In the `lambda` function there will be two arguments, the network input and the target output. Only the network input is passed through the augmentation model."
   ]
  },
  {
   "cell_type": "code",
   "metadata": {
    "ExecuteTime": {
     "end_time": "2024-12-28T00:08:12.813879Z",
     "start_time": "2024-12-28T00:08:12.729847Z"
    }
   },
   "source": [
    "aug_ds = dstrain.map(lambda x, y: (trainAug(x), y))"
   ],
   "outputs": [],
   "execution_count": 21
  },
  {
   "cell_type": "markdown",
   "metadata": {},
   "source": [
    "Create a model with make_model(), compile it and train it with the augmented Dataset."
   ]
  },
  {
   "cell_type": "code",
   "metadata": {
    "ExecuteTime": {
     "end_time": "2024-12-28T00:12:19.703886Z",
     "start_time": "2024-12-28T00:08:14.349559Z"
    }
   },
   "source": [
    "model = make_model([10]*5)\n",
    "model.compile(optimizer='adam',loss=SparseCategoricalCrossentropy(), metrics=['accuracy'])\n",
    "history = model.fit(aug_ds, epochs=100, validation_data=dsval)"
   ],
   "outputs": [
    {
     "name": "stdout",
     "output_type": "stream",
     "text": [
      "Epoch 1/100\n",
      "\u001B[1m510/510\u001B[0m \u001B[32m━━━━━━━━━━━━━━━━━━━━\u001B[0m\u001B[37m\u001B[0m \u001B[1m4s\u001B[0m 5ms/step - accuracy: 0.3693 - loss: 1.7606 - val_accuracy: 0.6604 - val_loss: 1.0586\n",
      "Epoch 2/100\n",
      "\u001B[1m510/510\u001B[0m \u001B[32m━━━━━━━━━━━━━━━━━━━━\u001B[0m\u001B[37m\u001B[0m \u001B[1m2s\u001B[0m 5ms/step - accuracy: 0.6398 - loss: 1.0933 - val_accuracy: 0.7256 - val_loss: 0.8708\n",
      "Epoch 3/100\n",
      "\u001B[1m510/510\u001B[0m \u001B[32m━━━━━━━━━━━━━━━━━━━━\u001B[0m\u001B[37m\u001B[0m \u001B[1m2s\u001B[0m 5ms/step - accuracy: 0.6996 - loss: 0.9335 - val_accuracy: 0.7644 - val_loss: 0.7708\n",
      "Epoch 4/100\n",
      "\u001B[1m510/510\u001B[0m \u001B[32m━━━━━━━━━━━━━━━━━━━━\u001B[0m\u001B[37m\u001B[0m \u001B[1m2s\u001B[0m 5ms/step - accuracy: 0.7368 - loss: 0.8413 - val_accuracy: 0.7786 - val_loss: 0.7131\n",
      "Epoch 5/100\n",
      "\u001B[1m510/510\u001B[0m \u001B[32m━━━━━━━━━━━━━━━━━━━━\u001B[0m\u001B[37m\u001B[0m \u001B[1m2s\u001B[0m 5ms/step - accuracy: 0.7540 - loss: 0.7896 - val_accuracy: 0.7836 - val_loss: 0.6916\n",
      "Epoch 6/100\n",
      "\u001B[1m510/510\u001B[0m \u001B[32m━━━━━━━━━━━━━━━━━━━━\u001B[0m\u001B[37m\u001B[0m \u001B[1m2s\u001B[0m 5ms/step - accuracy: 0.7661 - loss: 0.7557 - val_accuracy: 0.7891 - val_loss: 0.6764\n",
      "Epoch 7/100\n",
      "\u001B[1m510/510\u001B[0m \u001B[32m━━━━━━━━━━━━━━━━━━━━\u001B[0m\u001B[37m\u001B[0m \u001B[1m2s\u001B[0m 5ms/step - accuracy: 0.7707 - loss: 0.7396 - val_accuracy: 0.7900 - val_loss: 0.6614\n",
      "Epoch 8/100\n",
      "\u001B[1m510/510\u001B[0m \u001B[32m━━━━━━━━━━━━━━━━━━━━\u001B[0m\u001B[37m\u001B[0m \u001B[1m2s\u001B[0m 5ms/step - accuracy: 0.7696 - loss: 0.7327 - val_accuracy: 0.7922 - val_loss: 0.6548\n",
      "Epoch 9/100\n",
      "\u001B[1m510/510\u001B[0m \u001B[32m━━━━━━━━━━━━━━━━━━━━\u001B[0m\u001B[37m\u001B[0m \u001B[1m2s\u001B[0m 5ms/step - accuracy: 0.7746 - loss: 0.7177 - val_accuracy: 0.7998 - val_loss: 0.6344\n",
      "Epoch 10/100\n",
      "\u001B[1m510/510\u001B[0m \u001B[32m━━━━━━━━━━━━━━━━━━━━\u001B[0m\u001B[37m\u001B[0m \u001B[1m2s\u001B[0m 5ms/step - accuracy: 0.7783 - loss: 0.7086 - val_accuracy: 0.7981 - val_loss: 0.6342\n",
      "Epoch 11/100\n",
      "\u001B[1m510/510\u001B[0m \u001B[32m━━━━━━━━━━━━━━━━━━━━\u001B[0m\u001B[37m\u001B[0m \u001B[1m2s\u001B[0m 5ms/step - accuracy: 0.7794 - loss: 0.6951 - val_accuracy: 0.8021 - val_loss: 0.6288\n",
      "Epoch 12/100\n",
      "\u001B[1m510/510\u001B[0m \u001B[32m━━━━━━━━━━━━━━━━━━━━\u001B[0m\u001B[37m\u001B[0m \u001B[1m2s\u001B[0m 5ms/step - accuracy: 0.7831 - loss: 0.6923 - val_accuracy: 0.8020 - val_loss: 0.6324\n",
      "Epoch 13/100\n",
      "\u001B[1m510/510\u001B[0m \u001B[32m━━━━━━━━━━━━━━━━━━━━\u001B[0m\u001B[37m\u001B[0m \u001B[1m2s\u001B[0m 5ms/step - accuracy: 0.7846 - loss: 0.6904 - val_accuracy: 0.8020 - val_loss: 0.6310\n",
      "Epoch 14/100\n",
      "\u001B[1m510/510\u001B[0m \u001B[32m━━━━━━━━━━━━━━━━━━━━\u001B[0m\u001B[37m\u001B[0m \u001B[1m2s\u001B[0m 5ms/step - accuracy: 0.7851 - loss: 0.6797 - val_accuracy: 0.8066 - val_loss: 0.6172\n",
      "Epoch 15/100\n",
      "\u001B[1m510/510\u001B[0m \u001B[32m━━━━━━━━━━━━━━━━━━━━\u001B[0m\u001B[37m\u001B[0m \u001B[1m2s\u001B[0m 5ms/step - accuracy: 0.7894 - loss: 0.6745 - val_accuracy: 0.8117 - val_loss: 0.6108\n",
      "Epoch 16/100\n",
      "\u001B[1m510/510\u001B[0m \u001B[32m━━━━━━━━━━━━━━━━━━━━\u001B[0m\u001B[37m\u001B[0m \u001B[1m2s\u001B[0m 5ms/step - accuracy: 0.7888 - loss: 0.6744 - val_accuracy: 0.8068 - val_loss: 0.6209\n",
      "Epoch 17/100\n",
      "\u001B[1m510/510\u001B[0m \u001B[32m━━━━━━━━━━━━━━━━━━━━\u001B[0m\u001B[37m\u001B[0m \u001B[1m2s\u001B[0m 5ms/step - accuracy: 0.7927 - loss: 0.6644 - val_accuracy: 0.8091 - val_loss: 0.6102\n",
      "Epoch 18/100\n",
      "\u001B[1m510/510\u001B[0m \u001B[32m━━━━━━━━━━━━━━━━━━━━\u001B[0m\u001B[37m\u001B[0m \u001B[1m2s\u001B[0m 5ms/step - accuracy: 0.7940 - loss: 0.6580 - val_accuracy: 0.8079 - val_loss: 0.6038\n",
      "Epoch 19/100\n",
      "\u001B[1m510/510\u001B[0m \u001B[32m━━━━━━━━━━━━━━━━━━━━\u001B[0m\u001B[37m\u001B[0m \u001B[1m2s\u001B[0m 5ms/step - accuracy: 0.7975 - loss: 0.6561 - val_accuracy: 0.8096 - val_loss: 0.5994\n",
      "Epoch 20/100\n",
      "\u001B[1m510/510\u001B[0m \u001B[32m━━━━━━━━━━━━━━━━━━━━\u001B[0m\u001B[37m\u001B[0m \u001B[1m2s\u001B[0m 5ms/step - accuracy: 0.7943 - loss: 0.6551 - val_accuracy: 0.8138 - val_loss: 0.5979\n",
      "Epoch 21/100\n",
      "\u001B[1m510/510\u001B[0m \u001B[32m━━━━━━━━━━━━━━━━━━━━\u001B[0m\u001B[37m\u001B[0m \u001B[1m2s\u001B[0m 5ms/step - accuracy: 0.7990 - loss: 0.6467 - val_accuracy: 0.8154 - val_loss: 0.5951\n",
      "Epoch 22/100\n",
      "\u001B[1m510/510\u001B[0m \u001B[32m━━━━━━━━━━━━━━━━━━━━\u001B[0m\u001B[37m\u001B[0m \u001B[1m2s\u001B[0m 5ms/step - accuracy: 0.7997 - loss: 0.6393 - val_accuracy: 0.8139 - val_loss: 0.5850\n",
      "Epoch 23/100\n",
      "\u001B[1m510/510\u001B[0m \u001B[32m━━━━━━━━━━━━━━━━━━━━\u001B[0m\u001B[37m\u001B[0m \u001B[1m2s\u001B[0m 5ms/step - accuracy: 0.7988 - loss: 0.6335 - val_accuracy: 0.8166 - val_loss: 0.5767\n",
      "Epoch 24/100\n",
      "\u001B[1m510/510\u001B[0m \u001B[32m━━━━━━━━━━━━━━━━━━━━\u001B[0m\u001B[37m\u001B[0m \u001B[1m2s\u001B[0m 5ms/step - accuracy: 0.8036 - loss: 0.6309 - val_accuracy: 0.8196 - val_loss: 0.5754\n",
      "Epoch 25/100\n",
      "\u001B[1m510/510\u001B[0m \u001B[32m━━━━━━━━━━━━━━━━━━━━\u001B[0m\u001B[37m\u001B[0m \u001B[1m2s\u001B[0m 5ms/step - accuracy: 0.8027 - loss: 0.6271 - val_accuracy: 0.8167 - val_loss: 0.5794\n",
      "Epoch 26/100\n",
      "\u001B[1m510/510\u001B[0m \u001B[32m━━━━━━━━━━━━━━━━━━━━\u001B[0m\u001B[37m\u001B[0m \u001B[1m2s\u001B[0m 5ms/step - accuracy: 0.8047 - loss: 0.6209 - val_accuracy: 0.8192 - val_loss: 0.5611\n",
      "Epoch 27/100\n",
      "\u001B[1m510/510\u001B[0m \u001B[32m━━━━━━━━━━━━━━━━━━━━\u001B[0m\u001B[37m\u001B[0m \u001B[1m2s\u001B[0m 5ms/step - accuracy: 0.8047 - loss: 0.6250 - val_accuracy: 0.8190 - val_loss: 0.5726\n",
      "Epoch 28/100\n",
      "\u001B[1m510/510\u001B[0m \u001B[32m━━━━━━━━━━━━━━━━━━━━\u001B[0m\u001B[37m\u001B[0m \u001B[1m2s\u001B[0m 5ms/step - accuracy: 0.8070 - loss: 0.6185 - val_accuracy: 0.8192 - val_loss: 0.5703\n",
      "Epoch 29/100\n",
      "\u001B[1m510/510\u001B[0m \u001B[32m━━━━━━━━━━━━━━━━━━━━\u001B[0m\u001B[37m\u001B[0m \u001B[1m2s\u001B[0m 5ms/step - accuracy: 0.8070 - loss: 0.6169 - val_accuracy: 0.8212 - val_loss: 0.5569\n",
      "Epoch 30/100\n",
      "\u001B[1m510/510\u001B[0m \u001B[32m━━━━━━━━━━━━━━━━━━━━\u001B[0m\u001B[37m\u001B[0m \u001B[1m2s\u001B[0m 5ms/step - accuracy: 0.8089 - loss: 0.6112 - val_accuracy: 0.8222 - val_loss: 0.5641\n",
      "Epoch 31/100\n",
      "\u001B[1m510/510\u001B[0m \u001B[32m━━━━━━━━━━━━━━━━━━━━\u001B[0m\u001B[37m\u001B[0m \u001B[1m2s\u001B[0m 5ms/step - accuracy: 0.8084 - loss: 0.6165 - val_accuracy: 0.8239 - val_loss: 0.5642\n",
      "Epoch 32/100\n",
      "\u001B[1m510/510\u001B[0m \u001B[32m━━━━━━━━━━━━━━━━━━━━\u001B[0m\u001B[37m\u001B[0m \u001B[1m2s\u001B[0m 5ms/step - accuracy: 0.8072 - loss: 0.6090 - val_accuracy: 0.8232 - val_loss: 0.5549\n",
      "Epoch 33/100\n",
      "\u001B[1m510/510\u001B[0m \u001B[32m━━━━━━━━━━━━━━━━━━━━\u001B[0m\u001B[37m\u001B[0m \u001B[1m2s\u001B[0m 5ms/step - accuracy: 0.8116 - loss: 0.5996 - val_accuracy: 0.8246 - val_loss: 0.5551\n",
      "Epoch 34/100\n",
      "\u001B[1m510/510\u001B[0m \u001B[32m━━━━━━━━━━━━━━━━━━━━\u001B[0m\u001B[37m\u001B[0m \u001B[1m2s\u001B[0m 5ms/step - accuracy: 0.8063 - loss: 0.6102 - val_accuracy: 0.8271 - val_loss: 0.5518\n",
      "Epoch 35/100\n",
      "\u001B[1m510/510\u001B[0m \u001B[32m━━━━━━━━━━━━━━━━━━━━\u001B[0m\u001B[37m\u001B[0m \u001B[1m2s\u001B[0m 5ms/step - accuracy: 0.8086 - loss: 0.6085 - val_accuracy: 0.8258 - val_loss: 0.5551\n",
      "Epoch 36/100\n",
      "\u001B[1m510/510\u001B[0m \u001B[32m━━━━━━━━━━━━━━━━━━━━\u001B[0m\u001B[37m\u001B[0m \u001B[1m2s\u001B[0m 5ms/step - accuracy: 0.8110 - loss: 0.5986 - val_accuracy: 0.8244 - val_loss: 0.5545\n",
      "Epoch 37/100\n",
      "\u001B[1m510/510\u001B[0m \u001B[32m━━━━━━━━━━━━━━━━━━━━\u001B[0m\u001B[37m\u001B[0m \u001B[1m2s\u001B[0m 5ms/step - accuracy: 0.8106 - loss: 0.5969 - val_accuracy: 0.8273 - val_loss: 0.5465\n",
      "Epoch 38/100\n",
      "\u001B[1m510/510\u001B[0m \u001B[32m━━━━━━━━━━━━━━━━━━━━\u001B[0m\u001B[37m\u001B[0m \u001B[1m2s\u001B[0m 5ms/step - accuracy: 0.8149 - loss: 0.6003 - val_accuracy: 0.8286 - val_loss: 0.5458\n",
      "Epoch 39/100\n",
      "\u001B[1m510/510\u001B[0m \u001B[32m━━━━━━━━━━━━━━━━━━━━\u001B[0m\u001B[37m\u001B[0m \u001B[1m2s\u001B[0m 5ms/step - accuracy: 0.8152 - loss: 0.5892 - val_accuracy: 0.8291 - val_loss: 0.5443\n",
      "Epoch 40/100\n",
      "\u001B[1m510/510\u001B[0m \u001B[32m━━━━━━━━━━━━━━━━━━━━\u001B[0m\u001B[37m\u001B[0m \u001B[1m2s\u001B[0m 5ms/step - accuracy: 0.8135 - loss: 0.5922 - val_accuracy: 0.8267 - val_loss: 0.5487\n",
      "Epoch 41/100\n",
      "\u001B[1m510/510\u001B[0m \u001B[32m━━━━━━━━━━━━━━━━━━━━\u001B[0m\u001B[37m\u001B[0m \u001B[1m2s\u001B[0m 5ms/step - accuracy: 0.8140 - loss: 0.5833 - val_accuracy: 0.8288 - val_loss: 0.5409\n",
      "Epoch 42/100\n",
      "\u001B[1m510/510\u001B[0m \u001B[32m━━━━━━━━━━━━━━━━━━━━\u001B[0m\u001B[37m\u001B[0m \u001B[1m2s\u001B[0m 5ms/step - accuracy: 0.8139 - loss: 0.5924 - val_accuracy: 0.8299 - val_loss: 0.5408\n",
      "Epoch 43/100\n",
      "\u001B[1m510/510\u001B[0m \u001B[32m━━━━━━━━━━━━━━━━━━━━\u001B[0m\u001B[37m\u001B[0m \u001B[1m2s\u001B[0m 5ms/step - accuracy: 0.8146 - loss: 0.5871 - val_accuracy: 0.8257 - val_loss: 0.5448\n",
      "Epoch 44/100\n",
      "\u001B[1m510/510\u001B[0m \u001B[32m━━━━━━━━━━━━━━━━━━━━\u001B[0m\u001B[37m\u001B[0m \u001B[1m2s\u001B[0m 5ms/step - accuracy: 0.8168 - loss: 0.5871 - val_accuracy: 0.8294 - val_loss: 0.5395\n",
      "Epoch 45/100\n",
      "\u001B[1m510/510\u001B[0m \u001B[32m━━━━━━━━━━━━━━━━━━━━\u001B[0m\u001B[37m\u001B[0m \u001B[1m2s\u001B[0m 5ms/step - accuracy: 0.8174 - loss: 0.5749 - val_accuracy: 0.8310 - val_loss: 0.5354\n",
      "Epoch 46/100\n",
      "\u001B[1m510/510\u001B[0m \u001B[32m━━━━━━━━━━━━━━━━━━━━\u001B[0m\u001B[37m\u001B[0m \u001B[1m2s\u001B[0m 5ms/step - accuracy: 0.8173 - loss: 0.5758 - val_accuracy: 0.8328 - val_loss: 0.5310\n",
      "Epoch 47/100\n",
      "\u001B[1m510/510\u001B[0m \u001B[32m━━━━━━━━━━━━━━━━━━━━\u001B[0m\u001B[37m\u001B[0m \u001B[1m2s\u001B[0m 5ms/step - accuracy: 0.8178 - loss: 0.5796 - val_accuracy: 0.8316 - val_loss: 0.5370\n",
      "Epoch 48/100\n",
      "\u001B[1m510/510\u001B[0m \u001B[32m━━━━━━━━━━━━━━━━━━━━\u001B[0m\u001B[37m\u001B[0m \u001B[1m2s\u001B[0m 5ms/step - accuracy: 0.8214 - loss: 0.5797 - val_accuracy: 0.8318 - val_loss: 0.5304\n",
      "Epoch 49/100\n",
      "\u001B[1m510/510\u001B[0m \u001B[32m━━━━━━━━━━━━━━━━━━━━\u001B[0m\u001B[37m\u001B[0m \u001B[1m2s\u001B[0m 5ms/step - accuracy: 0.8178 - loss: 0.5768 - val_accuracy: 0.8334 - val_loss: 0.5287\n",
      "Epoch 50/100\n",
      "\u001B[1m510/510\u001B[0m \u001B[32m━━━━━━━━━━━━━━━━━━━━\u001B[0m\u001B[37m\u001B[0m \u001B[1m2s\u001B[0m 5ms/step - accuracy: 0.8177 - loss: 0.5739 - val_accuracy: 0.8280 - val_loss: 0.5331\n",
      "Epoch 51/100\n",
      "\u001B[1m510/510\u001B[0m \u001B[32m━━━━━━━━━━━━━━━━━━━━\u001B[0m\u001B[37m\u001B[0m \u001B[1m2s\u001B[0m 5ms/step - accuracy: 0.8182 - loss: 0.5751 - val_accuracy: 0.8338 - val_loss: 0.5312\n",
      "Epoch 52/100\n",
      "\u001B[1m510/510\u001B[0m \u001B[32m━━━━━━━━━━━━━━━━━━━━\u001B[0m\u001B[37m\u001B[0m \u001B[1m2s\u001B[0m 5ms/step - accuracy: 0.8218 - loss: 0.5668 - val_accuracy: 0.8347 - val_loss: 0.5262\n",
      "Epoch 53/100\n",
      "\u001B[1m510/510\u001B[0m \u001B[32m━━━━━━━━━━━━━━━━━━━━\u001B[0m\u001B[37m\u001B[0m \u001B[1m2s\u001B[0m 5ms/step - accuracy: 0.8198 - loss: 0.5679 - val_accuracy: 0.8319 - val_loss: 0.5292\n",
      "Epoch 54/100\n",
      "\u001B[1m510/510\u001B[0m \u001B[32m━━━━━━━━━━━━━━━━━━━━\u001B[0m\u001B[37m\u001B[0m \u001B[1m2s\u001B[0m 5ms/step - accuracy: 0.8200 - loss: 0.5686 - val_accuracy: 0.8367 - val_loss: 0.5200\n",
      "Epoch 55/100\n",
      "\u001B[1m510/510\u001B[0m \u001B[32m━━━━━━━━━━━━━━━━━━━━\u001B[0m\u001B[37m\u001B[0m \u001B[1m2s\u001B[0m 5ms/step - accuracy: 0.8190 - loss: 0.5677 - val_accuracy: 0.8333 - val_loss: 0.5347\n",
      "Epoch 56/100\n",
      "\u001B[1m510/510\u001B[0m \u001B[32m━━━━━━━━━━━━━━━━━━━━\u001B[0m\u001B[37m\u001B[0m \u001B[1m2s\u001B[0m 5ms/step - accuracy: 0.8219 - loss: 0.5655 - val_accuracy: 0.8341 - val_loss: 0.5279\n",
      "Epoch 57/100\n",
      "\u001B[1m510/510\u001B[0m \u001B[32m━━━━━━━━━━━━━━━━━━━━\u001B[0m\u001B[37m\u001B[0m \u001B[1m2s\u001B[0m 5ms/step - accuracy: 0.8226 - loss: 0.5653 - val_accuracy: 0.8313 - val_loss: 0.5333\n",
      "Epoch 58/100\n",
      "\u001B[1m510/510\u001B[0m \u001B[32m━━━━━━━━━━━━━━━━━━━━\u001B[0m\u001B[37m\u001B[0m \u001B[1m2s\u001B[0m 5ms/step - accuracy: 0.8201 - loss: 0.5687 - val_accuracy: 0.8323 - val_loss: 0.5256\n",
      "Epoch 59/100\n",
      "\u001B[1m510/510\u001B[0m \u001B[32m━━━━━━━━━━━━━━━━━━━━\u001B[0m\u001B[37m\u001B[0m \u001B[1m2s\u001B[0m 5ms/step - accuracy: 0.8233 - loss: 0.5575 - val_accuracy: 0.8351 - val_loss: 0.5244\n",
      "Epoch 60/100\n",
      "\u001B[1m510/510\u001B[0m \u001B[32m━━━━━━━━━━━━━━━━━━━━\u001B[0m\u001B[37m\u001B[0m \u001B[1m2s\u001B[0m 5ms/step - accuracy: 0.8222 - loss: 0.5646 - val_accuracy: 0.8359 - val_loss: 0.5223\n",
      "Epoch 61/100\n",
      "\u001B[1m510/510\u001B[0m \u001B[32m━━━━━━━━━━━━━━━━━━━━\u001B[0m\u001B[37m\u001B[0m \u001B[1m2s\u001B[0m 5ms/step - accuracy: 0.8250 - loss: 0.5590 - val_accuracy: 0.8367 - val_loss: 0.5245\n",
      "Epoch 62/100\n",
      "\u001B[1m510/510\u001B[0m \u001B[32m━━━━━━━━━━━━━━━━━━━━\u001B[0m\u001B[37m\u001B[0m \u001B[1m2s\u001B[0m 5ms/step - accuracy: 0.8278 - loss: 0.5467 - val_accuracy: 0.8351 - val_loss: 0.5274\n",
      "Epoch 63/100\n",
      "\u001B[1m510/510\u001B[0m \u001B[32m━━━━━━━━━━━━━━━━━━━━\u001B[0m\u001B[37m\u001B[0m \u001B[1m2s\u001B[0m 5ms/step - accuracy: 0.8271 - loss: 0.5589 - val_accuracy: 0.8360 - val_loss: 0.5248\n",
      "Epoch 64/100\n",
      "\u001B[1m510/510\u001B[0m \u001B[32m━━━━━━━━━━━━━━━━━━━━\u001B[0m\u001B[37m\u001B[0m \u001B[1m2s\u001B[0m 5ms/step - accuracy: 0.8230 - loss: 0.5587 - val_accuracy: 0.8348 - val_loss: 0.5231\n",
      "Epoch 65/100\n",
      "\u001B[1m510/510\u001B[0m \u001B[32m━━━━━━━━━━━━━━━━━━━━\u001B[0m\u001B[37m\u001B[0m \u001B[1m2s\u001B[0m 5ms/step - accuracy: 0.8271 - loss: 0.5505 - val_accuracy: 0.8359 - val_loss: 0.5199\n",
      "Epoch 66/100\n",
      "\u001B[1m510/510\u001B[0m \u001B[32m━━━━━━━━━━━━━━━━━━━━\u001B[0m\u001B[37m\u001B[0m \u001B[1m2s\u001B[0m 5ms/step - accuracy: 0.8263 - loss: 0.5484 - val_accuracy: 0.8326 - val_loss: 0.5307\n",
      "Epoch 67/100\n",
      "\u001B[1m510/510\u001B[0m \u001B[32m━━━━━━━━━━━━━━━━━━━━\u001B[0m\u001B[37m\u001B[0m \u001B[1m2s\u001B[0m 5ms/step - accuracy: 0.8273 - loss: 0.5521 - val_accuracy: 0.8360 - val_loss: 0.5153\n",
      "Epoch 68/100\n",
      "\u001B[1m510/510\u001B[0m \u001B[32m━━━━━━━━━━━━━━━━━━━━\u001B[0m\u001B[37m\u001B[0m \u001B[1m2s\u001B[0m 5ms/step - accuracy: 0.8277 - loss: 0.5465 - val_accuracy: 0.8331 - val_loss: 0.5247\n",
      "Epoch 69/100\n",
      "\u001B[1m510/510\u001B[0m \u001B[32m━━━━━━━━━━━━━━━━━━━━\u001B[0m\u001B[37m\u001B[0m \u001B[1m2s\u001B[0m 5ms/step - accuracy: 0.8274 - loss: 0.5482 - val_accuracy: 0.8391 - val_loss: 0.5110\n",
      "Epoch 70/100\n",
      "\u001B[1m510/510\u001B[0m \u001B[32m━━━━━━━━━━━━━━━━━━━━\u001B[0m\u001B[37m\u001B[0m \u001B[1m2s\u001B[0m 5ms/step - accuracy: 0.8284 - loss: 0.5410 - val_accuracy: 0.8372 - val_loss: 0.5161\n",
      "Epoch 71/100\n",
      "\u001B[1m510/510\u001B[0m \u001B[32m━━━━━━━━━━━━━━━━━━━━\u001B[0m\u001B[37m\u001B[0m \u001B[1m2s\u001B[0m 5ms/step - accuracy: 0.8298 - loss: 0.5447 - val_accuracy: 0.8350 - val_loss: 0.5273\n",
      "Epoch 72/100\n",
      "\u001B[1m510/510\u001B[0m \u001B[32m━━━━━━━━━━━━━━━━━━━━\u001B[0m\u001B[37m\u001B[0m \u001B[1m2s\u001B[0m 5ms/step - accuracy: 0.8279 - loss: 0.5474 - val_accuracy: 0.8383 - val_loss: 0.5150\n",
      "Epoch 73/100\n",
      "\u001B[1m510/510\u001B[0m \u001B[32m━━━━━━━━━━━━━━━━━━━━\u001B[0m\u001B[37m\u001B[0m \u001B[1m2s\u001B[0m 5ms/step - accuracy: 0.8272 - loss: 0.5438 - val_accuracy: 0.8368 - val_loss: 0.5222\n",
      "Epoch 74/100\n",
      "\u001B[1m510/510\u001B[0m \u001B[32m━━━━━━━━━━━━━━━━━━━━\u001B[0m\u001B[37m\u001B[0m \u001B[1m2s\u001B[0m 5ms/step - accuracy: 0.8268 - loss: 0.5454 - val_accuracy: 0.8370 - val_loss: 0.5150\n",
      "Epoch 75/100\n",
      "\u001B[1m510/510\u001B[0m \u001B[32m━━━━━━━━━━━━━━━━━━━━\u001B[0m\u001B[37m\u001B[0m \u001B[1m2s\u001B[0m 5ms/step - accuracy: 0.8299 - loss: 0.5403 - val_accuracy: 0.8363 - val_loss: 0.5204\n",
      "Epoch 76/100\n",
      "\u001B[1m510/510\u001B[0m \u001B[32m━━━━━━━━━━━━━━━━━━━━\u001B[0m\u001B[37m\u001B[0m \u001B[1m2s\u001B[0m 5ms/step - accuracy: 0.8262 - loss: 0.5445 - val_accuracy: 0.8383 - val_loss: 0.5198\n",
      "Epoch 77/100\n",
      "\u001B[1m510/510\u001B[0m \u001B[32m━━━━━━━━━━━━━━━━━━━━\u001B[0m\u001B[37m\u001B[0m \u001B[1m2s\u001B[0m 5ms/step - accuracy: 0.8296 - loss: 0.5431 - val_accuracy: 0.8391 - val_loss: 0.5166\n",
      "Epoch 78/100\n",
      "\u001B[1m510/510\u001B[0m \u001B[32m━━━━━━━━━━━━━━━━━━━━\u001B[0m\u001B[37m\u001B[0m \u001B[1m2s\u001B[0m 5ms/step - accuracy: 0.8307 - loss: 0.5370 - val_accuracy: 0.8392 - val_loss: 0.5098\n",
      "Epoch 79/100\n",
      "\u001B[1m510/510\u001B[0m \u001B[32m━━━━━━━━━━━━━━━━━━━━\u001B[0m\u001B[37m\u001B[0m \u001B[1m2s\u001B[0m 5ms/step - accuracy: 0.8300 - loss: 0.5424 - val_accuracy: 0.8382 - val_loss: 0.5202\n",
      "Epoch 80/100\n",
      "\u001B[1m510/510\u001B[0m \u001B[32m━━━━━━━━━━━━━━━━━━━━\u001B[0m\u001B[37m\u001B[0m \u001B[1m2s\u001B[0m 5ms/step - accuracy: 0.8308 - loss: 0.5379 - val_accuracy: 0.8383 - val_loss: 0.5167\n",
      "Epoch 81/100\n",
      "\u001B[1m510/510\u001B[0m \u001B[32m━━━━━━━━━━━━━━━━━━━━\u001B[0m\u001B[37m\u001B[0m \u001B[1m2s\u001B[0m 5ms/step - accuracy: 0.8288 - loss: 0.5390 - val_accuracy: 0.8400 - val_loss: 0.5072\n",
      "Epoch 82/100\n",
      "\u001B[1m510/510\u001B[0m \u001B[32m━━━━━━━━━━━━━━━━━━━━\u001B[0m\u001B[37m\u001B[0m \u001B[1m2s\u001B[0m 5ms/step - accuracy: 0.8310 - loss: 0.5382 - val_accuracy: 0.8380 - val_loss: 0.5235\n",
      "Epoch 83/100\n",
      "\u001B[1m510/510\u001B[0m \u001B[32m━━━━━━━━━━━━━━━━━━━━\u001B[0m\u001B[37m\u001B[0m \u001B[1m2s\u001B[0m 5ms/step - accuracy: 0.8329 - loss: 0.5344 - val_accuracy: 0.8349 - val_loss: 0.5278\n",
      "Epoch 84/100\n",
      "\u001B[1m510/510\u001B[0m \u001B[32m━━━━━━━━━━━━━━━━━━━━\u001B[0m\u001B[37m\u001B[0m \u001B[1m2s\u001B[0m 5ms/step - accuracy: 0.8309 - loss: 0.5353 - val_accuracy: 0.8393 - val_loss: 0.5144\n",
      "Epoch 85/100\n",
      "\u001B[1m510/510\u001B[0m \u001B[32m━━━━━━━━━━━━━━━━━━━━\u001B[0m\u001B[37m\u001B[0m \u001B[1m2s\u001B[0m 5ms/step - accuracy: 0.8305 - loss: 0.5390 - val_accuracy: 0.8394 - val_loss: 0.5140\n",
      "Epoch 86/100\n",
      "\u001B[1m510/510\u001B[0m \u001B[32m━━━━━━━━━━━━━━━━━━━━\u001B[0m\u001B[37m\u001B[0m \u001B[1m2s\u001B[0m 5ms/step - accuracy: 0.8323 - loss: 0.5327 - val_accuracy: 0.8406 - val_loss: 0.5096\n",
      "Epoch 87/100\n",
      "\u001B[1m510/510\u001B[0m \u001B[32m━━━━━━━━━━━━━━━━━━━━\u001B[0m\u001B[37m\u001B[0m \u001B[1m2s\u001B[0m 5ms/step - accuracy: 0.8304 - loss: 0.5336 - val_accuracy: 0.8428 - val_loss: 0.5060\n",
      "Epoch 88/100\n",
      "\u001B[1m510/510\u001B[0m \u001B[32m━━━━━━━━━━━━━━━━━━━━\u001B[0m\u001B[37m\u001B[0m \u001B[1m2s\u001B[0m 5ms/step - accuracy: 0.8293 - loss: 0.5346 - val_accuracy: 0.8379 - val_loss: 0.5248\n",
      "Epoch 89/100\n",
      "\u001B[1m510/510\u001B[0m \u001B[32m━━━━━━━━━━━━━━━━━━━━\u001B[0m\u001B[37m\u001B[0m \u001B[1m2s\u001B[0m 5ms/step - accuracy: 0.8308 - loss: 0.5355 - val_accuracy: 0.8404 - val_loss: 0.5089\n",
      "Epoch 90/100\n",
      "\u001B[1m510/510\u001B[0m \u001B[32m━━━━━━━━━━━━━━━━━━━━\u001B[0m\u001B[37m\u001B[0m \u001B[1m2s\u001B[0m 5ms/step - accuracy: 0.8326 - loss: 0.5342 - val_accuracy: 0.8386 - val_loss: 0.5131\n",
      "Epoch 91/100\n",
      "\u001B[1m510/510\u001B[0m \u001B[32m━━━━━━━━━━━━━━━━━━━━\u001B[0m\u001B[37m\u001B[0m \u001B[1m2s\u001B[0m 5ms/step - accuracy: 0.8321 - loss: 0.5347 - val_accuracy: 0.8381 - val_loss: 0.5195\n",
      "Epoch 92/100\n",
      "\u001B[1m510/510\u001B[0m \u001B[32m━━━━━━━━━━━━━━━━━━━━\u001B[0m\u001B[37m\u001B[0m \u001B[1m2s\u001B[0m 5ms/step - accuracy: 0.8336 - loss: 0.5289 - val_accuracy: 0.8428 - val_loss: 0.5049\n",
      "Epoch 93/100\n",
      "\u001B[1m510/510\u001B[0m \u001B[32m━━━━━━━━━━━━━━━━━━━━\u001B[0m\u001B[37m\u001B[0m \u001B[1m2s\u001B[0m 5ms/step - accuracy: 0.8338 - loss: 0.5271 - val_accuracy: 0.8397 - val_loss: 0.5123\n",
      "Epoch 94/100\n",
      "\u001B[1m510/510\u001B[0m \u001B[32m━━━━━━━━━━━━━━━━━━━━\u001B[0m\u001B[37m\u001B[0m \u001B[1m2s\u001B[0m 5ms/step - accuracy: 0.8346 - loss: 0.5256 - val_accuracy: 0.8413 - val_loss: 0.5085\n",
      "Epoch 95/100\n",
      "\u001B[1m510/510\u001B[0m \u001B[32m━━━━━━━━━━━━━━━━━━━━\u001B[0m\u001B[37m\u001B[0m \u001B[1m2s\u001B[0m 5ms/step - accuracy: 0.8336 - loss: 0.5282 - val_accuracy: 0.8379 - val_loss: 0.5158\n",
      "Epoch 96/100\n",
      "\u001B[1m510/510\u001B[0m \u001B[32m━━━━━━━━━━━━━━━━━━━━\u001B[0m\u001B[37m\u001B[0m \u001B[1m2s\u001B[0m 5ms/step - accuracy: 0.8343 - loss: 0.5294 - val_accuracy: 0.8416 - val_loss: 0.5101\n",
      "Epoch 97/100\n",
      "\u001B[1m510/510\u001B[0m \u001B[32m━━━━━━━━━━━━━━━━━━━━\u001B[0m\u001B[37m\u001B[0m \u001B[1m2s\u001B[0m 5ms/step - accuracy: 0.8313 - loss: 0.5369 - val_accuracy: 0.8408 - val_loss: 0.5110\n",
      "Epoch 98/100\n",
      "\u001B[1m510/510\u001B[0m \u001B[32m━━━━━━━━━━━━━━━━━━━━\u001B[0m\u001B[37m\u001B[0m \u001B[1m2s\u001B[0m 5ms/step - accuracy: 0.8341 - loss: 0.5319 - val_accuracy: 0.8432 - val_loss: 0.5071\n",
      "Epoch 99/100\n",
      "\u001B[1m510/510\u001B[0m \u001B[32m━━━━━━━━━━━━━━━━━━━━\u001B[0m\u001B[37m\u001B[0m \u001B[1m2s\u001B[0m 5ms/step - accuracy: 0.8328 - loss: 0.5269 - val_accuracy: 0.8421 - val_loss: 0.5119\n",
      "Epoch 100/100\n",
      "\u001B[1m510/510\u001B[0m \u001B[32m━━━━━━━━━━━━━━━━━━━━\u001B[0m\u001B[37m\u001B[0m \u001B[1m2s\u001B[0m 5ms/step - accuracy: 0.8331 - loss: 0.5305 - val_accuracy: 0.8421 - val_loss: 0.5139\n"
     ]
    }
   ],
   "execution_count": 22
  },
  {
   "cell_type": "markdown",
   "metadata": {},
   "source": [
    "Plot the training and validation accuracy versus epochs."
   ]
  },
  {
   "cell_type": "code",
   "metadata": {
    "ExecuteTime": {
     "end_time": "2024-12-28T00:24:23.054238Z",
     "start_time": "2024-12-28T00:24:22.995697Z"
    }
   },
   "source": [
    "history_dict = history.history\n",
    "train_acc = history_dict['accuracy']\n",
    "val_acc = history_dict['val_accuracy']\n",
    "epochs = history.epoch\n",
    "plt.plot(epochs, train_acc, 'b', epochs, val_acc, 'r')\n",
    "plt.title('Training and Validation Accuracy')\n",
    "plt.xlabel('Epochs')\n",
    "plt.show()"
   ],
   "outputs": [
    {
     "data": {
      "text/plain": [
       "<Figure size 640x480 with 1 Axes>"
      ],
      "image/png": "[encoded data removed]"
     },
     "metadata": {},
     "output_type": "display_data"
    }
   ],
   "execution_count": 23
  },
  {
   "cell_type": "markdown",
   "metadata": {},
   "source": [
    "Does the network seem to be overfitting?"
   ]
  },
  {
   "cell_type": "markdown",
   "metadata": {},
   "source": [
    "Use the `evalutate()` method to find the testing loss and accuracy."
   ]
  },
  {
   "cell_type": "code",
   "metadata": {
    "ExecuteTime": {
     "end_time": "2024-12-28T00:24:25.653863Z",
     "start_time": "2024-12-28T00:24:25.581903Z"
    }
   },
   "source": [
    "score = model.evaluate(dstest, verbose=0)\n",
    "print(\"Test loss:\", score[0])\n",
    "print(\"Test accuracy:\", score[1])"
   ],
   "outputs": [
    {
     "name": "stdout",
     "output_type": "stream",
     "text": [
      "Test loss: 0.8816245198249817\n",
      "Test accuracy: 0.7232000231742859\n"
     ]
    }
   ],
   "execution_count": 24
  },
  {
   "cell_type": "markdown",
   "metadata": {},
   "source": [
    "Comparing training, validation and testing accurcy, is the model overfitting? Can you add layers/neurons to improve performance. Because of augmentation, can you use larger networks without overfitting?"
   ]
  },
  {
   "cell_type": "markdown",
   "metadata": {},
   "source": [
    "## Batch Normalization and Dropout\n",
    "\n",
    "In addition to data augmentation, which enlarges the dataset, batch normalization and dropout have also been used to reduce the chances of overfitting. Batch normalization was designed to improve network convergence, but it has been found to also reduce overfitting. Dropout, as described in Chapter 4, is designed to reduce overfitting.\n",
    "\n",
    "Both batch normalization and dropout can be implemented as keras layers (`layers.BatchNormalization()` and `layers.Dropout()`). In this section of the lab, you will experiment with adding these layers and testing their effectiveness. \n",
    "\n",
    "To begin, modify the `make_network()` method to incorporate dropout and/or batch normalization at the output of `Dense` layers (after the activation function) of a multilayer network (except the last layer). Put the dropout operation before batch normalization. Pass a list of arguments into the `make_model_do_bn()` method. Each element of the list should be a list containing three items: \n",
    "1. the number of neurons in the  layer, \n",
    "1. the dropout probability (see Chapter 4) (If the dropout probability is 0.0, then no dropout should be used in the layer.), \n",
    "1. a flag, `True` or `False`, indicating if batch normalization should be used in that layer. "
   ]
  },
  {
   "cell_type": "code",
   "metadata": {
    "ExecuteTime": {
     "end_time": "2024-12-28T00:24:29.142265Z",
     "start_time": "2024-12-28T00:24:29.139889Z"
    }
   },
   "source": [
    "def make_model_do_bn(args):\n",
    "    model = models.Sequential()\n",
    "    model.add(layers.Flatten(input_shape=(28, 28)))\n",
    "    for n, do, bnflag in args:\n",
    "        model.add(layers.Dense(n, activation='relu'))\n",
    "        if do>0:\n",
    "            model.add(layers.Dropout(do))\n",
    "        if bnflag:\n",
    "            model.add(layers.BatchNormalization())\n",
    "    model.add(layers.Dense(10, activation='softmax'))\n",
    "    return model"
   ],
   "outputs": [],
   "execution_count": 25
  },
  {
   "cell_type": "markdown",
   "metadata": {},
   "source": [
    "Create a model, and check that it has the correct structure with the `summary()` method."
   ]
  },
  {
   "cell_type": "code",
   "metadata": {
    "ExecuteTime": {
     "end_time": "2024-12-28T00:24:31.728857Z",
     "start_time": "2024-12-28T00:24:31.686089Z"
    }
   },
   "source": [
    "ARGS = [[10, 0.2, True], [10, 0.2, True], [10, 0, False]]\n",
    "model = make_model_do_bn(ARGS)\n",
    "print(model.summary())"
   ],
   "outputs": [
    {
     "data": {
      "text/plain": [
       "\u001B[1mModel: \"sequential_4\"\u001B[0m\n"
      ],
      "text/html": [
       "<pre style=\"white-space:pre;overflow-x:auto;line-height:normal;font-family:Menlo,'DejaVu Sans Mono',consolas,'Courier New',monospace\"><span style=\"font-weight: bold\">Model: \"sequential_4\"</span>\n",
       "</pre>\n"
      ]
     },
     "metadata": {},
     "output_type": "display_data"
    },
    {
     "data": {
      "text/plain": [
       "┏━━━━━━━━━━━━━━━━━━━━━━━━━━━━━━━━━┳━━━━━━━━━━━━━━━━━━━━━━━━┳━━━━━━━━━━━━━━━┓\n",
       "┃\u001B[1m \u001B[0m\u001B[1mLayer (type)                   \u001B[0m\u001B[1m \u001B[0m┃\u001B[1m \u001B[0m\u001B[1mOutput Shape          \u001B[0m\u001B[1m \u001B[0m┃\u001B[1m \u001B[0m\u001B[1m      Param #\u001B[0m\u001B[1m \u001B[0m┃\n",
       "┡━━━━━━━━━━━━━━━━━━━━━━━━━━━━━━━━━╇━━━━━━━━━━━━━━━━━━━━━━━━╇━━━━━━━━━━━━━━━┩\n",
       "│ flatten_2 (\u001B[38;5;33mFlatten\u001B[0m)             │ (\u001B[38;5;45mNone\u001B[0m, \u001B[38;5;34m784\u001B[0m)            │             \u001B[38;5;34m0\u001B[0m │\n",
       "├─────────────────────────────────┼────────────────────────┼───────────────┤\n",
       "│ dense_12 (\u001B[38;5;33mDense\u001B[0m)                │ (\u001B[38;5;45mNone\u001B[0m, \u001B[38;5;34m10\u001B[0m)             │         \u001B[38;5;34m7,850\u001B[0m │\n",
       "├─────────────────────────────────┼────────────────────────┼───────────────┤\n",
       "│ dropout (\u001B[38;5;33mDropout\u001B[0m)               │ (\u001B[38;5;45mNone\u001B[0m, \u001B[38;5;34m10\u001B[0m)             │             \u001B[38;5;34m0\u001B[0m │\n",
       "├─────────────────────────────────┼────────────────────────┼───────────────┤\n",
       "│ batch_normalization             │ (\u001B[38;5;45mNone\u001B[0m, \u001B[38;5;34m10\u001B[0m)             │            \u001B[38;5;34m40\u001B[0m │\n",
       "│ (\u001B[38;5;33mBatchNormalization\u001B[0m)            │                        │               │\n",
       "├─────────────────────────────────┼────────────────────────┼───────────────┤\n",
       "│ dense_13 (\u001B[38;5;33mDense\u001B[0m)                │ (\u001B[38;5;45mNone\u001B[0m, \u001B[38;5;34m10\u001B[0m)             │           \u001B[38;5;34m110\u001B[0m │\n",
       "├─────────────────────────────────┼────────────────────────┼───────────────┤\n",
       "│ dropout_1 (\u001B[38;5;33mDropout\u001B[0m)             │ (\u001B[38;5;45mNone\u001B[0m, \u001B[38;5;34m10\u001B[0m)             │             \u001B[38;5;34m0\u001B[0m │\n",
       "├─────────────────────────────────┼────────────────────────┼───────────────┤\n",
       "│ batch_normalization_1           │ (\u001B[38;5;45mNone\u001B[0m, \u001B[38;5;34m10\u001B[0m)             │            \u001B[38;5;34m40\u001B[0m │\n",
       "│ (\u001B[38;5;33mBatchNormalization\u001B[0m)            │                        │               │\n",
       "├─────────────────────────────────┼────────────────────────┼───────────────┤\n",
       "│ dense_14 (\u001B[38;5;33mDense\u001B[0m)                │ (\u001B[38;5;45mNone\u001B[0m, \u001B[38;5;34m10\u001B[0m)             │           \u001B[38;5;34m110\u001B[0m │\n",
       "├─────────────────────────────────┼────────────────────────┼───────────────┤\n",
       "│ dense_15 (\u001B[38;5;33mDense\u001B[0m)                │ (\u001B[38;5;45mNone\u001B[0m, \u001B[38;5;34m10\u001B[0m)             │           \u001B[38;5;34m110\u001B[0m │\n",
       "└─────────────────────────────────┴────────────────────────┴───────────────┘\n"
      ],
      "text/html": [
       "<pre style=\"white-space:pre;overflow-x:auto;line-height:normal;font-family:Menlo,'DejaVu Sans Mono',consolas,'Courier New',monospace\">┏━━━━━━━━━━━━━━━━━━━━━━━━━━━━━━━━━┳━━━━━━━━━━━━━━━━━━━━━━━━┳━━━━━━━━━━━━━━━┓\n",
       "┃<span style=\"font-weight: bold\"> Layer (type)                    </span>┃<span style=\"font-weight: bold\"> Output Shape           </span>┃<span style=\"font-weight: bold\">       Param # </span>┃\n",
       "┡━━━━━━━━━━━━━━━━━━━━━━━━━━━━━━━━━╇━━━━━━━━━━━━━━━━━━━━━━━━╇━━━━━━━━━━━━━━━┩\n",
       "│ flatten_2 (<span style=\"color: #0087ff; text-decoration-color: #0087ff\">Flatten</span>)             │ (<span style=\"color: #00d7ff; text-decoration-color: #00d7ff\">None</span>, <span style=\"color: #00af00; text-decoration-color: #00af00\">784</span>)            │             <span style=\"color: #00af00; text-decoration-color: #00af00\">0</span> │\n",
       "├─────────────────────────────────┼────────────────────────┼───────────────┤\n",
       "│ dense_12 (<span style=\"color: #0087ff; text-decoration-color: #0087ff\">Dense</span>)                │ (<span style=\"color: #00d7ff; text-decoration-color: #00d7ff\">None</span>, <span style=\"color: #00af00; text-decoration-color: #00af00\">10</span>)             │         <span style=\"color: #00af00; text-decoration-color: #00af00\">7,850</span> │\n",
       "├─────────────────────────────────┼────────────────────────┼───────────────┤\n",
       "│ dropout (<span style=\"color: #0087ff; text-decoration-color: #0087ff\">Dropout</span>)               │ (<span style=\"color: #00d7ff; text-decoration-color: #00d7ff\">None</span>, <span style=\"color: #00af00; text-decoration-color: #00af00\">10</span>)             │             <span style=\"color: #00af00; text-decoration-color: #00af00\">0</span> │\n",
       "├─────────────────────────────────┼────────────────────────┼───────────────┤\n",
       "│ batch_normalization             │ (<span style=\"color: #00d7ff; text-decoration-color: #00d7ff\">None</span>, <span style=\"color: #00af00; text-decoration-color: #00af00\">10</span>)             │            <span style=\"color: #00af00; text-decoration-color: #00af00\">40</span> │\n",
       "│ (<span style=\"color: #0087ff; text-decoration-color: #0087ff\">BatchNormalization</span>)            │                        │               │\n",
       "├─────────────────────────────────┼────────────────────────┼───────────────┤\n",
       "│ dense_13 (<span style=\"color: #0087ff; text-decoration-color: #0087ff\">Dense</span>)                │ (<span style=\"color: #00d7ff; text-decoration-color: #00d7ff\">None</span>, <span style=\"color: #00af00; text-decoration-color: #00af00\">10</span>)             │           <span style=\"color: #00af00; text-decoration-color: #00af00\">110</span> │\n",
       "├─────────────────────────────────┼────────────────────────┼───────────────┤\n",
       "│ dropout_1 (<span style=\"color: #0087ff; text-decoration-color: #0087ff\">Dropout</span>)             │ (<span style=\"color: #00d7ff; text-decoration-color: #00d7ff\">None</span>, <span style=\"color: #00af00; text-decoration-color: #00af00\">10</span>)             │             <span style=\"color: #00af00; text-decoration-color: #00af00\">0</span> │\n",
       "├─────────────────────────────────┼────────────────────────┼───────────────┤\n",
       "│ batch_normalization_1           │ (<span style=\"color: #00d7ff; text-decoration-color: #00d7ff\">None</span>, <span style=\"color: #00af00; text-decoration-color: #00af00\">10</span>)             │            <span style=\"color: #00af00; text-decoration-color: #00af00\">40</span> │\n",
       "│ (<span style=\"color: #0087ff; text-decoration-color: #0087ff\">BatchNormalization</span>)            │                        │               │\n",
       "├─────────────────────────────────┼────────────────────────┼───────────────┤\n",
       "│ dense_14 (<span style=\"color: #0087ff; text-decoration-color: #0087ff\">Dense</span>)                │ (<span style=\"color: #00d7ff; text-decoration-color: #00d7ff\">None</span>, <span style=\"color: #00af00; text-decoration-color: #00af00\">10</span>)             │           <span style=\"color: #00af00; text-decoration-color: #00af00\">110</span> │\n",
       "├─────────────────────────────────┼────────────────────────┼───────────────┤\n",
       "│ dense_15 (<span style=\"color: #0087ff; text-decoration-color: #0087ff\">Dense</span>)                │ (<span style=\"color: #00d7ff; text-decoration-color: #00d7ff\">None</span>, <span style=\"color: #00af00; text-decoration-color: #00af00\">10</span>)             │           <span style=\"color: #00af00; text-decoration-color: #00af00\">110</span> │\n",
       "└─────────────────────────────────┴────────────────────────┴───────────────┘\n",
       "</pre>\n"
      ]
     },
     "metadata": {},
     "output_type": "display_data"
    },
    {
     "data": {
      "text/plain": [
       "\u001B[1m Total params: \u001B[0m\u001B[38;5;34m8,260\u001B[0m (32.27 KB)\n"
      ],
      "text/html": [
       "<pre style=\"white-space:pre;overflow-x:auto;line-height:normal;font-family:Menlo,'DejaVu Sans Mono',consolas,'Courier New',monospace\"><span style=\"font-weight: bold\"> Total params: </span><span style=\"color: #00af00; text-decoration-color: #00af00\">8,260</span> (32.27 KB)\n",
       "</pre>\n"
      ]
     },
     "metadata": {},
     "output_type": "display_data"
    },
    {
     "data": {
      "text/plain": [
       "\u001B[1m Trainable params: \u001B[0m\u001B[38;5;34m8,220\u001B[0m (32.11 KB)\n"
      ],
      "text/html": [
       "<pre style=\"white-space:pre;overflow-x:auto;line-height:normal;font-family:Menlo,'DejaVu Sans Mono',consolas,'Courier New',monospace\"><span style=\"font-weight: bold\"> Trainable params: </span><span style=\"color: #00af00; text-decoration-color: #00af00\">8,220</span> (32.11 KB)\n",
       "</pre>\n"
      ]
     },
     "metadata": {},
     "output_type": "display_data"
    },
    {
     "data": {
      "text/plain": [
       "\u001B[1m Non-trainable params: \u001B[0m\u001B[38;5;34m40\u001B[0m (160.00 B)\n"
      ],
      "text/html": [
       "<pre style=\"white-space:pre;overflow-x:auto;line-height:normal;font-family:Menlo,'DejaVu Sans Mono',consolas,'Courier New',monospace\"><span style=\"font-weight: bold\"> Non-trainable params: </span><span style=\"color: #00af00; text-decoration-color: #00af00\">40</span> (160.00 B)\n",
       "</pre>\n"
      ]
     },
     "metadata": {},
     "output_type": "display_data"
    },
    {
     "name": "stdout",
     "output_type": "stream",
     "text": [
      "None\n"
     ]
    }
   ],
   "execution_count": 26
  },
  {
   "cell_type": "markdown",
   "metadata": {},
   "source": [
    "# Training\n",
    "\n",
    "Now train the network using the original training set (without augmentation). Use 5 hidden layers, with batch normalization used in each hidden layer, but without dropout in any layer. Use 20 neurons in each layer.  Train for 100 epochs, and use the validation data."
   ]
  },
  {
   "cell_type": "code",
   "metadata": {
    "ExecuteTime": {
     "end_time": "2024-12-28T00:25:33.554576Z",
     "start_time": "2024-12-28T00:24:35.948082Z"
    }
   },
   "source": [
    "ARGS = [[20, 0.0, True]]*5\n",
    "model = make_model_do_bn(ARGS)\n",
    "model.compile(optimizer='adam',loss=SparseCategoricalCrossentropy(), metrics=['accuracy'])\n",
    "history = model.fit(dstrain, epochs=100, validation_data=dsval)"
   ],
   "outputs": [
    {
     "name": "stdout",
     "output_type": "stream",
     "text": [
      "Epoch 1/100\n",
      "\u001B[1m510/510\u001B[0m \u001B[32m━━━━━━━━━━━━━━━━━━━━\u001B[0m\u001B[37m\u001B[0m \u001B[1m3s\u001B[0m 2ms/step - accuracy: 0.5062 - loss: 1.5207 - val_accuracy: 0.8242 - val_loss: 0.5816\n",
      "Epoch 2/100\n",
      "\u001B[1m510/510\u001B[0m \u001B[32m━━━━━━━━━━━━━━━━━━━━\u001B[0m\u001B[37m\u001B[0m \u001B[1m1s\u001B[0m 1ms/step - accuracy: 0.8323 - loss: 0.5572 - val_accuracy: 0.8667 - val_loss: 0.4435\n",
      "Epoch 3/100\n",
      "\u001B[1m510/510\u001B[0m \u001B[32m━━━━━━━━━━━━━━━━━━━━\u001B[0m\u001B[37m\u001B[0m \u001B[1m1s\u001B[0m 1ms/step - accuracy: 0.8670 - loss: 0.4384 - val_accuracy: 0.8832 - val_loss: 0.3960\n",
      "Epoch 4/100\n",
      "\u001B[1m510/510\u001B[0m \u001B[32m━━━━━━━━━━━━━━━━━━━━\u001B[0m\u001B[37m\u001B[0m \u001B[1m1s\u001B[0m 1ms/step - accuracy: 0.8836 - loss: 0.3812 - val_accuracy: 0.8917 - val_loss: 0.3713\n",
      "Epoch 5/100\n",
      "\u001B[1m510/510\u001B[0m \u001B[32m━━━━━━━━━━━━━━━━━━━━\u001B[0m\u001B[37m\u001B[0m \u001B[1m1s\u001B[0m 1ms/step - accuracy: 0.8929 - loss: 0.3484 - val_accuracy: 0.8954 - val_loss: 0.3591\n",
      "Epoch 6/100\n",
      "\u001B[1m510/510\u001B[0m \u001B[32m━━━━━━━━━━━━━━━━━━━━\u001B[0m\u001B[37m\u001B[0m \u001B[1m1s\u001B[0m 1ms/step - accuracy: 0.9005 - loss: 0.3249 - val_accuracy: 0.8966 - val_loss: 0.3499\n",
      "Epoch 7/100\n",
      "\u001B[1m510/510\u001B[0m \u001B[32m━━━━━━━━━━━━━━━━━━━━\u001B[0m\u001B[37m\u001B[0m \u001B[1m1s\u001B[0m 1ms/step - accuracy: 0.9054 - loss: 0.3050 - val_accuracy: 0.8988 - val_loss: 0.3433\n",
      "Epoch 8/100\n",
      "\u001B[1m510/510\u001B[0m \u001B[32m━━━━━━━━━━━━━━━━━━━━\u001B[0m\u001B[37m\u001B[0m \u001B[1m1s\u001B[0m 1ms/step - accuracy: 0.9097 - loss: 0.2906 - val_accuracy: 0.8999 - val_loss: 0.3407\n",
      "Epoch 9/100\n",
      "\u001B[1m510/510\u001B[0m \u001B[32m━━━━━━━━━━━━━━━━━━━━\u001B[0m\u001B[37m\u001B[0m \u001B[1m1s\u001B[0m 1ms/step - accuracy: 0.9142 - loss: 0.2769 - val_accuracy: 0.9018 - val_loss: 0.3403\n",
      "Epoch 10/100\n",
      "\u001B[1m510/510\u001B[0m \u001B[32m━━━━━━━━━━━━━━━━━━━━\u001B[0m\u001B[37m\u001B[0m \u001B[1m1s\u001B[0m 1ms/step - accuracy: 0.9174 - loss: 0.2658 - val_accuracy: 0.9019 - val_loss: 0.3372\n",
      "Epoch 11/100\n",
      "\u001B[1m510/510\u001B[0m \u001B[32m━━━━━━━━━━━━━━━━━━━━\u001B[0m\u001B[37m\u001B[0m \u001B[1m1s\u001B[0m 1ms/step - accuracy: 0.9211 - loss: 0.2552 - val_accuracy: 0.9000 - val_loss: 0.3402\n",
      "Epoch 12/100\n",
      "\u001B[1m510/510\u001B[0m \u001B[32m━━━━━━━━━━━━━━━━━━━━\u001B[0m\u001B[37m\u001B[0m \u001B[1m1s\u001B[0m 1ms/step - accuracy: 0.9243 - loss: 0.2471 - val_accuracy: 0.9009 - val_loss: 0.3432\n",
      "Epoch 13/100\n",
      "\u001B[1m510/510\u001B[0m \u001B[32m━━━━━━━━━━━━━━━━━━━━\u001B[0m\u001B[37m\u001B[0m \u001B[1m1s\u001B[0m 1ms/step - accuracy: 0.9268 - loss: 0.2391 - val_accuracy: 0.9021 - val_loss: 0.3415\n",
      "Epoch 14/100\n",
      "\u001B[1m510/510\u001B[0m \u001B[32m━━━━━━━━━━━━━━━━━━━━\u001B[0m\u001B[37m\u001B[0m \u001B[1m1s\u001B[0m 1ms/step - accuracy: 0.9285 - loss: 0.2314 - val_accuracy: 0.9020 - val_loss: 0.3440\n",
      "Epoch 15/100\n",
      "\u001B[1m510/510\u001B[0m \u001B[32m━━━━━━━━━━━━━━━━━━━━\u001B[0m\u001B[37m\u001B[0m \u001B[1m1s\u001B[0m 1ms/step - accuracy: 0.9310 - loss: 0.2247 - val_accuracy: 0.9042 - val_loss: 0.3463\n",
      "Epoch 16/100\n",
      "\u001B[1m510/510\u001B[0m \u001B[32m━━━━━━━━━━━━━━━━━━━━\u001B[0m\u001B[37m\u001B[0m \u001B[1m1s\u001B[0m 1ms/step - accuracy: 0.9327 - loss: 0.2184 - val_accuracy: 0.9010 - val_loss: 0.3494\n",
      "Epoch 17/100\n",
      "\u001B[1m510/510\u001B[0m \u001B[32m━━━━━━━━━━━━━━━━━━━━\u001B[0m\u001B[37m\u001B[0m \u001B[1m1s\u001B[0m 1ms/step - accuracy: 0.9360 - loss: 0.2117 - val_accuracy: 0.9030 - val_loss: 0.3563\n",
      "Epoch 18/100\n",
      "\u001B[1m510/510\u001B[0m \u001B[32m━━━━━━━━━━━━━━━━━━━━\u001B[0m\u001B[37m\u001B[0m \u001B[1m1s\u001B[0m 1ms/step - accuracy: 0.9369 - loss: 0.2076 - val_accuracy: 0.9007 - val_loss: 0.3622\n",
      "Epoch 19/100\n",
      "\u001B[1m510/510\u001B[0m \u001B[32m━━━━━━━━━━━━━━━━━━━━\u001B[0m\u001B[37m\u001B[0m \u001B[1m1s\u001B[0m 1ms/step - accuracy: 0.9381 - loss: 0.2020 - val_accuracy: 0.8998 - val_loss: 0.3684\n",
      "Epoch 20/100\n",
      "\u001B[1m510/510\u001B[0m \u001B[32m━━━━━━━━━━━━━━━━━━━━\u001B[0m\u001B[37m\u001B[0m \u001B[1m1s\u001B[0m 1ms/step - accuracy: 0.9397 - loss: 0.1982 - val_accuracy: 0.9004 - val_loss: 0.3750\n",
      "Epoch 21/100\n",
      "\u001B[1m510/510\u001B[0m \u001B[32m━━━━━━━━━━━━━━━━━━━━\u001B[0m\u001B[37m\u001B[0m \u001B[1m1s\u001B[0m 1ms/step - accuracy: 0.9414 - loss: 0.1927 - val_accuracy: 0.9002 - val_loss: 0.3777\n",
      "Epoch 22/100\n",
      "\u001B[1m510/510\u001B[0m \u001B[32m━━━━━━━━━━━━━━━━━━━━\u001B[0m\u001B[37m\u001B[0m \u001B[1m1s\u001B[0m 1ms/step - accuracy: 0.9431 - loss: 0.1902 - val_accuracy: 0.8971 - val_loss: 0.3869\n",
      "Epoch 23/100\n",
      "\u001B[1m510/510\u001B[0m \u001B[32m━━━━━━━━━━━━━━━━━━━━\u001B[0m\u001B[37m\u001B[0m \u001B[1m1s\u001B[0m 1ms/step - accuracy: 0.9440 - loss: 0.1856 - val_accuracy: 0.8988 - val_loss: 0.3890\n",
      "Epoch 24/100\n",
      "\u001B[1m510/510\u001B[0m \u001B[32m━━━━━━━━━━━━━━━━━━━━\u001B[0m\u001B[37m\u001B[0m \u001B[1m1s\u001B[0m 1ms/step - accuracy: 0.9451 - loss: 0.1823 - val_accuracy: 0.8978 - val_loss: 0.3920\n",
      "Epoch 25/100\n",
      "\u001B[1m510/510\u001B[0m \u001B[32m━━━━━━━━━━━━━━━━━━━━\u001B[0m\u001B[37m\u001B[0m \u001B[1m1s\u001B[0m 1ms/step - accuracy: 0.9463 - loss: 0.1786 - val_accuracy: 0.8984 - val_loss: 0.3984\n",
      "Epoch 26/100\n",
      "\u001B[1m510/510\u001B[0m \u001B[32m━━━━━━━━━━━━━━━━━━━━\u001B[0m\u001B[37m\u001B[0m \u001B[1m1s\u001B[0m 1ms/step - accuracy: 0.9480 - loss: 0.1758 - val_accuracy: 0.8966 - val_loss: 0.4018\n",
      "Epoch 27/100\n",
      "\u001B[1m510/510\u001B[0m \u001B[32m━━━━━━━━━━━━━━━━━━━━\u001B[0m\u001B[37m\u001B[0m \u001B[1m1s\u001B[0m 1ms/step - accuracy: 0.9491 - loss: 0.1721 - val_accuracy: 0.8976 - val_loss: 0.4099\n",
      "Epoch 28/100\n",
      "\u001B[1m510/510\u001B[0m \u001B[32m━━━━━━━━━━━━━━━━━━━━\u001B[0m\u001B[37m\u001B[0m \u001B[1m1s\u001B[0m 1ms/step - accuracy: 0.9482 - loss: 0.1697 - val_accuracy: 0.8966 - val_loss: 0.4129\n",
      "Epoch 29/100\n",
      "\u001B[1m510/510\u001B[0m \u001B[32m━━━━━━━━━━━━━━━━━━━━\u001B[0m\u001B[37m\u001B[0m \u001B[1m1s\u001B[0m 1ms/step - accuracy: 0.9511 - loss: 0.1659 - val_accuracy: 0.8990 - val_loss: 0.4184\n",
      "Epoch 30/100\n",
      "\u001B[1m510/510\u001B[0m \u001B[32m━━━━━━━━━━━━━━━━━━━━\u001B[0m\u001B[37m\u001B[0m \u001B[1m1s\u001B[0m 1ms/step - accuracy: 0.9513 - loss: 0.1644 - val_accuracy: 0.8966 - val_loss: 0.4268\n",
      "Epoch 31/100\n",
      "\u001B[1m510/510\u001B[0m \u001B[32m━━━━━━━━━━━━━━━━━━━━\u001B[0m\u001B[37m\u001B[0m \u001B[1m1s\u001B[0m 1ms/step - accuracy: 0.9514 - loss: 0.1614 - val_accuracy: 0.8954 - val_loss: 0.4298\n",
      "Epoch 32/100\n",
      "\u001B[1m510/510\u001B[0m \u001B[32m━━━━━━━━━━━━━━━━━━━━\u001B[0m\u001B[37m\u001B[0m \u001B[1m1s\u001B[0m 1ms/step - accuracy: 0.9515 - loss: 0.1586 - val_accuracy: 0.8978 - val_loss: 0.4295\n",
      "Epoch 33/100\n",
      "\u001B[1m510/510\u001B[0m \u001B[32m━━━━━━━━━━━━━━━━━━━━\u001B[0m\u001B[37m\u001B[0m \u001B[1m1s\u001B[0m 1ms/step - accuracy: 0.9540 - loss: 0.1560 - val_accuracy: 0.8954 - val_loss: 0.4381\n",
      "Epoch 34/100\n",
      "\u001B[1m510/510\u001B[0m \u001B[32m━━━━━━━━━━━━━━━━━━━━\u001B[0m\u001B[37m\u001B[0m \u001B[1m1s\u001B[0m 1ms/step - accuracy: 0.9543 - loss: 0.1538 - val_accuracy: 0.8963 - val_loss: 0.4433\n",
      "Epoch 35/100\n",
      "\u001B[1m510/510\u001B[0m \u001B[32m━━━━━━━━━━━━━━━━━━━━\u001B[0m\u001B[37m\u001B[0m \u001B[1m1s\u001B[0m 1ms/step - accuracy: 0.9553 - loss: 0.1506 - val_accuracy: 0.8951 - val_loss: 0.4513\n",
      "Epoch 36/100\n",
      "\u001B[1m510/510\u001B[0m \u001B[32m━━━━━━━━━━━━━━━━━━━━\u001B[0m\u001B[37m\u001B[0m \u001B[1m1s\u001B[0m 1ms/step - accuracy: 0.9546 - loss: 0.1486 - val_accuracy: 0.8956 - val_loss: 0.4494\n",
      "Epoch 37/100\n",
      "\u001B[1m510/510\u001B[0m \u001B[32m━━━━━━━━━━━━━━━━━━━━\u001B[0m\u001B[37m\u001B[0m \u001B[1m1s\u001B[0m 1ms/step - accuracy: 0.9555 - loss: 0.1484 - val_accuracy: 0.8932 - val_loss: 0.4555\n",
      "Epoch 38/100\n",
      "\u001B[1m510/510\u001B[0m \u001B[32m━━━━━━━━━━━━━━━━━━━━\u001B[0m\u001B[37m\u001B[0m \u001B[1m1s\u001B[0m 1ms/step - accuracy: 0.9572 - loss: 0.1450 - val_accuracy: 0.8928 - val_loss: 0.4700\n",
      "Epoch 39/100\n",
      "\u001B[1m510/510\u001B[0m \u001B[32m━━━━━━━━━━━━━━━━━━━━\u001B[0m\u001B[37m\u001B[0m \u001B[1m1s\u001B[0m 1ms/step - accuracy: 0.9583 - loss: 0.1418 - val_accuracy: 0.8936 - val_loss: 0.4695\n",
      "Epoch 40/100\n",
      "\u001B[1m510/510\u001B[0m \u001B[32m━━━━━━━━━━━━━━━━━━━━\u001B[0m\u001B[37m\u001B[0m \u001B[1m1s\u001B[0m 1ms/step - accuracy: 0.9588 - loss: 0.1390 - val_accuracy: 0.8934 - val_loss: 0.4827\n",
      "Epoch 41/100\n",
      "\u001B[1m510/510\u001B[0m \u001B[32m━━━━━━━━━━━━━━━━━━━━\u001B[0m\u001B[37m\u001B[0m \u001B[1m1s\u001B[0m 1ms/step - accuracy: 0.9588 - loss: 0.1394 - val_accuracy: 0.8906 - val_loss: 0.4849\n",
      "Epoch 42/100\n",
      "\u001B[1m510/510\u001B[0m \u001B[32m━━━━━━━━━━━━━━━━━━━━\u001B[0m\u001B[37m\u001B[0m \u001B[1m1s\u001B[0m 1ms/step - accuracy: 0.9606 - loss: 0.1349 - val_accuracy: 0.8929 - val_loss: 0.4918\n",
      "Epoch 43/100\n",
      "\u001B[1m510/510\u001B[0m \u001B[32m━━━━━━━━━━━━━━━━━━━━\u001B[0m\u001B[37m\u001B[0m \u001B[1m1s\u001B[0m 1ms/step - accuracy: 0.9603 - loss: 0.1344 - val_accuracy: 0.8918 - val_loss: 0.4941\n",
      "Epoch 44/100\n",
      "\u001B[1m510/510\u001B[0m \u001B[32m━━━━━━━━━━━━━━━━━━━━\u001B[0m\u001B[37m\u001B[0m \u001B[1m1s\u001B[0m 1ms/step - accuracy: 0.9598 - loss: 0.1352 - val_accuracy: 0.8887 - val_loss: 0.4978\n",
      "Epoch 45/100\n",
      "\u001B[1m510/510\u001B[0m \u001B[32m━━━━━━━━━━━━━━━━━━━━\u001B[0m\u001B[37m\u001B[0m \u001B[1m1s\u001B[0m 1ms/step - accuracy: 0.9611 - loss: 0.1324 - val_accuracy: 0.8918 - val_loss: 0.5044\n",
      "Epoch 46/100\n",
      "\u001B[1m510/510\u001B[0m \u001B[32m━━━━━━━━━━━━━━━━━━━━\u001B[0m\u001B[37m\u001B[0m \u001B[1m1s\u001B[0m 1ms/step - accuracy: 0.9624 - loss: 0.1296 - val_accuracy: 0.8880 - val_loss: 0.5124\n",
      "Epoch 47/100\n",
      "\u001B[1m510/510\u001B[0m \u001B[32m━━━━━━━━━━━━━━━━━━━━\u001B[0m\u001B[37m\u001B[0m \u001B[1m1s\u001B[0m 1ms/step - accuracy: 0.9622 - loss: 0.1278 - val_accuracy: 0.8913 - val_loss: 0.5083\n",
      "Epoch 48/100\n",
      "\u001B[1m510/510\u001B[0m \u001B[32m━━━━━━━━━━━━━━━━━━━━\u001B[0m\u001B[37m\u001B[0m \u001B[1m1s\u001B[0m 1ms/step - accuracy: 0.9628 - loss: 0.1253 - val_accuracy: 0.8889 - val_loss: 0.5205\n",
      "Epoch 49/100\n",
      "\u001B[1m510/510\u001B[0m \u001B[32m━━━━━━━━━━━━━━━━━━━━\u001B[0m\u001B[37m\u001B[0m \u001B[1m1s\u001B[0m 1ms/step - accuracy: 0.9631 - loss: 0.1246 - val_accuracy: 0.8908 - val_loss: 0.5231\n",
      "Epoch 50/100\n",
      "\u001B[1m510/510\u001B[0m \u001B[32m━━━━━━━━━━━━━━━━━━━━\u001B[0m\u001B[37m\u001B[0m \u001B[1m1s\u001B[0m 1ms/step - accuracy: 0.9631 - loss: 0.1247 - val_accuracy: 0.8898 - val_loss: 0.5234\n",
      "Epoch 51/100\n",
      "\u001B[1m510/510\u001B[0m \u001B[32m━━━━━━━━━━━━━━━━━━━━\u001B[0m\u001B[37m\u001B[0m \u001B[1m1s\u001B[0m 1ms/step - accuracy: 0.9630 - loss: 0.1231 - val_accuracy: 0.8883 - val_loss: 0.5380\n",
      "Epoch 52/100\n",
      "\u001B[1m510/510\u001B[0m \u001B[32m━━━━━━━━━━━━━━━━━━━━\u001B[0m\u001B[37m\u001B[0m \u001B[1m1s\u001B[0m 1ms/step - accuracy: 0.9646 - loss: 0.1201 - val_accuracy: 0.8880 - val_loss: 0.5361\n",
      "Epoch 53/100\n",
      "\u001B[1m510/510\u001B[0m \u001B[32m━━━━━━━━━━━━━━━━━━━━\u001B[0m\u001B[37m\u001B[0m \u001B[1m1s\u001B[0m 1ms/step - accuracy: 0.9653 - loss: 0.1198 - val_accuracy: 0.8896 - val_loss: 0.5456\n",
      "Epoch 54/100\n",
      "\u001B[1m510/510\u001B[0m \u001B[32m━━━━━━━━━━━━━━━━━━━━\u001B[0m\u001B[37m\u001B[0m \u001B[1m1s\u001B[0m 1ms/step - accuracy: 0.9651 - loss: 0.1183 - val_accuracy: 0.8844 - val_loss: 0.5630\n",
      "Epoch 55/100\n",
      "\u001B[1m510/510\u001B[0m \u001B[32m━━━━━━━━━━━━━━━━━━━━\u001B[0m\u001B[37m\u001B[0m \u001B[1m1s\u001B[0m 1ms/step - accuracy: 0.9658 - loss: 0.1178 - val_accuracy: 0.8867 - val_loss: 0.5515\n",
      "Epoch 56/100\n",
      "\u001B[1m510/510\u001B[0m \u001B[32m━━━━━━━━━━━━━━━━━━━━\u001B[0m\u001B[37m\u001B[0m \u001B[1m1s\u001B[0m 1ms/step - accuracy: 0.9652 - loss: 0.1164 - val_accuracy: 0.8862 - val_loss: 0.5724\n",
      "Epoch 57/100\n",
      "\u001B[1m510/510\u001B[0m \u001B[32m━━━━━━━━━━━━━━━━━━━━\u001B[0m\u001B[37m\u001B[0m \u001B[1m1s\u001B[0m 1ms/step - accuracy: 0.9648 - loss: 0.1184 - val_accuracy: 0.8841 - val_loss: 0.5665\n",
      "Epoch 58/100\n",
      "\u001B[1m510/510\u001B[0m \u001B[32m━━━━━━━━━━━━━━━━━━━━\u001B[0m\u001B[37m\u001B[0m \u001B[1m1s\u001B[0m 1ms/step - accuracy: 0.9666 - loss: 0.1156 - val_accuracy: 0.8882 - val_loss: 0.5663\n",
      "Epoch 59/100\n",
      "\u001B[1m510/510\u001B[0m \u001B[32m━━━━━━━━━━━━━━━━━━━━\u001B[0m\u001B[37m\u001B[0m \u001B[1m1s\u001B[0m 1ms/step - accuracy: 0.9680 - loss: 0.1116 - val_accuracy: 0.8842 - val_loss: 0.5805\n",
      "Epoch 60/100\n",
      "\u001B[1m510/510\u001B[0m \u001B[32m━━━━━━━━━━━━━━━━━━━━\u001B[0m\u001B[37m\u001B[0m \u001B[1m1s\u001B[0m 1ms/step - accuracy: 0.9678 - loss: 0.1110 - val_accuracy: 0.8867 - val_loss: 0.5828\n",
      "Epoch 61/100\n",
      "\u001B[1m510/510\u001B[0m \u001B[32m━━━━━━━━━━━━━━━━━━━━\u001B[0m\u001B[37m\u001B[0m \u001B[1m1s\u001B[0m 1ms/step - accuracy: 0.9685 - loss: 0.1109 - val_accuracy: 0.8861 - val_loss: 0.5829\n",
      "Epoch 62/100\n",
      "\u001B[1m510/510\u001B[0m \u001B[32m━━━━━━━━━━━━━━━━━━━━\u001B[0m\u001B[37m\u001B[0m \u001B[1m1s\u001B[0m 1ms/step - accuracy: 0.9667 - loss: 0.1114 - val_accuracy: 0.8878 - val_loss: 0.5803\n",
      "Epoch 63/100\n",
      "\u001B[1m510/510\u001B[0m \u001B[32m━━━━━━━━━━━━━━━━━━━━\u001B[0m\u001B[37m\u001B[0m \u001B[1m1s\u001B[0m 1ms/step - accuracy: 0.9687 - loss: 0.1093 - val_accuracy: 0.8854 - val_loss: 0.5816\n",
      "Epoch 64/100\n",
      "\u001B[1m510/510\u001B[0m \u001B[32m━━━━━━━━━━━━━━━━━━━━\u001B[0m\u001B[37m\u001B[0m \u001B[1m1s\u001B[0m 1ms/step - accuracy: 0.9681 - loss: 0.1071 - val_accuracy: 0.8894 - val_loss: 0.5848\n",
      "Epoch 65/100\n",
      "\u001B[1m510/510\u001B[0m \u001B[32m━━━━━━━━━━━━━━━━━━━━\u001B[0m\u001B[37m\u001B[0m \u001B[1m1s\u001B[0m 1ms/step - accuracy: 0.9688 - loss: 0.1053 - val_accuracy: 0.8864 - val_loss: 0.5939\n",
      "Epoch 66/100\n",
      "\u001B[1m510/510\u001B[0m \u001B[32m━━━━━━━━━━━━━━━━━━━━\u001B[0m\u001B[37m\u001B[0m \u001B[1m1s\u001B[0m 1ms/step - accuracy: 0.9710 - loss: 0.1040 - val_accuracy: 0.8858 - val_loss: 0.5944\n",
      "Epoch 67/100\n",
      "\u001B[1m510/510\u001B[0m \u001B[32m━━━━━━━━━━━━━━━━━━━━\u001B[0m\u001B[37m\u001B[0m \u001B[1m1s\u001B[0m 1ms/step - accuracy: 0.9708 - loss: 0.1016 - val_accuracy: 0.8846 - val_loss: 0.6097\n",
      "Epoch 68/100\n",
      "\u001B[1m510/510\u001B[0m \u001B[32m━━━━━━━━━━━━━━━━━━━━\u001B[0m\u001B[37m\u001B[0m \u001B[1m1s\u001B[0m 1ms/step - accuracy: 0.9691 - loss: 0.1033 - val_accuracy: 0.8838 - val_loss: 0.6094\n",
      "Epoch 69/100\n",
      "\u001B[1m510/510\u001B[0m \u001B[32m━━━━━━━━━━━━━━━━━━━━\u001B[0m\u001B[37m\u001B[0m \u001B[1m1s\u001B[0m 1ms/step - accuracy: 0.9692 - loss: 0.1035 - val_accuracy: 0.8851 - val_loss: 0.6155\n",
      "Epoch 70/100\n",
      "\u001B[1m510/510\u001B[0m \u001B[32m━━━━━━━━━━━━━━━━━━━━\u001B[0m\u001B[37m\u001B[0m \u001B[1m1s\u001B[0m 1ms/step - accuracy: 0.9701 - loss: 0.1018 - val_accuracy: 0.8863 - val_loss: 0.6090\n",
      "Epoch 71/100\n",
      "\u001B[1m510/510\u001B[0m \u001B[32m━━━━━━━━━━━━━━━━━━━━\u001B[0m\u001B[37m\u001B[0m \u001B[1m1s\u001B[0m 1ms/step - accuracy: 0.9707 - loss: 0.1003 - val_accuracy: 0.8844 - val_loss: 0.6130\n",
      "Epoch 72/100\n",
      "\u001B[1m510/510\u001B[0m \u001B[32m━━━━━━━━━━━━━━━━━━━━\u001B[0m\u001B[37m\u001B[0m \u001B[1m1s\u001B[0m 1ms/step - accuracy: 0.9719 - loss: 0.0982 - val_accuracy: 0.8863 - val_loss: 0.6198\n",
      "Epoch 73/100\n",
      "\u001B[1m510/510\u001B[0m \u001B[32m━━━━━━━━━━━━━━━━━━━━\u001B[0m\u001B[37m\u001B[0m \u001B[1m1s\u001B[0m 1ms/step - accuracy: 0.9723 - loss: 0.0971 - val_accuracy: 0.8859 - val_loss: 0.6243\n",
      "Epoch 74/100\n",
      "\u001B[1m510/510\u001B[0m \u001B[32m━━━━━━━━━━━━━━━━━━━━\u001B[0m\u001B[37m\u001B[0m \u001B[1m1s\u001B[0m 1ms/step - accuracy: 0.9709 - loss: 0.0999 - val_accuracy: 0.8873 - val_loss: 0.6301\n",
      "Epoch 75/100\n",
      "\u001B[1m510/510\u001B[0m \u001B[32m━━━━━━━━━━━━━━━━━━━━\u001B[0m\u001B[37m\u001B[0m \u001B[1m1s\u001B[0m 1ms/step - accuracy: 0.9715 - loss: 0.0991 - val_accuracy: 0.8868 - val_loss: 0.6369\n",
      "Epoch 76/100\n",
      "\u001B[1m510/510\u001B[0m \u001B[32m━━━━━━━━━━━━━━━━━━━━\u001B[0m\u001B[37m\u001B[0m \u001B[1m1s\u001B[0m 1ms/step - accuracy: 0.9708 - loss: 0.0974 - val_accuracy: 0.8843 - val_loss: 0.6402\n",
      "Epoch 77/100\n",
      "\u001B[1m510/510\u001B[0m \u001B[32m━━━━━━━━━━━━━━━━━━━━\u001B[0m\u001B[37m\u001B[0m \u001B[1m1s\u001B[0m 1ms/step - accuracy: 0.9735 - loss: 0.0928 - val_accuracy: 0.8856 - val_loss: 0.6477\n",
      "Epoch 78/100\n",
      "\u001B[1m510/510\u001B[0m \u001B[32m━━━━━━━━━━━━━━━━━━━━\u001B[0m\u001B[37m\u001B[0m \u001B[1m1s\u001B[0m 1ms/step - accuracy: 0.9728 - loss: 0.0934 - val_accuracy: 0.8864 - val_loss: 0.6550\n",
      "Epoch 79/100\n",
      "\u001B[1m510/510\u001B[0m \u001B[32m━━━━━━━━━━━━━━━━━━━━\u001B[0m\u001B[37m\u001B[0m \u001B[1m1s\u001B[0m 1ms/step - accuracy: 0.9717 - loss: 0.0951 - val_accuracy: 0.8879 - val_loss: 0.6413\n",
      "Epoch 80/100\n",
      "\u001B[1m510/510\u001B[0m \u001B[32m━━━━━━━━━━━━━━━━━━━━\u001B[0m\u001B[37m\u001B[0m \u001B[1m1s\u001B[0m 1ms/step - accuracy: 0.9713 - loss: 0.0946 - val_accuracy: 0.8862 - val_loss: 0.6408\n",
      "Epoch 81/100\n",
      "\u001B[1m510/510\u001B[0m \u001B[32m━━━━━━━━━━━━━━━━━━━━\u001B[0m\u001B[37m\u001B[0m \u001B[1m1s\u001B[0m 1ms/step - accuracy: 0.9739 - loss: 0.0921 - val_accuracy: 0.8867 - val_loss: 0.6642\n",
      "Epoch 82/100\n",
      "\u001B[1m510/510\u001B[0m \u001B[32m━━━━━━━━━━━━━━━━━━━━\u001B[0m\u001B[37m\u001B[0m \u001B[1m1s\u001B[0m 1ms/step - accuracy: 0.9736 - loss: 0.0902 - val_accuracy: 0.8860 - val_loss: 0.6578\n",
      "Epoch 83/100\n",
      "\u001B[1m510/510\u001B[0m \u001B[32m━━━━━━━━━━━━━━━━━━━━\u001B[0m\u001B[37m\u001B[0m \u001B[1m1s\u001B[0m 1ms/step - accuracy: 0.9724 - loss: 0.0917 - val_accuracy: 0.8867 - val_loss: 0.6544\n",
      "Epoch 84/100\n",
      "\u001B[1m510/510\u001B[0m \u001B[32m━━━━━━━━━━━━━━━━━━━━\u001B[0m\u001B[37m\u001B[0m \u001B[1m1s\u001B[0m 1ms/step - accuracy: 0.9720 - loss: 0.0934 - val_accuracy: 0.8869 - val_loss: 0.6501\n",
      "Epoch 85/100\n",
      "\u001B[1m510/510\u001B[0m \u001B[32m━━━━━━━━━━━━━━━━━━━━\u001B[0m\u001B[37m\u001B[0m \u001B[1m1s\u001B[0m 1ms/step - accuracy: 0.9732 - loss: 0.0914 - val_accuracy: 0.8882 - val_loss: 0.6533\n",
      "Epoch 86/100\n",
      "\u001B[1m510/510\u001B[0m \u001B[32m━━━━━━━━━━━━━━━━━━━━\u001B[0m\u001B[37m\u001B[0m \u001B[1m1s\u001B[0m 1ms/step - accuracy: 0.9736 - loss: 0.0907 - val_accuracy: 0.8847 - val_loss: 0.6681\n",
      "Epoch 87/100\n",
      "\u001B[1m510/510\u001B[0m \u001B[32m━━━━━━━━━━━━━━━━━━━━\u001B[0m\u001B[37m\u001B[0m \u001B[1m1s\u001B[0m 1ms/step - accuracy: 0.9748 - loss: 0.0870 - val_accuracy: 0.8853 - val_loss: 0.6609\n",
      "Epoch 88/100\n",
      "\u001B[1m510/510\u001B[0m \u001B[32m━━━━━━━━━━━━━━━━━━━━\u001B[0m\u001B[37m\u001B[0m \u001B[1m1s\u001B[0m 1ms/step - accuracy: 0.9755 - loss: 0.0846 - val_accuracy: 0.8860 - val_loss: 0.6762\n",
      "Epoch 89/100\n",
      "\u001B[1m510/510\u001B[0m \u001B[32m━━━━━━━━━━━━━━━━━━━━\u001B[0m\u001B[37m\u001B[0m \u001B[1m1s\u001B[0m 1ms/step - accuracy: 0.9751 - loss: 0.0848 - val_accuracy: 0.8846 - val_loss: 0.6770\n",
      "Epoch 90/100\n",
      "\u001B[1m510/510\u001B[0m \u001B[32m━━━━━━━━━━━━━━━━━━━━\u001B[0m\u001B[37m\u001B[0m \u001B[1m1s\u001B[0m 1ms/step - accuracy: 0.9740 - loss: 0.0873 - val_accuracy: 0.8840 - val_loss: 0.6862\n",
      "Epoch 91/100\n",
      "\u001B[1m510/510\u001B[0m \u001B[32m━━━━━━━━━━━━━━━━━━━━\u001B[0m\u001B[37m\u001B[0m \u001B[1m1s\u001B[0m 1ms/step - accuracy: 0.9744 - loss: 0.0873 - val_accuracy: 0.8834 - val_loss: 0.6913\n",
      "Epoch 92/100\n",
      "\u001B[1m510/510\u001B[0m \u001B[32m━━━━━━━━━━━━━━━━━━━━\u001B[0m\u001B[37m\u001B[0m \u001B[1m1s\u001B[0m 1ms/step - accuracy: 0.9749 - loss: 0.0858 - val_accuracy: 0.8862 - val_loss: 0.6852\n",
      "Epoch 93/100\n",
      "\u001B[1m510/510\u001B[0m \u001B[32m━━━━━━━━━━━━━━━━━━━━\u001B[0m\u001B[37m\u001B[0m \u001B[1m1s\u001B[0m 1ms/step - accuracy: 0.9757 - loss: 0.0826 - val_accuracy: 0.8863 - val_loss: 0.6863\n",
      "Epoch 94/100\n",
      "\u001B[1m510/510\u001B[0m \u001B[32m━━━━━━━━━━━━━━━━━━━━\u001B[0m\u001B[37m\u001B[0m \u001B[1m1s\u001B[0m 1ms/step - accuracy: 0.9737 - loss: 0.0881 - val_accuracy: 0.8837 - val_loss: 0.6844\n",
      "Epoch 95/100\n",
      "\u001B[1m510/510\u001B[0m \u001B[32m━━━━━━━━━━━━━━━━━━━━\u001B[0m\u001B[37m\u001B[0m \u001B[1m1s\u001B[0m 1ms/step - accuracy: 0.9754 - loss: 0.0839 - val_accuracy: 0.8837 - val_loss: 0.7106\n",
      "Epoch 96/100\n",
      "\u001B[1m510/510\u001B[0m \u001B[32m━━━━━━━━━━━━━━━━━━━━\u001B[0m\u001B[37m\u001B[0m \u001B[1m1s\u001B[0m 1ms/step - accuracy: 0.9754 - loss: 0.0838 - val_accuracy: 0.8844 - val_loss: 0.6913\n",
      "Epoch 97/100\n",
      "\u001B[1m510/510\u001B[0m \u001B[32m━━━━━━━━━━━━━━━━━━━━\u001B[0m\u001B[37m\u001B[0m \u001B[1m1s\u001B[0m 1ms/step - accuracy: 0.9756 - loss: 0.0828 - val_accuracy: 0.8846 - val_loss: 0.6957\n",
      "Epoch 98/100\n",
      "\u001B[1m510/510\u001B[0m \u001B[32m━━━━━━━━━━━━━━━━━━━━\u001B[0m\u001B[37m\u001B[0m \u001B[1m1s\u001B[0m 1ms/step - accuracy: 0.9758 - loss: 0.0827 - val_accuracy: 0.8864 - val_loss: 0.7074\n",
      "Epoch 99/100\n",
      "\u001B[1m510/510\u001B[0m \u001B[32m━━━━━━━━━━━━━━━━━━━━\u001B[0m\u001B[37m\u001B[0m \u001B[1m1s\u001B[0m 1ms/step - accuracy: 0.9756 - loss: 0.0828 - val_accuracy: 0.8851 - val_loss: 0.7095\n",
      "Epoch 100/100\n",
      "\u001B[1m510/510\u001B[0m \u001B[32m━━━━━━━━━━━━━━━━━━━━\u001B[0m\u001B[37m\u001B[0m \u001B[1m1s\u001B[0m 1ms/step - accuracy: 0.9775 - loss: 0.0783 - val_accuracy: 0.8843 - val_loss: 0.7116\n"
     ]
    }
   ],
   "execution_count": 27
  },
  {
   "cell_type": "markdown",
   "metadata": {},
   "source": [
    "Plot the training and validation accuracy, and check for overfitting."
   ]
  },
  {
   "cell_type": "code",
   "metadata": {
    "ExecuteTime": {
     "end_time": "2024-12-28T00:26:07.244423Z",
     "start_time": "2024-12-28T00:26:07.188744Z"
    }
   },
   "source": [
    "history_dict = history.history\n",
    "train_acc = history_dict['accuracy']\n",
    "val_acc = history_dict['val_accuracy']\n",
    "epochs = history.epoch\n",
    "plt.plot(epochs, train_acc, 'b', epochs, val_acc, 'r')\n",
    "plt.title('Training and Validation Accuracy')\n",
    "plt.xlabel('Epochs')\n",
    "plt.show()"
   ],
   "outputs": [
    {
     "data": {
      "text/plain": [
       "<Figure size 640x480 with 1 Axes>"
      ],
      "image/png": "[encoded data removed]"
     },
     "metadata": {},
     "output_type": "display_data"
    }
   ],
   "execution_count": 28
  },
  {
   "cell_type": "markdown",
   "metadata": {},
   "source": [
    "Compute the test loss and accuracy."
   ]
  },
  {
   "cell_type": "code",
   "metadata": {
    "ExecuteTime": {
     "end_time": "2024-12-28T00:26:14.093716Z",
     "start_time": "2024-12-28T00:26:14.012393Z"
    }
   },
   "source": [
    "score = model.evaluate(dstest, verbose=0)\n",
    "print(\"Test loss:\", score[0])\n",
    "print(\"Test accuracy:\", score[1])"
   ],
   "outputs": [
    {
     "name": "stdout",
     "output_type": "stream",
     "text": [
      "Test loss: 1.4315484762191772\n",
      "Test accuracy: 0.7853999733924866\n"
     ]
    }
   ],
   "execution_count": 29
  },
  {
   "cell_type": "markdown",
   "metadata": {},
   "source": [
    "Now try using dropout. Use the same network architecture, but use a dropout probability of 0.2 in each hidden layer, but do not use batch normalization."
   ]
  },
  {
   "cell_type": "code",
   "metadata": {
    "ExecuteTime": {
     "end_time": "2024-12-28T00:27:05.198192Z",
     "start_time": "2024-12-28T00:26:16.052589Z"
    }
   },
   "source": [
    "ARGS = [[20, 0.2, False]]*5\n",
    "model = make_model_do_bn(ARGS)\n",
    "model.compile(optimizer='adam',loss=SparseCategoricalCrossentropy(), metrics=['accuracy'])\n",
    "history = model.fit(dstrain, epochs=100, validation_data=dsval)"
   ],
   "outputs": [
    {
     "name": "stdout",
     "output_type": "stream",
     "text": [
      "Epoch 1/100\n",
      "\u001B[1m510/510\u001B[0m \u001B[32m━━━━━━━━━━━━━━━━━━━━\u001B[0m\u001B[37m\u001B[0m \u001B[1m3s\u001B[0m 2ms/step - accuracy: 0.2650 - loss: 2.0034 - val_accuracy: 0.7113 - val_loss: 1.0300\n",
      "Epoch 2/100\n",
      "\u001B[1m510/510\u001B[0m \u001B[32m━━━━━━━━━━━━━━━━━━━━\u001B[0m\u001B[37m\u001B[0m \u001B[1m0s\u001B[0m 889us/step - accuracy: 0.5747 - loss: 1.2923 - val_accuracy: 0.7669 - val_loss: 0.8068\n",
      "Epoch 3/100\n",
      "\u001B[1m510/510\u001B[0m \u001B[32m━━━━━━━━━━━━━━━━━━━━\u001B[0m\u001B[37m\u001B[0m \u001B[1m0s\u001B[0m 892us/step - accuracy: 0.6484 - loss: 1.1264 - val_accuracy: 0.7922 - val_loss: 0.7390\n",
      "Epoch 4/100\n",
      "\u001B[1m510/510\u001B[0m \u001B[32m━━━━━━━━━━━━━━━━━━━━\u001B[0m\u001B[37m\u001B[0m \u001B[1m0s\u001B[0m 889us/step - accuracy: 0.6825 - loss: 1.0509 - val_accuracy: 0.7942 - val_loss: 0.7181\n",
      "Epoch 5/100\n",
      "\u001B[1m510/510\u001B[0m \u001B[32m━━━━━━━━━━━━━━━━━━━━\u001B[0m\u001B[37m\u001B[0m \u001B[1m0s\u001B[0m 889us/step - accuracy: 0.7029 - loss: 0.9950 - val_accuracy: 0.8040 - val_loss: 0.6879\n",
      "Epoch 6/100\n",
      "\u001B[1m510/510\u001B[0m \u001B[32m━━━━━━━━━━━━━━━━━━━━\u001B[0m\u001B[37m\u001B[0m \u001B[1m0s\u001B[0m 886us/step - accuracy: 0.7077 - loss: 0.9780 - val_accuracy: 0.8087 - val_loss: 0.6825\n",
      "Epoch 7/100\n",
      "\u001B[1m510/510\u001B[0m \u001B[32m━━━━━━━━━━━━━━━━━━━━\u001B[0m\u001B[37m\u001B[0m \u001B[1m0s\u001B[0m 890us/step - accuracy: 0.7214 - loss: 0.9503 - val_accuracy: 0.8083 - val_loss: 0.6733\n",
      "Epoch 8/100\n",
      "\u001B[1m510/510\u001B[0m \u001B[32m━━━━━━━━━━━━━━━━━━━━\u001B[0m\u001B[37m\u001B[0m \u001B[1m0s\u001B[0m 883us/step - accuracy: 0.7261 - loss: 0.9309 - val_accuracy: 0.8111 - val_loss: 0.6633\n",
      "Epoch 9/100\n",
      "\u001B[1m510/510\u001B[0m \u001B[32m━━━━━━━━━━━━━━━━━━━━\u001B[0m\u001B[37m\u001B[0m \u001B[1m0s\u001B[0m 888us/step - accuracy: 0.7291 - loss: 0.9212 - val_accuracy: 0.8107 - val_loss: 0.6589\n",
      "Epoch 10/100\n",
      "\u001B[1m510/510\u001B[0m \u001B[32m━━━━━━━━━━━━━━━━━━━━\u001B[0m\u001B[37m\u001B[0m \u001B[1m0s\u001B[0m 885us/step - accuracy: 0.7369 - loss: 0.8999 - val_accuracy: 0.8221 - val_loss: 0.6513\n",
      "Epoch 11/100\n",
      "\u001B[1m510/510\u001B[0m \u001B[32m━━━━━━━━━━━━━━━━━━━━\u001B[0m\u001B[37m\u001B[0m \u001B[1m0s\u001B[0m 885us/step - accuracy: 0.7373 - loss: 0.9028 - val_accuracy: 0.8216 - val_loss: 0.6560\n",
      "Epoch 12/100\n",
      "\u001B[1m510/510\u001B[0m \u001B[32m━━━━━━━━━━━━━━━━━━━━\u001B[0m\u001B[37m\u001B[0m \u001B[1m0s\u001B[0m 897us/step - accuracy: 0.7399 - loss: 0.8893 - val_accuracy: 0.8150 - val_loss: 0.6483\n",
      "Epoch 13/100\n",
      "\u001B[1m510/510\u001B[0m \u001B[32m━━━━━━━━━━━━━━━━━━━━\u001B[0m\u001B[37m\u001B[0m \u001B[1m0s\u001B[0m 890us/step - accuracy: 0.7432 - loss: 0.8849 - val_accuracy: 0.8154 - val_loss: 0.6662\n",
      "Epoch 14/100\n",
      "\u001B[1m510/510\u001B[0m \u001B[32m━━━━━━━━━━━━━━━━━━━━\u001B[0m\u001B[37m\u001B[0m \u001B[1m0s\u001B[0m 886us/step - accuracy: 0.7460 - loss: 0.8690 - val_accuracy: 0.8194 - val_loss: 0.6443\n",
      "Epoch 15/100\n",
      "\u001B[1m510/510\u001B[0m \u001B[32m━━━━━━━━━━━━━━━━━━━━\u001B[0m\u001B[37m\u001B[0m \u001B[1m0s\u001B[0m 893us/step - accuracy: 0.7457 - loss: 0.8693 - val_accuracy: 0.8246 - val_loss: 0.6350\n",
      "Epoch 16/100\n",
      "\u001B[1m510/510\u001B[0m \u001B[32m━━━━━━━━━━━━━━━━━━━━\u001B[0m\u001B[37m\u001B[0m \u001B[1m0s\u001B[0m 891us/step - accuracy: 0.7491 - loss: 0.8584 - val_accuracy: 0.8221 - val_loss: 0.6432\n",
      "Epoch 17/100\n",
      "\u001B[1m510/510\u001B[0m \u001B[32m━━━━━━━━━━━━━━━━━━━━\u001B[0m\u001B[37m\u001B[0m \u001B[1m0s\u001B[0m 889us/step - accuracy: 0.7472 - loss: 0.8635 - val_accuracy: 0.8266 - val_loss: 0.6311\n",
      "Epoch 18/100\n",
      "\u001B[1m510/510\u001B[0m \u001B[32m━━━━━━━━━━━━━━━━━━━━\u001B[0m\u001B[37m\u001B[0m \u001B[1m0s\u001B[0m 892us/step - accuracy: 0.7513 - loss: 0.8578 - val_accuracy: 0.8264 - val_loss: 0.6340\n",
      "Epoch 19/100\n",
      "\u001B[1m510/510\u001B[0m \u001B[32m━━━━━━━━━━━━━━━━━━━━\u001B[0m\u001B[37m\u001B[0m \u001B[1m0s\u001B[0m 890us/step - accuracy: 0.7536 - loss: 0.8492 - val_accuracy: 0.8274 - val_loss: 0.6394\n",
      "Epoch 20/100\n",
      "\u001B[1m510/510\u001B[0m \u001B[32m━━━━━━━━━━━━━━━━━━━━\u001B[0m\u001B[37m\u001B[0m \u001B[1m0s\u001B[0m 892us/step - accuracy: 0.7537 - loss: 0.8516 - val_accuracy: 0.8296 - val_loss: 0.6304\n",
      "Epoch 21/100\n",
      "\u001B[1m510/510\u001B[0m \u001B[32m━━━━━━━━━━━━━━━━━━━━\u001B[0m\u001B[37m\u001B[0m \u001B[1m0s\u001B[0m 884us/step - accuracy: 0.7583 - loss: 0.8367 - val_accuracy: 0.8299 - val_loss: 0.6222\n",
      "Epoch 22/100\n",
      "\u001B[1m510/510\u001B[0m \u001B[32m━━━━━━━━━━━━━━━━━━━━\u001B[0m\u001B[37m\u001B[0m \u001B[1m0s\u001B[0m 889us/step - accuracy: 0.7624 - loss: 0.8288 - val_accuracy: 0.8266 - val_loss: 0.6449\n",
      "Epoch 23/100\n",
      "\u001B[1m510/510\u001B[0m \u001B[32m━━━━━━━━━━━━━━━━━━━━\u001B[0m\u001B[37m\u001B[0m \u001B[1m0s\u001B[0m 892us/step - accuracy: 0.7569 - loss: 0.8386 - val_accuracy: 0.8282 - val_loss: 0.6233\n",
      "Epoch 24/100\n",
      "\u001B[1m510/510\u001B[0m \u001B[32m━━━━━━━━━━━━━━━━━━━━\u001B[0m\u001B[37m\u001B[0m \u001B[1m0s\u001B[0m 899us/step - accuracy: 0.7640 - loss: 0.8180 - val_accuracy: 0.8313 - val_loss: 0.6366\n",
      "Epoch 25/100\n",
      "\u001B[1m510/510\u001B[0m \u001B[32m━━━━━━━━━━━━━━━━━━━━\u001B[0m\u001B[37m\u001B[0m \u001B[1m0s\u001B[0m 943us/step - accuracy: 0.7617 - loss: 0.8268 - val_accuracy: 0.8324 - val_loss: 0.6267\n",
      "Epoch 26/100\n",
      "\u001B[1m510/510\u001B[0m \u001B[32m━━━━━━━━━━━━━━━━━━━━\u001B[0m\u001B[37m\u001B[0m \u001B[1m0s\u001B[0m 892us/step - accuracy: 0.7651 - loss: 0.8225 - val_accuracy: 0.8353 - val_loss: 0.6205\n",
      "Epoch 27/100\n",
      "\u001B[1m510/510\u001B[0m \u001B[32m━━━━━━━━━━━━━━━━━━━━\u001B[0m\u001B[37m\u001B[0m \u001B[1m0s\u001B[0m 894us/step - accuracy: 0.7659 - loss: 0.8135 - val_accuracy: 0.8334 - val_loss: 0.6277\n",
      "Epoch 28/100\n",
      "\u001B[1m510/510\u001B[0m \u001B[32m━━━━━━━━━━━━━━━━━━━━\u001B[0m\u001B[37m\u001B[0m \u001B[1m0s\u001B[0m 887us/step - accuracy: 0.7636 - loss: 0.8126 - val_accuracy: 0.8373 - val_loss: 0.6223\n",
      "Epoch 29/100\n",
      "\u001B[1m510/510\u001B[0m \u001B[32m━━━━━━━━━━━━━━━━━━━━\u001B[0m\u001B[37m\u001B[0m \u001B[1m0s\u001B[0m 896us/step - accuracy: 0.7671 - loss: 0.8075 - val_accuracy: 0.8389 - val_loss: 0.6174\n",
      "Epoch 30/100\n",
      "\u001B[1m510/510\u001B[0m \u001B[32m━━━━━━━━━━━━━━━━━━━━\u001B[0m\u001B[37m\u001B[0m \u001B[1m0s\u001B[0m 893us/step - accuracy: 0.7673 - loss: 0.8139 - val_accuracy: 0.8384 - val_loss: 0.6114\n",
      "Epoch 31/100\n",
      "\u001B[1m510/510\u001B[0m \u001B[32m━━━━━━━━━━━━━━━━━━━━\u001B[0m\u001B[37m\u001B[0m \u001B[1m0s\u001B[0m 889us/step - accuracy: 0.7686 - loss: 0.8047 - val_accuracy: 0.8414 - val_loss: 0.6075\n",
      "Epoch 32/100\n",
      "\u001B[1m510/510\u001B[0m \u001B[32m━━━━━━━━━━━━━━━━━━━━\u001B[0m\u001B[37m\u001B[0m \u001B[1m0s\u001B[0m 895us/step - accuracy: 0.7717 - loss: 0.8052 - val_accuracy: 0.8392 - val_loss: 0.6129\n",
      "Epoch 33/100\n",
      "\u001B[1m510/510\u001B[0m \u001B[32m━━━━━━━━━━━━━━━━━━━━\u001B[0m\u001B[37m\u001B[0m \u001B[1m0s\u001B[0m 892us/step - accuracy: 0.7719 - loss: 0.8026 - val_accuracy: 0.8388 - val_loss: 0.6095\n",
      "Epoch 34/100\n",
      "\u001B[1m510/510\u001B[0m \u001B[32m━━━━━━━━━━━━━━━━━━━━\u001B[0m\u001B[37m\u001B[0m \u001B[1m0s\u001B[0m 887us/step - accuracy: 0.7732 - loss: 0.7927 - val_accuracy: 0.8368 - val_loss: 0.6186\n",
      "Epoch 35/100\n",
      "\u001B[1m510/510\u001B[0m \u001B[32m━━━━━━━━━━━━━━━━━━━━\u001B[0m\u001B[37m\u001B[0m \u001B[1m0s\u001B[0m 896us/step - accuracy: 0.7718 - loss: 0.7987 - val_accuracy: 0.8366 - val_loss: 0.6207\n",
      "Epoch 36/100\n",
      "\u001B[1m510/510\u001B[0m \u001B[32m━━━━━━━━━━━━━━━━━━━━\u001B[0m\u001B[37m\u001B[0m \u001B[1m0s\u001B[0m 890us/step - accuracy: 0.7705 - loss: 0.7968 - val_accuracy: 0.8382 - val_loss: 0.6229\n",
      "Epoch 37/100\n",
      "\u001B[1m510/510\u001B[0m \u001B[32m━━━━━━━━━━━━━━━━━━━━\u001B[0m\u001B[37m\u001B[0m \u001B[1m0s\u001B[0m 899us/step - accuracy: 0.7755 - loss: 0.7860 - val_accuracy: 0.8357 - val_loss: 0.6147\n",
      "Epoch 38/100\n",
      "\u001B[1m510/510\u001B[0m \u001B[32m━━━━━━━━━━━━━━━━━━━━\u001B[0m\u001B[37m\u001B[0m \u001B[1m0s\u001B[0m 894us/step - accuracy: 0.7728 - loss: 0.7906 - val_accuracy: 0.8398 - val_loss: 0.6078\n",
      "Epoch 39/100\n",
      "\u001B[1m510/510\u001B[0m \u001B[32m━━━━━━━━━━━━━━━━━━━━\u001B[0m\u001B[37m\u001B[0m \u001B[1m0s\u001B[0m 892us/step - accuracy: 0.7719 - loss: 0.7934 - val_accuracy: 0.8416 - val_loss: 0.6065\n",
      "Epoch 40/100\n",
      "\u001B[1m510/510\u001B[0m \u001B[32m━━━━━━━━━━━━━━━━━━━━\u001B[0m\u001B[37m\u001B[0m \u001B[1m0s\u001B[0m 897us/step - accuracy: 0.7739 - loss: 0.7911 - val_accuracy: 0.8393 - val_loss: 0.6081\n",
      "Epoch 41/100\n",
      "\u001B[1m510/510\u001B[0m \u001B[32m━━━━━━━━━━━━━━━━━━━━\u001B[0m\u001B[37m\u001B[0m \u001B[1m0s\u001B[0m 894us/step - accuracy: 0.7761 - loss: 0.7849 - val_accuracy: 0.8430 - val_loss: 0.6061\n",
      "Epoch 42/100\n",
      "\u001B[1m510/510\u001B[0m \u001B[32m━━━━━━━━━━━━━━━━━━━━\u001B[0m\u001B[37m\u001B[0m \u001B[1m0s\u001B[0m 894us/step - accuracy: 0.7796 - loss: 0.7766 - val_accuracy: 0.8412 - val_loss: 0.6163\n",
      "Epoch 43/100\n",
      "\u001B[1m510/510\u001B[0m \u001B[32m━━━━━━━━━━━━━━━━━━━━\u001B[0m\u001B[37m\u001B[0m \u001B[1m0s\u001B[0m 893us/step - accuracy: 0.7750 - loss: 0.7785 - val_accuracy: 0.8434 - val_loss: 0.5960\n",
      "Epoch 44/100\n",
      "\u001B[1m510/510\u001B[0m \u001B[32m━━━━━━━━━━━━━━━━━━━━\u001B[0m\u001B[37m\u001B[0m \u001B[1m0s\u001B[0m 896us/step - accuracy: 0.7787 - loss: 0.7756 - val_accuracy: 0.8433 - val_loss: 0.6019\n",
      "Epoch 45/100\n",
      "\u001B[1m510/510\u001B[0m \u001B[32m━━━━━━━━━━━━━━━━━━━━\u001B[0m\u001B[37m\u001B[0m \u001B[1m0s\u001B[0m 895us/step - accuracy: 0.7761 - loss: 0.7805 - val_accuracy: 0.8438 - val_loss: 0.5932\n",
      "Epoch 46/100\n",
      "\u001B[1m510/510\u001B[0m \u001B[32m━━━━━━━━━━━━━━━━━━━━\u001B[0m\u001B[37m\u001B[0m \u001B[1m0s\u001B[0m 897us/step - accuracy: 0.7814 - loss: 0.7680 - val_accuracy: 0.8426 - val_loss: 0.5962\n",
      "Epoch 47/100\n",
      "\u001B[1m510/510\u001B[0m \u001B[32m━━━━━━━━━━━━━━━━━━━━\u001B[0m\u001B[37m\u001B[0m \u001B[1m0s\u001B[0m 890us/step - accuracy: 0.7807 - loss: 0.7649 - val_accuracy: 0.8418 - val_loss: 0.6065\n",
      "Epoch 48/100\n",
      "\u001B[1m510/510\u001B[0m \u001B[32m━━━━━━━━━━━━━━━━━━━━\u001B[0m\u001B[37m\u001B[0m \u001B[1m0s\u001B[0m 893us/step - accuracy: 0.7806 - loss: 0.7705 - val_accuracy: 0.8437 - val_loss: 0.5954\n",
      "Epoch 49/100\n",
      "\u001B[1m510/510\u001B[0m \u001B[32m━━━━━━━━━━━━━━━━━━━━\u001B[0m\u001B[37m\u001B[0m \u001B[1m0s\u001B[0m 890us/step - accuracy: 0.7800 - loss: 0.7722 - val_accuracy: 0.8428 - val_loss: 0.6081\n",
      "Epoch 50/100\n",
      "\u001B[1m510/510\u001B[0m \u001B[32m━━━━━━━━━━━━━━━━━━━━\u001B[0m\u001B[37m\u001B[0m \u001B[1m0s\u001B[0m 890us/step - accuracy: 0.7808 - loss: 0.7680 - val_accuracy: 0.8450 - val_loss: 0.6031\n",
      "Epoch 51/100\n",
      "\u001B[1m510/510\u001B[0m \u001B[32m━━━━━━━━━━━━━━━━━━━━\u001B[0m\u001B[37m\u001B[0m \u001B[1m0s\u001B[0m 888us/step - accuracy: 0.7824 - loss: 0.7631 - val_accuracy: 0.8457 - val_loss: 0.5970\n",
      "Epoch 52/100\n",
      "\u001B[1m510/510\u001B[0m \u001B[32m━━━━━━━━━━━━━━━━━━━━\u001B[0m\u001B[37m\u001B[0m \u001B[1m0s\u001B[0m 891us/step - accuracy: 0.7812 - loss: 0.7641 - val_accuracy: 0.8460 - val_loss: 0.6051\n",
      "Epoch 53/100\n",
      "\u001B[1m510/510\u001B[0m \u001B[32m━━━━━━━━━━━━━━━━━━━━\u001B[0m\u001B[37m\u001B[0m \u001B[1m0s\u001B[0m 890us/step - accuracy: 0.7812 - loss: 0.7707 - val_accuracy: 0.8412 - val_loss: 0.6034\n",
      "Epoch 54/100\n",
      "\u001B[1m510/510\u001B[0m \u001B[32m━━━━━━━━━━━━━━━━━━━━\u001B[0m\u001B[37m\u001B[0m \u001B[1m0s\u001B[0m 887us/step - accuracy: 0.7784 - loss: 0.7692 - val_accuracy: 0.8429 - val_loss: 0.5973\n",
      "Epoch 55/100\n",
      "\u001B[1m510/510\u001B[0m \u001B[32m━━━━━━━━━━━━━━━━━━━━\u001B[0m\u001B[37m\u001B[0m \u001B[1m0s\u001B[0m 890us/step - accuracy: 0.7815 - loss: 0.7651 - val_accuracy: 0.8462 - val_loss: 0.5918\n",
      "Epoch 56/100\n",
      "\u001B[1m510/510\u001B[0m \u001B[32m━━━━━━━━━━━━━━━━━━━━\u001B[0m\u001B[37m\u001B[0m \u001B[1m0s\u001B[0m 886us/step - accuracy: 0.7815 - loss: 0.7692 - val_accuracy: 0.8428 - val_loss: 0.6093\n",
      "Epoch 57/100\n",
      "\u001B[1m510/510\u001B[0m \u001B[32m━━━━━━━━━━━━━━━━━━━━\u001B[0m\u001B[37m\u001B[0m \u001B[1m0s\u001B[0m 893us/step - accuracy: 0.7827 - loss: 0.7572 - val_accuracy: 0.8459 - val_loss: 0.5950\n",
      "Epoch 58/100\n",
      "\u001B[1m510/510\u001B[0m \u001B[32m━━━━━━━━━━━━━━━━━━━━\u001B[0m\u001B[37m\u001B[0m \u001B[1m0s\u001B[0m 892us/step - accuracy: 0.7856 - loss: 0.7572 - val_accuracy: 0.8474 - val_loss: 0.5913\n",
      "Epoch 59/100\n",
      "\u001B[1m510/510\u001B[0m \u001B[32m━━━━━━━━━━━━━━━━━━━━\u001B[0m\u001B[37m\u001B[0m \u001B[1m0s\u001B[0m 892us/step - accuracy: 0.7819 - loss: 0.7614 - val_accuracy: 0.8482 - val_loss: 0.5899\n",
      "Epoch 60/100\n",
      "\u001B[1m510/510\u001B[0m \u001B[32m━━━━━━━━━━━━━━━━━━━━\u001B[0m\u001B[37m\u001B[0m \u001B[1m0s\u001B[0m 885us/step - accuracy: 0.7847 - loss: 0.7556 - val_accuracy: 0.8451 - val_loss: 0.6042\n",
      "Epoch 61/100\n",
      "\u001B[1m510/510\u001B[0m \u001B[32m━━━━━━━━━━━━━━━━━━━━\u001B[0m\u001B[37m\u001B[0m \u001B[1m0s\u001B[0m 889us/step - accuracy: 0.7801 - loss: 0.7687 - val_accuracy: 0.8462 - val_loss: 0.5977\n",
      "Epoch 62/100\n",
      "\u001B[1m510/510\u001B[0m \u001B[32m━━━━━━━━━━━━━━━━━━━━\u001B[0m\u001B[37m\u001B[0m \u001B[1m0s\u001B[0m 888us/step - accuracy: 0.7831 - loss: 0.7565 - val_accuracy: 0.8493 - val_loss: 0.5796\n",
      "Epoch 63/100\n",
      "\u001B[1m510/510\u001B[0m \u001B[32m━━━━━━━━━━━━━━━━━━━━\u001B[0m\u001B[37m\u001B[0m \u001B[1m0s\u001B[0m 887us/step - accuracy: 0.7830 - loss: 0.7570 - val_accuracy: 0.8473 - val_loss: 0.5748\n",
      "Epoch 64/100\n",
      "\u001B[1m510/510\u001B[0m \u001B[32m━━━━━━━━━━━━━━━━━━━━\u001B[0m\u001B[37m\u001B[0m \u001B[1m0s\u001B[0m 889us/step - accuracy: 0.7898 - loss: 0.7469 - val_accuracy: 0.8436 - val_loss: 0.5878\n",
      "Epoch 65/100\n",
      "\u001B[1m510/510\u001B[0m \u001B[32m━━━━━━━━━━━━━━━━━━━━\u001B[0m\u001B[37m\u001B[0m \u001B[1m0s\u001B[0m 890us/step - accuracy: 0.7824 - loss: 0.7551 - val_accuracy: 0.8469 - val_loss: 0.6048\n",
      "Epoch 66/100\n",
      "\u001B[1m510/510\u001B[0m \u001B[32m━━━━━━━━━━━━━━━━━━━━\u001B[0m\u001B[37m\u001B[0m \u001B[1m0s\u001B[0m 893us/step - accuracy: 0.7860 - loss: 0.7481 - val_accuracy: 0.8432 - val_loss: 0.6007\n",
      "Epoch 67/100\n",
      "\u001B[1m510/510\u001B[0m \u001B[32m━━━━━━━━━━━━━━━━━━━━\u001B[0m\u001B[37m\u001B[0m \u001B[1m0s\u001B[0m 881us/step - accuracy: 0.7852 - loss: 0.7490 - val_accuracy: 0.8434 - val_loss: 0.6113\n",
      "Epoch 68/100\n",
      "\u001B[1m510/510\u001B[0m \u001B[32m━━━━━━━━━━━━━━━━━━━━\u001B[0m\u001B[37m\u001B[0m \u001B[1m0s\u001B[0m 894us/step - accuracy: 0.7848 - loss: 0.7545 - val_accuracy: 0.8459 - val_loss: 0.5901\n",
      "Epoch 69/100\n",
      "\u001B[1m510/510\u001B[0m \u001B[32m━━━━━━━━━━━━━━━━━━━━\u001B[0m\u001B[37m\u001B[0m \u001B[1m0s\u001B[0m 890us/step - accuracy: 0.7909 - loss: 0.7409 - val_accuracy: 0.8434 - val_loss: 0.5923\n",
      "Epoch 70/100\n",
      "\u001B[1m510/510\u001B[0m \u001B[32m━━━━━━━━━━━━━━━━━━━━\u001B[0m\u001B[37m\u001B[0m \u001B[1m0s\u001B[0m 892us/step - accuracy: 0.7887 - loss: 0.7385 - val_accuracy: 0.8426 - val_loss: 0.6042\n",
      "Epoch 71/100\n",
      "\u001B[1m510/510\u001B[0m \u001B[32m━━━━━━━━━━━━━━━━━━━━\u001B[0m\u001B[37m\u001B[0m \u001B[1m0s\u001B[0m 889us/step - accuracy: 0.7867 - loss: 0.7455 - val_accuracy: 0.8472 - val_loss: 0.5904\n",
      "Epoch 72/100\n",
      "\u001B[1m510/510\u001B[0m \u001B[32m━━━━━━━━━━━━━━━━━━━━\u001B[0m\u001B[37m\u001B[0m \u001B[1m0s\u001B[0m 885us/step - accuracy: 0.7910 - loss: 0.7348 - val_accuracy: 0.8489 - val_loss: 0.5857\n",
      "Epoch 73/100\n",
      "\u001B[1m510/510\u001B[0m \u001B[32m━━━━━━━━━━━━━━━━━━━━\u001B[0m\u001B[37m\u001B[0m \u001B[1m0s\u001B[0m 888us/step - accuracy: 0.7840 - loss: 0.7533 - val_accuracy: 0.8479 - val_loss: 0.5798\n",
      "Epoch 74/100\n",
      "\u001B[1m510/510\u001B[0m \u001B[32m━━━━━━━━━━━━━━━━━━━━\u001B[0m\u001B[37m\u001B[0m \u001B[1m0s\u001B[0m 892us/step - accuracy: 0.7873 - loss: 0.7418 - val_accuracy: 0.8510 - val_loss: 0.5811\n",
      "Epoch 75/100\n",
      "\u001B[1m510/510\u001B[0m \u001B[32m━━━━━━━━━━━━━━━━━━━━\u001B[0m\u001B[37m\u001B[0m \u001B[1m0s\u001B[0m 890us/step - accuracy: 0.7887 - loss: 0.7324 - val_accuracy: 0.8448 - val_loss: 0.6016\n",
      "Epoch 76/100\n",
      "\u001B[1m510/510\u001B[0m \u001B[32m━━━━━━━━━━━━━━━━━━━━\u001B[0m\u001B[37m\u001B[0m \u001B[1m0s\u001B[0m 886us/step - accuracy: 0.7889 - loss: 0.7472 - val_accuracy: 0.8461 - val_loss: 0.5943\n",
      "Epoch 77/100\n",
      "\u001B[1m510/510\u001B[0m \u001B[32m━━━━━━━━━━━━━━━━━━━━\u001B[0m\u001B[37m\u001B[0m \u001B[1m0s\u001B[0m 884us/step - accuracy: 0.7888 - loss: 0.7395 - val_accuracy: 0.8452 - val_loss: 0.5984\n",
      "Epoch 78/100\n",
      "\u001B[1m510/510\u001B[0m \u001B[32m━━━━━━━━━━━━━━━━━━━━\u001B[0m\u001B[37m\u001B[0m \u001B[1m0s\u001B[0m 890us/step - accuracy: 0.7894 - loss: 0.7419 - val_accuracy: 0.8478 - val_loss: 0.5987\n",
      "Epoch 79/100\n",
      "\u001B[1m510/510\u001B[0m \u001B[32m━━━━━━━━━━━━━━━━━━━━\u001B[0m\u001B[37m\u001B[0m \u001B[1m0s\u001B[0m 890us/step - accuracy: 0.7870 - loss: 0.7457 - val_accuracy: 0.8459 - val_loss: 0.5966\n",
      "Epoch 80/100\n",
      "\u001B[1m510/510\u001B[0m \u001B[32m━━━━━━━━━━━━━━━━━━━━\u001B[0m\u001B[37m\u001B[0m \u001B[1m0s\u001B[0m 888us/step - accuracy: 0.7892 - loss: 0.7434 - val_accuracy: 0.8482 - val_loss: 0.5908\n",
      "Epoch 81/100\n",
      "\u001B[1m510/510\u001B[0m \u001B[32m━━━━━━━━━━━━━━━━━━━━\u001B[0m\u001B[37m\u001B[0m \u001B[1m0s\u001B[0m 891us/step - accuracy: 0.7875 - loss: 0.7433 - val_accuracy: 0.8452 - val_loss: 0.5883\n",
      "Epoch 82/100\n",
      "\u001B[1m510/510\u001B[0m \u001B[32m━━━━━━━━━━━━━━━━━━━━\u001B[0m\u001B[37m\u001B[0m \u001B[1m0s\u001B[0m 891us/step - accuracy: 0.7871 - loss: 0.7459 - val_accuracy: 0.8476 - val_loss: 0.5933\n",
      "Epoch 83/100\n",
      "\u001B[1m510/510\u001B[0m \u001B[32m━━━━━━━━━━━━━━━━━━━━\u001B[0m\u001B[37m\u001B[0m \u001B[1m0s\u001B[0m 890us/step - accuracy: 0.7874 - loss: 0.7367 - val_accuracy: 0.8493 - val_loss: 0.6050\n",
      "Epoch 84/100\n",
      "\u001B[1m510/510\u001B[0m \u001B[32m━━━━━━━━━━━━━━━━━━━━\u001B[0m\u001B[37m\u001B[0m \u001B[1m0s\u001B[0m 890us/step - accuracy: 0.7890 - loss: 0.7335 - val_accuracy: 0.8477 - val_loss: 0.6092\n",
      "Epoch 85/100\n",
      "\u001B[1m510/510\u001B[0m \u001B[32m━━━━━━━━━━━━━━━━━━━━\u001B[0m\u001B[37m\u001B[0m \u001B[1m0s\u001B[0m 889us/step - accuracy: 0.7906 - loss: 0.7408 - val_accuracy: 0.8463 - val_loss: 0.6042\n",
      "Epoch 86/100\n",
      "\u001B[1m510/510\u001B[0m \u001B[32m━━━━━━━━━━━━━━━━━━━━\u001B[0m\u001B[37m\u001B[0m \u001B[1m0s\u001B[0m 895us/step - accuracy: 0.7854 - loss: 0.7545 - val_accuracy: 0.8466 - val_loss: 0.5985\n",
      "Epoch 87/100\n",
      "\u001B[1m510/510\u001B[0m \u001B[32m━━━━━━━━━━━━━━━━━━━━\u001B[0m\u001B[37m\u001B[0m \u001B[1m0s\u001B[0m 887us/step - accuracy: 0.7882 - loss: 0.7391 - val_accuracy: 0.8421 - val_loss: 0.6080\n",
      "Epoch 88/100\n",
      "\u001B[1m510/510\u001B[0m \u001B[32m━━━━━━━━━━━━━━━━━━━━\u001B[0m\u001B[37m\u001B[0m \u001B[1m0s\u001B[0m 889us/step - accuracy: 0.7869 - loss: 0.7340 - val_accuracy: 0.8522 - val_loss: 0.5869\n",
      "Epoch 89/100\n",
      "\u001B[1m510/510\u001B[0m \u001B[32m━━━━━━━━━━━━━━━━━━━━\u001B[0m\u001B[37m\u001B[0m \u001B[1m0s\u001B[0m 892us/step - accuracy: 0.7906 - loss: 0.7326 - val_accuracy: 0.8450 - val_loss: 0.6089\n",
      "Epoch 90/100\n",
      "\u001B[1m510/510\u001B[0m \u001B[32m━━━━━━━━━━━━━━━━━━━━\u001B[0m\u001B[37m\u001B[0m \u001B[1m0s\u001B[0m 885us/step - accuracy: 0.7956 - loss: 0.7278 - val_accuracy: 0.8448 - val_loss: 0.6139\n",
      "Epoch 91/100\n",
      "\u001B[1m510/510\u001B[0m \u001B[32m━━━━━━━━━━━━━━━━━━━━\u001B[0m\u001B[37m\u001B[0m \u001B[1m0s\u001B[0m 890us/step - accuracy: 0.7905 - loss: 0.7380 - val_accuracy: 0.8469 - val_loss: 0.5957\n",
      "Epoch 92/100\n",
      "\u001B[1m510/510\u001B[0m \u001B[32m━━━━━━━━━━━━━━━━━━━━\u001B[0m\u001B[37m\u001B[0m \u001B[1m0s\u001B[0m 887us/step - accuracy: 0.7934 - loss: 0.7295 - val_accuracy: 0.8452 - val_loss: 0.6169\n",
      "Epoch 93/100\n",
      "\u001B[1m510/510\u001B[0m \u001B[32m━━━━━━━━━━━━━━━━━━━━\u001B[0m\u001B[37m\u001B[0m \u001B[1m0s\u001B[0m 891us/step - accuracy: 0.7902 - loss: 0.7329 - val_accuracy: 0.8484 - val_loss: 0.6113\n",
      "Epoch 94/100\n",
      "\u001B[1m510/510\u001B[0m \u001B[32m━━━━━━━━━━━━━━━━━━━━\u001B[0m\u001B[37m\u001B[0m \u001B[1m0s\u001B[0m 889us/step - accuracy: 0.7918 - loss: 0.7377 - val_accuracy: 0.8454 - val_loss: 0.6050\n",
      "Epoch 95/100\n",
      "\u001B[1m510/510\u001B[0m \u001B[32m━━━━━━━━━━━━━━━━━━━━\u001B[0m\u001B[37m\u001B[0m \u001B[1m0s\u001B[0m 888us/step - accuracy: 0.7951 - loss: 0.7210 - val_accuracy: 0.8488 - val_loss: 0.6081\n",
      "Epoch 96/100\n",
      "\u001B[1m510/510\u001B[0m \u001B[32m━━━━━━━━━━━━━━━━━━━━\u001B[0m\u001B[37m\u001B[0m \u001B[1m0s\u001B[0m 890us/step - accuracy: 0.7940 - loss: 0.7278 - val_accuracy: 0.8459 - val_loss: 0.6164\n",
      "Epoch 97/100\n",
      "\u001B[1m510/510\u001B[0m \u001B[32m━━━━━━━━━━━━━━━━━━━━\u001B[0m\u001B[37m\u001B[0m \u001B[1m0s\u001B[0m 886us/step - accuracy: 0.7888 - loss: 0.7322 - val_accuracy: 0.8503 - val_loss: 0.5984\n",
      "Epoch 98/100\n",
      "\u001B[1m510/510\u001B[0m \u001B[32m━━━━━━━━━━━━━━━━━━━━\u001B[0m\u001B[37m\u001B[0m \u001B[1m0s\u001B[0m 890us/step - accuracy: 0.7967 - loss: 0.7193 - val_accuracy: 0.8467 - val_loss: 0.6019\n",
      "Epoch 99/100\n",
      "\u001B[1m510/510\u001B[0m \u001B[32m━━━━━━━━━━━━━━━━━━━━\u001B[0m\u001B[37m\u001B[0m \u001B[1m0s\u001B[0m 888us/step - accuracy: 0.7957 - loss: 0.7232 - val_accuracy: 0.8420 - val_loss: 0.6086\n",
      "Epoch 100/100\n",
      "\u001B[1m510/510\u001B[0m \u001B[32m━━━━━━━━━━━━━━━━━━━━\u001B[0m\u001B[37m\u001B[0m \u001B[1m0s\u001B[0m 890us/step - accuracy: 0.7932 - loss: 0.7360 - val_accuracy: 0.8502 - val_loss: 0.6116\n"
     ]
    }
   ],
   "execution_count": 30
  },
  {
   "cell_type": "markdown",
   "metadata": {},
   "source": [
    "Plot the training and validation accuracy. Check for overfitting."
   ]
  },
  {
   "cell_type": "code",
   "metadata": {
    "ExecuteTime": {
     "end_time": "2024-12-28T00:27:33.561635Z",
     "start_time": "2024-12-28T00:27:33.503107Z"
    }
   },
   "source": [
    "history_dict = history.history\n",
    "train_acc = history_dict['accuracy']\n",
    "val_acc = history_dict['val_accuracy']\n",
    "epochs = history.epoch\n",
    "plt.plot(epochs, train_acc, 'b', epochs, val_acc, 'r')\n",
    "plt.title('Training and Validation Accuracy')\n",
    "plt.xlabel('Epochs')\n",
    "plt.show()"
   ],
   "outputs": [
    {
     "data": {
      "text/plain": [
       "<Figure size 640x480 with 1 Axes>"
      ],
      "image/png": "[encoded data removed]"
     },
     "metadata": {},
     "output_type": "display_data"
    }
   ],
   "execution_count": 31
  },
  {
   "cell_type": "markdown",
   "metadata": {},
   "source": [
    "Calculate the testing loss and accuracy."
   ]
  },
  {
   "cell_type": "code",
   "metadata": {
    "ExecuteTime": {
     "end_time": "2024-12-28T00:27:35.896686Z",
     "start_time": "2024-12-28T00:27:35.824637Z"
    }
   },
   "source": [
    "score = model.evaluate(dstest, verbose=0)\n",
    "print(\"Test loss:\", score[0])\n",
    "print(\"Test accuracy:\", score[1])"
   ],
   "outputs": [
    {
     "name": "stdout",
     "output_type": "stream",
     "text": [
      "Test loss: 1.0598357915878296\n",
      "Test accuracy: 0.7064999938011169\n"
     ]
    }
   ],
   "execution_count": 32
  },
  {
   "cell_type": "markdown",
   "metadata": {},
   "source": [
    "## Explore Further\n",
    "\n",
    "Now you know how to use augmentation, dropout and batch normalization. With these tools, see how high you can get the test accuracy by combining these approaches. You can see that there are many different options that can be tried, and remember that you can change the optimizer and the learning rate, as well as the network architecture. Don't just randomly try different combinations. Adjust one thing at a time, and see if you can determine what effect each modification has.\n",
    "\n",
    "Here are some things to consider.\n",
    "\n",
    "1. With your experience from the first lab, without using any of the  methods from this lab, find a network that produces the largest training accuracy.\n",
    "1. Retrain the network using each of the methods introduced in this lab separately. Experiment with the dropout probability and the layers where you place dropout. Experiment with the layers where you place batch normalization. Using the methods from this lab, can  you use larger networks and increase accuracy, without overfitting?\n",
    "1. After testing each method separately, start to experiment with combinations. Augmentation can be used with all other methods, but there may be combinations of dropout and batch normalization that are not as effective.\n",
    "1. For each case that you try, plot the traning and validation accuracy to check for overfitting and to determine if you are training for enough iterations."
   ]
  }
 ],
 "metadata": {
  "kernelspec": {
   "display_name": "Python 3",
   "language": "python",
   "name": "python3"
  },
  "language_info": {
   "codemirror_mode": {
    "name": "ipython",
    "version": 3
   },
   "file_extension": ".py",
   "mimetype": "text/x-python",
   "name": "python",
   "nbconvert_exporter": "python",
   "pygments_lexer": "ipython3",
   "version": "3.6.9"
  }
 },
 "nbformat": 4,
 "nbformat_minor": 4
}
